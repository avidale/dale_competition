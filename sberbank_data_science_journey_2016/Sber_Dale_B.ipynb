{
 "cells": [
  {
   "cell_type": "markdown",
   "metadata": {},
   "source": [
    "# Базовая подгрузка"
   ]
  },
  {
   "cell_type": "code",
   "execution_count": 1,
   "metadata": {
    "collapsed": false
   },
   "outputs": [
    {
     "name": "stdout",
     "output_type": "stream",
     "text": [
      "Populating the interactive namespace from numpy and matplotlib\n"
     ]
    }
   ],
   "source": [
    "%pylab inline\n",
    "import pandas as pd\n",
    "pd.set_option('display.max_rows', 500)"
   ]
  },
  {
   "cell_type": "code",
   "execution_count": 2,
   "metadata": {
    "collapsed": true
   },
   "outputs": [],
   "source": [
    "from sklearn.ensemble import GradientBoostingClassifier, RandomForestClassifier\n",
    "from sklearn.neural_network import MLPClassifier\n",
    "from sklearn.model_selection import cross_val_score\n",
    "from sklearn import metrics\n",
    "from sklearn.metrics import roc_auc_score\n",
    "from sklearn.linear_model import LogisticRegression\n",
    "from sklearn.svm import SVC"
   ]
  },
  {
   "cell_type": "code",
   "execution_count": 3,
   "metadata": {
    "collapsed": false
   },
   "outputs": [
    {
     "name": "stdout",
     "output_type": "stream",
     "text": [
      "(155, 2)\n"
     ]
    },
    {
     "data": {
      "text/html": [
       "<div>\n",
       "<table border=\"1\" class=\"dataframe\">\n",
       "  <thead>\n",
       "    <tr style=\"text-align: right;\">\n",
       "      <th></th>\n",
       "      <th>tr_type</th>\n",
       "      <th>tr_description</th>\n",
       "    </tr>\n",
       "  </thead>\n",
       "  <tbody>\n",
       "    <tr>\n",
       "      <th>0</th>\n",
       "      <td>3200</td>\n",
       "      <td>Плата за предоставление услуг посредством моби...</td>\n",
       "    </tr>\n",
       "    <tr>\n",
       "      <th>1</th>\n",
       "      <td>3210</td>\n",
       "      <td>Плата за предоставление отчета по счету карты ...</td>\n",
       "    </tr>\n",
       "    <tr>\n",
       "      <th>2</th>\n",
       "      <td>3800</td>\n",
       "      <td>Плата за обслуживание банковской карты (за пер...</td>\n",
       "    </tr>\n",
       "    <tr>\n",
       "      <th>3</th>\n",
       "      <td>4000</td>\n",
       "      <td>Плата за получение наличных в Сбербанке</td>\n",
       "    </tr>\n",
       "    <tr>\n",
       "      <th>4</th>\n",
       "      <td>4001</td>\n",
       "      <td>Плата за получение наличных в Сбербанке (в дру...</td>\n",
       "    </tr>\n",
       "  </tbody>\n",
       "</table>\n",
       "</div>"
      ],
      "text/plain": [
       "   tr_type                                     tr_description\n",
       "0     3200  Плата за предоставление услуг посредством моби...\n",
       "1     3210  Плата за предоставление отчета по счету карты ...\n",
       "2     3800  Плата за обслуживание банковской карты (за пер...\n",
       "3     4000            Плата за получение наличных в Сбербанке\n",
       "4     4001  Плата за получение наличных в Сбербанке (в дру..."
      ]
     },
     "execution_count": 3,
     "metadata": {},
     "output_type": "execute_result"
    }
   ],
   "source": [
    "tr_types = pd.read_csv('tr_types.csv', sep = ';')\n",
    "print(tr_types.shape)\n",
    "tr_types.head()"
   ]
  },
  {
   "cell_type": "code",
   "execution_count": 4,
   "metadata": {
    "collapsed": false
   },
   "outputs": [
    {
     "name": "stdout",
     "output_type": "stream",
     "text": [
      "(184, 2)\n"
     ]
    },
    {
     "data": {
      "text/html": [
       "<div>\n",
       "<table border=\"1\" class=\"dataframe\">\n",
       "  <thead>\n",
       "    <tr style=\"text-align: right;\">\n",
       "      <th></th>\n",
       "      <th>mcc_code</th>\n",
       "      <th>mcc_description</th>\n",
       "    </tr>\n",
       "  </thead>\n",
       "  <tbody>\n",
       "    <tr>\n",
       "      <th>0</th>\n",
       "      <td>742</td>\n",
       "      <td>Ветеринарные услуги</td>\n",
       "    </tr>\n",
       "    <tr>\n",
       "      <th>1</th>\n",
       "      <td>1711</td>\n",
       "      <td>Генеральные подрядчики по вентиляции, теплосна...</td>\n",
       "    </tr>\n",
       "    <tr>\n",
       "      <th>2</th>\n",
       "      <td>1731</td>\n",
       "      <td>Подрядчики по электричеству</td>\n",
       "    </tr>\n",
       "    <tr>\n",
       "      <th>3</th>\n",
       "      <td>1799</td>\n",
       "      <td>Подрядчики, специализированная торговля — нигд...</td>\n",
       "    </tr>\n",
       "    <tr>\n",
       "      <th>4</th>\n",
       "      <td>2741</td>\n",
       "      <td>Разнообразные издательства/печатное дело</td>\n",
       "    </tr>\n",
       "  </tbody>\n",
       "</table>\n",
       "</div>"
      ],
      "text/plain": [
       "   mcc_code                                    mcc_description\n",
       "0       742                                Ветеринарные услуги\n",
       "1      1711  Генеральные подрядчики по вентиляции, теплосна...\n",
       "2      1731                        Подрядчики по электричеству\n",
       "3      1799  Подрядчики, специализированная торговля — нигд...\n",
       "4      2741           Разнообразные издательства/печатное дело"
      ]
     },
     "execution_count": 4,
     "metadata": {},
     "output_type": "execute_result"
    }
   ],
   "source": [
    "tr_mcc_codes = pd.read_csv('tr_mcc_codes.csv', sep = ';')\n",
    "print(tr_mcc_codes.shape)\n",
    "tr_mcc_codes.head()"
   ]
  },
  {
   "cell_type": "code",
   "execution_count": 5,
   "metadata": {
    "collapsed": false
   },
   "outputs": [
    {
     "name": "stdout",
     "output_type": "stream",
     "text": [
      "(6849346, 6)\n"
     ]
    },
    {
     "data": {
      "text/html": [
       "<div>\n",
       "<table border=\"1\" class=\"dataframe\">\n",
       "  <thead>\n",
       "    <tr style=\"text-align: right;\">\n",
       "      <th></th>\n",
       "      <th>customer_id</th>\n",
       "      <th>tr_datetime</th>\n",
       "      <th>mcc_code</th>\n",
       "      <th>tr_type</th>\n",
       "      <th>amount</th>\n",
       "      <th>term_id</th>\n",
       "    </tr>\n",
       "  </thead>\n",
       "  <tbody>\n",
       "    <tr>\n",
       "      <th>0</th>\n",
       "      <td>39026145</td>\n",
       "      <td>0 10:23:26</td>\n",
       "      <td>4814</td>\n",
       "      <td>1030</td>\n",
       "      <td>-2245.92</td>\n",
       "      <td>NaN</td>\n",
       "    </tr>\n",
       "    <tr>\n",
       "      <th>1</th>\n",
       "      <td>39026145</td>\n",
       "      <td>1 10:19:29</td>\n",
       "      <td>6011</td>\n",
       "      <td>7010</td>\n",
       "      <td>56147.89</td>\n",
       "      <td>NaN</td>\n",
       "    </tr>\n",
       "    <tr>\n",
       "      <th>2</th>\n",
       "      <td>39026145</td>\n",
       "      <td>1 10:20:56</td>\n",
       "      <td>4829</td>\n",
       "      <td>2330</td>\n",
       "      <td>-56147.89</td>\n",
       "      <td>NaN</td>\n",
       "    </tr>\n",
       "    <tr>\n",
       "      <th>3</th>\n",
       "      <td>39026145</td>\n",
       "      <td>1 10:39:54</td>\n",
       "      <td>5499</td>\n",
       "      <td>1010</td>\n",
       "      <td>-1392.47</td>\n",
       "      <td>NaN</td>\n",
       "    </tr>\n",
       "    <tr>\n",
       "      <th>4</th>\n",
       "      <td>39026145</td>\n",
       "      <td>2 15:33:42</td>\n",
       "      <td>5499</td>\n",
       "      <td>1010</td>\n",
       "      <td>-920.83</td>\n",
       "      <td>NaN</td>\n",
       "    </tr>\n",
       "  </tbody>\n",
       "</table>\n",
       "</div>"
      ],
      "text/plain": [
       "   customer_id tr_datetime  mcc_code  tr_type    amount term_id\n",
       "0     39026145  0 10:23:26      4814     1030  -2245.92     NaN\n",
       "1     39026145  1 10:19:29      6011     7010  56147.89     NaN\n",
       "2     39026145  1 10:20:56      4829     2330 -56147.89     NaN\n",
       "3     39026145  1 10:39:54      5499     1010  -1392.47     NaN\n",
       "4     39026145  2 15:33:42      5499     1010   -920.83     NaN"
      ]
     },
     "execution_count": 5,
     "metadata": {},
     "output_type": "execute_result"
    }
   ],
   "source": [
    "transactions = pd.read_csv('transactions.csv', sep = ',')\n",
    "print(transactions.shape)\n",
    "transactions.head()"
   ]
  },
  {
   "cell_type": "code",
   "execution_count": 6,
   "metadata": {
    "collapsed": false
   },
   "outputs": [
    {
     "name": "stdout",
     "output_type": "stream",
     "text": [
      "(12000, 2)\n"
     ]
    },
    {
     "data": {
      "text/html": [
       "<div>\n",
       "<table border=\"1\" class=\"dataframe\">\n",
       "  <thead>\n",
       "    <tr style=\"text-align: right;\">\n",
       "      <th></th>\n",
       "      <th>customer_id</th>\n",
       "      <th>gender</th>\n",
       "    </tr>\n",
       "  </thead>\n",
       "  <tbody>\n",
       "    <tr>\n",
       "      <th>0</th>\n",
       "      <td>75562265</td>\n",
       "      <td>0</td>\n",
       "    </tr>\n",
       "    <tr>\n",
       "      <th>1</th>\n",
       "      <td>10928546</td>\n",
       "      <td>1</td>\n",
       "    </tr>\n",
       "    <tr>\n",
       "      <th>2</th>\n",
       "      <td>69348468</td>\n",
       "      <td>1</td>\n",
       "    </tr>\n",
       "    <tr>\n",
       "      <th>3</th>\n",
       "      <td>84816985</td>\n",
       "      <td>1</td>\n",
       "    </tr>\n",
       "    <tr>\n",
       "      <th>4</th>\n",
       "      <td>61009479</td>\n",
       "      <td>0</td>\n",
       "    </tr>\n",
       "  </tbody>\n",
       "</table>\n",
       "</div>"
      ],
      "text/plain": [
       "   customer_id  gender\n",
       "0     75562265       0\n",
       "1     10928546       1\n",
       "2     69348468       1\n",
       "3     84816985       1\n",
       "4     61009479       0"
      ]
     },
     "execution_count": 6,
     "metadata": {},
     "output_type": "execute_result"
    }
   ],
   "source": [
    "customers_gender_train = pd.read_csv('customers_gender_train.csv', sep = ',')\n",
    "print(customers_gender_train.shape)\n",
    "customers_gender_train.head()"
   ]
  },
  {
   "cell_type": "code",
   "execution_count": 7,
   "metadata": {
    "collapsed": true
   },
   "outputs": [],
   "source": [
    "customers_gender = customers_gender_train.set_index('customer_id')"
   ]
  },
  {
   "cell_type": "markdown",
   "metadata": {},
   "source": [
    "# Готовлю данные"
   ]
  },
  {
   "cell_type": "code",
   "execution_count": 10,
   "metadata": {
    "collapsed": false
   },
   "outputs": [
    {
     "data": {
      "text/plain": [
       "(84088, 3)"
      ]
     },
     "execution_count": 10,
     "metadata": {},
     "output_type": "execute_result"
    }
   ],
   "source": [
    "train_transactions = transactions[transactions.amount < 0].copy()\n",
    "train_transactions['day'] = train_transactions.tr_datetime.apply(lambda dt: dt.split()[0]).astype(int)\n",
    "train_grid = pd.DataFrame(columns=train_transactions.mcc_code.unique(), \n",
    "                          index=train_transactions.day.unique()).unstack().reset_index()\n",
    "train_grid.shape"
   ]
  },
  {
   "cell_type": "code",
   "execution_count": 11,
   "metadata": {
    "collapsed": false
   },
   "outputs": [
    {
     "data": {
      "text/html": [
       "<div>\n",
       "<table border=\"1\" class=\"dataframe\">\n",
       "  <thead>\n",
       "    <tr style=\"text-align: right;\">\n",
       "      <th></th>\n",
       "      <th>mcc_code</th>\n",
       "      <th>day</th>\n",
       "    </tr>\n",
       "  </thead>\n",
       "  <tbody>\n",
       "    <tr>\n",
       "      <th>0</th>\n",
       "      <td>4814</td>\n",
       "      <td>0</td>\n",
       "    </tr>\n",
       "    <tr>\n",
       "      <th>1</th>\n",
       "      <td>4814</td>\n",
       "      <td>1</td>\n",
       "    </tr>\n",
       "    <tr>\n",
       "      <th>2</th>\n",
       "      <td>4814</td>\n",
       "      <td>2</td>\n",
       "    </tr>\n",
       "    <tr>\n",
       "      <th>3</th>\n",
       "      <td>4814</td>\n",
       "      <td>3</td>\n",
       "    </tr>\n",
       "    <tr>\n",
       "      <th>4</th>\n",
       "      <td>4814</td>\n",
       "      <td>4</td>\n",
       "    </tr>\n",
       "  </tbody>\n",
       "</table>\n",
       "</div>"
      ],
      "text/plain": [
       "   mcc_code  day\n",
       "0      4814    0\n",
       "1      4814    1\n",
       "2      4814    2\n",
       "3      4814    3\n",
       "4      4814    4"
      ]
     },
     "execution_count": 11,
     "metadata": {},
     "output_type": "execute_result"
    }
   ],
   "source": [
    "train_grid.columns = ['mcc_code', 'day', 'amount']\n",
    "train_grid.drop('amount', axis = 1, inplace = True)\n",
    "train_grid.head()"
   ]
  },
  {
   "cell_type": "code",
   "execution_count": 12,
   "metadata": {
    "collapsed": false
   },
   "outputs": [
    {
     "data": {
      "text/html": [
       "<div>\n",
       "<table border=\"1\" class=\"dataframe\">\n",
       "  <thead>\n",
       "    <tr style=\"text-align: right;\">\n",
       "      <th></th>\n",
       "      <th>day</th>\n",
       "      <th>mcc_code</th>\n",
       "      <th>amount</th>\n",
       "    </tr>\n",
       "  </thead>\n",
       "  <tbody>\n",
       "    <tr>\n",
       "      <th>0</th>\n",
       "      <td>0</td>\n",
       "      <td>742</td>\n",
       "      <td>-12352.54</td>\n",
       "    </tr>\n",
       "    <tr>\n",
       "      <th>1</th>\n",
       "      <td>0</td>\n",
       "      <td>1799</td>\n",
       "      <td>-1456027.19</td>\n",
       "    </tr>\n",
       "    <tr>\n",
       "      <th>2</th>\n",
       "      <td>0</td>\n",
       "      <td>3000</td>\n",
       "      <td>-2352125.13</td>\n",
       "    </tr>\n",
       "    <tr>\n",
       "      <th>3</th>\n",
       "      <td>0</td>\n",
       "      <td>3501</td>\n",
       "      <td>-33577.34</td>\n",
       "    </tr>\n",
       "    <tr>\n",
       "      <th>4</th>\n",
       "      <td>0</td>\n",
       "      <td>4111</td>\n",
       "      <td>-27400.17</td>\n",
       "    </tr>\n",
       "  </tbody>\n",
       "</table>\n",
       "</div>"
      ],
      "text/plain": [
       "   day  mcc_code      amount\n",
       "0    0       742   -12352.54\n",
       "1    0      1799 -1456027.19\n",
       "2    0      3000 -2352125.13\n",
       "3    0      3501   -33577.34\n",
       "4    0      4111   -27400.17"
      ]
     },
     "execution_count": 12,
     "metadata": {},
     "output_type": "execute_result"
    }
   ],
   "source": [
    "sumg0 = train_transactions.groupby(['day', 'mcc_code'])[['amount']].sum().reset_index()\n",
    "sumg0.head()"
   ]
  },
  {
   "cell_type": "code",
   "execution_count": 13,
   "metadata": {
    "collapsed": true
   },
   "outputs": [],
   "source": [
    "train_long = train_grid.merge(sumg0, on = ['day', 'mcc_code'], how = 'left').fillna(0)"
   ]
  },
  {
   "cell_type": "code",
   "execution_count": 15,
   "metadata": {
    "collapsed": true
   },
   "outputs": [],
   "source": [
    "shift = 500\n",
    "train_long['lamount'] = np.log(-train_long['amount']+shift)"
   ]
  },
  {
   "cell_type": "code",
   "execution_count": 16,
   "metadata": {
    "collapsed": false
   },
   "outputs": [
    {
     "data": {
      "text/html": [
       "<div>\n",
       "<table border=\"1\" class=\"dataframe\">\n",
       "  <thead>\n",
       "    <tr style=\"text-align: right;\">\n",
       "      <th></th>\n",
       "      <th>mcc_code</th>\n",
       "      <th>day</th>\n",
       "      <th>amount</th>\n",
       "      <th>lamount</th>\n",
       "    </tr>\n",
       "  </thead>\n",
       "  <tbody>\n",
       "    <tr>\n",
       "      <th>0</th>\n",
       "      <td>4814</td>\n",
       "      <td>0</td>\n",
       "      <td>-11098744.26</td>\n",
       "      <td>16.222388</td>\n",
       "    </tr>\n",
       "    <tr>\n",
       "      <th>1</th>\n",
       "      <td>4814</td>\n",
       "      <td>1</td>\n",
       "      <td>-7881825.53</td>\n",
       "      <td>15.880134</td>\n",
       "    </tr>\n",
       "    <tr>\n",
       "      <th>2</th>\n",
       "      <td>4814</td>\n",
       "      <td>2</td>\n",
       "      <td>-6777480.45</td>\n",
       "      <td>15.729190</td>\n",
       "    </tr>\n",
       "    <tr>\n",
       "      <th>3</th>\n",
       "      <td>4814</td>\n",
       "      <td>3</td>\n",
       "      <td>-9277943.73</td>\n",
       "      <td>16.043204</td>\n",
       "    </tr>\n",
       "    <tr>\n",
       "      <th>4</th>\n",
       "      <td>4814</td>\n",
       "      <td>4</td>\n",
       "      <td>-9999757.21</td>\n",
       "      <td>16.118121</td>\n",
       "    </tr>\n",
       "  </tbody>\n",
       "</table>\n",
       "</div>"
      ],
      "text/plain": [
       "   mcc_code  day       amount    lamount\n",
       "0      4814    0 -11098744.26  16.222388\n",
       "1      4814    1  -7881825.53  15.880134\n",
       "2      4814    2  -6777480.45  15.729190\n",
       "3      4814    3  -9277943.73  16.043204\n",
       "4      4814    4  -9999757.21  16.118121"
      ]
     },
     "execution_count": 16,
     "metadata": {},
     "output_type": "execute_result"
    }
   ],
   "source": [
    "train_long.head()"
   ]
  },
  {
   "cell_type": "code",
   "execution_count": 22,
   "metadata": {
    "collapsed": false
   },
   "outputs": [
    {
     "data": {
      "text/plain": [
       "((457, 184), 457, 184)"
      ]
     },
     "execution_count": 22,
     "metadata": {},
     "output_type": "execute_result"
    }
   ],
   "source": [
    "train_wide = train_long.pivot(index = 'day', columns = 'mcc_code', values = 'lamount')\n",
    "train_wide.shape, len(unique(train_transactions['day'])), len(unique(train_transactions['mcc_code']))"
   ]
  },
  {
   "cell_type": "code",
   "execution_count": 45,
   "metadata": {
    "collapsed": false
   },
   "outputs": [
    {
     "data": {
      "text/html": [
       "<div>\n",
       "<table border=\"1\" class=\"dataframe\">\n",
       "  <thead>\n",
       "    <tr style=\"text-align: right;\">\n",
       "      <th>mcc_code</th>\n",
       "      <th>742</th>\n",
       "      <th>1711</th>\n",
       "      <th>1731</th>\n",
       "      <th>1799</th>\n",
       "      <th>2741</th>\n",
       "      <th>3000</th>\n",
       "      <th>3351</th>\n",
       "      <th>3501</th>\n",
       "      <th>4111</th>\n",
       "      <th>4112</th>\n",
       "      <th>...</th>\n",
       "      <th>8299</th>\n",
       "      <th>8398</th>\n",
       "      <th>8641</th>\n",
       "      <th>8699</th>\n",
       "      <th>8999</th>\n",
       "      <th>9211</th>\n",
       "      <th>9222</th>\n",
       "      <th>9311</th>\n",
       "      <th>9399</th>\n",
       "      <th>9402</th>\n",
       "    </tr>\n",
       "    <tr>\n",
       "      <th>day</th>\n",
       "      <th></th>\n",
       "      <th></th>\n",
       "      <th></th>\n",
       "      <th></th>\n",
       "      <th></th>\n",
       "      <th></th>\n",
       "      <th></th>\n",
       "      <th></th>\n",
       "      <th></th>\n",
       "      <th></th>\n",
       "      <th></th>\n",
       "      <th></th>\n",
       "      <th></th>\n",
       "      <th></th>\n",
       "      <th></th>\n",
       "      <th></th>\n",
       "      <th></th>\n",
       "      <th></th>\n",
       "      <th></th>\n",
       "      <th></th>\n",
       "      <th></th>\n",
       "    </tr>\n",
       "  </thead>\n",
       "  <tbody>\n",
       "    <tr>\n",
       "      <th>0</th>\n",
       "      <td>9.461297</td>\n",
       "      <td>6.214608</td>\n",
       "      <td>6.214608</td>\n",
       "      <td>14.191566</td>\n",
       "      <td>6.214608</td>\n",
       "      <td>14.671042</td>\n",
       "      <td>6.214608</td>\n",
       "      <td>10.436388</td>\n",
       "      <td>10.236388</td>\n",
       "      <td>14.680378</td>\n",
       "      <td>...</td>\n",
       "      <td>6.214608</td>\n",
       "      <td>6.214608</td>\n",
       "      <td>6.214608</td>\n",
       "      <td>6.214608</td>\n",
       "      <td>13.597727</td>\n",
       "      <td>6.214608</td>\n",
       "      <td>6.214608</td>\n",
       "      <td>6.214608</td>\n",
       "      <td>10.439652</td>\n",
       "      <td>6.214608</td>\n",
       "    </tr>\n",
       "    <tr>\n",
       "      <th>1</th>\n",
       "      <td>6.214608</td>\n",
       "      <td>6.214608</td>\n",
       "      <td>6.214608</td>\n",
       "      <td>6.214608</td>\n",
       "      <td>6.214608</td>\n",
       "      <td>14.849240</td>\n",
       "      <td>6.214608</td>\n",
       "      <td>9.545060</td>\n",
       "      <td>10.563092</td>\n",
       "      <td>14.299924</td>\n",
       "      <td>...</td>\n",
       "      <td>6.214608</td>\n",
       "      <td>13.016337</td>\n",
       "      <td>6.214608</td>\n",
       "      <td>6.214608</td>\n",
       "      <td>13.779338</td>\n",
       "      <td>6.214608</td>\n",
       "      <td>6.214608</td>\n",
       "      <td>6.214608</td>\n",
       "      <td>9.388835</td>\n",
       "      <td>6.214608</td>\n",
       "    </tr>\n",
       "    <tr>\n",
       "      <th>2</th>\n",
       "      <td>6.214608</td>\n",
       "      <td>6.214608</td>\n",
       "      <td>6.214608</td>\n",
       "      <td>6.214608</td>\n",
       "      <td>6.214608</td>\n",
       "      <td>14.002089</td>\n",
       "      <td>6.214608</td>\n",
       "      <td>11.559115</td>\n",
       "      <td>7.956302</td>\n",
       "      <td>13.975219</td>\n",
       "      <td>...</td>\n",
       "      <td>6.214608</td>\n",
       "      <td>6.214608</td>\n",
       "      <td>8.033594</td>\n",
       "      <td>6.214608</td>\n",
       "      <td>12.589548</td>\n",
       "      <td>6.214608</td>\n",
       "      <td>6.214608</td>\n",
       "      <td>10.439652</td>\n",
       "      <td>11.572241</td>\n",
       "      <td>6.214608</td>\n",
       "    </tr>\n",
       "    <tr>\n",
       "      <th>3</th>\n",
       "      <td>6.214608</td>\n",
       "      <td>6.214608</td>\n",
       "      <td>6.214608</td>\n",
       "      <td>6.214608</td>\n",
       "      <td>6.214608</td>\n",
       "      <td>15.630975</td>\n",
       "      <td>11.527183</td>\n",
       "      <td>10.619533</td>\n",
       "      <td>10.423486</td>\n",
       "      <td>14.419914</td>\n",
       "      <td>...</td>\n",
       "      <td>6.214608</td>\n",
       "      <td>6.610710</td>\n",
       "      <td>6.214608</td>\n",
       "      <td>6.214608</td>\n",
       "      <td>13.234481</td>\n",
       "      <td>6.214608</td>\n",
       "      <td>8.515558</td>\n",
       "      <td>6.214608</td>\n",
       "      <td>9.608914</td>\n",
       "      <td>6.214608</td>\n",
       "    </tr>\n",
       "    <tr>\n",
       "      <th>4</th>\n",
       "      <td>10.268080</td>\n",
       "      <td>8.370562</td>\n",
       "      <td>6.214608</td>\n",
       "      <td>6.214608</td>\n",
       "      <td>6.214608</td>\n",
       "      <td>15.641376</td>\n",
       "      <td>6.214608</td>\n",
       "      <td>12.655812</td>\n",
       "      <td>10.643692</td>\n",
       "      <td>14.453210</td>\n",
       "      <td>...</td>\n",
       "      <td>6.214608</td>\n",
       "      <td>6.214608</td>\n",
       "      <td>6.214608</td>\n",
       "      <td>6.214608</td>\n",
       "      <td>13.370887</td>\n",
       "      <td>6.214608</td>\n",
       "      <td>6.214608</td>\n",
       "      <td>6.214608</td>\n",
       "      <td>10.796093</td>\n",
       "      <td>6.214608</td>\n",
       "    </tr>\n",
       "  </tbody>\n",
       "</table>\n",
       "<p>5 rows × 184 columns</p>\n",
       "</div>"
      ],
      "text/plain": [
       "mcc_code       742       1711      1731       1799      2741       3000  \\\n",
       "day                                                                       \n",
       "0          9.461297  6.214608  6.214608  14.191566  6.214608  14.671042   \n",
       "1          6.214608  6.214608  6.214608   6.214608  6.214608  14.849240   \n",
       "2          6.214608  6.214608  6.214608   6.214608  6.214608  14.002089   \n",
       "3          6.214608  6.214608  6.214608   6.214608  6.214608  15.630975   \n",
       "4         10.268080  8.370562  6.214608   6.214608  6.214608  15.641376   \n",
       "\n",
       "mcc_code       3351       3501       4111       4112    ...         8299  \\\n",
       "day                                                     ...                \n",
       "0          6.214608  10.436388  10.236388  14.680378    ...     6.214608   \n",
       "1          6.214608   9.545060  10.563092  14.299924    ...     6.214608   \n",
       "2          6.214608  11.559115   7.956302  13.975219    ...     6.214608   \n",
       "3         11.527183  10.619533  10.423486  14.419914    ...     6.214608   \n",
       "4          6.214608  12.655812  10.643692  14.453210    ...     6.214608   \n",
       "\n",
       "mcc_code       8398      8641      8699       8999      9211      9222  \\\n",
       "day                                                                      \n",
       "0          6.214608  6.214608  6.214608  13.597727  6.214608  6.214608   \n",
       "1         13.016337  6.214608  6.214608  13.779338  6.214608  6.214608   \n",
       "2          6.214608  8.033594  6.214608  12.589548  6.214608  6.214608   \n",
       "3          6.610710  6.214608  6.214608  13.234481  6.214608  8.515558   \n",
       "4          6.214608  6.214608  6.214608  13.370887  6.214608  6.214608   \n",
       "\n",
       "mcc_code       9311       9399      9402  \n",
       "day                                       \n",
       "0          6.214608  10.439652  6.214608  \n",
       "1          6.214608   9.388835  6.214608  \n",
       "2         10.439652  11.572241  6.214608  \n",
       "3          6.214608   9.608914  6.214608  \n",
       "4          6.214608  10.796093  6.214608  \n",
       "\n",
       "[5 rows x 184 columns]"
      ]
     },
     "execution_count": 45,
     "metadata": {},
     "output_type": "execute_result"
    }
   ],
   "source": [
    "train_wide.head()"
   ]
  },
  {
   "cell_type": "markdown",
   "metadata": {},
   "source": [
    "# Готовлю общие функции"
   ]
  },
  {
   "cell_type": "code",
   "execution_count": 23,
   "metadata": {
    "collapsed": true
   },
   "outputs": [],
   "source": [
    "from sklearn.linear_model import LinearRegression\n",
    "from sklearn.metrics import mean_squared_error"
   ]
  },
  {
   "cell_type": "code",
   "execution_count": 24,
   "metadata": {
    "collapsed": true
   },
   "outputs": [],
   "source": [
    "def s2df(the_series):\n",
    "    df = the_series.reset_index()\n",
    "    df.columns = ['day', 'lamount']\n",
    "    return df\n",
    "def add_30_days(df):\n",
    "    maxday = max(df['day'])\n",
    "    df = pd.concat([df, pd.DataFrame({'day':arange(maxday+1, maxday+31), 'lamount':999})])\n",
    "    df.index = df.day\n",
    "    return df\n",
    "def add_time_features_01(df):\n",
    "    '''\n",
    "    Adds weekday, monthday as numbers\n",
    "    '''\n",
    "    df['week_day'] = df['day'] % 7\n",
    "    df['dt']= np.datetime64('2014-08-01')+df.day\n",
    "    df['month_day'] = df['dt'].apply(lambda dt:dt.day)\n",
    "    # убираю эту фичу, ибо она не число\n",
    "    df.drop('dt', axis = 1, inplace = True)\n",
    "    return df\n",
    "def split1m(df):\n",
    "    tr_index = df['day']<=(max(df['day'])-30)\n",
    "    tr_columns = df.columns.difference(['lamount'])\n",
    "    return df[tr_columns][tr_index], df[tr_columns][-tr_index], df['lamount'][tr_index], df['lamount'][-tr_index]\n",
    "def extrapolate_01(fset):\n",
    "    lr = LinearRegression().fit(fset[0], fset[2])\n",
    "    pred = lr.predict(fset[1])\n",
    "    return fset[3], pred\n",
    "def mse(pset):\n",
    "    return mean_squared_error(pset[0], pset[1])\n",
    "def join_predictions(sub):\n",
    "    pred_dict = dict()\n",
    "    fact_dict = dict()\n",
    "    for s in sub:\n",
    "        pred_dict[s] = sub[s][1]\n",
    "        fact_dict[s] = sub[s][0]\n",
    "    theindex = sub[list(sub.keys())[0]][0].index\n",
    "    pred_df = pd.DataFrame(pred_dict, index = theindex)\n",
    "    fact_df = pd.DataFrame(fact_dict, index = theindex)\n",
    "    #pred_df = pred_df.unstack().reset_index()\n",
    "    #pred_df.columns = ['mcc_code', 'day', 'lamount']\n",
    "    #pred_df['volume'] = np.e ** pred_df['lamount'] - shift\n",
    "    #pred_df = pred_df[['mcc_code', 'day', 'volume']]\n",
    "    return fact_df, pred_df\n",
    "def wide_to_long(pred_df):\n",
    "    pred_df = pred_df.unstack().reset_index()\n",
    "    pred_df.columns = ['mcc_code', 'day', 'lamount']\n",
    "    return pred_df\n",
    "def w2l_multiple(frames):\n",
    "    return [wide_to_long(f) for f in frames]\n",
    "def lamount_to_volume(pred_df):\n",
    "    pred_df['volume'] = np.e ** pred_df['lamount'] - shift\n",
    "    #pred_df = pred_df[['mcc_code', 'day', 'volume']]\n",
    "    return pred_df\n",
    "def l2v_multiple(frames):\n",
    "    return [lamount_to_volume(f) for f in frames]\n",
    "def evaluate(frames):\n",
    "    return sqrt(mean_squared_error(frames[0]['lamount'], frames[1]['lamount']))"
   ]
  },
  {
   "cell_type": "code",
   "execution_count": 28,
   "metadata": {
    "collapsed": true
   },
   "outputs": [],
   "source": [
    "def evaluate_things(data, splitter = [s2df]\n",
    "                    , features = [add_time_features_01]\n",
    "                    , post_features = [split1m]\n",
    "                    , estimator = [extrapolate_01]\n",
    "                    , post_estimator = []\n",
    "                    , evaluator = [mse]):\n",
    "    sub = dict()\n",
    "    for c in data.columns:\n",
    "        tmp = data[c]\n",
    "        for fun in splitter:\n",
    "            tmp = fun(tmp)\n",
    "        for fun in features:\n",
    "            tmp = fun(tmp)\n",
    "        for fun in post_features:\n",
    "            tmp = fun(tmp)\n",
    "        for fun in estimator:\n",
    "            tmp = fun(tmp)\n",
    "        sub[c]=tmp\n",
    "        \n",
    "    fact_pred = join_predictions(sub)\n",
    "    for fun in post_estimator:\n",
    "        fact_pred = fun(fact_pred)\n",
    "    fact_pred = w2l_multiple(fact_pred)\n",
    "    \n",
    "    return evaluate(fact_pred)\n",
    "def make_submission(data, splitter = [s2df, add_30_days]\n",
    "                    , features = [add_time_features_01]\n",
    "                    , post_features = [split1m]\n",
    "                    , estimator = [extrapolate_01]\n",
    "                    , post_estimator = []):\n",
    "    sub = dict()\n",
    "    for c in data.columns:\n",
    "        tmp = data[c]\n",
    "        for fun in splitter:\n",
    "            tmp = fun(tmp)\n",
    "        for fun in features:\n",
    "            tmp = fun(tmp)\n",
    "        for fun in post_features:\n",
    "            tmp = fun(tmp)\n",
    "        for fun in estimator:\n",
    "            tmp = fun(tmp)\n",
    "        sub[c]=tmp\n",
    "        \n",
    "    fact_pred = join_predictions(sub)\n",
    "    for fun in post_estimator:\n",
    "        fact_pred = fun(fact_pred)\n",
    "    fact_pred = w2l_multiple(fact_pred)\n",
    "    fact_pred = l2v_multiple(fact_pred)  \n",
    "    return fact_pred[1]"
   ]
  },
  {
   "cell_type": "code",
   "execution_count": 131,
   "metadata": {
    "collapsed": true
   },
   "outputs": [],
   "source": [
    "def add_squares(df):\n",
    "    for c in df.columns:\n",
    "        if c != 'lamount':\n",
    "            df[c+'_sq'] = df[c]**2\n",
    "    return df\n",
    "def add_weekday_dummies(df):\n",
    "    '''\n",
    "    Adds a dummy for each weekday\n",
    "    '''\n",
    "    for d in range(6):\n",
    "        df['weekday_'+str(d)] = (df['week_day']==d)*1\n",
    "    return df\n",
    "\n",
    "def add_monthday_dummies(df):\n",
    "    '''\n",
    "    Adds a dummy for each monthday\n",
    "    '''\n",
    "    for d in range(30):\n",
    "        df['monthday_'+str(d)] = (df['month_day']==d)*1\n",
    "    return df\n",
    "\n",
    "def add_trend_breaks(df):\n",
    "    \"\"\"\n",
    "    Adds structural breaks (piecewise constant trend)\n",
    "    \"\"\"\n",
    "    maxday = max(df['day'])\n",
    "    for sh in arange(30, maxday-30, step = 30):\n",
    "        df['day_g_'+str(sh)] = (df['day']>sh)*1\n",
    "    return df\n",
    "\n",
    "def add_trend_turns(df):\n",
    "    \"\"\"\n",
    "    Adds structural breaks (piecewise linear continuous trend)\n",
    "    \"\"\"\n",
    "    maxday = max(df['day'])\n",
    "    for sh in arange(30, maxday-30, step = 30):\n",
    "        # множитель имеет значение, потому что я всё сильно регуляризую!!!\n",
    "        df['tr_day_g_'+str(sh)] = (df['day']>sh)*(df['day']-sh)*0.00001 \n",
    "    return df"
   ]
  },
  {
   "cell_type": "code",
   "execution_count": 33,
   "metadata": {
    "collapsed": false
   },
   "outputs": [
    {
     "data": {
      "text/plain": [
       "1.5629331066265328"
      ]
     },
     "execution_count": 33,
     "metadata": {},
     "output_type": "execute_result"
    }
   ],
   "source": [
    "from sklearn.linear_model import Ridge\n",
    "ridge_alpha = 100\n",
    "def extrapolate_02(fset):\n",
    "    lr = Ridge(alpha = ridge_alpha).fit(fset[0], fset[2])\n",
    "    pred = lr.predict(fset[1])\n",
    "    return fset[3], pred\n",
    "evaluate_things(train_wide, features = [add_time_features_01, add_trend_breaks], estimator = [extrapolate_02])"
   ]
  },
  {
   "cell_type": "code",
   "execution_count": 37,
   "metadata": {
    "collapsed": true
   },
   "outputs": [],
   "source": [
    "from sklearn.neural_network import MLPRegressor\n",
    "nn = MLPRegressor(hidden_layer_sizes=(30)\n",
    "                  , activation='logistic', solver='lbfgs', alpha=1e-6\n",
    "                  , learning_rate='constant', learning_rate_init=0.001\n",
    "                  , power_t=0.5, max_iter=1000, shuffle=True, random_state=42\n",
    "                  , tol=0.0001, momentum=0.9, nesterovs_momentum=True\n",
    "                  , early_stopping=False, validation_fraction=0.1\n",
    "                  , beta_1=0.9, beta_2=0.999, epsilon=1e-08)\n",
    "def extrapolate_03(fset):\n",
    "    nn.fit(fset[0], fset[2])\n",
    "    pred = nn.predict(fset[1])\n",
    "    return fset[3], pred"
   ]
  },
  {
   "cell_type": "code",
   "execution_count": 40,
   "metadata": {
    "collapsed": false
   },
   "outputs": [
    {
     "data": {
      "text/plain": [
       "(427, 184)"
      ]
     },
     "execution_count": 40,
     "metadata": {},
     "output_type": "execute_result"
    }
   ],
   "source": [
    "train_wide_tr = train_wide.head(train_wide.shape[0]-30)\n",
    "train_wide_tr.shape"
   ]
  },
  {
   "cell_type": "code",
   "execution_count": 41,
   "metadata": {
    "collapsed": false
   },
   "outputs": [],
   "source": [
    "from sklearn.decomposition import PCA\n",
    "pca_n_comp = 10\n",
    "pca_share = 0.01\n",
    "pca = PCA(n_components = pca_n_comp).fit(train_wide_tr)\n",
    "\n",
    "\n",
    "def move_to_pca(pset):\n",
    "    plane = pca.inverse_transform(pca.transform(pset[1]))\n",
    "    pred = (1-pca_share) * pset[1] + pca_share * plane\n",
    "    return pset[0], pred"
   ]
  },
  {
   "cell_type": "code",
   "execution_count": 44,
   "metadata": {
    "collapsed": true
   },
   "outputs": [],
   "source": [
    "def add_logistic_breaks(df):\n",
    "    maxday = max(df['day'])\n",
    "    for sh in arange(log_break_w, maxday-log_break_w, step = log_break_w):\n",
    "        df['day_mg_'+str(sh)] = 1.0 / (1+exp(-10/log_break_w*(df['day']-sh)))\n",
    "    return df"
   ]
  },
  {
   "cell_type": "markdown",
   "metadata": {},
   "source": [
    "Функции для работы с лагами"
   ]
  },
  {
   "cell_type": "code",
   "execution_count": 58,
   "metadata": {
    "collapsed": true
   },
   "outputs": [],
   "source": [
    "def drop_first_30_days(df):\n",
    "    return df[df.day>(min(df.day)+30)]"
   ]
  },
  {
   "cell_type": "markdown",
   "metadata": {},
   "source": [
    "# результаты общих функций"
   ]
  },
  {
   "cell_type": "code",
   "execution_count": 29,
   "metadata": {
    "collapsed": false
   },
   "outputs": [
    {
     "data": {
      "text/plain": [
       "1.5716903214281035"
      ]
     },
     "execution_count": 29,
     "metadata": {},
     "output_type": "execute_result"
    }
   ],
   "source": [
    "evaluate_things(train_wide)"
   ]
  },
  {
   "cell_type": "code",
   "execution_count": 31,
   "metadata": {
    "collapsed": false
   },
   "outputs": [
    {
     "data": {
      "text/plain": [
       "1.5483710330421818"
      ]
     },
     "execution_count": 31,
     "metadata": {},
     "output_type": "execute_result"
    }
   ],
   "source": [
    "evaluate_things(train_wide, features = [add_time_features_01, add_weekday_dummies])"
   ]
  },
  {
   "cell_type": "markdown",
   "metadata": {},
   "source": [
    "Месячные не нужны!"
   ]
  },
  {
   "cell_type": "code",
   "execution_count": 47,
   "metadata": {
    "collapsed": false
   },
   "outputs": [
    {
     "data": {
      "text/plain": [
       "1.6045923406606568"
      ]
     },
     "execution_count": 47,
     "metadata": {},
     "output_type": "execute_result"
    }
   ],
   "source": [
    "evaluate_things(train_wide, features = [add_time_features_01, add_weekday_dummies, add_monthday_dummies])"
   ]
  },
  {
   "cell_type": "code",
   "execution_count": 36,
   "metadata": {
    "collapsed": false
   },
   "outputs": [
    {
     "data": {
      "text/plain": [
       "1.5487124491377544"
      ]
     },
     "execution_count": 36,
     "metadata": {},
     "output_type": "execute_result"
    }
   ],
   "source": [
    "ridge_alpha = 30\n",
    "evaluate_things(train_wide, features = [add_time_features_01, add_weekday_dummies], estimator = [extrapolate_02])"
   ]
  },
  {
   "cell_type": "code",
   "execution_count": 43,
   "metadata": {
    "collapsed": false
   },
   "outputs": [
    {
     "data": {
      "text/plain": [
       "1.5372906166315814"
      ]
     },
     "execution_count": 43,
     "metadata": {},
     "output_type": "execute_result"
    }
   ],
   "source": [
    "pca = PCA(n_components = 1).fit(train_wide_tr)\n",
    "pca_share = 0.3\n",
    "evaluate_things(train_wide, features = [add_time_features_01, add_trend_breaks, add_weekday_dummies]\n",
    "                                  , estimator = [extrapolate_02], post_estimator = [move_to_pca])"
   ]
  },
  {
   "cell_type": "code",
   "execution_count": 34,
   "metadata": {
    "collapsed": false
   },
   "outputs": [],
   "source": [
    "ridge_alpha = 30\n",
    "sub = make_submission(train_wide, features = [add_time_features_01, add_trend_breaks, add_weekday_dummies]\n",
    "                                  , estimator = [extrapolate_02])"
   ]
  },
  {
   "cell_type": "markdown",
   "metadata": {},
   "source": [
    "#### Ещё играемся с трендами"
   ]
  },
  {
   "cell_type": "markdown",
   "metadata": {},
   "source": [
    "Кусочно-постоянная модель"
   ]
  },
  {
   "cell_type": "code",
   "execution_count": 49,
   "metadata": {
    "collapsed": false
   },
   "outputs": [
    {
     "data": {
      "text/plain": [
       "1.5406561824974276"
      ]
     },
     "execution_count": 49,
     "metadata": {},
     "output_type": "execute_result"
    }
   ],
   "source": [
    "ridge_alpha = 30\n",
    "evaluate_things(train_wide, features = [add_time_features_01, add_trend_breaks, add_weekday_dummies]\n",
    "                , estimator = [extrapolate_02])"
   ]
  },
  {
   "cell_type": "markdown",
   "metadata": {},
   "source": [
    "Кусочно-линейная непрерывная модель - отрабатывает как-то ужописто. Ладно, забьём."
   ]
  },
  {
   "cell_type": "code",
   "execution_count": 57,
   "metadata": {
    "collapsed": false
   },
   "outputs": [
    {
     "data": {
      "text/plain": [
       "1.5487123651618573"
      ]
     },
     "execution_count": 57,
     "metadata": {},
     "output_type": "execute_result"
    }
   ],
   "source": [
    "ridge_alpha = 30\n",
    "evaluate_things(train_wide, features = [add_time_features_01,add_trend_turns, add_weekday_dummies]\n",
    "                , estimator = [extrapolate_02])"
   ]
  },
  {
   "cell_type": "markdown",
   "metadata": {},
   "source": [
    "Ставлю повороты пореже. Но, кажется, радости никакой не добавляется."
   ]
  },
  {
   "cell_type": "code",
   "execution_count": 135,
   "metadata": {
    "collapsed": false
   },
   "outputs": [
    {
     "data": {
      "text/plain": [
       "1.5406609928212109"
      ]
     },
     "execution_count": 135,
     "metadata": {},
     "output_type": "execute_result"
    }
   ],
   "source": [
    "def add_trend_turns_100(df):\n",
    "    maxday = max(df['day'])\n",
    "    for sh in arange(100, maxday-100, step = 100):\n",
    "        # множитель имеет значение, потому что я всё сильно регуляризую!!!\n",
    "        df['tr_day_g_'+str(sh)] = (df['day']>sh)*(df['day']-sh)*0.0003 \n",
    "    return df\n",
    "ridge_alpha = 30\n",
    "evaluate_things(train_wide, features = [add_time_features_01,add_trend_turns_100, add_trend_breaks, add_weekday_dummies]\n",
    "                , estimator = [extrapolate_02])\n"
   ]
  },
  {
   "cell_type": "markdown",
   "metadata": {},
   "source": [
    "#### А ещё можно проверить, как отработают ядерные методы тут.\n"
   ]
  },
  {
   "cell_type": "markdown",
   "metadata": {},
   "source": [
    "#### Я так и не решил вопрос с лагами, а он может быть важен"
   ]
  },
  {
   "cell_type": "code",
   "execution_count": 59,
   "metadata": {
    "collapsed": false
   },
   "outputs": [
    {
     "data": {
      "text/plain": [
       "1.5406561824974276"
      ]
     },
     "execution_count": 59,
     "metadata": {},
     "output_type": "execute_result"
    }
   ],
   "source": [
    "ridge_alpha = 30\n",
    "evaluate_things(train_wide, features = [add_time_features_01, add_trend_breaks, add_weekday_dummies]\n",
    "                , estimator = [extrapolate_02])"
   ]
  },
  {
   "cell_type": "markdown",
   "metadata": {},
   "source": [
    "Потеря первых 30 дней ухудшает точность на 3%, потеря следующих 30 дней - ещё на 5%"
   ]
  },
  {
   "cell_type": "code",
   "execution_count": 66,
   "metadata": {
    "collapsed": false
   },
   "outputs": [
    {
     "data": {
      "text/plain": [
       "1.5428771674877586"
      ]
     },
     "execution_count": 66,
     "metadata": {},
     "output_type": "execute_result"
    }
   ],
   "source": [
    "ridge_alpha = 30\n",
    "def drop_first_60_days(df):\n",
    "    return df[df.day>(min(df.day)+30)]\n",
    "def drop_first_60_days(df):\n",
    "    return df[df.day>(min(df.day)+60)]\n",
    "evaluate_things(train_wide, features = [add_time_features_01, add_trend_breaks, add_weekday_dummies,drop_first_30_days]\n",
    "                , estimator = [extrapolate_02])"
   ]
  },
  {
   "cell_type": "code",
   "execution_count": 67,
   "metadata": {
    "collapsed": false
   },
   "outputs": [
    {
     "data": {
      "text/plain": [
       "1.5477653147229782"
      ]
     },
     "execution_count": 67,
     "metadata": {},
     "output_type": "execute_result"
    }
   ],
   "source": [
    "evaluate_things(train_wide, features = [add_time_features_01, add_trend_breaks, add_weekday_dummies,drop_first_60_days]\n",
    "                , estimator = [extrapolate_02])"
   ]
  },
  {
   "cell_type": "markdown",
   "metadata": {},
   "source": [
    "Если добавляю несколько лагов качество только ещё больше падает. Но если я их регуляризую, то чуть-чуть улучшается"
   ]
  },
  {
   "cell_type": "code",
   "execution_count": 81,
   "metadata": {
    "collapsed": false
   },
   "outputs": [
    {
     "data": {
      "text/plain": [
       "1.5405559382714518"
      ]
     },
     "execution_count": 81,
     "metadata": {},
     "output_type": "execute_result"
    }
   ],
   "source": [
    "def add_30d_lags(df):\n",
    "    for i in range(30):\n",
    "        df['lag_30_'+str(i)] = df.lamount.shift(30+i).fillna(mean(df.lamount))*1e-2\n",
    "    return df\n",
    "evaluate_things(train_wide, features = [add_time_features_01, add_trend_breaks, add_weekday_dummies,add_30d_lags]\n",
    "                , estimator = [extrapolate_02])"
   ]
  },
  {
   "cell_type": "markdown",
   "metadata": {},
   "source": [
    "Добавляю среднее за последнюю наблюдаемую неделю. Что-то недооок."
   ]
  },
  {
   "cell_type": "code",
   "execution_count": 85,
   "metadata": {
    "collapsed": false
   },
   "outputs": [
    {
     "data": {
      "text/plain": [
       "1.540655999917665"
      ]
     },
     "execution_count": 85,
     "metadata": {},
     "output_type": "execute_result"
    }
   ],
   "source": [
    "def add_30d_rolling_lags(df):\n",
    "    for i in range(30):\n",
    "        df['lag_30_'+str(i)] = df.lamount.rolling(7).mean().shift(30+i).fillna(mean(df.lamount))*1e-3\n",
    "    return df\n",
    "evaluate_things(train_wide, features = [add_time_features_01, add_trend_breaks, add_weekday_dummies,add_30d_rolling_lags]\n",
    "                , estimator = [extrapolate_02])"
   ]
  },
  {
   "cell_type": "markdown",
   "metadata": {},
   "source": [
    "А если бы я предсказывал без ожидания 30 дней? Всё равно улучшение какое-то дурацкое."
   ]
  },
  {
   "cell_type": "code",
   "execution_count": 110,
   "metadata": {
    "collapsed": false
   },
   "outputs": [
    {
     "data": {
      "text/plain": [
       "1.538690174392854"
      ]
     },
     "execution_count": 110,
     "metadata": {},
     "output_type": "execute_result"
    }
   ],
   "source": [
    "def add_0d_lags(df):\n",
    "    for i in range(1,5):\n",
    "        df['lag_'+str(i)] = df.lamount.shift(1+i).fillna(mean(df.lamount))*1e-1\n",
    "    return df\n",
    "evaluate_things(train_wide, features = [add_time_features_01, add_trend_breaks, add_weekday_dummies,add_0d_lags]\n",
    "                , estimator = [extrapolate_02])"
   ]
  },
  {
   "cell_type": "markdown",
   "metadata": {},
   "source": [
    "Добавляю к регрессии скользящую среднюю, но чё-т она недопахивает."
   ]
  },
  {
   "cell_type": "code",
   "execution_count": 149,
   "metadata": {
    "collapsed": false
   },
   "outputs": [
    {
     "data": {
      "text/plain": [
       "1.5383946251777914"
      ]
     },
     "execution_count": 149,
     "metadata": {},
     "output_type": "execute_result"
    }
   ],
   "source": [
    "def add_ewma(df):\n",
    "    df['ewma'] = df.lamount.ewm(alpha=0.03).mean().shift(1).fillna(mean(df.lamount))*1e-0\n",
    "    return df\n",
    "evaluate_things(train_wide, features = [add_time_features_01, add_trend_breaks, add_weekday_dummies,add_ewma]\n",
    "                , estimator = [extrapolate_02])"
   ]
  },
  {
   "cell_type": "code",
   "execution_count": null,
   "metadata": {
    "collapsed": true
   },
   "outputs": [],
   "source": [
    ".shift(1)"
   ]
  },
  {
   "cell_type": "markdown",
   "metadata": {},
   "source": [
    "#### хочу попробовать включить PCA в качестве фич"
   ]
  },
  {
   "cell_type": "markdown",
   "metadata": {},
   "source": [
    "## Предсказываю TSA"
   ]
  },
  {
   "cell_type": "code",
   "execution_count": 125,
   "metadata": {
    "collapsed": false
   },
   "outputs": [
    {
     "data": {
      "text/plain": [
       "<matplotlib.axes._subplots.AxesSubplot at 0x1e69586af60>"
      ]
     },
     "execution_count": 125,
     "metadata": {},
     "output_type": "execute_result"
    },
    {
     "data": {
      "image/png": "[encoded data removed]",
      "text/plain": [
       "<matplotlib.figure.Figure at 0x1e6957c79e8>"
      ]
     },
     "metadata": {},
     "output_type": "display_data"
    }
   ],
   "source": [
    "ts = train_wide[train_wide.columns[65]]\n",
    "ts.plot()"
   ]
  },
  {
   "cell_type": "markdown",
   "metadata": {},
   "source": [
    "Скользящаяя средняя заходит нормально - с параметром 0.03 почти как полноценная модель"
   ]
  },
  {
   "cell_type": "code",
   "execution_count": 145,
   "metadata": {
    "collapsed": false
   },
   "outputs": [
    {
     "name": "stdout",
     "output_type": "stream",
     "text": [
      "1.62927105709\n",
      "1.56990504618\n",
      "1.552358678\n",
      "1.54745223327\n",
      "1.54810287029\n",
      "1.55344055454\n",
      "1.56425271849\n",
      "1.65322963533\n"
     ]
    }
   ],
   "source": [
    "for a in [0.001, 0.01, 0.02, 0.03, 0.05, 0.07, 0.1, 0.3]:\n",
    "    mses = []\n",
    "    for c in train_wide.columns:\n",
    "        ts = train_wide[c]\n",
    "        mse = mean((ts.ewm(alpha=a).mean().shift(1).fillna(mean(ts))-ts).tail(30)**2) \n",
    "        mses.append(mse)\n",
    "    print(sqrt(mean(mses)))"
   ]
  },
  {
   "cell_type": "markdown",
   "metadata": {},
   "source": [
    "Регрессия каждого кода на другие -ок, если зарегуляризовывать на 10 тыщ"
   ]
  },
  {
   "cell_type": "code",
   "execution_count": 165,
   "metadata": {
    "collapsed": false
   },
   "outputs": [
    {
     "name": "stdout",
     "output_type": "stream",
     "text": [
      "1.94693784437\n",
      "1.88504067348\n",
      "1.74154770151\n",
      "1.59527380742\n",
      "1.58396827211\n",
      "1.63436186361\n",
      "1.64643140815\n"
     ]
    }
   ],
   "source": [
    "for alpha in [1, 10, 100, 1000, 1e4, 1e5, 1e6]:\n",
    "    mses = []\n",
    "    for c in train_wide.columns:\n",
    "        x = train_wide[train_wide.columns.difference([c])]\n",
    "        y = train_wide[c]\n",
    "        reg = Ridge(alpha = alpha)\n",
    "        tr_size = x.shape[0]-30\n",
    "        reg.fit(x.head(tr_size), y.head(tr_size))\n",
    "        mses.append(mean((reg.predict(x.tail(30))-y.tail(30))**2))\n",
    "    print(sqrt(mean(mses)))"
   ]
  },
  {
   "cell_type": "markdown",
   "metadata": {},
   "source": [
    "делаю машинку для запоминания"
   ]
  },
  {
   "cell_type": "code",
   "execution_count": 170,
   "metadata": {
    "collapsed": false
   },
   "outputs": [
    {
     "name": "stdout",
     "output_type": "stream",
     "text": [
      "1.58396827211\n"
     ]
    }
   ],
   "source": [
    "mses = []\n",
    "col_others = dict()\n",
    "reg_others = dict()\n",
    "for c in train_wide.columns:\n",
    "    x = train_wide[train_wide.columns.difference([c])]\n",
    "    y = train_wide[c]\n",
    "    reg = Ridge(alpha = 1e4)\n",
    "    tr_size = x.shape[0]-30\n",
    "    reg.fit(x.head(tr_size), y.head(tr_size))\n",
    "    mses.append(mean((reg.predict(x.tail(30))-y.tail(30))**2))\n",
    "    reg_others[c] = reg\n",
    "    col_others[c] = x.columns\n",
    "print(sqrt(mean(mses)))"
   ]
  },
  {
   "cell_type": "markdown",
   "metadata": {},
   "source": [
    "Оказывается, можно немножко сдвигать к предсказанию по другим кодам, и будет ок."
   ]
  },
  {
   "cell_type": "code",
   "execution_count": 182,
   "metadata": {
    "collapsed": false
   },
   "outputs": [
    {
     "data": {
      "text/plain": [
       "1.5377954911793033"
      ]
     },
     "execution_count": 182,
     "metadata": {},
     "output_type": "execute_result"
    }
   ],
   "source": [
    "oth_share = 0.20\n",
    "def move_to_reg_others(pset):\n",
    "    plane = pset[1].copy()\n",
    "    for c in pset[1].columns:\n",
    "        plane[c] = reg_others[c].predict(pset[1][col_others[c]])\n",
    "    pred = (1-oth_share) * pset[1] + oth_share * plane\n",
    "    return pset[0], pred\n",
    "ridge_alpha = 30\n",
    "evaluate_things(train_wide, features = [add_time_features_01, add_trend_breaks, add_weekday_dummies]\n",
    "                                  , estimator = [extrapolate_02], post_estimator = [move_to_reg_others])"
   ]
  },
  {
   "cell_type": "code",
   "execution_count": 183,
   "metadata": {
    "collapsed": true
   },
   "outputs": [],
   "source": [
    "sub = make_submission(train_wide, features = [add_time_features_01, add_trend_breaks, add_weekday_dummies]\n",
    "                                  , estimator = [extrapolate_02], post_estimator = [move_to_reg_others])"
   ]
  },
  {
   "cell_type": "code",
   "execution_count": 184,
   "metadata": {
    "collapsed": true
   },
   "outputs": [],
   "source": [
    "sub[['mcc_code', 'day', 'volume']].to_csv('b_06.csv', index=False)"
   ]
  },
  {
   "cell_type": "markdown",
   "metadata": {},
   "source": [
    "Удаление ненужных столбцов не помогает."
   ]
  },
  {
   "cell_type": "code",
   "execution_count": 187,
   "metadata": {
    "collapsed": false
   },
   "outputs": [
    {
     "data": {
      "text/plain": [
       "1.5378335101971998"
      ]
     },
     "execution_count": 187,
     "metadata": {},
     "output_type": "execute_result"
    }
   ],
   "source": [
    "def remove_days(df):\n",
    "    # убираю тупые фичи\n",
    "    df.drop('week_day', axis = 1, inplace = True)\n",
    "    df.drop('month_day', axis = 1, inplace = True)\n",
    "    return df\n",
    "evaluate_things(train_wide, features = [add_time_features_01, add_trend_breaks, add_weekday_dummies, remove_days]\n",
    "                                  , estimator = [extrapolate_02], post_estimator = [move_to_reg_others])"
   ]
  },
  {
   "cell_type": "markdown",
   "metadata": {},
   "source": [
    "####  splines!"
   ]
  },
  {
   "cell_type": "markdown",
   "metadata": {},
   "source": [
    "Сплайны чегой-та расходятся, вместо того, чтоб сходиться, как нормальные люди."
   ]
  },
  {
   "cell_type": "code",
   "execution_count": 188,
   "metadata": {
    "collapsed": true
   },
   "outputs": [],
   "source": [
    "from scipy.interpolate import UnivariateSpline"
   ]
  },
  {
   "cell_type": "code",
   "execution_count": 213,
   "metadata": {
    "collapsed": false
   },
   "outputs": [
    {
     "name": "stdout",
     "output_type": "stream",
     "text": [
      "53676.7762478\n"
     ]
    }
   ],
   "source": [
    "mses = []\n",
    "for c in train_wide.columns[0:5]:\n",
    "    y = train_wide[c]\n",
    "    tr_size = y.shape[0]-30\n",
    "    spl = UnivariateSpline(arange(tr_size), y.head(tr_size))\n",
    "    pr = spl(arange(tr_size, tr_size + 30))\n",
    "    mses.append(mean((pr-y.tail(30))**2))\n",
    "print(sqrt(mean(mses)))"
   ]
  },
  {
   "cell_type": "code",
   "execution_count": 214,
   "metadata": {
    "collapsed": false
   },
   "outputs": [
    {
     "data": {
      "text/plain": [
       "[<matplotlib.lines.Line2D at 0x1e699ced668>]"
      ]
     },
     "execution_count": 214,
     "metadata": {},
     "output_type": "execute_result"
    },
    {
     "data": {
      "image/png": "[encoded data removed]",
      "text/plain": [
       "<matplotlib.figure.Figure at 0x1e699c32c50>"
      ]
     },
     "metadata": {},
     "output_type": "display_data"
    }
   ],
   "source": [
    "plot(y)\n",
    "plot(spl(arange(len(y))))"
   ]
  },
  {
   "cell_type": "markdown",
   "metadata": {
    "collapsed": true
   },
   "source": [
    "### те самые логистические брейки"
   ]
  },
  {
   "cell_type": "code",
   "execution_count": 215,
   "metadata": {
    "collapsed": false
   },
   "outputs": [
    {
     "data": {
      "text/plain": [
       "1.5372372493917985"
      ]
     },
     "execution_count": 215,
     "metadata": {},
     "output_type": "execute_result"
    }
   ],
   "source": [
    "ridge_alpha = 30\n",
    "log_break_w = 50\n",
    "evaluate_things(train_wide, features = [add_time_features_01, add_logistic_breaks, add_weekday_dummies]\n",
    "                                  , estimator = [extrapolate_02])"
   ]
  },
  {
   "cell_type": "code",
   "execution_count": 216,
   "metadata": {
    "collapsed": true
   },
   "outputs": [],
   "source": [
    "sub = make_submission(train_wide, features = [add_time_features_01, add_logistic_breaks, add_weekday_dummies]\n",
    "                                  , estimator = [extrapolate_02])\n",
    "sub[['mcc_code', 'day', 'volume']].to_csv('b_07.csv', index=False)"
   ]
  },
  {
   "cell_type": "markdown",
   "metadata": {},
   "source": [
    "#### от бзысходности пытаюсь и правда скользящую среднюю натянуть"
   ]
  },
  {
   "cell_type": "code",
   "execution_count": 217,
   "metadata": {
    "collapsed": true
   },
   "outputs": [],
   "source": [
    "base_sub = make_submission(train_wide, features = [add_time_features_01, add_trend_breaks, add_weekday_dummies]\n",
    "                , estimator = [extrapolate_02])"
   ]
  },
  {
   "cell_type": "code",
   "execution_count": 220,
   "metadata": {
    "collapsed": false
   },
   "outputs": [],
   "source": [
    "base_pred = base_sub.pivot('day', 'mcc_code', 'lamount')"
   ]
  },
  {
   "cell_type": "code",
   "execution_count": 224,
   "metadata": {
    "collapsed": false
   },
   "outputs": [
    {
     "data": {
      "text/plain": [
       "((457, 184), (487, 184))"
      ]
     },
     "execution_count": 224,
     "metadata": {},
     "output_type": "execute_result"
    }
   ],
   "source": [
    "learn_and_pred = pd.concat([train_wide, base_pred], axis = 0)\n",
    "train_wide.shape, learn_and_pred.shape"
   ]
  },
  {
   "cell_type": "code",
   "execution_count": 229,
   "metadata": {
    "collapsed": false
   },
   "outputs": [],
   "source": [
    "learn_and_pred_ewma = learn_and_pred.copy()\n",
    "for c in learn_and_pred_ewma.columns:\n",
    "    learn_and_pred_ewma[c] = learn_and_pred[c].ewm(alpha = 0.03).mean()"
   ]
  },
  {
   "cell_type": "code",
   "execution_count": 239,
   "metadata": {
    "collapsed": false
   },
   "outputs": [],
   "source": [
    "pred_ewma = learn_and_pred_ewma.tail(30)*0.05+base_pred*0.95"
   ]
  },
  {
   "cell_type": "code",
   "execution_count": 244,
   "metadata": {
    "collapsed": false
   },
   "outputs": [
    {
     "data": {
      "text/html": [
       "<div>\n",
       "<table border=\"1\" class=\"dataframe\">\n",
       "  <thead>\n",
       "    <tr style=\"text-align: right;\">\n",
       "      <th></th>\n",
       "      <th>mcc_code</th>\n",
       "      <th>day</th>\n",
       "      <th>lamount</th>\n",
       "      <th>volume</th>\n",
       "    </tr>\n",
       "  </thead>\n",
       "  <tbody>\n",
       "    <tr>\n",
       "      <th>0</th>\n",
       "      <td>742</td>\n",
       "      <td>457</td>\n",
       "      <td>9.171406</td>\n",
       "      <td>9118.138183</td>\n",
       "    </tr>\n",
       "    <tr>\n",
       "      <th>1</th>\n",
       "      <td>742</td>\n",
       "      <td>458</td>\n",
       "      <td>8.471090</td>\n",
       "      <td>4274.716148</td>\n",
       "    </tr>\n",
       "    <tr>\n",
       "      <th>2</th>\n",
       "      <td>742</td>\n",
       "      <td>459</td>\n",
       "      <td>8.872839</td>\n",
       "      <td>6635.510771</td>\n",
       "    </tr>\n",
       "    <tr>\n",
       "      <th>3</th>\n",
       "      <td>742</td>\n",
       "      <td>460</td>\n",
       "      <td>8.625682</td>\n",
       "      <td>5072.959974</td>\n",
       "    </tr>\n",
       "    <tr>\n",
       "      <th>4</th>\n",
       "      <td>742</td>\n",
       "      <td>461</td>\n",
       "      <td>8.803710</td>\n",
       "      <td>6158.904019</td>\n",
       "    </tr>\n",
       "  </tbody>\n",
       "</table>\n",
       "</div>"
      ],
      "text/plain": [
       "   mcc_code  day   lamount       volume\n",
       "0       742  457  9.171406  9118.138183\n",
       "1       742  458  8.471090  4274.716148\n",
       "2       742  459  8.872839  6635.510771\n",
       "3       742  460  8.625682  5072.959974\n",
       "4       742  461  8.803710  6158.904019"
      ]
     },
     "execution_count": 244,
     "metadata": {},
     "output_type": "execute_result"
    }
   ],
   "source": [
    "new_sub = lamount_to_volume(wide_to_long(pred_ewma))\n",
    "new_sub.head()"
   ]
  },
  {
   "cell_type": "code",
   "execution_count": 245,
   "metadata": {
    "collapsed": true
   },
   "outputs": [],
   "source": [
    "new_sub[['mcc_code', 'day', 'volume']].to_csv('b_08.csv', index=False)"
   ]
  },
  {
   "cell_type": "code",
   "execution_count": 246,
   "metadata": {
    "collapsed": true
   },
   "outputs": [],
   "source": [
    "pred_ewma = learn_and_pred_ewma.tail(30)*0.01+base_pred*0.99\n",
    "new_sub = lamount_to_volume(wide_to_long(pred_ewma))\n",
    "new_sub.head()\n",
    "new_sub[['mcc_code', 'day', 'volume']].to_csv('b_09.csv', index=False)"
   ]
  },
  {
   "cell_type": "markdown",
   "metadata": {},
   "source": [
    "Вердикт: я не знаю, чё с временными рядами можно сделать за такой короткий срок. Я перехожу к плану C, бросаю силы на задачу 3"
   ]
  },
  {
   "cell_type": "code",
   "execution_count": null,
   "metadata": {
    "collapsed": true
   },
   "outputs": [],
   "source": []
  }
 ],
 "metadata": {
  "kernelspec": {
   "display_name": "Python [Root]",
   "language": "python",
   "name": "Python [Root]"
  },
  "language_info": {
   "codemirror_mode": {
    "name": "ipython",
    "version": 3
   },
   "file_extension": ".py",
   "mimetype": "text/x-python",
   "name": "python",
   "nbconvert_exporter": "python",
   "pygments_lexer": "ipython3",
   "version": "3.5.2"
  }
 },
 "nbformat": 4,
 "nbformat_minor": 0
}
