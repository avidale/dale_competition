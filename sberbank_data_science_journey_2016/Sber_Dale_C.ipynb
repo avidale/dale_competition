{
 "cells": [
  {
   "cell_type": "markdown",
   "metadata": {},
   "source": [
    "По сути, для каждого человека я должен предсказать не один аутпут, а 400 с хером.\n",
    "\n",
    "Однако же есть надежда, что типичные транзакции преобладают, и реальная размерность - десятки осей, а не сотни."
   ]
  },
  {
   "cell_type": "markdown",
   "metadata": {},
   "source": [
    "# Базовое решение для задачи C"
   ]
  },
  {
   "cell_type": "code",
   "execution_count": 1,
   "metadata": {
    "collapsed": false
   },
   "outputs": [
    {
     "name": "stdout",
     "output_type": "stream",
     "text": [
      "Populating the interactive namespace from numpy and matplotlib\n"
     ]
    }
   ],
   "source": [
    "%pylab inline"
   ]
  },
  {
   "cell_type": "code",
   "execution_count": 2,
   "metadata": {
    "collapsed": true
   },
   "outputs": [],
   "source": [
    "import pandas as pd\n",
    "import numpy as np\n",
    "\n",
    "from sklearn.feature_extraction import FeatureHasher\n",
    "from sklearn.linear_model import LinearRegression\n",
    "from scipy import sparse"
   ]
  },
  {
   "cell_type": "markdown",
   "metadata": {},
   "source": [
    "Читаем входные файлы с данными"
   ]
  },
  {
   "cell_type": "code",
   "execution_count": 3,
   "metadata": {
    "collapsed": true
   },
   "outputs": [],
   "source": [
    "transactions = pd.read_csv('transactions.csv')\n",
    "customers_gender = pd.read_csv('customers_gender_train.csv')"
   ]
  },
  {
   "cell_type": "code",
   "execution_count": 4,
   "metadata": {
    "collapsed": false
   },
   "outputs": [
    {
     "data": {
      "text/html": [
       "<div>\n",
       "<table border=\"1\" class=\"dataframe\">\n",
       "  <thead>\n",
       "    <tr style=\"text-align: right;\">\n",
       "      <th></th>\n",
       "      <th>customer_id</th>\n",
       "    </tr>\n",
       "  </thead>\n",
       "  <tbody>\n",
       "    <tr>\n",
       "      <th>0</th>\n",
       "      <td>55705601</td>\n",
       "    </tr>\n",
       "    <tr>\n",
       "      <th>1</th>\n",
       "      <td>49283085</td>\n",
       "    </tr>\n",
       "    <tr>\n",
       "      <th>2</th>\n",
       "      <td>15040528</td>\n",
       "    </tr>\n",
       "    <tr>\n",
       "      <th>3</th>\n",
       "      <td>74727448</td>\n",
       "    </tr>\n",
       "    <tr>\n",
       "      <th>4</th>\n",
       "      <td>10469400</td>\n",
       "    </tr>\n",
       "  </tbody>\n",
       "</table>\n",
       "</div>"
      ],
      "text/plain": [
       "   customer_id\n",
       "0     55705601\n",
       "1     49283085\n",
       "2     15040528\n",
       "3     74727448\n",
       "4     10469400"
      ]
     },
     "execution_count": 4,
     "metadata": {},
     "output_type": "execute_result"
    }
   ],
   "source": [
    "test_list = set(transactions.customer_id.unique().tolist()).difference(customers_gender.customer_id.unique())\n",
    "test_list_df = pd.DataFrame(list(test_list), columns = ['customer_id'])\n",
    "test_list_df.head()"
   ]
  },
  {
   "cell_type": "markdown",
   "metadata": {},
   "source": [
    "### Отсюда начинается базовое решение, оно мне не интересно"
   ]
  },
  {
   "cell_type": "markdown",
   "metadata": {},
   "source": [
    "Берём расходные транзакции и формируем тестовую выборку"
   ]
  },
  {
   "cell_type": "code",
   "execution_count": 5,
   "metadata": {
    "collapsed": true
   },
   "outputs": [],
   "source": [
    "train_transactions = transactions[transactions.amount < 0].copy()\n",
    "train_transactions['day'] = train_transactions.tr_datetime.apply(lambda dt: dt.split()[0]).astype(int)"
   ]
  },
  {
   "cell_type": "code",
   "execution_count": 4,
   "metadata": {
    "collapsed": true
   },
   "outputs": [],
   "source": [
    "test_transactions = \\\n",
    "    pd.DataFrame(columns=set(transactions.customer_id.unique().tolist()).difference(customers_gender.customer_id.unique()),\n",
    "                 index=train_transactions.mcc_code.unique())\n",
    "test_transactions = test_transactions.unstack().reset_index().dropna(axis=1)\n",
    "\n",
    "train_grid = pd.DataFrame(columns=transactions.customer_id.unique(), index=train_transactions.mcc_code.unique())\n",
    "train_grid = train_grid.unstack().reset_index().dropna(axis=1)"
   ]
  },
  {
   "cell_type": "markdown",
   "metadata": {},
   "source": [
    "Добавляем признаки, относящиеся к дате."
   ]
  },
  {
   "cell_type": "code",
   "execution_count": 5,
   "metadata": {
    "collapsed": true
   },
   "outputs": [],
   "source": [
    "for tr_table in [train_grid, test_transactions]:\n",
    "    tr_table.columns = ['customer_id', 'mcc_code']\n",
    "    tr_table['month_num'] = (train_transactions.day.max() + 15) // 30\n",
    "    tr_table['year_num'] = (train_transactions.day.max() + 15) // 365\n",
    "\n",
    "train_transactions['month_num'] = train_transactions.day // 30\n",
    "train_transactions['year_num'] = train_transactions.day // 365"
   ]
  },
  {
   "cell_type": "code",
   "execution_count": 6,
   "metadata": {
    "collapsed": true
   },
   "outputs": [],
   "source": [
    "train_transactions = \\\n",
    "    pd.merge(train_grid,\n",
    "             train_transactions.groupby(['year_num', 'month_num', 'customer_id', 'mcc_code'])[['amount']].sum().reset_index(),\n",
    "             how='left').fillna(0)"
   ]
  },
  {
   "cell_type": "code",
   "execution_count": 7,
   "metadata": {
    "collapsed": true
   },
   "outputs": [],
   "source": [
    "for month_shift in range(1, 5):\n",
    "    train_shift = train_transactions.copy()\n",
    "    train_shift['month_num'] = train_shift['month_num'] + month_shift\n",
    "    train_shift = train_shift.rename(columns={\"amount\" : 'amount_{0}'.format(month_shift)})  \n",
    "    train_shift = train_shift[['year_num', 'month_num', 'customer_id', 'mcc_code', 'amount_{0}'.format(month_shift)]]\n",
    "\n",
    "    train_transactions = pd.merge(train_transactions, train_shift, \n",
    "                                  on=['year_num', 'month_num', 'customer_id', 'mcc_code'], how='left').fillna(0)\n",
    "    test_transactions = pd.merge(test_transactions, train_shift, \n",
    "                                 on=['year_num', 'month_num', 'customer_id', 'mcc_code'], how='left').fillna(0)"
   ]
  },
  {
   "cell_type": "code",
   "execution_count": 8,
   "metadata": {
    "collapsed": true
   },
   "outputs": [],
   "source": [
    "for shift in range(1, 4):\n",
    "    train_transactions['diff_{}_{}'.format(shift, shift + 1)] = \\\n",
    "        train_transactions['amount_{}'.format(shift)] - train_transactions['amount_{}'.format(shift + 1)]\n",
    "    test_transactions['diff_{}_{}'.format(shift, shift + 1)] = \\\n",
    "        test_transactions['amount_{}'.format(shift)] - test_transactions['amount_{}'.format(shift + 1)]    "
   ]
  },
  {
   "cell_type": "code",
   "execution_count": 9,
   "metadata": {
    "collapsed": true
   },
   "outputs": [],
   "source": [
    "hasher = FeatureHasher(n_features=100000, input_type='string')\n",
    "train_sparse = \\\n",
    "    hasher.fit_transform(train_transactions[['year_num', 'month_num', 'customer_id', 'mcc_code']].astype(str).as_matrix())"
   ]
  },
  {
   "cell_type": "code",
   "execution_count": 10,
   "metadata": {
    "collapsed": true
   },
   "outputs": [],
   "source": [
    "test_sparse = \\\n",
    "    hasher.transform(test_transactions[['year_num', 'month_num', 'customer_id', 'mcc_code']].astype(str).as_matrix())"
   ]
  },
  {
   "cell_type": "code",
   "execution_count": 11,
   "metadata": {
    "collapsed": true
   },
   "outputs": [],
   "source": [
    "train_sparse = sparse.hstack([train_sparse,\n",
    "                              np.log(np.abs(train_transactions[['amount_1', 'amount_2', 'amount_3', 'amount_3',\n",
    "                                                                'diff_1_2',  'diff_2_3',  'diff_3_4']]) + 1).as_matrix()\n",
    "                             ])\n",
    "\n",
    "test_sparse = sparse.hstack([test_sparse,\n",
    "                             np.log(np.abs(test_transactions[['amount_1', 'amount_2', 'amount_3', 'amount_3',\n",
    "                                                              'diff_1_2',  'diff_2_3',  'diff_3_4']]) + 1).as_matrix()\n",
    "                            ])"
   ]
  },
  {
   "cell_type": "markdown",
   "metadata": {},
   "source": [
    "Обучаемся на всех данных"
   ]
  },
  {
   "cell_type": "code",
   "execution_count": 12,
   "metadata": {
    "collapsed": false
   },
   "outputs": [
    {
     "data": {
      "text/plain": [
       "LinearRegression(copy_X=True, fit_intercept=True, n_jobs=1, normalize=False)"
      ]
     },
     "execution_count": 12,
     "metadata": {},
     "output_type": "execute_result"
    }
   ],
   "source": [
    "shift = 1\n",
    "clf = LinearRegression()\n",
    "clf.fit(train_sparse, np.log(-train_transactions['amount'] + shift))"
   ]
  },
  {
   "cell_type": "markdown",
   "metadata": {},
   "source": [
    "Предсказываем объём трат для тестовых данных и создаём файл с ответом"
   ]
  },
  {
   "cell_type": "code",
   "execution_count": 13,
   "metadata": {
    "collapsed": true
   },
   "outputs": [],
   "source": [
    "test_transactions['volume'] = np.e ** clf.predict(test_sparse) - shift\n",
    "test_transactions[['customer_id', 'mcc_code', 'volume']].to_csv('baseline_c.csv', index=False)"
   ]
  },
  {
   "cell_type": "code",
   "execution_count": 6,
   "metadata": {
    "collapsed": true
   },
   "outputs": [],
   "source": [
    "test_transactions = None\n",
    "train_transactions = None\n",
    "train_sparse = None\n",
    "test_sparse = None"
   ]
  },
  {
   "cell_type": "markdown",
   "metadata": {},
   "source": [
    "# Немножко исследований, что же за данные перед нами"
   ]
  },
  {
   "cell_type": "markdown",
   "metadata": {},
   "source": [
    "Факты:\n",
    "* люди совершили всего 3% от всех возможных транзакций.\n",
    "* \n",
    "* "
   ]
  },
  {
   "cell_type": "code",
   "execution_count": 7,
   "metadata": {
    "collapsed": false
   },
   "outputs": [
    {
     "data": {
      "text/plain": [
       "(5541668, 8)"
      ]
     },
     "execution_count": 7,
     "metadata": {},
     "output_type": "execute_result"
    }
   ],
   "source": [
    "tmp = transactions[transactions.amount < 0].copy()\n",
    "tmp['day'] = tmp.tr_datetime.apply(lambda dt: dt.split()[0]).astype(int)\n",
    "maxday = max(tmp['day'])\n",
    "tmp['amonth'] = (tmp['day']+30-1-maxday%30)//30\n",
    "tmp.shape"
   ]
  },
  {
   "cell_type": "code",
   "execution_count": 25,
   "metadata": {
    "collapsed": false
   },
   "outputs": [
    {
     "data": {
      "text/plain": [
       "array([ 0,  1,  2,  3,  4,  5,  6,  7,  8,  9, 10, 11, 12, 13, 14, 15], dtype=int32)"
      ]
     },
     "execution_count": 25,
     "metadata": {},
     "output_type": "execute_result"
    }
   ],
   "source": [
    "np.unique(tmp['amonth'])"
   ]
  },
  {
   "cell_type": "code",
   "execution_count": 28,
   "metadata": {
    "collapsed": false
   },
   "outputs": [
    {
     "data": {
      "text/plain": [
       "30"
      ]
     },
     "execution_count": 28,
     "metadata": {},
     "output_type": "execute_result"
    }
   ],
   "source": [
    "len(np.unique(tmp.day[tmp['amonth']==15]))"
   ]
  },
  {
   "cell_type": "markdown",
   "metadata": {},
   "source": [
    "Последнего месяца у нас все 30 дней, зато первого всего 7. Наверное, первый будем выкидывать."
   ]
  },
  {
   "cell_type": "code",
   "execution_count": 8,
   "metadata": {
    "collapsed": false
   },
   "outputs": [],
   "source": [
    "tmp = tmp.groupby(['customer_id', 'mcc_code', 'amonth'])[['amount']].sum().reset_index()"
   ]
  },
  {
   "cell_type": "markdown",
   "metadata": {},
   "source": [
    "Складывание транзакций в 1 месяц схлопнуло всё в 5 раз"
   ]
  },
  {
   "cell_type": "code",
   "execution_count": 32,
   "metadata": {
    "collapsed": false
   },
   "outputs": [
    {
     "data": {
      "text/plain": [
       "(1344039, 4)"
      ]
     },
     "execution_count": 32,
     "metadata": {},
     "output_type": "execute_result"
    }
   ],
   "source": [
    "tmp.shape"
   ]
  },
  {
   "cell_type": "code",
   "execution_count": 35,
   "metadata": {
    "collapsed": false
   },
   "outputs": [
    {
     "data": {
      "text/plain": [
       "(184, 14986, 16)"
      ]
     },
     "execution_count": 35,
     "metadata": {},
     "output_type": "execute_result"
    }
   ],
   "source": [
    "len(unique(tmp.mcc_code)), len(unique(tmp.customer_id)), len(unique(tmp.amonth))"
   ]
  },
  {
   "cell_type": "markdown",
   "metadata": {},
   "source": [
    "Люди совершили всего 3% от тех транзакций, что могли бы."
   ]
  },
  {
   "cell_type": "code",
   "execution_count": 36,
   "metadata": {
    "collapsed": false
   },
   "outputs": [
    {
     "data": {
      "text/plain": [
       "0.030464098919861436"
      ]
     },
     "execution_count": 36,
     "metadata": {},
     "output_type": "execute_result"
    }
   ],
   "source": [
    "tmp.shape[0]/(len(unique(tmp.mcc_code))* len(unique(tmp.customer_id))* len(unique(tmp.amonth)))"
   ]
  },
  {
   "cell_type": "markdown",
   "metadata": {},
   "source": [
    "Человек был в среднем активен 9 из 10 месяцев. Достаточно много, чтобы нас не очень печалили нули."
   ]
  },
  {
   "cell_type": "code",
   "execution_count": 57,
   "metadata": {
    "collapsed": false
   },
   "outputs": [
    {
     "data": {
      "text/plain": [
       "0.9116425330308288"
      ]
     },
     "execution_count": 57,
     "metadata": {},
     "output_type": "execute_result"
    }
   ],
   "source": [
    "person_month = tmp.groupby(['customer_id', 'amonth'])[['amount']].sum().reset_index()\n",
    "person_month.shape[0]/(len(unique(person_month.customer_id))* len(unique(person_month.amonth)))"
   ]
  },
  {
   "cell_type": "markdown",
   "metadata": {},
   "source": [
    "создаём список ВСЕГО"
   ]
  },
  {
   "cell_type": "code",
   "execution_count": 12,
   "metadata": {
    "collapsed": true
   },
   "outputs": [],
   "source": [
    "tmp['lamount'] = log(-tmp['amount']+1)"
   ]
  },
  {
   "cell_type": "code",
   "execution_count": 90,
   "metadata": {
    "collapsed": false
   },
   "outputs": [],
   "source": [
    "train_grid = pd.DataFrame(columns=transactions.customer_id.unique(), index=tmp.mcc_code.unique())\n",
    "train_grid = train_grid.unstack().reset_index().dropna(axis=1)\n",
    "train_grid.columnns = ['customer_id', 'mcc_code']"
   ]
  },
  {
   "cell_type": "code",
   "execution_count": 9,
   "metadata": {
    "collapsed": false
   },
   "outputs": [],
   "source": [
    "all_id = pd.DataFrame(transactions.customer_id.unique(), columns = ['customer_id'])\n",
    "all_mc = pd.DataFrame(transactions.mcc_code.unique(), columns = ['mcc_code'])\n",
    "all_id.index = all_id.customer_id\n",
    "all_mc.index = all_mc.mcc_code\n",
    "all_id.drop('customer_id', axis = 1, inplace = True)\n",
    "all_mc.drop('mcc_code', axis = 1, inplace = True)"
   ]
  },
  {
   "cell_type": "code",
   "execution_count": 13,
   "metadata": {
    "collapsed": false
   },
   "outputs": [],
   "source": [
    "pvt15 = tmp[tmp.amonth == 15].pivot(index = 'customer_id', columns = 'mcc_code', values = 'lamount').fillna(0)"
   ]
  },
  {
   "cell_type": "code",
   "execution_count": 14,
   "metadata": {
    "collapsed": false
   },
   "outputs": [],
   "source": [
    "pvt15 = pvt15.join(all_id, how = 'outer').fillna(0)"
   ]
  },
  {
   "cell_type": "markdown",
   "metadata": {},
   "source": [
    "Смотрим, как много радости могут описать главные компоненты. \n",
    "\n",
    "Оказывается - очень много. 20 компонент - 70% дисперсии. Половина компонент - почти всё."
   ]
  },
  {
   "cell_type": "code",
   "execution_count": 110,
   "metadata": {
    "collapsed": false
   },
   "outputs": [
    {
     "name": "stdout",
     "output_type": "stream",
     "text": [
      "0.679186676564\n"
     ]
    },
    {
     "data": {
      "image/png": "[encoded data removed]",
      "text/plain": [
       "<matplotlib.figure.Figure at 0x1aa0248f048>"
      ]
     },
     "metadata": {},
     "output_type": "display_data"
    }
   ],
   "source": [
    "from sklearn.decomposition import PCA\n",
    "pca = PCA(n_components = 20).fit(pvt15)\n",
    "print(sum(pca.explained_variance_ratio_))\n",
    "_ = figure(figsize = (15, 3))\n",
    "_ = subplot(1, 2, 1)\n",
    "_ =plot(pca.explained_variance_ratio_)\n",
    "_ = subplot(1, 2, 2)\n",
    "_ =plot(cumsum(pca.explained_variance_ratio_))"
   ]
  },
  {
   "cell_type": "code",
   "execution_count": 111,
   "metadata": {
    "collapsed": false
   },
   "outputs": [
    {
     "name": "stdout",
     "output_type": "stream",
     "text": [
      "1.0\n"
     ]
    },
    {
     "data": {
      "image/png": "[encoded data removed]",
      "text/plain": [
       "<matplotlib.figure.Figure at 0x1aa01c0c518>"
      ]
     },
     "metadata": {},
     "output_type": "display_data"
    }
   ],
   "source": [
    "from sklearn.decomposition import PCA\n",
    "pca = PCA(n_components = 184).fit(pvt15)\n",
    "print(sum(pca.explained_variance_ratio_))\n",
    "_ = figure(figsize = (15, 3))\n",
    "_ = subplot(1, 2, 1)\n",
    "_ =plot(pca.explained_variance_ratio_)\n",
    "_ = subplot(1, 2, 2)\n",
    "_ =plot(cumsum(pca.explained_variance_ratio_))"
   ]
  },
  {
   "cell_type": "markdown",
   "metadata": {},
   "source": [
    "Какую ошибку ГК дают на трейне? 0.77, то есть достаточно мало, чтобы нам хватило для полного, безграничного счастья."
   ]
  },
  {
   "cell_type": "code",
   "execution_count": 112,
   "metadata": {
    "collapsed": false
   },
   "outputs": [
    {
     "data": {
      "text/plain": [
       "0.7761258635742613"
      ]
     },
     "execution_count": 112,
     "metadata": {},
     "output_type": "execute_result"
    }
   ],
   "source": [
    "from sklearn.decomposition import PCA\n",
    "from sklearn.metrics import mean_squared_error\n",
    "pca = PCA(n_components = 20).fit(pvt15)\n",
    "pvt15_pred = pca.inverse_transform(pca.transform(pvt15))\n",
    "mean(mean((pvt15_pred-pvt15)**2))"
   ]
  },
  {
   "cell_type": "markdown",
   "metadata": {},
   "source": [
    "#### Приступаем к усреднению по трейну"
   ]
  },
  {
   "cell_type": "code",
   "execution_count": 15,
   "metadata": {
    "collapsed": true
   },
   "outputs": [],
   "source": [
    "tmp['amonth_customer_id'] = tmp['amonth'].astype('str')+'_'+tmp['customer_id'].astype('str')"
   ]
  },
  {
   "cell_type": "code",
   "execution_count": 16,
   "metadata": {
    "collapsed": true
   },
   "outputs": [],
   "source": [
    "pvts = []\n",
    "for m in range(16):\n",
    "    pvts.append(tmp[tmp.amonth == m].pivot(index = 'customer_id', columns = 'mcc_code', values = 'lamount')\n",
    "                .join(all_id, how = 'outer').transpose().join(all_mc, how = 'outer').transpose().fillna(0))"
   ]
  },
  {
   "cell_type": "code",
   "execution_count": 17,
   "metadata": {
    "collapsed": false
   },
   "outputs": [
    {
     "name": "stdout",
     "output_type": "stream",
     "text": [
      "(15000, 184)\n",
      "(15000, 184)\n",
      "(15000, 184)\n",
      "(15000, 184)\n",
      "(15000, 184)\n",
      "(15000, 184)\n",
      "(15000, 184)\n",
      "(15000, 184)\n",
      "(15000, 184)\n",
      "(15000, 184)\n",
      "(15000, 184)\n",
      "(15000, 184)\n",
      "(15000, 184)\n",
      "(15000, 184)\n",
      "(15000, 184)\n",
      "(15000, 184)\n"
     ]
    }
   ],
   "source": [
    "for p in pvts:\n",
    "    print(p.shape)"
   ]
  },
  {
   "cell_type": "code",
   "execution_count": 157,
   "metadata": {
    "collapsed": false
   },
   "outputs": [],
   "source": [
    "mean_all_train = pvts[1]*0\n",
    "for m in range(1, 15):\n",
    "    mean_all_train = mean_all_train + pvts[m]\n",
    "mean_all_train = mean_all_train * 1.0/14"
   ]
  },
  {
   "cell_type": "markdown",
   "metadata": {},
   "source": [
    "Если просто усреднить 14 периодов, получаем среднюю ошибку 1.32!"
   ]
  },
  {
   "cell_type": "code",
   "execution_count": 180,
   "metadata": {
    "collapsed": false
   },
   "outputs": [
    {
     "data": {
      "text/plain": [
       "1.6203364735053745"
      ]
     },
     "execution_count": 180,
     "metadata": {},
     "output_type": "execute_result"
    }
   ],
   "source": [
    "sqrt(((pvts[14]-pvts[15])**2).mean().mean())"
   ]
  },
  {
   "cell_type": "code",
   "execution_count": 181,
   "metadata": {
    "collapsed": false
   },
   "outputs": [
    {
     "data": {
      "text/plain": [
       "1.3263625106734609"
      ]
     },
     "execution_count": 181,
     "metadata": {},
     "output_type": "execute_result"
    }
   ],
   "source": [
    "sqrt(((mean_all_train-pvts[15])**2).mean().mean())"
   ]
  },
  {
   "cell_type": "markdown",
   "metadata": {},
   "source": [
    "Если брать предыдущий период, средняя ошибка равна 1.62"
   ]
  },
  {
   "cell_type": "code",
   "execution_count": 23,
   "metadata": {
    "collapsed": false
   },
   "outputs": [],
   "source": [
    "target_tall = pvts[15].unstack().reset_index()\n",
    "target_tall.columns = ['mcc_code', 'customer_id', 'lamount']\n",
    "prevnames = []\n",
    "for m in range(1, 15):\n",
    "    prevname = 'lag_'+str(16-m)\n",
    "    prevnames.append(prevname)\n",
    "    target_tall[prevname] = pvts[m].unstack().reset_index()[0]"
   ]
  },
  {
   "cell_type": "code",
   "execution_count": 24,
   "metadata": {
    "collapsed": false
   },
   "outputs": [
    {
     "data": {
      "text/html": [
       "<div>\n",
       "<table border=\"1\" class=\"dataframe\">\n",
       "  <thead>\n",
       "    <tr style=\"text-align: right;\">\n",
       "      <th></th>\n",
       "      <th>mcc_code</th>\n",
       "      <th>customer_id</th>\n",
       "      <th>lamount</th>\n",
       "      <th>lag_15</th>\n",
       "      <th>lag_14</th>\n",
       "      <th>lag_13</th>\n",
       "      <th>lag_12</th>\n",
       "      <th>lag_11</th>\n",
       "      <th>lag_10</th>\n",
       "      <th>lag_9</th>\n",
       "      <th>lag_8</th>\n",
       "      <th>lag_7</th>\n",
       "      <th>lag_6</th>\n",
       "      <th>lag_5</th>\n",
       "      <th>lag_4</th>\n",
       "      <th>lag_3</th>\n",
       "      <th>lag_2</th>\n",
       "    </tr>\n",
       "  </thead>\n",
       "  <tbody>\n",
       "    <tr>\n",
       "      <th>0</th>\n",
       "      <td>742</td>\n",
       "      <td>6815</td>\n",
       "      <td>0.0</td>\n",
       "      <td>0.0</td>\n",
       "      <td>0.0</td>\n",
       "      <td>0.0</td>\n",
       "      <td>0.0</td>\n",
       "      <td>0.0</td>\n",
       "      <td>0.0</td>\n",
       "      <td>0.0</td>\n",
       "      <td>0.0</td>\n",
       "      <td>0.0</td>\n",
       "      <td>0.0</td>\n",
       "      <td>0.0</td>\n",
       "      <td>0.0</td>\n",
       "      <td>0.0</td>\n",
       "      <td>0.0</td>\n",
       "    </tr>\n",
       "    <tr>\n",
       "      <th>1</th>\n",
       "      <td>742</td>\n",
       "      <td>22899</td>\n",
       "      <td>0.0</td>\n",
       "      <td>0.0</td>\n",
       "      <td>0.0</td>\n",
       "      <td>0.0</td>\n",
       "      <td>0.0</td>\n",
       "      <td>0.0</td>\n",
       "      <td>0.0</td>\n",
       "      <td>0.0</td>\n",
       "      <td>0.0</td>\n",
       "      <td>0.0</td>\n",
       "      <td>0.0</td>\n",
       "      <td>0.0</td>\n",
       "      <td>0.0</td>\n",
       "      <td>0.0</td>\n",
       "      <td>0.0</td>\n",
       "    </tr>\n",
       "    <tr>\n",
       "      <th>2</th>\n",
       "      <td>742</td>\n",
       "      <td>27914</td>\n",
       "      <td>0.0</td>\n",
       "      <td>0.0</td>\n",
       "      <td>0.0</td>\n",
       "      <td>0.0</td>\n",
       "      <td>0.0</td>\n",
       "      <td>0.0</td>\n",
       "      <td>0.0</td>\n",
       "      <td>0.0</td>\n",
       "      <td>0.0</td>\n",
       "      <td>0.0</td>\n",
       "      <td>0.0</td>\n",
       "      <td>0.0</td>\n",
       "      <td>0.0</td>\n",
       "      <td>0.0</td>\n",
       "      <td>0.0</td>\n",
       "    </tr>\n",
       "    <tr>\n",
       "      <th>3</th>\n",
       "      <td>742</td>\n",
       "      <td>28753</td>\n",
       "      <td>0.0</td>\n",
       "      <td>0.0</td>\n",
       "      <td>0.0</td>\n",
       "      <td>0.0</td>\n",
       "      <td>0.0</td>\n",
       "      <td>0.0</td>\n",
       "      <td>0.0</td>\n",
       "      <td>0.0</td>\n",
       "      <td>0.0</td>\n",
       "      <td>0.0</td>\n",
       "      <td>0.0</td>\n",
       "      <td>0.0</td>\n",
       "      <td>0.0</td>\n",
       "      <td>0.0</td>\n",
       "      <td>0.0</td>\n",
       "    </tr>\n",
       "    <tr>\n",
       "      <th>4</th>\n",
       "      <td>742</td>\n",
       "      <td>31385</td>\n",
       "      <td>0.0</td>\n",
       "      <td>0.0</td>\n",
       "      <td>0.0</td>\n",
       "      <td>0.0</td>\n",
       "      <td>0.0</td>\n",
       "      <td>0.0</td>\n",
       "      <td>0.0</td>\n",
       "      <td>0.0</td>\n",
       "      <td>0.0</td>\n",
       "      <td>0.0</td>\n",
       "      <td>0.0</td>\n",
       "      <td>0.0</td>\n",
       "      <td>0.0</td>\n",
       "      <td>0.0</td>\n",
       "      <td>0.0</td>\n",
       "    </tr>\n",
       "  </tbody>\n",
       "</table>\n",
       "</div>"
      ],
      "text/plain": [
       "   mcc_code  customer_id  lamount  lag_15  lag_14  lag_13  lag_12  lag_11  \\\n",
       "0       742         6815      0.0     0.0     0.0     0.0     0.0     0.0   \n",
       "1       742        22899      0.0     0.0     0.0     0.0     0.0     0.0   \n",
       "2       742        27914      0.0     0.0     0.0     0.0     0.0     0.0   \n",
       "3       742        28753      0.0     0.0     0.0     0.0     0.0     0.0   \n",
       "4       742        31385      0.0     0.0     0.0     0.0     0.0     0.0   \n",
       "\n",
       "   lag_10  lag_9  lag_8  lag_7  lag_6  lag_5  lag_4  lag_3  lag_2  \n",
       "0     0.0    0.0    0.0    0.0    0.0    0.0    0.0    0.0    0.0  \n",
       "1     0.0    0.0    0.0    0.0    0.0    0.0    0.0    0.0    0.0  \n",
       "2     0.0    0.0    0.0    0.0    0.0    0.0    0.0    0.0    0.0  \n",
       "3     0.0    0.0    0.0    0.0    0.0    0.0    0.0    0.0    0.0  \n",
       "4     0.0    0.0    0.0    0.0    0.0    0.0    0.0    0.0    0.0  "
      ]
     },
     "execution_count": 24,
     "metadata": {},
     "output_type": "execute_result"
    }
   ],
   "source": [
    "target_tall.head()"
   ]
  },
  {
   "cell_type": "markdown",
   "metadata": {},
   "source": [
    "Объемы сделок линейно растут и выросли, суки, за год на треть!"
   ]
  },
  {
   "cell_type": "code",
   "execution_count": 25,
   "metadata": {
    "collapsed": false
   },
   "outputs": [
    {
     "data": {
      "text/plain": [
       "<matplotlib.axes._subplots.AxesSubplot at 0x2f3005980b8>"
      ]
     },
     "execution_count": 25,
     "metadata": {},
     "output_type": "execute_result"
    },
    {
     "data": {
      "image/png": "[encoded data removed]",
      "text/plain": [
       "<matplotlib.figure.Figure at 0x2f300585940>"
      ]
     },
     "metadata": {},
     "output_type": "display_data"
    }
   ],
   "source": [
    "target_tall.mean()[prevnames].plot()"
   ]
  },
  {
   "cell_type": "code",
   "execution_count": 26,
   "metadata": {
    "collapsed": false
   },
   "outputs": [
    {
     "data": {
      "text/plain": [
       "LinearRegression(copy_X=True, fit_intercept=True, n_jobs=1, normalize=False)"
      ]
     },
     "execution_count": 26,
     "metadata": {},
     "output_type": "execute_result"
    }
   ],
   "source": [
    "reg = LinearRegression()\n",
    "reg.fit(target_tall[prevnames], target_tall['lamount'])"
   ]
  },
  {
   "cell_type": "markdown",
   "metadata": {},
   "source": [
    "Коэффицииенты в хорошей регрессии, как и ожидается, возрастают примерно в геометрической прогрессии"
   ]
  },
  {
   "cell_type": "code",
   "execution_count": 27,
   "metadata": {
    "collapsed": false
   },
   "outputs": [
    {
     "name": "stdout",
     "output_type": "stream",
     "text": [
      "0.970105448009 0.0377168839393\n"
     ]
    },
    {
     "data": {
      "image/png": "[encoded data removed]",
      "text/plain": [
       "<matplotlib.figure.Figure at 0x2f30080a198>"
      ]
     },
     "metadata": {},
     "output_type": "display_data"
    }
   ],
   "source": [
    "plot(reg.coef_)\n",
    "print(sum(reg.coef_), reg.intercept_)"
   ]
  },
  {
   "cell_type": "markdown",
   "metadata": {},
   "source": [
    "Оказалось, регрессия даёт ещё +4% к точности. \n",
    "\n",
    "Причём эта точность очень близка к точности на контесте."
   ]
  },
  {
   "cell_type": "code",
   "execution_count": 28,
   "metadata": {
    "collapsed": false
   },
   "outputs": [
    {
     "data": {
      "text/plain": [
       "1.2885940021581177"
      ]
     },
     "execution_count": 28,
     "metadata": {},
     "output_type": "execute_result"
    }
   ],
   "source": [
    "sqrt(((reg.predict(target_tall[prevnames]) - target_tall['lamount'])**2).mean())"
   ]
  },
  {
   "cell_type": "markdown",
   "metadata": {},
   "source": [
    "Сразу же пробуем это эксплутарировать!"
   ]
  },
  {
   "cell_type": "code",
   "execution_count": 29,
   "metadata": {
    "collapsed": false
   },
   "outputs": [
    {
     "data": {
      "text/plain": [
       "['lag_14',\n",
       " 'lag_13',\n",
       " 'lag_12',\n",
       " 'lag_11',\n",
       " 'lag_10',\n",
       " 'lag_9',\n",
       " 'lag_8',\n",
       " 'lag_7',\n",
       " 'lag_6',\n",
       " 'lag_5',\n",
       " 'lag_4',\n",
       " 'lag_3',\n",
       " 'lag_2',\n",
       " 'lamount']"
      ]
     },
     "execution_count": 29,
     "metadata": {},
     "output_type": "execute_result"
    }
   ],
   "source": [
    "newnames = prevnames[1:]+['lamount']\n",
    "newnames"
   ]
  },
  {
   "cell_type": "code",
   "execution_count": 30,
   "metadata": {
    "collapsed": true
   },
   "outputs": [],
   "source": [
    "target_tall['pr_15'] = reg.predict(target_tall[prevnames])"
   ]
  },
  {
   "cell_type": "code",
   "execution_count": 31,
   "metadata": {
    "collapsed": true
   },
   "outputs": [],
   "source": [
    "res_ext_15 = target_tall.pivot(index = 'customer_id', columns = 'mcc_code', values = 'pr_15')"
   ]
  },
  {
   "cell_type": "code",
   "execution_count": 52,
   "metadata": {
    "collapsed": false
   },
   "outputs": [],
   "source": [
    "target_tall['extrapolated'] = reg.predict(target_tall[newnames])"
   ]
  },
  {
   "cell_type": "code",
   "execution_count": 53,
   "metadata": {
    "collapsed": false
   },
   "outputs": [],
   "source": [
    "target_tall.pivot(index = 'customer_id', columns = 'mcc_code', values = 'extrapolated').to_csv('linreg_on_15_lags.csv')"
   ]
  },
  {
   "cell_type": "code",
   "execution_count": 190,
   "metadata": {
    "collapsed": true
   },
   "outputs": [],
   "source": [
    "target_tall['volume'] = np.e ** target_tall['extrapolated'] - shift"
   ]
  },
  {
   "cell_type": "code",
   "execution_count": 191,
   "metadata": {
    "collapsed": false
   },
   "outputs": [
    {
     "data": {
      "text/plain": [
       "(0, 0.0)"
      ]
     },
     "execution_count": 191,
     "metadata": {},
     "output_type": "execute_result"
    }
   ],
   "source": [
    "sum(target_tall['volume']<0), mean(target_tall['volume']<0)"
   ]
  },
  {
   "cell_type": "code",
   "execution_count": 194,
   "metadata": {
    "collapsed": false
   },
   "outputs": [
    {
     "data": {
      "text/plain": [
       "(2760000, 3)"
      ]
     },
     "execution_count": 194,
     "metadata": {},
     "output_type": "execute_result"
    }
   ],
   "source": [
    "submission = target_tall[['customer_id', 'mcc_code', 'volume']]\n",
    "submission.shape"
   ]
  },
  {
   "cell_type": "code",
   "execution_count": 136,
   "metadata": {
    "collapsed": false
   },
   "outputs": [
    {
     "data": {
      "text/html": [
       "<div>\n",
       "<table border=\"1\" class=\"dataframe\">\n",
       "  <thead>\n",
       "    <tr style=\"text-align: right;\">\n",
       "      <th></th>\n",
       "      <th>customer_id</th>\n",
       "    </tr>\n",
       "  </thead>\n",
       "  <tbody>\n",
       "    <tr>\n",
       "      <th>0</th>\n",
       "      <td>55705601</td>\n",
       "    </tr>\n",
       "    <tr>\n",
       "      <th>1</th>\n",
       "      <td>49283085</td>\n",
       "    </tr>\n",
       "    <tr>\n",
       "      <th>2</th>\n",
       "      <td>15040528</td>\n",
       "    </tr>\n",
       "    <tr>\n",
       "      <th>3</th>\n",
       "      <td>74727448</td>\n",
       "    </tr>\n",
       "    <tr>\n",
       "      <th>4</th>\n",
       "      <td>10469400</td>\n",
       "    </tr>\n",
       "  </tbody>\n",
       "</table>\n",
       "</div>"
      ],
      "text/plain": [
       "   customer_id\n",
       "0     55705601\n",
       "1     49283085\n",
       "2     15040528\n",
       "3     74727448\n",
       "4     10469400"
      ]
     },
     "execution_count": 136,
     "metadata": {},
     "output_type": "execute_result"
    }
   ],
   "source": [
    "test_list = set(transactions.customer_id.unique().tolist()).difference(customers_gender.customer_id.unique())\n",
    "test_list_df = pd.DataFrame(list(test_list), columns = ['customer_id'])\n",
    "test_list_df.head()"
   ]
  },
  {
   "cell_type": "code",
   "execution_count": 207,
   "metadata": {
    "collapsed": false
   },
   "outputs": [
    {
     "data": {
      "text/plain": [
       "(552000, 3)"
      ]
     },
     "execution_count": 207,
     "metadata": {},
     "output_type": "execute_result"
    }
   ],
   "source": [
    "submission = pd.merge(submission,test_list_df, on = 'customer_id')\n",
    "submission.shape"
   ]
  },
  {
   "cell_type": "code",
   "execution_count": 208,
   "metadata": {
    "collapsed": true
   },
   "outputs": [],
   "source": [
    "submission.to_csv('c_01.csv', index=False)"
   ]
  },
  {
   "cell_type": "markdown",
   "metadata": {
    "collapsed": true
   },
   "source": [
    "### Делаем зависимость не только от своего, но и от чужого кода"
   ]
  },
  {
   "cell_type": "markdown",
   "metadata": {},
   "source": [
    "Ниже - стандартный блок подготовки данных"
   ]
  },
  {
   "cell_type": "code",
   "execution_count": 5,
   "metadata": {
    "collapsed": false
   },
   "outputs": [
    {
     "data": {
      "text/plain": [
       "(5541668, 8)"
      ]
     },
     "execution_count": 5,
     "metadata": {},
     "output_type": "execute_result"
    }
   ],
   "source": [
    "tmp = transactions[transactions.amount < 0].copy()\n",
    "tmp['day'] = tmp.tr_datetime.apply(lambda dt: dt.split()[0]).astype(int)\n",
    "maxday = max(tmp['day'])\n",
    "tmp['amonth'] = (tmp['day']+30-1-maxday%30)//30\n",
    "tmp.shape"
   ]
  },
  {
   "cell_type": "code",
   "execution_count": 6,
   "metadata": {
    "collapsed": false
   },
   "outputs": [
    {
     "data": {
      "text/plain": [
       "(1344039, 5)"
      ]
     },
     "execution_count": 6,
     "metadata": {},
     "output_type": "execute_result"
    }
   ],
   "source": [
    "tmp = tmp.groupby(['customer_id', 'mcc_code', 'amonth'])[['amount']].sum().reset_index()\n",
    "tmp['lamount'] = log(-tmp['amount']+1)\n",
    "tmp.shape"
   ]
  },
  {
   "cell_type": "code",
   "execution_count": 7,
   "metadata": {
    "collapsed": false
   },
   "outputs": [
    {
     "data": {
      "text/plain": [
       "((184, 0), (15000, 0))"
      ]
     },
     "execution_count": 7,
     "metadata": {},
     "output_type": "execute_result"
    }
   ],
   "source": [
    "all_id = pd.DataFrame(transactions.customer_id.unique(), columns = ['customer_id'])\n",
    "all_mc = pd.DataFrame(transactions.mcc_code.unique(), columns = ['mcc_code'])\n",
    "all_id.index = all_id.customer_id\n",
    "all_mc.index = all_mc.mcc_code\n",
    "all_id.drop('customer_id', axis = 1, inplace = True)\n",
    "all_mc.drop('mcc_code', axis = 1, inplace = True)\n",
    "all_mc.shape, all_id.shape"
   ]
  },
  {
   "cell_type": "code",
   "execution_count": 8,
   "metadata": {
    "collapsed": true
   },
   "outputs": [],
   "source": [
    "pvts = []\n",
    "for m in range(16):\n",
    "    pvts.append(tmp[tmp.amonth == m].pivot(index = 'customer_id', columns = 'mcc_code', values = 'lamount')\n",
    "                .join(all_id, how = 'outer').transpose().join(all_mc, how = 'outer').transpose().fillna(0))"
   ]
  },
  {
   "cell_type": "code",
   "execution_count": 9,
   "metadata": {
    "collapsed": false
   },
   "outputs": [],
   "source": [
    "wide = pd.DataFrame(columns = ['customer_id']+pvts[0].columns.tolist() + ['amonth'])\n",
    "for m in range(16):\n",
    "    tmp = pvts[m].reset_index()\n",
    "    tmp['amonth'] = m\n",
    "    wide = pd.concat([wide, tmp])"
   ]
  },
  {
   "cell_type": "code",
   "execution_count": 10,
   "metadata": {
    "collapsed": false
   },
   "outputs": [
    {
     "data": {
      "text/plain": [
       "(240000, 186)"
      ]
     },
     "execution_count": 10,
     "metadata": {},
     "output_type": "execute_result"
    }
   ],
   "source": [
    "wide.shape"
   ]
  },
  {
   "cell_type": "code",
   "execution_count": 22,
   "metadata": {
    "collapsed": false
   },
   "outputs": [
    {
     "data": {
      "text/plain": [
       "\"\\nlong = pd.DataFrame(columns = ['mcc_code', 'customer_id', 'lamount', 'amonth'])\\nfor m in range(16):\\n    temp = pvts[m].unstack().reset_index()\\n    temp.columns =  ['mcc_code', 'customer_id', 'lamount']\\n    temp['amonth'] = m\\n    long = pd.concat([long, temp])\\nlong.shape\\n\""
      ]
     },
     "execution_count": 22,
     "metadata": {},
     "output_type": "execute_result"
    }
   ],
   "source": [
    "\"\"\"\n",
    "long = pd.DataFrame(columns = ['mcc_code', 'customer_id', 'lamount', 'amonth'])\n",
    "for m in range(16):\n",
    "    temp = pvts[m].unstack().reset_index()\n",
    "    temp.columns =  ['mcc_code', 'customer_id', 'lamount']\n",
    "    temp['amonth'] = m\n",
    "    long = pd.concat([long, temp])\n",
    "long.shape\n",
    "\"\"\"\n",
    "#Создаю таблицу с 44 миллионами наблюдений, ура!"
   ]
  },
  {
   "cell_type": "markdown",
   "metadata": {},
   "source": [
    "План работы:\n",
    "1. Делаю широкую табличку\n",
    "2. херачу регрессию для каждого кода на все коды в прошлом месяце, а также несколько лагов\n",
    "3. результаты запоминаю\n",
    "4. профит!"
   ]
  },
  {
   "cell_type": "code",
   "execution_count": 32,
   "metadata": {
    "collapsed": false
   },
   "outputs": [
    {
     "data": {
      "text/plain": [
       "Index(['customer_id',           742,          1711,          1731,\n",
       "                1799,          2741,          3000,          3351,\n",
       "                3501,          4111,\n",
       "       ...\n",
       "                8398,          8641,          8699,          8999,\n",
       "                9211,          9222,          9311,          9399,\n",
       "                9402,      'amonth'],\n",
       "      dtype='object', name='mcc_code', length=186)"
      ]
     },
     "execution_count": 32,
     "metadata": {},
     "output_type": "execute_result"
    }
   ],
   "source": [
    "wide.columns"
   ]
  },
  {
   "cell_type": "code",
   "execution_count": 11,
   "metadata": {
    "collapsed": true
   },
   "outputs": [],
   "source": [
    "from sklearn.linear_model import LinearRegression, Lasso, Ridge"
   ]
  },
  {
   "cell_type": "markdown",
   "metadata": {},
   "source": [
    "Запускаем регрессии на все коды с лагом 1. Если пойдёт хорошо, лагов потом добавим.\n",
    "\n",
    "Оказалось, что ошибка на последнем периоде равна 1.3381304031486352. при $\\alpha = 1.0$\n",
    "\n",
    "1.3381124405681537 при альфе 100\n",
    "\n",
    "1.3379676179439661 при альфе 10^4\n",
    "\n",
    "1.3407195313548175 при альфе 10^5\n",
    "\n",
    "Короче, масштаб регуляризации не очень важен."
   ]
  },
  {
   "cell_type": "code",
   "execution_count": 16,
   "metadata": {
    "collapsed": false,
    "scrolled": true
   },
   "outputs": [
    {
     "name": "stdout",
     "output_type": "stream",
     "text": [
      "4814, 6011, 4829, 5499, 5541, 5200, 5732, 6010, 5331, 5912, 5411, 5812, 6012, 5719, 5722, 5621, 5814, 5921, 5941, 5691, 5813, 5211, 4812, 5945, 5983, 5999, 5943, 5533, 6300, 7832, 8099, 5992, 3501, 6536, 7997, 5641, 4722, 5661, 5651, 7011, 5699, 5942, 7298, 7999, 5712, 5511, 5422, 5399, 4900, 7538, 5949, 5977, 5948, 5631, 5311, 5462, 4112, 8999, 8021, 5714, 5251, 4789, 7542, 5947, 3000, 8043, 5944, 5734, 5611, 5532, 4816, 7311, 5655, 6051, 7994, 5995, 5309, 5964, 8299, 8244, 4111, 4511, 9399, 5441, 7922, 5261, 7699, 7995, 7629, 5816, 5735, 5039, 5300, 5199, 4121, 5065, 7399, 7299, 8011, 7230, 9222, 5946, 5131, 5994, 5231, 8071, 5094, 5047, 5072, 7210, 5976, 5045, 7932, 4215, 5542, 5099, 5713, 4899, 7933, 5681, 5193, 1711, 6211, 8398, 5599, 5993, 8062, 5169, 4214, 5733, 5013, 7221, 5571, 7993, 5971, 5968, 7372, 5074, 5044, 5811, 5111, 8641, 7512, 7523, 9311, 8220, 7991, 7996, 4784, 5931, 7841, 3351, 4411, 1799, 5192, 5122, 742, 6513, 7278, 5969, 5970, 4131, 5965, 7395, 5950, 5085, 7273, 5137, 5310, 7531, 7829, 7375, 2741, 5172, 8699, 7216, 5451, 5967, 7338, 9402, 5697, 1731, 5940, 9211, "
     ]
    }
   ],
   "source": [
    "maxlag = 0\n",
    "skelet = wide[(wide.amonth > maxlag)&(wide.amonth < 15)].copy()\n",
    "regressions = []\n",
    "predictions = []\n",
    "test_idx = (skelet.amonth == 14)\n",
    "train_idx = (skelet.amonth < 14)\n",
    "train_col = all_mc.index.tolist() + ['lag_'+str(m+1) for m in range(1, maxlag)]\n",
    "for code in all_mc.index:\n",
    "    print(code, end = ', ')\n",
    "    skelet['next_lamount'] = wide[(wide.amonth > (maxlag+1))&(wide.amonth <= 15)][code]\n",
    "    for m in range(1, maxlag):\n",
    "        skelet['lag_'+str(m+1)] = wide[(wide.amonth > (maxlag-m))&(wide.amonth < 15-m)][code]\n",
    "    reg = Ridge(alpha = 10000.0, copy_X = False)\n",
    "    reg.fit(skelet[train_idx][train_col], skelet[train_idx]['next_lamount'])\n",
    "    pred = reg.predict(skelet[test_idx][train_col])\n",
    "    regressions.append(reg)\n",
    "    predictions.append(pred)"
   ]
  },
  {
   "cell_type": "code",
   "execution_count": 17,
   "metadata": {
    "collapsed": false
   },
   "outputs": [
    {
     "data": {
      "text/plain": [
       "1.3407195313548175"
      ]
     },
     "execution_count": 17,
     "metadata": {},
     "output_type": "execute_result"
    }
   ],
   "source": [
    "test_pred = pvts[15].copy()\n",
    "for i, code in enumerate(all_mc.index):\n",
    "    test_pred[code] = predictions[i]\n",
    "sqrt(((test_pred-pvts[15])**2).mean().mean())"
   ]
  },
  {
   "cell_type": "markdown",
   "metadata": {},
   "source": [
    "Гляжу в книгу, вижу фигу: ошибка на тесте на 5% больше, чем я добивался простой экстраполяцией."
   ]
  },
  {
   "cell_type": "markdown",
   "metadata": {},
   "source": [
    "Во всём виноваты тупые нули?"
   ]
  },
  {
   "cell_type": "code",
   "execution_count": 101,
   "metadata": {
    "collapsed": false
   },
   "outputs": [
    {
     "data": {
      "text/plain": [
       "0.22094384057971012"
      ]
     },
     "execution_count": 101,
     "metadata": {},
     "output_type": "execute_result"
    }
   ],
   "source": [
    "mean(test_pred<0).mean()"
   ]
  },
  {
   "cell_type": "code",
   "execution_count": 103,
   "metadata": {
    "collapsed": true
   },
   "outputs": [],
   "source": [
    "test_pred2 = test_pred.copy()\n",
    "test_pred2[test_pred2<0] = 0"
   ]
  },
  {
   "cell_type": "markdown",
   "metadata": {},
   "source": [
    "Нет, нули не особо влияют на обстановку."
   ]
  },
  {
   "cell_type": "code",
   "execution_count": 106,
   "metadata": {
    "collapsed": false
   },
   "outputs": [
    {
     "data": {
      "text/plain": [
       "1.3379869860861233"
      ]
     },
     "execution_count": 106,
     "metadata": {},
     "output_type": "execute_result"
    }
   ],
   "source": [
    "sqrt(((test_pred2-pvts[15])**2).mean().mean())"
   ]
  },
  {
   "cell_type": "code",
   "execution_count": 20,
   "metadata": {
    "collapsed": false
   },
   "outputs": [
    {
     "data": {
      "image/png": "[encoded data removed]",
      "text/plain": [
       "<matplotlib.figure.Figure at 0x2ed002aac50>"
      ]
     },
     "metadata": {},
     "output_type": "display_data"
    }
   ],
   "source": [
    "_ = hist(regressions[30].coef_, bins = 50)"
   ]
  },
  {
   "cell_type": "code",
   "execution_count": 143,
   "metadata": {
    "collapsed": false
   },
   "outputs": [],
   "source": [
    "import pickle\n",
    "pickle.dump(regressions, open('C_regs_lag1_allcodes_a1e0.pkl', 'wb'))"
   ]
  },
  {
   "cell_type": "markdown",
   "metadata": {},
   "source": [
    "Хочу смешать новый прогноз со старым"
   ]
  },
  {
   "cell_type": "code",
   "execution_count": 33,
   "metadata": {
    "collapsed": false
   },
   "outputs": [
    {
     "data": {
      "text/plain": [
       "(15000, 184)"
      ]
     },
     "execution_count": 33,
     "metadata": {},
     "output_type": "execute_result"
    }
   ],
   "source": [
    "linreg_on_15_lags = pd.read_csv('linreg_on_15_lags.csv', index_col = 0)\n",
    "linreg_on_15_lags.columns = linreg_on_15_lags.columns.astype(int)\n",
    "linreg_on_15_lags.shape"
   ]
  },
  {
   "cell_type": "markdown",
   "metadata": {},
   "source": [
    "Это - бейзлайн."
   ]
  },
  {
   "cell_type": "code",
   "execution_count": 119,
   "metadata": {
    "collapsed": false
   },
   "outputs": [
    {
     "data": {
      "text/plain": [
       "1.2885940021563107"
      ]
     },
     "execution_count": 119,
     "metadata": {},
     "output_type": "execute_result"
    }
   ],
   "source": [
    "sqrt(((res_ext_15-pvts[15])**2).mean().mean())"
   ]
  },
  {
   "cell_type": "markdown",
   "metadata": {},
   "source": [
    "По всему выходит, что мою фигнюшку стоит брать с весом 0.3, а нормальную экстпраполяцию - с весом 0.7.\n",
    "\n",
    "Пробуем!"
   ]
  },
  {
   "cell_type": "code",
   "execution_count": 125,
   "metadata": {
    "collapsed": false
   },
   "outputs": [
    {
     "name": "stdout",
     "output_type": "stream",
     "text": [
      "0 1.28859400216\n",
      "0.01 1.28774491717\n",
      "0.03 1.28612726726\n",
      "0.1 1.28131602459\n",
      "0.2 1.27675953778\n",
      "0.3 1.27495372063\n",
      "0.4 1.27591025238\n",
      "0.5 1.2796229384\n",
      "0.7 1.29520437735\n",
      "1.0 1.33813040315\n"
     ]
    }
   ],
   "source": [
    "for frac in [0, 0.01, 0.03, 0.1, 0.2, 0.3, 0.4, 0.5, 0.7, 1.0]:\n",
    "    between = res_ext_15*(1-frac) +test_pred * frac \n",
    "    print(frac, sqrt(((between-pvts[15])**2).mean().mean()))"
   ]
  },
  {
   "cell_type": "markdown",
   "metadata": {},
   "source": [
    "А предсказывает эта штука быстро!"
   ]
  },
  {
   "cell_type": "code",
   "execution_count": 127,
   "metadata": {
    "collapsed": false
   },
   "outputs": [
    {
     "name": "stdout",
     "output_type": "stream",
     "text": [
      "4814, 6011, 4829, 5499, 5541, 5200, 5732, 6010, 5331, 5912, 5411, 5812, 6012, 5719, 5722, 5621, 5814, 5921, 5941, 5691, 5813, 5211, 4812, 5945, 5983, 5999, 5943, 5533, 6300, 7832, 8099, 5992, 3501, 6536, 7997, 5641, 4722, 5661, 5651, 7011, 5699, 5942, 7298, 7999, 5712, 5511, 5422, 5399, 4900, 7538, 5949, 5977, 5948, 5631, 5311, 5462, 4112, 8999, 8021, 5714, 5251, 4789, 7542, 5947, 3000, 8043, 5944, 5734, 5611, 5532, 4816, 7311, 5655, 6051, 7994, 5995, 5309, 5964, 8299, 8244, 4111, 4511, 9399, 5441, 7922, 5261, 7699, 7995, 7629, 5816, 5735, 5039, 5300, 5199, 4121, 5065, 7399, 7299, 8011, 7230, 9222, 5946, 5131, 5994, 5231, 8071, 5094, 5047, 5072, 7210, 5976, 5045, 7932, 4215, 5542, 5099, 5713, 4899, 7933, 5681, 5193, 1711, 6211, 8398, 5599, 5993, 8062, 5169, 4214, 5733, 5013, 7221, 5571, 7993, 5971, 5968, 7372, 5074, 5044, 5811, 5111, 8641, 7512, 7523, 9311, 8220, 7991, 7996, 4784, 5931, 7841, 3351, 4411, 1799, 5192, 5122, 742, 6513, 7278, 5969, 5970, 4131, 5965, 7395, 5950, 5085, 7273, 5137, 5310, 7531, 7829, 7375, 2741, 5172, 8699, 7216, 5451, 5967, 7338, 9402, 5697, 1731, 5940, 9211, "
     ]
    }
   ],
   "source": [
    "maxlag = 0\n",
    "valid_skelet = wide[wide.amonth==15].copy()\n",
    "train_col = all_mc.index.tolist() + ['lag_'+str(m+1) for m in range(1, maxlag)]\n",
    "final_preds = []\n",
    "for i, code in enumerate(all_mc.index):\n",
    "    print(code, end = ', ')\n",
    "    reg = regressions[i]\n",
    "    for m in range(1, maxlag):\n",
    "        valid_skelet['lag_'+str(m+1)] = wide[wide.amonth==15-m][code]\n",
    "    pred = reg.predict(valid_skelet[train_col])\n",
    "    final_preds.append(pred)"
   ]
  },
  {
   "cell_type": "code",
   "execution_count": 128,
   "metadata": {
    "collapsed": true
   },
   "outputs": [],
   "source": [
    "valid_pred = pvts[15].copy()\n",
    "for i, code in enumerate(all_mc.index):\n",
    "    valid_pred[code] = final_preds[i]"
   ]
  },
  {
   "cell_type": "code",
   "execution_count": 133,
   "metadata": {
    "collapsed": true
   },
   "outputs": [],
   "source": []
  },
  {
   "cell_type": "code",
   "execution_count": 134,
   "metadata": {
    "collapsed": false
   },
   "outputs": [
    {
     "data": {
      "text/html": [
       "<div>\n",
       "<table border=\"1\" class=\"dataframe\">\n",
       "  <thead>\n",
       "    <tr style=\"text-align: right;\">\n",
       "      <th></th>\n",
       "      <th>mcc_code</th>\n",
       "      <th>customer_id</th>\n",
       "      <th>0</th>\n",
       "      <th>volume</th>\n",
       "    </tr>\n",
       "  </thead>\n",
       "  <tbody>\n",
       "    <tr>\n",
       "      <th>0</th>\n",
       "      <td>742</td>\n",
       "      <td>6815</td>\n",
       "      <td>0.027202</td>\n",
       "      <td>0.027575</td>\n",
       "    </tr>\n",
       "    <tr>\n",
       "      <th>1</th>\n",
       "      <td>742</td>\n",
       "      <td>22899</td>\n",
       "      <td>0.030263</td>\n",
       "      <td>0.030726</td>\n",
       "    </tr>\n",
       "    <tr>\n",
       "      <th>2</th>\n",
       "      <td>742</td>\n",
       "      <td>27914</td>\n",
       "      <td>0.026472</td>\n",
       "      <td>0.026825</td>\n",
       "    </tr>\n",
       "    <tr>\n",
       "      <th>3</th>\n",
       "      <td>742</td>\n",
       "      <td>28753</td>\n",
       "      <td>0.028613</td>\n",
       "      <td>0.029026</td>\n",
       "    </tr>\n",
       "    <tr>\n",
       "      <th>4</th>\n",
       "      <td>742</td>\n",
       "      <td>31385</td>\n",
       "      <td>0.026457</td>\n",
       "      <td>0.026810</td>\n",
       "    </tr>\n",
       "  </tbody>\n",
       "</table>\n",
       "</div>"
      ],
      "text/plain": [
       "   mcc_code  customer_id         0    volume\n",
       "0       742         6815  0.027202  0.027575\n",
       "1       742        22899  0.030263  0.030726\n",
       "2       742        27914  0.026472  0.026825\n",
       "3       742        28753  0.028613  0.029026\n",
       "4       742        31385  0.026457  0.026810"
      ]
     },
     "execution_count": 134,
     "metadata": {},
     "output_type": "execute_result"
    }
   ],
   "source": [
    "submission = valid_pred * 0.3 + linreg_on_15_lags * 0.7\n",
    "submission = submission.unstack().reset_index()\n",
    "submission['volume'] = np.e ** submission[0] - 1\n",
    "submission.head()"
   ]
  },
  {
   "cell_type": "code",
   "execution_count": 140,
   "metadata": {
    "collapsed": false
   },
   "outputs": [
    {
     "data": {
      "text/plain": [
       "(552000, 3)"
      ]
     },
     "execution_count": 140,
     "metadata": {},
     "output_type": "execute_result"
    }
   ],
   "source": [
    "submission = pd.merge(submission[['customer_id', 'mcc_code', 'volume']],test_list_df, on = 'customer_id')\n",
    "submission.shape"
   ]
  },
  {
   "cell_type": "code",
   "execution_count": 141,
   "metadata": {
    "collapsed": true
   },
   "outputs": [],
   "source": [
    "submission.to_csv('c_02.csv', index=False)"
   ]
  },
  {
   "cell_type": "markdown",
   "metadata": {},
   "source": [
    "Загрузил решение, получил ожидаемый аплифт (1 п.п), но ещё 2 п.п. нужно добить, чтобы достать лидера.\n",
    "\n",
    "Теперь вариант - поиграться с альфой, посмотреть, как будет меняться решение.\n",
    "\n",
    "1e0 -> 1.33813, 1e2 -> 1.33811, 1e5 -> 1.35\n"
   ]
  },
  {
   "cell_type": "code",
   "execution_count": 152,
   "metadata": {
    "collapsed": false
   },
   "outputs": [
    {
     "name": "stdout",
     "output_type": "stream",
     "text": [
      "4814, 6011, 4829, 5499, 5541, 5200, 5732, 6010, 5331, 5912, 5411, 5812, 6012, 5719, 5722, 5621, 5814, 5921, 5941, 5691, 5813, 5211, 4812, 5945, 5983, 5999, 5943, 5533, 6300, 7832, 8099, 5992, 3501, 6536, 7997, 5641, 4722, 5661, 5651, 7011, 5699, 5942, 7298, 7999, 5712, 5511, 5422, 5399, 4900, 7538, 5949, 5977, 5948, 5631, 5311, 5462, 4112, 8999, 8021, 5714, 5251, 4789, 7542, 5947, 3000, 8043, 5944, 5734, 5611, 5532, 4816, 7311, 5655, 6051, 7994, 5995, 5309, 5964, 8299, 8244, 4111, 4511, 9399, 5441, 7922, 5261, 7699, 7995, 7629, 5816, 5735, 5039, 5300, 5199, 4121, 5065, 7399, 7299, 8011, 7230, 9222, 5946, 5131, 5994, 5231, 8071, 5094, 5047, 5072, 7210, 5976, 5045, 7932, 4215, 5542, 5099, 5713, 4899, 7933, 5681, 5193, 1711, 6211, 8398, 5599, 5993, 8062, 5169, 4214, 5733, 5013, 7221, 5571, 7993, 5971, 5968, 7372, 5074, 5044, 5811, 5111, 8641, 7512, 7523, 9311, 8220, 7991, 7996, 4784, 5931, 7841, 3351, 4411, 1799, 5192, 5122, 742, 6513, 7278, 5969, 5970, 4131, 5965, 7395, 5950, 5085, 7273, 5137, 5310, 7531, 7829, 7375, 2741, 5172, 8699, 7216, 5451, 5967, 7338, 9402, 5697, 1731, 5940, 9211, \n",
      " 1.33811244057\n"
     ]
    }
   ],
   "source": [
    "regressions = []\n",
    "predictions = []\n",
    "\n",
    "for code in all_mc.index:\n",
    "    print(code, end = ', ')\n",
    "    skelet['next_lamount'] = wide[(wide.amonth > (maxlag+1))&(wide.amonth <= 15)][code]\n",
    "    for m in range(1, maxlag):\n",
    "        skelet['lag_'+str(m+1)] = wide[(wide.amonth > (maxlag-m))&(wide.amonth < 15-m)][code]\n",
    "    reg = Ridge(alpha = 100.0, copy_X = False)\n",
    "    reg.fit(skelet[train_idx][train_col], skelet[train_idx]['next_lamount'])\n",
    "    pred = reg.predict(skelet[test_idx][train_col])\n",
    "    regressions.append(reg)\n",
    "    predictions.append(pred)\n",
    "test_pred = pvts[15].copy()\n",
    "for i, code in enumerate(all_mc.index):\n",
    "    test_pred[code] = predictions[i]\n",
    "print('\\n', sqrt(((test_pred-pvts[15])**2).mean().mean()))"
   ]
  },
  {
   "cell_type": "code",
   "execution_count": null,
   "metadata": {
    "collapsed": false
   },
   "outputs": [
    {
     "name": "stdout",
     "output_type": "stream",
     "text": [
      "4814, 6011, 4829, 5499, 5541, 5200, 5732, 6010, 5331, 5912, 5411, 5812, 6012, 5719, 5722, 5621, 5814, 5921, 5941, 5691, 5813, 5211, 4812, 5945, 5983, 5999, 5943, 5533, 6300, 7832, 8099, 5992, 3501, 6536, 7997, 5641, 4722, 5661, 5651, 7011, 5699, 5942, 7298, 7999, 5712, 5511, 5422, 5399, 4900, 7538, 5949, 5977, 5948, 5631, 5311, 5462, 4112, 8999, 8021, 5714, 5251, 4789, 7542, 5947, 3000, 8043, 5944, 5734, 5611, 5532, 4816, 7311, 5655, 6051, 7994, 5995, 5309, 5964, 8299, 8244, 4111, 4511, 9399, 5441, 7922, 5261, 7699, 7995, 7629, 5816, 5735, 5039, 5300, 5199, 4121, 5065, 7399, 7299, 8011, 7230, 9222, 5946, 5131, 5994, 5231, 8071, 1000000.0 1.35995088502\n",
      "100000000.0 1.53187731946\n",
      "10000000000.0 1.56117700233\n"
     ]
    }
   ],
   "source": [
    "alphas = [1e-2, 1e0, 1e2, 1e4, 1e6, 1e8, 1e10]\n",
    "regressions = [[] for a in alphas]\n",
    "predictions = [[] for a in alphas]\n",
    "for code in all_mc.index:\n",
    "    print(code, end = ', ')\n",
    "    skelet['next_lamount'] = wide[(wide.amonth > (maxlag+1))&(wide.amonth <= 15)][code]\n",
    "    for m in range(1, maxlag):\n",
    "        skelet['lag_'+str(m+1)] = wide[(wide.amonth > (maxlag-m))&(wide.amonth < 15-m)][code]\n",
    "    for i, alpha in enumerate(alphas):\n",
    "        reg = Ridge(alpha = alpha, copy_X = False)\n",
    "        reg.fit(skelet[train_idx][train_col], skelet[train_idx]['next_lamount'])\n",
    "        pred = reg.predict(skelet[test_idx][train_col])\n",
    "        regressions[i].append(reg)\n",
    "        predictions[i].append(pred)\n",
    "print('\\n')\n",
    "test_pred = pvts[15].copy()\n",
    "for j, alpha in enumerate(alphas):\n",
    "    for i, code in enumerate(all_mc.index):\n",
    "        test_pred[code] = predictions[j][i]\n",
    "    print(alpha, sqrt(((test_pred-pvts[15])**2).mean().mean()))"
   ]
  },
  {
   "cell_type": "code",
   "execution_count": null,
   "metadata": {
    "collapsed": true
   },
   "outputs": [],
   "source": [
    "test_pred = pvts[15].copy()\n",
    "for j, alpha in enumerate(alphas):\n",
    "    for i, code in enumerate(all_mc.index):\n",
    "        test_pred[code] = predictions[j][i]\n",
    "    print(alpha, sqrt(((test_pred-pvts[15])**2).mean().mean()))"
   ]
  },
  {
   "cell_type": "markdown",
   "metadata": {},
   "source": [
    "#### Добавляю лагов и радуюсь"
   ]
  },
  {
   "cell_type": "markdown",
   "metadata": {},
   "source": [
    "А ведь теперь для каждого кода можно было бы обучить какие-нибудь деревья!"
   ]
  },
  {
   "cell_type": "markdown",
   "metadata": {},
   "source": [
    "Когда беру много лагов, то в итоге обучающий датасет получается коротеньким, и оперативной памяти нормально под всё хватает.\n",
    "\n",
    "На 9 лагах я побил собственный рекорд!\n",
    "\n",
    "0 лагов - 1.338\n",
    "\n",
    "3 лага - 1.293122407109291\n",
    "\n",
    "6 лагов - 1.2753228269107186\n",
    "\n",
    "8 лагов - 1.2720708316892082\n",
    "\n",
    "9 лагов - 1.2716188022050079\n",
    "\n",
    "10 лагов - 1.2717021284285752\n",
    "\n",
    "12 лагов (максимум) - 1.2755825113425898"
   ]
  },
  {
   "cell_type": "code",
   "execution_count": 12,
   "metadata": {
    "collapsed": false
   },
   "outputs": [
    {
     "name": "stdout",
     "output_type": "stream",
     "text": [
      "4814, 6011, 4829, 5499, 5541, 5200, 5732, 6010, 5331, 5912, 5411, 5812, 6012, 5719, 5722, 5621, 5814, 5921, 5941, 5691, 5813, 5211, 4812, 5945, 5983, 5999, 5943, 5533, 6300, 7832, 8099, 5992, 3501, 6536, 7997, 5641, 4722, 5661, 5651, 7011, 5699, 5942, 7298, 7999, 5712, 5511, 5422, 5399, 4900, 7538, 5949, 5977, 5948, 5631, 5311, 5462, 4112, 8999, 8021, 5714, 5251, 4789, 7542, 5947, 3000, 8043, 5944, 5734, 5611, 5532, 4816, 7311, 5655, 6051, 7994, 5995, 5309, 5964, 8299, 8244, 4111, 4511, 9399, 5441, 7922, 5261, 7699, 7995, 7629, 5816, 5735, 5039, 5300, 5199, 4121, 5065, 7399, 7299, 8011, 7230, 9222, 5946, 5131, 5994, 5231, 8071, 5094, 5047, 5072, 7210, 5976, 5045, 7932, 4215, 5542, 5099, 5713, 4899, 7933, 5681, 5193, 1711, 6211, 8398, 5599, 5993, 8062, 5169, 4214, 5733, 5013, 7221, 5571, 7993, 5971, 5968, 7372, 5074, 5044, 5811, 5111, 8641, 7512, 7523, 9311, 8220, 7991, 7996, 4784, 5931, 7841, 3351, 4411, 1799, 5192, 5122, 742, 6513, 7278, 5969, 5970, 4131, 5965, 7395, 5950, 5085, 7273, 5137, 5310, 7531, 7829, 7375, 2741, 5172, 8699, 7216, 5451, 5967, 7338, 9402, 5697, 1731, 5940, 9211, "
     ]
    }
   ],
   "source": [
    "maxlag = 9\n",
    "skelet = wide[(wide.amonth > maxlag)&(wide.amonth < 15)].copy()\n",
    "regressions = []\n",
    "predictions = []\n",
    "test_idx = (skelet.amonth == 14)\n",
    "train_idx = (skelet.amonth < 14)\n",
    "train_col = all_mc.index.tolist() + ['lag_'+str(m+1) for m in range(1, maxlag)]\n",
    "for code in all_mc.index:\n",
    "    print(code, end = ', ')\n",
    "    skelet['next_lamount'] = wide[(wide.amonth > (maxlag+1))&(wide.amonth <= 15)][code]\n",
    "    for m in range(1, maxlag):\n",
    "        skelet['lag_'+str(m+1)] = wide[(wide.amonth > (maxlag-m))&(wide.amonth < 15-m)][code]\n",
    "    reg = Ridge(alpha = 1000.0, copy_X = False)\n",
    "    reg.fit(skelet[train_idx][train_col], skelet[train_idx]['next_lamount'])\n",
    "    pred = reg.predict(skelet[test_idx][train_col])\n",
    "    regressions.append(reg)\n",
    "    predictions.append(pred)"
   ]
  },
  {
   "cell_type": "code",
   "execution_count": 15,
   "metadata": {
    "collapsed": false
   },
   "outputs": [
    {
     "data": {
      "text/plain": [
       "1.2716188022050079"
      ]
     },
     "execution_count": 15,
     "metadata": {},
     "output_type": "execute_result"
    }
   ],
   "source": [
    "test_pred = pvts[15].copy() # эта таблица, на который мы сравниваемся с фактом\n",
    "for i, code in enumerate(all_mc.index):\n",
    "    test_pred[code] = predictions[i]\n",
    "sqrt(((test_pred-pvts[15])**2).mean().mean())"
   ]
  },
  {
   "cell_type": "code",
   "execution_count": 16,
   "metadata": {
    "collapsed": true
   },
   "outputs": [],
   "source": [
    "test_pred_c03_p15 = test_pred.copy()"
   ]
  },
  {
   "cell_type": "markdown",
   "metadata": {},
   "source": [
    "А теперь предсказываем =)"
   ]
  },
  {
   "cell_type": "code",
   "execution_count": 17,
   "metadata": {
    "collapsed": false
   },
   "outputs": [
    {
     "name": "stdout",
     "output_type": "stream",
     "text": [
      "4814, 6011, 4829, 5499, 5541, 5200, 5732, 6010, 5331, 5912, 5411, 5812, 6012, 5719, 5722, 5621, 5814, 5921, 5941, 5691, 5813, 5211, 4812, 5945, 5983, 5999, 5943, 5533, 6300, 7832, 8099, 5992, 3501, 6536, 7997, 5641, 4722, 5661, 5651, 7011, 5699, 5942, 7298, 7999, 5712, 5511, 5422, 5399, 4900, 7538, 5949, 5977, 5948, 5631, 5311, 5462, 4112, 8999, 8021, 5714, 5251, 4789, 7542, 5947, 3000, 8043, 5944, 5734, 5611, 5532, 4816, 7311, 5655, 6051, 7994, 5995, 5309, 5964, 8299, 8244, 4111, 4511, 9399, 5441, 7922, 5261, 7699, 7995, 7629, 5816, 5735, 5039, 5300, 5199, 4121, 5065, 7399, 7299, 8011, 7230, 9222, 5946, 5131, 5994, 5231, 8071, 5094, 5047, 5072, 7210, 5976, 5045, 7932, 4215, 5542, 5099, 5713, 4899, 7933, 5681, 5193, 1711, 6211, 8398, 5599, 5993, 8062, 5169, 4214, 5733, 5013, 7221, 5571, 7993, 5971, 5968, 7372, 5074, 5044, 5811, 5111, 8641, 7512, 7523, 9311, 8220, 7991, 7996, 4784, 5931, 7841, 3351, 4411, 1799, 5192, 5122, 742, 6513, 7278, 5969, 5970, 4131, 5965, 7395, 5950, 5085, 7273, 5137, 5310, 7531, 7829, 7375, 2741, 5172, 8699, 7216, 5451, 5967, 7338, 9402, 5697, 1731, 5940, 9211, "
     ]
    }
   ],
   "source": [
    "maxlag = 9\n",
    "valid_skelet = wide[wide.amonth==15].copy()\n",
    "train_col = all_mc.index.tolist() + ['lag_'+str(m+1) for m in range(1, maxlag)]\n",
    "final_preds = []\n",
    "for i, code in enumerate(all_mc.index):\n",
    "    print(code, end = ', ')\n",
    "    reg = regressions[i]\n",
    "    for m in range(1, maxlag):\n",
    "        valid_skelet['lag_'+str(m+1)] = wide[wide.amonth==15-m][code]\n",
    "    pred = reg.predict(valid_skelet[train_col])\n",
    "    final_preds.append(pred)"
   ]
  },
  {
   "cell_type": "code",
   "execution_count": 18,
   "metadata": {
    "collapsed": false
   },
   "outputs": [
    {
     "data": {
      "text/html": [
       "<div>\n",
       "<table border=\"1\" class=\"dataframe\">\n",
       "  <thead>\n",
       "    <tr style=\"text-align: right;\">\n",
       "      <th></th>\n",
       "      <th>mcc_code</th>\n",
       "      <th>customer_id</th>\n",
       "      <th>0</th>\n",
       "      <th>volume</th>\n",
       "    </tr>\n",
       "  </thead>\n",
       "  <tbody>\n",
       "    <tr>\n",
       "      <th>0</th>\n",
       "      <td>742</td>\n",
       "      <td>6815</td>\n",
       "      <td>-0.003353</td>\n",
       "      <td>-0.003348</td>\n",
       "    </tr>\n",
       "    <tr>\n",
       "      <th>1</th>\n",
       "      <td>742</td>\n",
       "      <td>22899</td>\n",
       "      <td>0.024252</td>\n",
       "      <td>0.024549</td>\n",
       "    </tr>\n",
       "    <tr>\n",
       "      <th>2</th>\n",
       "      <td>742</td>\n",
       "      <td>27914</td>\n",
       "      <td>-0.001874</td>\n",
       "      <td>-0.001872</td>\n",
       "    </tr>\n",
       "    <tr>\n",
       "      <th>3</th>\n",
       "      <td>742</td>\n",
       "      <td>28753</td>\n",
       "      <td>0.000858</td>\n",
       "      <td>0.000858</td>\n",
       "    </tr>\n",
       "    <tr>\n",
       "      <th>4</th>\n",
       "      <td>742</td>\n",
       "      <td>31385</td>\n",
       "      <td>0.000171</td>\n",
       "      <td>0.000171</td>\n",
       "    </tr>\n",
       "  </tbody>\n",
       "</table>\n",
       "</div>"
      ],
      "text/plain": [
       "   mcc_code  customer_id         0    volume\n",
       "0       742         6815 -0.003353 -0.003348\n",
       "1       742        22899  0.024252  0.024549\n",
       "2       742        27914 -0.001874 -0.001872\n",
       "3       742        28753  0.000858  0.000858\n",
       "4       742        31385  0.000171  0.000171"
      ]
     },
     "execution_count": 18,
     "metadata": {},
     "output_type": "execute_result"
    }
   ],
   "source": [
    "valid_pred = pvts[15].copy()\n",
    "for i, code in enumerate(all_mc.index):\n",
    "    valid_pred[code] = final_preds[i]\n",
    "submission = valid_pred.unstack().reset_index()\n",
    "submission['volume'] = np.e ** submission[0] - 1\n",
    "submission.head()"
   ]
  },
  {
   "cell_type": "code",
   "execution_count": 19,
   "metadata": {
    "collapsed": true
   },
   "outputs": [],
   "source": [
    "submission[submission<0] = 0"
   ]
  },
  {
   "cell_type": "code",
   "execution_count": 20,
   "metadata": {
    "collapsed": false
   },
   "outputs": [
    {
     "data": {
      "text/plain": [
       "(552000, 3)"
      ]
     },
     "execution_count": 20,
     "metadata": {},
     "output_type": "execute_result"
    }
   ],
   "source": [
    "submission = pd.merge(submission[['customer_id', 'mcc_code', 'volume']],test_list_df, on = 'customer_id')\n",
    "submission.shape"
   ]
  },
  {
   "cell_type": "code",
   "execution_count": 21,
   "metadata": {
    "collapsed": true
   },
   "outputs": [],
   "source": [
    "submission_c03 = submission.copy()"
   ]
  },
  {
   "cell_type": "markdown",
   "metadata": {},
   "source": [
    "Описываю третье решение: чужие коды с лагом 1, свой код с лагом 9"
   ]
  },
  {
   "cell_type": "code",
   "execution_count": 41,
   "metadata": {
    "collapsed": true
   },
   "outputs": [],
   "source": [
    "submission.to_csv('c_03.csv', index=False)"
   ]
  },
  {
   "cell_type": "markdown",
   "metadata": {},
   "source": [
    "Третье решение не зашло (не побило второе). \n",
    "\n",
    "Пробуем смешивать снова!"
   ]
  },
  {
   "cell_type": "code",
   "execution_count": 48,
   "metadata": {
    "collapsed": false
   },
   "outputs": [
    {
     "name": "stdout",
     "output_type": "stream",
     "text": [
      "0 1.28859400216\n",
      "0.01 1.28809081638\n",
      "0.03 1.28710414822\n",
      "0.1 1.28385847421\n",
      "0.2 1.27978590949\n",
      "0.3 1.27638265398\n",
      "0.4 1.27365407296\n",
      "0.5 1.27160450954\n",
      "0.6 1.27023725056\n",
      "0.7 1.26955450047\n",
      "0.8 1.26955736364\n",
      "0.9 1.27024583541\n",
      "1.0 1.27161880221\n"
     ]
    }
   ],
   "source": [
    "for frac in [0, 0.01, 0.03, 0.1, 0.2, 0.3, 0.4, 0.5, 0.6, 0.7, 0.8, 0.9, 1.0]:\n",
    "    between = res_ext_15*(1-frac) +test_pred * frac \n",
    "    print(frac, sqrt(((between-pvts[15])**2).mean().mean()))"
   ]
  },
  {
   "cell_type": "code",
   "execution_count": 41,
   "metadata": {
    "collapsed": false
   },
   "outputs": [
    {
     "name": "stdout",
     "output_type": "stream",
     "text": [
      "0.75 1.26947020465\n"
     ]
    }
   ],
   "source": [
    "frac = 0.75\n",
    "between = res_ext_15*(1-frac) +test_pred * frac \n",
    "print(frac, sqrt(((between-pvts[15])**2).mean().mean()))"
   ]
  },
  {
   "cell_type": "code",
   "execution_count": 42,
   "metadata": {
    "collapsed": false
   },
   "outputs": [],
   "source": [
    "between_c04 = between.copy()"
   ]
  },
  {
   "cell_type": "markdown",
   "metadata": {},
   "source": [
    "О да, детка! Моего нового решения теперь хочется на 75%!"
   ]
  },
  {
   "cell_type": "code",
   "execution_count": 37,
   "metadata": {
    "collapsed": false
   },
   "outputs": [
    {
     "data": {
      "text/html": [
       "<div>\n",
       "<table border=\"1\" class=\"dataframe\">\n",
       "  <thead>\n",
       "    <tr style=\"text-align: right;\">\n",
       "      <th></th>\n",
       "      <th>mcc_code</th>\n",
       "      <th>customer_id</th>\n",
       "      <th>0</th>\n",
       "      <th>volume</th>\n",
       "    </tr>\n",
       "  </thead>\n",
       "  <tbody>\n",
       "    <tr>\n",
       "      <th>0</th>\n",
       "      <td>742</td>\n",
       "      <td>6815</td>\n",
       "      <td>0.006914</td>\n",
       "      <td>0.006938</td>\n",
       "    </tr>\n",
       "    <tr>\n",
       "      <th>1</th>\n",
       "      <td>742</td>\n",
       "      <td>22899</td>\n",
       "      <td>0.027618</td>\n",
       "      <td>0.028003</td>\n",
       "    </tr>\n",
       "    <tr>\n",
       "      <th>2</th>\n",
       "      <td>742</td>\n",
       "      <td>27914</td>\n",
       "      <td>0.008024</td>\n",
       "      <td>0.008056</td>\n",
       "    </tr>\n",
       "    <tr>\n",
       "      <th>3</th>\n",
       "      <td>742</td>\n",
       "      <td>28753</td>\n",
       "      <td>0.010072</td>\n",
       "      <td>0.010123</td>\n",
       "    </tr>\n",
       "    <tr>\n",
       "      <th>4</th>\n",
       "      <td>742</td>\n",
       "      <td>31385</td>\n",
       "      <td>0.009558</td>\n",
       "      <td>0.009603</td>\n",
       "    </tr>\n",
       "  </tbody>\n",
       "</table>\n",
       "</div>"
      ],
      "text/plain": [
       "   mcc_code  customer_id         0    volume\n",
       "0       742         6815  0.006914  0.006938\n",
       "1       742        22899  0.027618  0.028003\n",
       "2       742        27914  0.008024  0.008056\n",
       "3       742        28753  0.010072  0.010123\n",
       "4       742        31385  0.009558  0.009603"
      ]
     },
     "execution_count": 37,
     "metadata": {},
     "output_type": "execute_result"
    }
   ],
   "source": [
    "submission = valid_pred * 0.75 + linreg_on_15_lags * 0.25\n",
    "submission = submission.unstack().reset_index()\n",
    "submission['volume'] = np.e ** submission[0] - 1\n",
    "submission.head()"
   ]
  },
  {
   "cell_type": "code",
   "execution_count": 38,
   "metadata": {
    "collapsed": false
   },
   "outputs": [
    {
     "data": {
      "text/plain": [
       "(552000, 3)"
      ]
     },
     "execution_count": 38,
     "metadata": {},
     "output_type": "execute_result"
    }
   ],
   "source": [
    "submission[submission<0] = 0\n",
    "submission = pd.merge(submission[['customer_id', 'mcc_code', 'volume']],test_list_df, on = 'customer_id')\n",
    "submission.shape"
   ]
  },
  {
   "cell_type": "code",
   "execution_count": 39,
   "metadata": {
    "collapsed": true
   },
   "outputs": [],
   "source": [
    "submission_c04 = submission.copy()"
   ]
  },
  {
   "cell_type": "code",
   "execution_count": 57,
   "metadata": {
    "collapsed": true
   },
   "outputs": [],
   "source": [
    "submission.to_csv('c_04.csv', index=False)"
   ]
  },
  {
   "cell_type": "markdown",
   "metadata": {},
   "source": [
    "Эта шняжка дала аплифт, но совсем незначительный"
   ]
  },
  {
   "cell_type": "markdown",
   "metadata": {},
   "source": [
    "#### Двигаю в сторону PCA"
   ]
  },
  {
   "cell_type": "code",
   "execution_count": 58,
   "metadata": {
    "collapsed": false
   },
   "outputs": [
    {
     "name": "stdout",
     "output_type": "stream",
     "text": [
      "0.680949786723\n"
     ]
    },
    {
     "data": {
      "image/png": "[encoded data removed]",
      "text/plain": [
       "<matplotlib.figure.Figure at 0x2ed0054a9e8>"
      ]
     },
     "metadata": {},
     "output_type": "display_data"
    }
   ],
   "source": [
    "from sklearn.decomposition import PCA\n",
    "pca = PCA(n_components = 20).fit(pvts[14])\n",
    "print(sum(pca.explained_variance_ratio_))\n",
    "_ = figure(figsize = (15, 3))\n",
    "_ = subplot(1, 2, 1)\n",
    "_ =plot(pca.explained_variance_ratio_)\n",
    "_ = subplot(1, 2, 2)\n",
    "_ =plot(cumsum(pca.explained_variance_ratio_))"
   ]
  },
  {
   "cell_type": "code",
   "execution_count": 61,
   "metadata": {
    "collapsed": false
   },
   "outputs": [
    {
     "name": "stdout",
     "output_type": "stream",
     "text": [
      "1.26947020465\n"
     ]
    }
   ],
   "source": [
    "frac = 0.75\n",
    "best_pred = res_ext_15*(1-frac) +test_pred * frac \n",
    "print(sqrt(((best_pred-pvts[15])**2).mean().mean()))"
   ]
  },
  {
   "cell_type": "markdown",
   "metadata": {},
   "source": [
    "Само по себе проецирование ухудшает прогноз.\n",
    "\n",
    "Лучше всего использовать 10-мерное пространство, и включать проекцию с весом 0.1. Но это вообще-то мало помогает."
   ]
  },
  {
   "cell_type": "code",
   "execution_count": 65,
   "metadata": {
    "collapsed": false
   },
   "outputs": [
    {
     "name": "stdout",
     "output_type": "stream",
     "text": [
      "1 1.45547531182 1.2704007702\n",
      "2 1.42721582173 1.27007699629\n",
      "3 1.41081035225 1.26979780113\n",
      "5 1.37466388498 1.26928931633\n",
      "10 1.33625317551 1.26900491731\n",
      "15 1.3204736861 1.26907316466\n",
      "20 1.31140491582 1.26919159392\n",
      "30 1.29883474971 1.26927901158\n",
      "50 1.28329935903 1.26950166469\n",
      "100 1.27121647406 1.26946258983\n"
     ]
    }
   ],
   "source": [
    "for k in [1, 2, 3, 5, 10, 15, 20, 30, 50, 100]:\n",
    "    pca = PCA(n_components = k).fit(pvts[14])\n",
    "    proj = pca.inverse_transform(pca.transform(best_pred))\n",
    "    frac = 0.1\n",
    "    between = best_pred*(1-frac) +proj * frac\n",
    "    print(k\n",
    "          , sqrt(((proj-pvts[15])**2).mean().mean())\n",
    "          , sqrt(((between-pvts[15])**2).mean().mean()))"
   ]
  },
  {
   "cell_type": "code",
   "execution_count": 66,
   "metadata": {
    "collapsed": false
   },
   "outputs": [
    {
     "name": "stdout",
     "output_type": "stream",
     "text": [
      "0 1.26947020465\n",
      "0.01 1.2693504941\n",
      "0.03 1.2691598447\n",
      "0.1 1.26900496116\n",
      "0.2 1.27016612162\n",
      "0.3 1.27294923532\n",
      "0.4 1.27734370043\n",
      "0.5 1.28333296399\n",
      "0.6 1.29089482842\n",
      "0.7 1.30000185144\n",
      "0.8 1.31062182325\n",
      "0.9 1.32271830241\n",
      "1.0 1.33625119107\n"
     ]
    }
   ],
   "source": [
    "pca = PCA(n_components = 10).fit(pvts[14])\n",
    "proj = pca.inverse_transform(pca.transform(best_pred))\n",
    "for frac in [0, 0.01, 0.03, 0.1, 0.2, 0.3, 0.4, 0.5, 0.6, 0.7, 0.8, 0.9, 1.0]:\n",
    "    between = best_pred*(1-frac) +proj * frac \n",
    "    print(frac, sqrt(((between-pvts[15])**2).mean().mean()))"
   ]
  },
  {
   "cell_type": "markdown",
   "metadata": {},
   "source": [
    "Использование более длинной истории данных не помогает."
   ]
  },
  {
   "cell_type": "code",
   "execution_count": 67,
   "metadata": {
    "collapsed": false
   },
   "outputs": [
    {
     "name": "stdout",
     "output_type": "stream",
     "text": [
      "0.1 1.26900499238\n"
     ]
    }
   ],
   "source": [
    "pca = PCA(n_components = 10).fit(pvts[14])\n",
    "proj = pca.inverse_transform(pca.transform(best_pred))\n",
    "frac = 0.1\n",
    "between = best_pred*(1-frac) +proj * frac \n",
    "print(frac, sqrt(((between-pvts[15])**2).mean().mean()))\n"
   ]
  },
  {
   "cell_type": "code",
   "execution_count": 73,
   "metadata": {
    "collapsed": false
   },
   "outputs": [
    {
     "name": "stdout",
     "output_type": "stream",
     "text": [
      "0.1 1.26902181996\n"
     ]
    }
   ],
   "source": [
    "pca = PCA(n_components = 10).fit(wide[(wide.amonth > 6)&(wide.amonth < 15)][pvts[15].columns])\n",
    "proj = pca.inverse_transform(pca.transform(best_pred))\n",
    "frac = 0.1\n",
    "between = best_pred*(1-frac) +proj * frac \n",
    "print(frac, sqrt(((between-pvts[15])**2).mean().mean()))"
   ]
  },
  {
   "cell_type": "markdown",
   "metadata": {},
   "source": [
    "Вывод: МГК мало подходит для трансформации выходного прогноза.\n",
    "\n",
    "Однако его можно использовать для сокращения размерности пространства признаков, чтобы потом не страдать так сильно от недостатка памяти."
   ]
  },
  {
   "cell_type": "markdown",
   "metadata": {},
   "source": [
    "Прогнозируем"
   ]
  },
  {
   "cell_type": "code",
   "execution_count": 79,
   "metadata": {
    "collapsed": true
   },
   "outputs": [],
   "source": [
    "best_pred = valid_pred * 0.75 + linreg_on_15_lags * 0.25\n",
    "pca = PCA(n_components = 10).fit(pvts[15])\n",
    "proj = pca.inverse_transform(pca.transform(best_pred))\n",
    "frac = 0.1\n",
    "submission = best_pred*(1-frac) +proj * frac "
   ]
  },
  {
   "cell_type": "code",
   "execution_count": 80,
   "metadata": {
    "collapsed": false
   },
   "outputs": [
    {
     "data": {
      "text/html": [
       "<div>\n",
       "<table border=\"1\" class=\"dataframe\">\n",
       "  <thead>\n",
       "    <tr style=\"text-align: right;\">\n",
       "      <th></th>\n",
       "      <th>mcc_code</th>\n",
       "      <th>customer_id</th>\n",
       "      <th>0</th>\n",
       "      <th>volume</th>\n",
       "    </tr>\n",
       "  </thead>\n",
       "  <tbody>\n",
       "    <tr>\n",
       "      <th>0</th>\n",
       "      <td>742</td>\n",
       "      <td>6815</td>\n",
       "      <td>0.006793</td>\n",
       "      <td>0.006816</td>\n",
       "    </tr>\n",
       "    <tr>\n",
       "      <th>1</th>\n",
       "      <td>742</td>\n",
       "      <td>22899</td>\n",
       "      <td>0.024707</td>\n",
       "      <td>0.025014</td>\n",
       "    </tr>\n",
       "    <tr>\n",
       "      <th>2</th>\n",
       "      <td>742</td>\n",
       "      <td>27914</td>\n",
       "      <td>0.007271</td>\n",
       "      <td>0.007297</td>\n",
       "    </tr>\n",
       "    <tr>\n",
       "      <th>3</th>\n",
       "      <td>742</td>\n",
       "      <td>28753</td>\n",
       "      <td>0.010455</td>\n",
       "      <td>0.010510</td>\n",
       "    </tr>\n",
       "    <tr>\n",
       "      <th>4</th>\n",
       "      <td>742</td>\n",
       "      <td>31385</td>\n",
       "      <td>0.008683</td>\n",
       "      <td>0.008721</td>\n",
       "    </tr>\n",
       "  </tbody>\n",
       "</table>\n",
       "</div>"
      ],
      "text/plain": [
       "   mcc_code  customer_id         0    volume\n",
       "0       742         6815  0.006793  0.006816\n",
       "1       742        22899  0.024707  0.025014\n",
       "2       742        27914  0.007271  0.007297\n",
       "3       742        28753  0.010455  0.010510\n",
       "4       742        31385  0.008683  0.008721"
      ]
     },
     "execution_count": 80,
     "metadata": {},
     "output_type": "execute_result"
    }
   ],
   "source": [
    "submission = submission.unstack().reset_index()\n",
    "submission['volume'] = np.e ** submission[0] - 1\n",
    "submission.head()"
   ]
  },
  {
   "cell_type": "code",
   "execution_count": 81,
   "metadata": {
    "collapsed": false
   },
   "outputs": [
    {
     "data": {
      "text/plain": [
       "(552000, 3)"
      ]
     },
     "execution_count": 81,
     "metadata": {},
     "output_type": "execute_result"
    }
   ],
   "source": [
    "submission[submission<0] = 0\n",
    "submission = pd.merge(submission[['customer_id', 'mcc_code', 'volume']],test_list_df, on = 'customer_id')\n",
    "submission.shape"
   ]
  },
  {
   "cell_type": "code",
   "execution_count": 82,
   "metadata": {
    "collapsed": true
   },
   "outputs": [],
   "source": [
    "submission.to_csv('c_05.csv', index=False)"
   ]
  },
  {
   "cell_type": "markdown",
   "metadata": {},
   "source": [
    "Как и ожидалось, в результате качество не выросло (упало на бесконечно малую величину)."
   ]
  },
  {
   "cell_type": "markdown",
   "metadata": {
    "collapsed": true
   },
   "source": [
    "# Восстанавливаюсь в последний вечер"
   ]
  },
  {
   "cell_type": "code",
   "execution_count": 44,
   "metadata": {
    "collapsed": false
   },
   "outputs": [
    {
     "data": {
      "text/plain": [
       "'\\nрезультаты работы c03 - чужие коды и своих 9 лагов\\ntest_pred_c03_p15\\nsubmission_c03\\n\\nres_ext_15 - прогноз на test_15 с вызова c_01\\nlinreg_on_15_lags - прогноз на валидацию с c_01\\n\\nbetween_c04\\nsubmission_c04 \\n'"
      ]
     },
     "execution_count": 44,
     "metadata": {},
     "output_type": "execute_result"
    }
   ],
   "source": [
    "\"\"\"\n",
    "результаты работы c03 - чужие коды и своих 9 лагов\n",
    "test_pred_c03_p15\n",
    "submission_c03\n",
    "\n",
    "res_ext_15 - прогноз на test_15 с вызова c_01\n",
    "linreg_on_15_lags - прогноз на валидацию с c_01\n",
    "\n",
    "between_c04\n",
    "submission_c04 \n",
    "\"\"\"\n",
    "#"
   ]
  },
  {
   "cell_type": "markdown",
   "metadata": {},
   "source": [
    "#### clusters"
   ]
  },
  {
   "cell_type": "code",
   "execution_count": 75,
   "metadata": {
    "collapsed": false
   },
   "outputs": [
    {
     "name": "stdout",
     "output_type": "stream",
     "text": [
      "0.681166514861\n"
     ]
    },
    {
     "data": {
      "image/png": "[encoded data removed]",
      "text/plain": [
       "<matplotlib.figure.Figure at 0x2f30169a160>"
      ]
     },
     "metadata": {},
     "output_type": "display_data"
    }
   ],
   "source": [
    "from sklearn.decomposition import PCA\n",
    "pca = PCA(n_components = 20).fit(pvts[14])\n",
    "print(sum(pca.explained_variance_ratio_))\n",
    "_ = figure(figsize = (15, 3))\n",
    "_ = subplot(1, 2, 1)\n",
    "_ =plot(pca.explained_variance_ratio_)\n",
    "_ = subplot(1, 2, 2)\n",
    "_ =plot(cumsum(pca.explained_variance_ratio_))"
   ]
  },
  {
   "cell_type": "code",
   "execution_count": 81,
   "metadata": {
    "collapsed": false
   },
   "outputs": [
    {
     "data": {
      "text/plain": [
       "(15000, 184)"
      ]
     },
     "execution_count": 81,
     "metadata": {},
     "output_type": "execute_result"
    }
   ],
   "source": [
    "pvts[0].shape"
   ]
  },
  {
   "cell_type": "code",
   "execution_count": 84,
   "metadata": {
    "collapsed": false
   },
   "outputs": [],
   "source": [
    "pcas = []\n",
    "for t in range(16):\n",
    "    pcas.append(pca.transform(pvts[t]))"
   ]
  },
  {
   "cell_type": "code",
   "execution_count": 89,
   "metadata": {
    "collapsed": false
   },
   "outputs": [
    {
     "data": {
      "text/plain": [
       "((240000, 20), (240000, 186))"
      ]
     },
     "execution_count": 89,
     "metadata": {},
     "output_type": "execute_result"
    }
   ],
   "source": [
    "wide_pca = np.concatenate(pcas,axis = 0)\n",
    "wide_pca.shape, wide.shape"
   ]
  },
  {
   "cell_type": "code",
   "execution_count": 93,
   "metadata": {
    "collapsed": false
   },
   "outputs": [
    {
     "data": {
      "text/plain": [
       "array([False, False, False, ..., False, False, False], dtype=bool)"
      ]
     },
     "execution_count": 93,
     "metadata": {},
     "output_type": "execute_result"
    }
   ],
   "source": []
  },
  {
   "cell_type": "code",
   "execution_count": 95,
   "metadata": {
    "collapsed": false
   },
   "outputs": [
    {
     "data": {
      "text/plain": [
       "(60000,)"
      ]
     },
     "execution_count": 95,
     "metadata": {},
     "output_type": "execute_result"
    }
   ],
   "source": [
    "wide_pca[array((wide.amonth > (10))&(wide.amonth < 15)), 1].shape"
   ]
  },
  {
   "cell_type": "code",
   "execution_count": 96,
   "metadata": {
    "collapsed": false
   },
   "outputs": [
    {
     "name": "stdout",
     "output_type": "stream",
     "text": [
      "4814, 6011, 4829, 5499, 5541, 5200, 5732, 6010, 5331, 5912, 5411, 5812, 6012, 5719, 5722, 5621, 5814, 5921, 5941, 5691, 5813, 5211, 4812, 5945, 5983, 5999, 5943, 5533, 6300, 7832, 8099, 5992, 3501, 6536, 7997, 5641, 4722, 5661, 5651, 7011, 5699, 5942, 7298, 7999, 5712, 5511, 5422, 5399, 4900, 7538, 5949, 5977, 5948, 5631, 5311, 5462, 4112, 8999, 8021, 5714, 5251, 4789, 7542, 5947, 3000, 8043, 5944, 5734, 5611, 5532, 4816, 7311, 5655, 6051, 7994, 5995, 5309, 5964, 8299, 8244, 4111, 4511, 9399, 5441, 7922, 5261, 7699, 7995, 7629, 5816, 5735, 5039, 5300, 5199, 4121, 5065, 7399, 7299, 8011, 7230, 9222, 5946, 5131, 5994, 5231, 8071, 5094, 5047, 5072, 7210, 5976, 5045, 7932, 4215, 5542, 5099, 5713, 4899, 7933, 5681, 5193, 1711, 6211, 8398, 5599, 5993, 8062, 5169, 4214, 5733, 5013, 7221, 5571, 7993, 5971, 5968, 7372, 5074, 5044, 5811, 5111, 8641, 7512, 7523, 9311, 8220, 7991, 7996, 4784, 5931, 7841, 3351, 4411, 1799, 5192, 5122, 742, 6513, 7278, 5969, 5970, 4131, 5965, 7395, 5950, 5085, 7273, 5137, 5310, 7531, 7829, 7375, 2741, 5172, 8699, 7216, 5451, 5967, 7338, 9402, 5697, 1731, 5940, 9211, "
     ]
    }
   ],
   "source": [
    "maxlag = 9\n",
    "maxlag_pca = 9\n",
    "skelet = wide[(wide.amonth > maxlag)&(wide.amonth < 15)].copy()\n",
    "regressions = []\n",
    "predictions = []\n",
    "test_idx = (skelet.amonth == 14)\n",
    "train_idx = (skelet.amonth < 14)\n",
    "train_col = all_mc.index.tolist() + ['lag_'+str(m+1) for m in range(1, maxlag)]\n",
    "for code in all_mc.index:\n",
    "    print(code, end = ', ')\n",
    "    skelet['next_lamount'] = wide[(wide.amonth > (maxlag+1))&(wide.amonth <= 15)][code]\n",
    "    for m in range(1, maxlag):\n",
    "        skelet['lag_'+str(m+1)] = wide[(wide.amonth > (maxlag-m))&(wide.amonth < 15-m)][code]\n",
    "    for m in range(1, maxlag_pca):\n",
    "        for comp in range(20):\n",
    "            skelet['lag_'+str(m+1)+'_comp_'+str(comp)] = wide_pca[array((wide.amonth > (maxlag-m))&(wide.amonth < 15-m)), comp]\n",
    "    reg = Ridge(alpha = 1000.0, copy_X = False)\n",
    "    reg.fit(skelet[train_idx][train_col], skelet[train_idx]['next_lamount'])\n",
    "    pred = reg.predict(skelet[test_idx][train_col])\n",
    "    regressions.append(reg)\n",
    "    predictions.append(pred)"
   ]
  },
  {
   "cell_type": "markdown",
   "metadata": {},
   "source": [
    "Итак, я добавил лаги 20 главных компонент ко мне в предикторы. Получится ли повысить качество прогноза? Нифига"
   ]
  },
  {
   "cell_type": "code",
   "execution_count": 97,
   "metadata": {
    "collapsed": false
   },
   "outputs": [
    {
     "data": {
      "text/plain": [
       "1.2716188022050079"
      ]
     },
     "execution_count": 97,
     "metadata": {},
     "output_type": "execute_result"
    }
   ],
   "source": [
    "test_pred = pvts[15].copy()\n",
    "for i, code in enumerate(all_mc.index):\n",
    "    test_pred[code] = predictions[i]\n",
    "sqrt(((test_pred-pvts[15])**2).mean().mean())"
   ]
  },
  {
   "cell_type": "markdown",
   "metadata": {},
   "source": [
    "выходит, главные компоненты не оч тащат в качестве регрессоров."
   ]
  },
  {
   "cell_type": "code",
   "execution_count": 102,
   "metadata": {
    "collapsed": false
   },
   "outputs": [
    {
     "data": {
      "text/plain": [
       "1.2694923528732414"
      ]
     },
     "execution_count": 102,
     "metadata": {},
     "output_type": "execute_result"
    }
   ],
   "source": [
    "sqrt(((test_pred*0.1+between_c04*0.9-pvts[15])**2).mean().mean())"
   ]
  },
  {
   "cell_type": "code",
   "execution_count": 119,
   "metadata": {
    "collapsed": false
   },
   "outputs": [
    {
     "data": {
      "text/plain": [
       "1.2711773874020695"
      ]
     },
     "execution_count": 119,
     "metadata": {},
     "output_type": "execute_result"
    }
   ],
   "source": [
    "tp2 = test_pred.copy()\n",
    "tp2[tp2<0]=0\n",
    "sqrt(((tp2-pvts[15])**2).mean().mean())"
   ]
  },
  {
   "cell_type": "code",
   "execution_count": 120,
   "metadata": {
    "collapsed": false
   },
   "outputs": [
    {
     "data": {
      "text/plain": [
       "1.2694441570382111"
      ]
     },
     "execution_count": 120,
     "metadata": {},
     "output_type": "execute_result"
    }
   ],
   "source": [
    "sqrt(((tp2*0.1+between_c04*0.9-pvts[15])**2).mean().mean())"
   ]
  },
  {
   "cell_type": "markdown",
   "metadata": {},
   "source": [
    "### А если подключить деревья-классификаторы?"
   ]
  },
  {
   "cell_type": "markdown",
   "metadata": {},
   "source": [
    "есть проблема: это сцука долго. Но что ж поделаешь..."
   ]
  },
  {
   "cell_type": "code",
   "execution_count": 122,
   "metadata": {
    "collapsed": false
   },
   "outputs": [],
   "source": [
    "from sklearn.tree import DecisionTreeRegressor"
   ]
  },
  {
   "cell_type": "code",
   "execution_count": 123,
   "metadata": {
    "collapsed": false
   },
   "outputs": [
    {
     "name": "stdout",
     "output_type": "stream",
     "text": [
      "4814, 6011, 4829, 5499, 5541, 5200, 5732, 6010, 5331, 5912, 5411, 5812, 6012, 5719, 5722, 5621, 5814, 5921, 5941, 5691, 5813, 5211, 4812, 5945, 5983, 5999, 5943, 5533, 6300, 7832, 8099, 5992, 3501, 6536, 7997, 5641, 4722, 5661, 5651, 7011, 5699, 5942, 7298, 7999, 5712, 5511, 5422, 5399, 4900, 7538, 5949, 5977, 5948, 5631, 5311, 5462, 4112, 8999, 8021, 5714, 5251, 4789, 7542, 5947, 3000, 8043, 5944, 5734, 5611, 5532, 4816, 7311, 5655, 6051, 7994, 5995, 5309, 5964, 8299, 8244, 4111, 4511, 9399, 5441, 7922, 5261, 7699, 7995, 7629, 5816, 5735, 5039, 5300, 5199, 4121, 5065, 7399, 7299, 8011, 7230, 9222, 5946, 5131, 5994, 5231, 8071, 5094, 5047, 5072, 7210, 5976, 5045, 7932, 4215, 5542, 5099, 5713, 4899, 7933, 5681, 5193, 1711, 6211, 8398, 5599, 5993, 8062, 5169, 4214, 5733, 5013, 7221, 5571, 7993, 5971, 5968, 7372, 5074, 5044, 5811, 5111, 8641, 7512, 7523, 9311, 8220, 7991, 7996, 4784, 5931, 7841, 3351, 4411, 1799, 5192, 5122, 742, 6513, 7278, 5969, 5970, 4131, 5965, 7395, 5950, 5085, 7273, 5137, 5310, 7531, 7829, 7375, 2741, 5172, 8699, 7216, 5451, 5967, 7338, 9402, 5697, 1731, 5940, 9211, "
     ]
    }
   ],
   "source": [
    "maxlag = 9\n",
    "maxlag_pca = 9\n",
    "skelet = wide[(wide.amonth > maxlag)&(wide.amonth < 15)].copy()\n",
    "regressions = []\n",
    "predictions = []\n",
    "test_idx = (skelet.amonth == 14)\n",
    "train_idx = (skelet.amonth < 14)\n",
    "train_col = all_mc.index.tolist() + ['lag_'+str(m+1) for m in range(1, maxlag)]\n",
    "for code in all_mc.index:\n",
    "    print(code, end = ', ')\n",
    "    skelet['next_lamount'] = wide[(wide.amonth > (maxlag+1))&(wide.amonth <= 15)][code]\n",
    "    for m in range(1, maxlag):\n",
    "        skelet['lag_'+str(m+1)] = wide[(wide.amonth > (maxlag-m))&(wide.amonth < 15-m)][code]\n",
    "    for m in range(1, maxlag_pca):\n",
    "        for comp in range(20):\n",
    "            skelet['lag_'+str(m+1)+'_comp_'+str(comp)] = wide_pca[array((wide.amonth > (maxlag-m))&(wide.amonth < 15-m)), comp]\n",
    "    reg = DecisionTreeRegressor(min_samples_leaf = 100)\n",
    "    reg.fit(skelet[train_idx][train_col], skelet[train_idx]['next_lamount'])\n",
    "    pred = reg.predict(skelet[test_idx][train_col])\n",
    "    regressions.append(reg)\n",
    "    predictions.append(pred)"
   ]
  },
  {
   "cell_type": "code",
   "execution_count": 124,
   "metadata": {
    "collapsed": false
   },
   "outputs": [
    {
     "data": {
      "text/plain": [
       "1.2991307134144399"
      ]
     },
     "execution_count": 124,
     "metadata": {},
     "output_type": "execute_result"
    }
   ],
   "source": [
    "test_pred = pvts[15].copy()\n",
    "for i, code in enumerate(all_mc.index):\n",
    "    test_pred[code] = predictions[i]\n",
    "sqrt(((test_pred-pvts[15])**2).mean().mean())"
   ]
  },
  {
   "cell_type": "markdown",
   "metadata": {},
   "source": [
    "Ага! если взять мои деревяшки, то на 10% они добавляют к имеющемуся скору нормально."
   ]
  },
  {
   "cell_type": "code",
   "execution_count": 126,
   "metadata": {
    "collapsed": false
   },
   "outputs": [
    {
     "name": "stdout",
     "output_type": "stream",
     "text": [
      "0.01 1.26933616128\n",
      "0.03 1.26909434961\n",
      "0.1 1.26852413137\n",
      "0.3 1.26926397347\n",
      "0.5 1.27350501498\n"
     ]
    }
   ],
   "source": [
    "for w in [0.01, 0.03, 0.1, 0.3, 0.5]:\n",
    "    print(w, sqrt(((test_pred*w+between_c04*(1-w)-pvts[15])**2).mean().mean()))"
   ]
  },
  {
   "cell_type": "code",
   "execution_count": 127,
   "metadata": {
    "collapsed": false
   },
   "outputs": [
    {
     "name": "stdout",
     "output_type": "stream",
     "text": [
      "4814, 6011, 4829, 5499, 5541, 5200, 5732, 6010, 5331, 5912, 5411, 5812, 6012, 5719, 5722, 5621, 5814, 5921, 5941, 5691, 5813, 5211, 4812, 5945, 5983, 5999, 5943, 5533, 6300, 7832, 8099, 5992, 3501, 6536, 7997, 5641, 4722, 5661, 5651, 7011, 5699, 5942, 7298, 7999, 5712, 5511, 5422, 5399, 4900, 7538, 5949, 5977, 5948, 5631, 5311, 5462, 4112, 8999, 8021, 5714, 5251, 4789, 7542, 5947, 3000, 8043, 5944, 5734, 5611, 5532, 4816, 7311, 5655, 6051, 7994, 5995, 5309, 5964, 8299, 8244, 4111, 4511, 9399, 5441, 7922, 5261, 7699, 7995, 7629, 5816, 5735, 5039, 5300, 5199, 4121, 5065, 7399, 7299, 8011, 7230, 9222, 5946, 5131, 5994, 5231, 8071, 5094, 5047, 5072, 7210, 5976, 5045, 7932, 4215, 5542, 5099, 5713, 4899, 7933, 5681, 5193, 1711, 6211, 8398, 5599, 5993, 8062, 5169, 4214, 5733, 5013, 7221, 5571, 7993, 5971, 5968, 7372, 5074, 5044, 5811, 5111, 8641, 7512, 7523, 9311, 8220, 7991, 7996, 4784, 5931, 7841, 3351, 4411, 1799, 5192, 5122, 742, 6513, 7278, 5969, 5970, 4131, 5965, 7395, 5950, 5085, 7273, 5137, 5310, 7531, 7829, 7375, 2741, 5172, 8699, 7216, 5451, 5967, 7338, 9402, 5697, 1731, 5940, 9211, "
     ]
    }
   ],
   "source": [
    "maxlag = 9\n",
    "valid_skelet = wide[wide.amonth==15].copy()\n",
    "train_col = all_mc.index.tolist() + ['lag_'+str(m+1) for m in range(1, maxlag)]\n",
    "final_preds = []\n",
    "for i, code in enumerate(all_mc.index):\n",
    "    print(code, end = ', ')\n",
    "    reg = regressions[i]\n",
    "    for m in range(1, maxlag):\n",
    "        valid_skelet['lag_'+str(m+1)] = wide[wide.amonth==15-m][code]\n",
    "    for m in range(1, maxlag_pca):\n",
    "        for comp in range(20):\n",
    "            skelet['lag_'+str(m+1)+'_comp_'+str(comp)] = wide_pca[array((wide.amonth > (maxlag-m))&(wide.amonth < 15-m)), comp]\n",
    "    pred = reg.predict(valid_skelet[train_col])\n",
    "    final_preds.append(pred)"
   ]
  },
  {
   "cell_type": "code",
   "execution_count": 128,
   "metadata": {
    "collapsed": false
   },
   "outputs": [
    {
     "data": {
      "text/html": [
       "<div>\n",
       "<table border=\"1\" class=\"dataframe\">\n",
       "  <thead>\n",
       "    <tr style=\"text-align: right;\">\n",
       "      <th></th>\n",
       "      <th>mcc_code</th>\n",
       "      <th>customer_id</th>\n",
       "      <th>0</th>\n",
       "      <th>volume</th>\n",
       "    </tr>\n",
       "  </thead>\n",
       "  <tbody>\n",
       "    <tr>\n",
       "      <th>0</th>\n",
       "      <td>742</td>\n",
       "      <td>6815</td>\n",
       "      <td>0.0</td>\n",
       "      <td>0.0</td>\n",
       "    </tr>\n",
       "    <tr>\n",
       "      <th>1</th>\n",
       "      <td>742</td>\n",
       "      <td>22899</td>\n",
       "      <td>0.0</td>\n",
       "      <td>0.0</td>\n",
       "    </tr>\n",
       "    <tr>\n",
       "      <th>2</th>\n",
       "      <td>742</td>\n",
       "      <td>27914</td>\n",
       "      <td>0.0</td>\n",
       "      <td>0.0</td>\n",
       "    </tr>\n",
       "    <tr>\n",
       "      <th>3</th>\n",
       "      <td>742</td>\n",
       "      <td>28753</td>\n",
       "      <td>0.0</td>\n",
       "      <td>0.0</td>\n",
       "    </tr>\n",
       "    <tr>\n",
       "      <th>4</th>\n",
       "      <td>742</td>\n",
       "      <td>31385</td>\n",
       "      <td>0.0</td>\n",
       "      <td>0.0</td>\n",
       "    </tr>\n",
       "  </tbody>\n",
       "</table>\n",
       "</div>"
      ],
      "text/plain": [
       "   mcc_code  customer_id    0  volume\n",
       "0       742         6815  0.0     0.0\n",
       "1       742        22899  0.0     0.0\n",
       "2       742        27914  0.0     0.0\n",
       "3       742        28753  0.0     0.0\n",
       "4       742        31385  0.0     0.0"
      ]
     },
     "execution_count": 128,
     "metadata": {},
     "output_type": "execute_result"
    }
   ],
   "source": [
    "valid_pred = pvts[15].copy()\n",
    "for i, code in enumerate(all_mc.index):\n",
    "    valid_pred[code] = final_preds[i]\n",
    "submission = valid_pred.unstack().reset_index()\n",
    "submission['volume'] = np.e ** submission[0] - 1\n",
    "submission.head()"
   ]
  },
  {
   "cell_type": "code",
   "execution_count": 129,
   "metadata": {
    "collapsed": false
   },
   "outputs": [
    {
     "data": {
      "text/plain": [
       "(552000, 3)"
      ]
     },
     "execution_count": 129,
     "metadata": {},
     "output_type": "execute_result"
    }
   ],
   "source": [
    "submission = pd.merge(submission[['customer_id', 'mcc_code', 'volume']],test_list_df, on = 'customer_id')\n",
    "submission.shape"
   ]
  },
  {
   "cell_type": "code",
   "execution_count": 136,
   "metadata": {
    "collapsed": true
   },
   "outputs": [],
   "source": [
    "submission_с06_raw = submission"
   ]
  },
  {
   "cell_type": "code",
   "execution_count": 140,
   "metadata": {
    "collapsed": true
   },
   "outputs": [],
   "source": [
    "submission_c06 = submission_с06_raw.copy()"
   ]
  },
  {
   "cell_type": "code",
   "execution_count": 141,
   "metadata": {
    "collapsed": false
   },
   "outputs": [],
   "source": [
    "submission_c06['volume'] = submission_с06_raw.volume*0.1+submission_c04.volume*0.9"
   ]
  },
  {
   "cell_type": "code",
   "execution_count": 142,
   "metadata": {
    "collapsed": true
   },
   "outputs": [],
   "source": [
    "submission_c06.to_csv('c_06.csv', index=False)"
   ]
  },
  {
   "cell_type": "code",
   "execution_count": 143,
   "metadata": {
    "collapsed": false
   },
   "outputs": [
    {
     "data": {
      "text/html": [
       "<div>\n",
       "<table border=\"1\" class=\"dataframe\">\n",
       "  <thead>\n",
       "    <tr style=\"text-align: right;\">\n",
       "      <th></th>\n",
       "      <th>customer_id</th>\n",
       "      <th>mcc_code</th>\n",
       "      <th>volume</th>\n",
       "    </tr>\n",
       "  </thead>\n",
       "  <tbody>\n",
       "    <tr>\n",
       "      <th>0</th>\n",
       "      <td>49101</td>\n",
       "      <td>742</td>\n",
       "      <td>0.006734</td>\n",
       "    </tr>\n",
       "    <tr>\n",
       "      <th>1</th>\n",
       "      <td>49101</td>\n",
       "      <td>1711</td>\n",
       "      <td>0.008447</td>\n",
       "    </tr>\n",
       "    <tr>\n",
       "      <th>2</th>\n",
       "      <td>49101</td>\n",
       "      <td>1731</td>\n",
       "      <td>0.009291</td>\n",
       "    </tr>\n",
       "    <tr>\n",
       "      <th>3</th>\n",
       "      <td>49101</td>\n",
       "      <td>1799</td>\n",
       "      <td>0.007909</td>\n",
       "    </tr>\n",
       "    <tr>\n",
       "      <th>4</th>\n",
       "      <td>49101</td>\n",
       "      <td>2741</td>\n",
       "      <td>0.008779</td>\n",
       "    </tr>\n",
       "  </tbody>\n",
       "</table>\n",
       "</div>"
      ],
      "text/plain": [
       "   customer_id  mcc_code    volume\n",
       "0        49101       742  0.006734\n",
       "1        49101      1711  0.008447\n",
       "2        49101      1731  0.009291\n",
       "3        49101      1799  0.007909\n",
       "4        49101      2741  0.008779"
      ]
     },
     "execution_count": 143,
     "metadata": {},
     "output_type": "execute_result"
    }
   ],
   "source": [
    "submission_c06.head()"
   ]
  },
  {
   "cell_type": "markdown",
   "metadata": {},
   "source": [
    "#### kmeans"
   ]
  },
  {
   "cell_type": "markdown",
   "metadata": {},
   "source": [
    "Для разных моделей kmeans смотрю, сколько кластеров могут объяснить моих людишек нормально. \n",
    "\n",
    "Оказывается, около 20 кластеров для KMeans оптимально."
   ]
  },
  {
   "cell_type": "code",
   "execution_count": 64,
   "metadata": {
    "collapsed": false
   },
   "outputs": [
    {
     "name": "stdout",
     "output_type": "stream",
     "text": [
      "1 1.55601374449\n",
      "3 1.49060214959\n",
      "6 1.47269205139\n",
      "10 1.46818884583\n",
      "20 1.46094254723\n",
      "30 1.47224971025\n",
      "50 1.47560332686\n",
      "100 1.48415614277\n"
     ]
    }
   ],
   "source": [
    "from sklearn.cluster import KMeans\n",
    "for k in [1, 3, 6, 10, 20, 30, 50, 100]:\n",
    "    km = KMeans(n_clusters = k, random_state = 42)\n",
    "    km.fit(pvts[14])\n",
    "    pred_cl = km.predict(pvts[14])\n",
    "    pred_cc = km.cluster_centers_[pred_cl, :]\n",
    "    print(k, sqrt(mean(mean((pred_cc-pvts[15])**2))))"
   ]
  },
  {
   "cell_type": "markdown",
   "metadata": {},
   "source": [
    "От того, что усредняю 5 месяцев, клёвость кластеризации ещё возрастает!"
   ]
  },
  {
   "cell_type": "code",
   "execution_count": 65,
   "metadata": {
    "collapsed": false
   },
   "outputs": [
    {
     "name": "stdout",
     "output_type": "stream",
     "text": [
      "1.41521521912\n"
     ]
    }
   ],
   "source": [
    "km = KMeans(n_clusters = 20, random_state = 42)\n",
    "pvt = (pvts[14]+pvts[13]+pvts[12]+pvts[11]+pvts[10]) / 5\n",
    "km.fit(pvt)\n",
    "pred_cl = km.predict(pvt)\n",
    "pred_cc = km.cluster_centers_[pred_cl, :]\n",
    "print(sqrt(mean(mean((pred_cc-pvts[15])**2))))"
   ]
  },
  {
   "cell_type": "markdown",
   "metadata": {},
   "source": [
    "Но менее клёво, если усредняю за 3 месяца"
   ]
  },
  {
   "cell_type": "code",
   "execution_count": 67,
   "metadata": {
    "collapsed": false
   },
   "outputs": [
    {
     "name": "stdout",
     "output_type": "stream",
     "text": [
      "1.41859484331\n"
     ]
    }
   ],
   "source": [
    "km = KMeans(n_clusters = 20, random_state = 42)\n",
    "pvt = (pvts[14]+pvts[13]+pvts[12]) / 3\n",
    "km.fit(pvt)\n",
    "pred_cl = km.predict(pvt)\n",
    "pred_cc = km.cluster_centers_[pred_cl, :]\n",
    "print(sqrt(mean(mean((pred_cc-pvts[15])**2))))"
   ]
  },
  {
   "cell_type": "markdown",
   "metadata": {},
   "source": [
    "Но менее клёво, если усредняю за все 10"
   ]
  },
  {
   "cell_type": "code",
   "execution_count": 66,
   "metadata": {
    "collapsed": false
   },
   "outputs": [
    {
     "name": "stdout",
     "output_type": "stream",
     "text": [
      "1.42470533185\n"
     ]
    }
   ],
   "source": [
    "km = KMeans(n_clusters = 20, random_state = 42)\n",
    "pvt = (pvts[14]+pvts[13]+pvts[12]+pvts[11]+pvts[10]+pvts[9]+pvts[8]+pvts[7]+pvts[6]+pvts[5]) / 10\n",
    "km.fit(pvt)\n",
    "pred_cl = km.predict(pvt)\n",
    "pred_cc = km.cluster_centers_[pred_cl, :]\n",
    "print(sqrt(mean(mean((pred_cc-pvts[15])**2))))"
   ]
  },
  {
   "cell_type": "markdown",
   "metadata": {},
   "source": [
    "Сколько же мне добавить k-means к имеющемуся прогнозу?"
   ]
  },
  {
   "cell_type": "code",
   "execution_count": 72,
   "metadata": {
    "collapsed": false
   },
   "outputs": [
    {
     "name": "stdout",
     "output_type": "stream",
     "text": [
      "1.41521521912\n"
     ]
    }
   ],
   "source": [
    "km = KMeans(n_clusters = 20, random_state = 42)\n",
    "pvt = (pvts[14]+pvts[13]+pvts[12]+pvts[11]+pvts[10]) / 5\n",
    "km.fit(pvt)\n",
    "pred_cl = km.predict(pvt)\n",
    "pred_cc = km.cluster_centers_[pred_cl, :]\n",
    "print(sqrt(mean(mean((pred_cc-pvts[15])**2))))"
   ]
  },
  {
   "cell_type": "markdown",
   "metadata": {},
   "source": [
    "Три процента красная цена моим добавочкам (и пользы в них примерно 0)"
   ]
  },
  {
   "cell_type": "code",
   "execution_count": 74,
   "metadata": {
    "collapsed": false
   },
   "outputs": [
    {
     "name": "stdout",
     "output_type": "stream",
     "text": [
      "0 1.26947020465\n",
      "0.01 1.2693847158\n",
      "0.03 1.2693123187\n",
      "0.06 1.26945019758\n",
      "0.1 1.27009391845\n",
      "0.2 1.27399593086\n"
     ]
    }
   ],
   "source": [
    "for frac in [0, 0.01, 0.03, 0.06, 0.1, 0.2]:\n",
    "    between = between_c04*(1-frac) +pred_cc * frac \n",
    "    print(frac, sqrt(((between-pvts[15])**2).mean().mean()))"
   ]
  },
  {
   "cell_type": "markdown",
   "metadata": {},
   "source": [
    "#### гауссовские смеси"
   ]
  },
  {
   "cell_type": "markdown",
   "metadata": {},
   "source": [
    "Рассматриваю гауссовские смеси - будут ли они лучше kmeans? Сейчас предсказываю всё криспи. И чё-т не оч (точность порядка 1.50)"
   ]
  },
  {
   "cell_type": "code",
   "execution_count": 71,
   "metadata": {
    "collapsed": false
   },
   "outputs": [
    {
     "name": "stdout",
     "output_type": "stream",
     "text": [
      "1 1.55690549053\n",
      "3 1.52758145741\n",
      "6 1.51831367285\n",
      "10 1.5141348795\n",
      "20 1.50105708022\n",
      "30 1.49104525403\n"
     ]
    },
    {
     "ename": "KeyboardInterrupt",
     "evalue": "",
     "output_type": "error",
     "traceback": [
      "\u001b[1;31m---------------------------------------------------------------------------\u001b[0m",
      "\u001b[1;31mKeyboardInterrupt\u001b[0m                         Traceback (most recent call last)",
      "\u001b[1;32m<ipython-input-71-880af24ae10c>\u001b[0m in \u001b[0;36m<module>\u001b[1;34m()\u001b[0m\n\u001b[0;32m      3\u001b[0m     \u001b[0mkm\u001b[0m \u001b[1;33m=\u001b[0m \u001b[0mGaussianMixture\u001b[0m\u001b[1;33m(\u001b[0m\u001b[0mn_components\u001b[0m \u001b[1;33m=\u001b[0m \u001b[0mk\u001b[0m\u001b[1;33m,\u001b[0m \u001b[0mrandom_state\u001b[0m \u001b[1;33m=\u001b[0m \u001b[1;36m42\u001b[0m\u001b[1;33m)\u001b[0m\u001b[1;33m\u001b[0m\u001b[0m\n\u001b[0;32m      4\u001b[0m     \u001b[0mpvt\u001b[0m \u001b[1;33m=\u001b[0m \u001b[1;33m(\u001b[0m\u001b[0mpvts\u001b[0m\u001b[1;33m[\u001b[0m\u001b[1;36m14\u001b[0m\u001b[1;33m]\u001b[0m\u001b[1;33m+\u001b[0m\u001b[0mpvts\u001b[0m\u001b[1;33m[\u001b[0m\u001b[1;36m13\u001b[0m\u001b[1;33m]\u001b[0m\u001b[1;33m+\u001b[0m\u001b[0mpvts\u001b[0m\u001b[1;33m[\u001b[0m\u001b[1;36m12\u001b[0m\u001b[1;33m]\u001b[0m\u001b[1;33m+\u001b[0m\u001b[0mpvts\u001b[0m\u001b[1;33m[\u001b[0m\u001b[1;36m11\u001b[0m\u001b[1;33m]\u001b[0m\u001b[1;33m+\u001b[0m\u001b[0mpvts\u001b[0m\u001b[1;33m[\u001b[0m\u001b[1;36m10\u001b[0m\u001b[1;33m]\u001b[0m\u001b[1;33m)\u001b[0m \u001b[1;33m/\u001b[0m \u001b[1;36m5\u001b[0m\u001b[1;33m\u001b[0m\u001b[0m\n\u001b[1;32m----> 5\u001b[1;33m     \u001b[0mkm\u001b[0m\u001b[1;33m.\u001b[0m\u001b[0mfit\u001b[0m\u001b[1;33m(\u001b[0m\u001b[0mpvt\u001b[0m\u001b[1;33m)\u001b[0m\u001b[1;33m\u001b[0m\u001b[0m\n\u001b[0m\u001b[0;32m      6\u001b[0m     \u001b[0mpred_cl\u001b[0m \u001b[1;33m=\u001b[0m \u001b[0mkm\u001b[0m\u001b[1;33m.\u001b[0m\u001b[0mpredict\u001b[0m\u001b[1;33m(\u001b[0m\u001b[0mpvt\u001b[0m\u001b[1;33m)\u001b[0m\u001b[1;33m\u001b[0m\u001b[0m\n\u001b[0;32m      7\u001b[0m     \u001b[0mpred_cc\u001b[0m \u001b[1;33m=\u001b[0m \u001b[0mkm\u001b[0m\u001b[1;33m.\u001b[0m\u001b[0mmeans_\u001b[0m\u001b[1;33m[\u001b[0m\u001b[0mpred_cl\u001b[0m\u001b[1;33m,\u001b[0m \u001b[1;33m:\u001b[0m\u001b[1;33m]\u001b[0m\u001b[1;33m\u001b[0m\u001b[0m\n",
      "\u001b[1;32mC:\\Users\\David\\Anaconda3\\lib\\site-packages\\sklearn\\mixture\\base.py\u001b[0m in \u001b[0;36mfit\u001b[1;34m(self, X, y)\u001b[0m\n\u001b[0;32m    212\u001b[0m \u001b[1;33m\u001b[0m\u001b[0m\n\u001b[0;32m    213\u001b[0m                 \u001b[0mlog_prob_norm\u001b[0m\u001b[1;33m,\u001b[0m \u001b[0mlog_resp\u001b[0m \u001b[1;33m=\u001b[0m \u001b[0mself\u001b[0m\u001b[1;33m.\u001b[0m\u001b[0m_e_step\u001b[0m\u001b[1;33m(\u001b[0m\u001b[0mX\u001b[0m\u001b[1;33m)\u001b[0m\u001b[1;33m\u001b[0m\u001b[0m\n\u001b[1;32m--> 214\u001b[1;33m                 \u001b[0mself\u001b[0m\u001b[1;33m.\u001b[0m\u001b[0m_m_step\u001b[0m\u001b[1;33m(\u001b[0m\u001b[0mX\u001b[0m\u001b[1;33m,\u001b[0m \u001b[0mlog_resp\u001b[0m\u001b[1;33m)\u001b[0m\u001b[1;33m\u001b[0m\u001b[0m\n\u001b[0m\u001b[0;32m    215\u001b[0m                 self.lower_bound_ = self._compute_lower_bound(\n\u001b[0;32m    216\u001b[0m                     log_resp, log_prob_norm)\n",
      "\u001b[1;32mC:\\Users\\David\\Anaconda3\\lib\\site-packages\\sklearn\\mixture\\gaussian_mixture.py\u001b[0m in \u001b[0;36m_m_step\u001b[1;34m(self, X, log_resp)\u001b[0m\n\u001b[0;32m    664\u001b[0m         self.weights_, self.means_, self.covariances_ = (\n\u001b[0;32m    665\u001b[0m             _estimate_gaussian_parameters(X, np.exp(log_resp), self.reg_covar,\n\u001b[1;32m--> 666\u001b[1;33m                                           self.covariance_type))\n\u001b[0m\u001b[0;32m    667\u001b[0m         \u001b[0mself\u001b[0m\u001b[1;33m.\u001b[0m\u001b[0mweights_\u001b[0m \u001b[1;33m/=\u001b[0m \u001b[0mn_samples\u001b[0m\u001b[1;33m\u001b[0m\u001b[0m\n\u001b[0;32m    668\u001b[0m         self.precisions_cholesky_ = _compute_precision_cholesky(\n",
      "\u001b[1;32mC:\\Users\\David\\Anaconda3\\lib\\site-packages\\sklearn\\mixture\\gaussian_mixture.py\u001b[0m in \u001b[0;36m_estimate_gaussian_parameters\u001b[1;34m(X, resp, reg_covar, covariance_type)\u001b[0m\n\u001b[0;32m    283\u001b[0m                    \u001b[1;34m\"diag\"\u001b[0m\u001b[1;33m:\u001b[0m \u001b[0m_estimate_gaussian_covariances_diag\u001b[0m\u001b[1;33m,\u001b[0m\u001b[1;33m\u001b[0m\u001b[0m\n\u001b[0;32m    284\u001b[0m                    \u001b[1;34m\"spherical\"\u001b[0m\u001b[1;33m:\u001b[0m \u001b[0m_estimate_gaussian_covariances_spherical\u001b[0m\u001b[1;33m\u001b[0m\u001b[0m\n\u001b[1;32m--> 285\u001b[1;33m                    }[covariance_type](resp, X, nk, means, reg_covar)\n\u001b[0m\u001b[0;32m    286\u001b[0m     \u001b[1;32mreturn\u001b[0m \u001b[0mnk\u001b[0m\u001b[1;33m,\u001b[0m \u001b[0mmeans\u001b[0m\u001b[1;33m,\u001b[0m \u001b[0mcovariances\u001b[0m\u001b[1;33m\u001b[0m\u001b[0m\n\u001b[0;32m    287\u001b[0m \u001b[1;33m\u001b[0m\u001b[0m\n",
      "\u001b[1;32mC:\\Users\\David\\Anaconda3\\lib\\site-packages\\sklearn\\mixture\\gaussian_mixture.py\u001b[0m in \u001b[0;36m_estimate_gaussian_covariances_full\u001b[1;34m(resp, X, nk, means, reg_covar)\u001b[0m\n\u001b[0;32m    165\u001b[0m     \u001b[1;32mfor\u001b[0m \u001b[0mk\u001b[0m \u001b[1;32min\u001b[0m \u001b[0mrange\u001b[0m\u001b[1;33m(\u001b[0m\u001b[0mn_components\u001b[0m\u001b[1;33m)\u001b[0m\u001b[1;33m:\u001b[0m\u001b[1;33m\u001b[0m\u001b[0m\n\u001b[0;32m    166\u001b[0m         \u001b[0mdiff\u001b[0m \u001b[1;33m=\u001b[0m \u001b[0mX\u001b[0m \u001b[1;33m-\u001b[0m \u001b[0mmeans\u001b[0m\u001b[1;33m[\u001b[0m\u001b[0mk\u001b[0m\u001b[1;33m]\u001b[0m\u001b[1;33m\u001b[0m\u001b[0m\n\u001b[1;32m--> 167\u001b[1;33m         \u001b[0mcovariances\u001b[0m\u001b[1;33m[\u001b[0m\u001b[0mk\u001b[0m\u001b[1;33m]\u001b[0m \u001b[1;33m=\u001b[0m \u001b[0mnp\u001b[0m\u001b[1;33m.\u001b[0m\u001b[0mdot\u001b[0m\u001b[1;33m(\u001b[0m\u001b[0mresp\u001b[0m\u001b[1;33m[\u001b[0m\u001b[1;33m:\u001b[0m\u001b[1;33m,\u001b[0m \u001b[0mk\u001b[0m\u001b[1;33m]\u001b[0m \u001b[1;33m*\u001b[0m \u001b[0mdiff\u001b[0m\u001b[1;33m.\u001b[0m\u001b[0mT\u001b[0m\u001b[1;33m,\u001b[0m \u001b[0mdiff\u001b[0m\u001b[1;33m)\u001b[0m \u001b[1;33m/\u001b[0m \u001b[0mnk\u001b[0m\u001b[1;33m[\u001b[0m\u001b[0mk\u001b[0m\u001b[1;33m]\u001b[0m\u001b[1;33m\u001b[0m\u001b[0m\n\u001b[0m\u001b[0;32m    168\u001b[0m         \u001b[0mcovariances\u001b[0m\u001b[1;33m[\u001b[0m\u001b[0mk\u001b[0m\u001b[1;33m]\u001b[0m\u001b[1;33m.\u001b[0m\u001b[0mflat\u001b[0m\u001b[1;33m[\u001b[0m\u001b[1;33m:\u001b[0m\u001b[1;33m:\u001b[0m\u001b[0mn_features\u001b[0m \u001b[1;33m+\u001b[0m \u001b[1;36m1\u001b[0m\u001b[1;33m]\u001b[0m \u001b[1;33m+=\u001b[0m \u001b[0mreg_covar\u001b[0m\u001b[1;33m\u001b[0m\u001b[0m\n\u001b[0;32m    169\u001b[0m     \u001b[1;32mreturn\u001b[0m \u001b[0mcovariances\u001b[0m\u001b[1;33m\u001b[0m\u001b[0m\n",
      "\u001b[1;31mKeyboardInterrupt\u001b[0m: "
     ]
    }
   ],
   "source": [
    "from sklearn.mixture import GaussianMixture\n",
    "for k in [1, 3, 6, 10, 20, 30, 50, 100]:\n",
    "    km = GaussianMixture(n_components = k, random_state = 42)\n",
    "    pvt = (pvts[14]+pvts[13]+pvts[12]+pvts[11]+pvts[10]) / 5\n",
    "    km.fit(pvt)\n",
    "    pred_cl = km.predict(pvt)\n",
    "    pred_cc = km.means_[pred_cl, :]\n",
    "    print(k, sqrt(mean(mean((pred_cc-pvts[15])**2))))"
   ]
  },
  {
   "cell_type": "markdown",
   "metadata": {},
   "source": [
    "Обучаем на разных видах коваривционной матрицы, но всё не то и всё не так (лучше всего tied)"
   ]
  },
  {
   "cell_type": "code",
   "execution_count": 111,
   "metadata": {
    "collapsed": false
   },
   "outputs": [
    {
     "name": "stdout",
     "output_type": "stream",
     "text": [
      "1.45410808099\n"
     ]
    }
   ],
   "source": [
    "from sklearn.mixture import GaussianMixture\n",
    "km = GaussianMixture(n_components = 20, random_state = 42, covariance_type = 'tied')\n",
    "pvt = (pvts[14]+pvts[13]+pvts[12]+pvts[11]+pvts[10]) / 5\n",
    "km.fit(pvt)\n",
    "pred_cl = km.predict(pvt)\n",
    "pred_cc = km.means_[pred_cl, :]\n",
    "print(sqrt(mean(mean((pred_cc-pvts[15])**2))))"
   ]
  },
  {
   "cell_type": "markdown",
   "metadata": {},
   "source": [
    "Насколько растёт точность за счёт мягкости кластеризации? К сожалению, минимально - около 1%"
   ]
  },
  {
   "cell_type": "code",
   "execution_count": 114,
   "metadata": {
    "collapsed": false
   },
   "outputs": [
    {
     "name": "stdout",
     "output_type": "stream",
     "text": [
      "1.4439504272\n"
     ]
    }
   ],
   "source": [
    "pred_c2 = dot(km.predict_proba(pvt), km.means_)\n",
    "print(sqrt(mean(mean((pred_с2-pvts[15])**2))))"
   ]
  },
  {
   "cell_type": "markdown",
   "metadata": {},
   "source": [
    "Такой добавке тоже цена три процента."
   ]
  },
  {
   "cell_type": "code",
   "execution_count": 115,
   "metadata": {
    "collapsed": false
   },
   "outputs": [
    {
     "name": "stdout",
     "output_type": "stream",
     "text": [
      "0 1.26947020465\n",
      "0.01 1.26939145085\n",
      "0.03 1.26935173045\n",
      "0.06 1.2695866182\n",
      "0.1 1.27044909479\n",
      "0.2 1.27534134355\n"
     ]
    }
   ],
   "source": [
    "for frac in [0, 0.01, 0.03, 0.06, 0.1, 0.2]:\n",
    "    between = between_c04*(1-frac) +pred_c2 * frac \n",
    "    print(frac, sqrt(((between-pvts[15])**2).mean().mean()))"
   ]
  },
  {
   "cell_type": "code",
   "execution_count": null,
   "metadata": {
    "collapsed": true
   },
   "outputs": [],
   "source": []
  }
 ],
 "metadata": {
  "anaconda-cloud": {},
  "kernelspec": {
   "display_name": "Python [Root]",
   "language": "python",
   "name": "Python [Root]"
  },
  "language_info": {
   "codemirror_mode": {
    "name": "ipython",
    "version": 3
   },
   "file_extension": ".py",
   "mimetype": "text/x-python",
   "name": "python",
   "nbconvert_exporter": "python",
   "pygments_lexer": "ipython3",
   "version": "3.5.2"
  }
 },
 "nbformat": 4,
 "nbformat_minor": 0
}
