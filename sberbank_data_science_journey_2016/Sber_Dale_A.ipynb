{
 "cells": [
  {
   "cell_type": "markdown",
   "metadata": {},
   "source": [
    "Лог задачи:\n",
    "\n",
    "Нейронка \n",
    "\n",
    "Градиентный бустинг\n",
    "\n",
    "В сумме нейронка и бустинг дают 88.4% на локальном тесте."
   ]
  },
  {
   "cell_type": "markdown",
   "metadata": {},
   "source": [
    "# Общая часть"
   ]
  },
  {
   "cell_type": "code",
   "execution_count": 1,
   "metadata": {
    "collapsed": false
   },
   "outputs": [
    {
     "name": "stdout",
     "output_type": "stream",
     "text": [
      "Populating the interactive namespace from numpy and matplotlib\n"
     ]
    }
   ],
   "source": [
    "%pylab inline\n",
    "import pandas as pd\n",
    "pd.set_option('display.max_rows', 500)"
   ]
  },
  {
   "cell_type": "code",
   "execution_count": 2,
   "metadata": {
    "collapsed": false
   },
   "outputs": [],
   "source": [
    "from sklearn.ensemble import GradientBoostingClassifier, RandomForestClassifier\n",
    "from sklearn.neural_network import MLPClassifier\n",
    "from sklearn.model_selection import cross_val_score\n",
    "from sklearn import metrics\n",
    "from sklearn.metrics import roc_auc_score\n",
    "from sklearn.linear_model import LogisticRegression\n",
    "from sklearn.svm import SVC"
   ]
  },
  {
   "cell_type": "markdown",
   "metadata": {},
   "source": [
    "Читаем входные файлы с данными"
   ]
  },
  {
   "cell_type": "code",
   "execution_count": 3,
   "metadata": {
    "collapsed": false
   },
   "outputs": [
    {
     "name": "stdout",
     "output_type": "stream",
     "text": [
      "(155, 2)\n"
     ]
    },
    {
     "data": {
      "text/html": [
       "<div>\n",
       "<table border=\"1\" class=\"dataframe\">\n",
       "  <thead>\n",
       "    <tr style=\"text-align: right;\">\n",
       "      <th></th>\n",
       "      <th>tr_type</th>\n",
       "      <th>tr_description</th>\n",
       "    </tr>\n",
       "  </thead>\n",
       "  <tbody>\n",
       "    <tr>\n",
       "      <th>0</th>\n",
       "      <td>3200</td>\n",
       "      <td>Плата за предоставление услуг посредством моби...</td>\n",
       "    </tr>\n",
       "    <tr>\n",
       "      <th>1</th>\n",
       "      <td>3210</td>\n",
       "      <td>Плата за предоставление отчета по счету карты ...</td>\n",
       "    </tr>\n",
       "    <tr>\n",
       "      <th>2</th>\n",
       "      <td>3800</td>\n",
       "      <td>Плата за обслуживание банковской карты (за пер...</td>\n",
       "    </tr>\n",
       "    <tr>\n",
       "      <th>3</th>\n",
       "      <td>4000</td>\n",
       "      <td>Плата за получение наличных в Сбербанке</td>\n",
       "    </tr>\n",
       "    <tr>\n",
       "      <th>4</th>\n",
       "      <td>4001</td>\n",
       "      <td>Плата за получение наличных в Сбербанке (в дру...</td>\n",
       "    </tr>\n",
       "  </tbody>\n",
       "</table>\n",
       "</div>"
      ],
      "text/plain": [
       "   tr_type                                     tr_description\n",
       "0     3200  Плата за предоставление услуг посредством моби...\n",
       "1     3210  Плата за предоставление отчета по счету карты ...\n",
       "2     3800  Плата за обслуживание банковской карты (за пер...\n",
       "3     4000            Плата за получение наличных в Сбербанке\n",
       "4     4001  Плата за получение наличных в Сбербанке (в дру..."
      ]
     },
     "execution_count": 3,
     "metadata": {},
     "output_type": "execute_result"
    }
   ],
   "source": [
    "tr_types = pd.read_csv('tr_types.csv', sep = ';')\n",
    "print(tr_types.shape)\n",
    "tr_types.head()"
   ]
  },
  {
   "cell_type": "code",
   "execution_count": 4,
   "metadata": {
    "collapsed": false
   },
   "outputs": [
    {
     "name": "stdout",
     "output_type": "stream",
     "text": [
      "(184, 2)\n"
     ]
    },
    {
     "data": {
      "text/html": [
       "<div>\n",
       "<table border=\"1\" class=\"dataframe\">\n",
       "  <thead>\n",
       "    <tr style=\"text-align: right;\">\n",
       "      <th></th>\n",
       "      <th>mcc_code</th>\n",
       "      <th>mcc_description</th>\n",
       "    </tr>\n",
       "  </thead>\n",
       "  <tbody>\n",
       "    <tr>\n",
       "      <th>0</th>\n",
       "      <td>742</td>\n",
       "      <td>Ветеринарные услуги</td>\n",
       "    </tr>\n",
       "    <tr>\n",
       "      <th>1</th>\n",
       "      <td>1711</td>\n",
       "      <td>Генеральные подрядчики по вентиляции, теплосна...</td>\n",
       "    </tr>\n",
       "    <tr>\n",
       "      <th>2</th>\n",
       "      <td>1731</td>\n",
       "      <td>Подрядчики по электричеству</td>\n",
       "    </tr>\n",
       "    <tr>\n",
       "      <th>3</th>\n",
       "      <td>1799</td>\n",
       "      <td>Подрядчики, специализированная торговля — нигд...</td>\n",
       "    </tr>\n",
       "    <tr>\n",
       "      <th>4</th>\n",
       "      <td>2741</td>\n",
       "      <td>Разнообразные издательства/печатное дело</td>\n",
       "    </tr>\n",
       "  </tbody>\n",
       "</table>\n",
       "</div>"
      ],
      "text/plain": [
       "   mcc_code                                    mcc_description\n",
       "0       742                                Ветеринарные услуги\n",
       "1      1711  Генеральные подрядчики по вентиляции, теплосна...\n",
       "2      1731                        Подрядчики по электричеству\n",
       "3      1799  Подрядчики, специализированная торговля — нигд...\n",
       "4      2741           Разнообразные издательства/печатное дело"
      ]
     },
     "execution_count": 4,
     "metadata": {},
     "output_type": "execute_result"
    }
   ],
   "source": [
    "tr_mcc_codes = pd.read_csv('tr_mcc_codes.csv', sep = ';')\n",
    "print(tr_mcc_codes.shape)\n",
    "tr_mcc_codes.head()"
   ]
  },
  {
   "cell_type": "code",
   "execution_count": 5,
   "metadata": {
    "collapsed": false
   },
   "outputs": [
    {
     "name": "stdout",
     "output_type": "stream",
     "text": [
      "(6849346, 6)\n"
     ]
    },
    {
     "data": {
      "text/html": [
       "<div>\n",
       "<table border=\"1\" class=\"dataframe\">\n",
       "  <thead>\n",
       "    <tr style=\"text-align: right;\">\n",
       "      <th></th>\n",
       "      <th>customer_id</th>\n",
       "      <th>tr_datetime</th>\n",
       "      <th>mcc_code</th>\n",
       "      <th>tr_type</th>\n",
       "      <th>amount</th>\n",
       "      <th>term_id</th>\n",
       "    </tr>\n",
       "  </thead>\n",
       "  <tbody>\n",
       "    <tr>\n",
       "      <th>0</th>\n",
       "      <td>39026145</td>\n",
       "      <td>0 10:23:26</td>\n",
       "      <td>4814</td>\n",
       "      <td>1030</td>\n",
       "      <td>-2245.92</td>\n",
       "      <td>NaN</td>\n",
       "    </tr>\n",
       "    <tr>\n",
       "      <th>1</th>\n",
       "      <td>39026145</td>\n",
       "      <td>1 10:19:29</td>\n",
       "      <td>6011</td>\n",
       "      <td>7010</td>\n",
       "      <td>56147.89</td>\n",
       "      <td>NaN</td>\n",
       "    </tr>\n",
       "    <tr>\n",
       "      <th>2</th>\n",
       "      <td>39026145</td>\n",
       "      <td>1 10:20:56</td>\n",
       "      <td>4829</td>\n",
       "      <td>2330</td>\n",
       "      <td>-56147.89</td>\n",
       "      <td>NaN</td>\n",
       "    </tr>\n",
       "    <tr>\n",
       "      <th>3</th>\n",
       "      <td>39026145</td>\n",
       "      <td>1 10:39:54</td>\n",
       "      <td>5499</td>\n",
       "      <td>1010</td>\n",
       "      <td>-1392.47</td>\n",
       "      <td>NaN</td>\n",
       "    </tr>\n",
       "    <tr>\n",
       "      <th>4</th>\n",
       "      <td>39026145</td>\n",
       "      <td>2 15:33:42</td>\n",
       "      <td>5499</td>\n",
       "      <td>1010</td>\n",
       "      <td>-920.83</td>\n",
       "      <td>NaN</td>\n",
       "    </tr>\n",
       "  </tbody>\n",
       "</table>\n",
       "</div>"
      ],
      "text/plain": [
       "   customer_id tr_datetime  mcc_code  tr_type    amount term_id\n",
       "0     39026145  0 10:23:26      4814     1030  -2245.92     NaN\n",
       "1     39026145  1 10:19:29      6011     7010  56147.89     NaN\n",
       "2     39026145  1 10:20:56      4829     2330 -56147.89     NaN\n",
       "3     39026145  1 10:39:54      5499     1010  -1392.47     NaN\n",
       "4     39026145  2 15:33:42      5499     1010   -920.83     NaN"
      ]
     },
     "execution_count": 5,
     "metadata": {},
     "output_type": "execute_result"
    }
   ],
   "source": [
    "transactions = pd.read_csv('transactions.csv', sep = ',')\n",
    "print(transactions.shape)\n",
    "transactions.head()"
   ]
  },
  {
   "cell_type": "code",
   "execution_count": 6,
   "metadata": {
    "collapsed": false
   },
   "outputs": [
    {
     "name": "stdout",
     "output_type": "stream",
     "text": [
      "(12000, 2)\n"
     ]
    },
    {
     "data": {
      "text/html": [
       "<div>\n",
       "<table border=\"1\" class=\"dataframe\">\n",
       "  <thead>\n",
       "    <tr style=\"text-align: right;\">\n",
       "      <th></th>\n",
       "      <th>customer_id</th>\n",
       "      <th>gender</th>\n",
       "    </tr>\n",
       "  </thead>\n",
       "  <tbody>\n",
       "    <tr>\n",
       "      <th>0</th>\n",
       "      <td>75562265</td>\n",
       "      <td>0</td>\n",
       "    </tr>\n",
       "    <tr>\n",
       "      <th>1</th>\n",
       "      <td>10928546</td>\n",
       "      <td>1</td>\n",
       "    </tr>\n",
       "    <tr>\n",
       "      <th>2</th>\n",
       "      <td>69348468</td>\n",
       "      <td>1</td>\n",
       "    </tr>\n",
       "    <tr>\n",
       "      <th>3</th>\n",
       "      <td>84816985</td>\n",
       "      <td>1</td>\n",
       "    </tr>\n",
       "    <tr>\n",
       "      <th>4</th>\n",
       "      <td>61009479</td>\n",
       "      <td>0</td>\n",
       "    </tr>\n",
       "  </tbody>\n",
       "</table>\n",
       "</div>"
      ],
      "text/plain": [
       "   customer_id  gender\n",
       "0     75562265       0\n",
       "1     10928546       1\n",
       "2     69348468       1\n",
       "3     84816985       1\n",
       "4     61009479       0"
      ]
     },
     "execution_count": 6,
     "metadata": {},
     "output_type": "execute_result"
    }
   ],
   "source": [
    "customers_gender_train = pd.read_csv('customers_gender_train.csv', sep = ',')\n",
    "print(customers_gender_train.shape)\n",
    "customers_gender_train.head()"
   ]
  },
  {
   "cell_type": "code",
   "execution_count": 34,
   "metadata": {
    "collapsed": true
   },
   "outputs": [],
   "source": [
    "customers_gender = customers_gender_train.set_index('customer_id')"
   ]
  },
  {
   "cell_type": "code",
   "execution_count": 8,
   "metadata": {
    "collapsed": true
   },
   "outputs": [],
   "source": [
    "transactions['time'] = transactions.tr_datetime.apply(lambda dt: dt.split()[1][0:2]).astype(int)"
   ]
  },
  {
   "cell_type": "code",
   "execution_count": 9,
   "metadata": {
    "collapsed": false
   },
   "outputs": [
    {
     "data": {
      "image/png": "[encoded data removed]",
      "text/plain": [
       "<matplotlib.figure.Figure at 0x2c2e8950e48>"
      ]
     },
     "metadata": {},
     "output_type": "display_data"
    }
   ],
   "source": [
    "_ = hist(transactions['time'], normed = True, bins = 24)"
   ]
  },
  {
   "cell_type": "code",
   "execution_count": 10,
   "metadata": {
    "collapsed": false
   },
   "outputs": [
    {
     "data": {
      "text/plain": [
       "(15000, 24)"
      ]
     },
     "execution_count": 10,
     "metadata": {},
     "output_type": "execute_result"
    }
   ],
   "source": [
    "time_count = transactions.groupby(['customer_id', 'time'])[['amount']].count().reset_index()\n",
    "time_count = time_count.pivot(index='customer_id', columns='time', values='amount').fillna(0)\n",
    "time_count.shape"
   ]
  },
  {
   "cell_type": "code",
   "execution_count": 11,
   "metadata": {
    "collapsed": true
   },
   "outputs": [],
   "source": [
    "transactions['abs_amount'] = transactions['amount'].abs()"
   ]
  },
  {
   "cell_type": "markdown",
   "metadata": {},
   "source": [
    "### Бейзлайн"
   ]
  },
  {
   "cell_type": "markdown",
   "metadata": {},
   "source": [
    "Для каждого клиента подсчитываем различные mcc_code"
   ]
  },
  {
   "cell_type": "code",
   "execution_count": 6,
   "metadata": {
    "collapsed": false
   },
   "outputs": [],
   "source": [
    "X = transactions.groupby('customer_id') \\\n",
    "                    .apply(lambda x: x[['mcc_code']].unstack().value_counts()) \\\n",
    "                    .unstack() \\\n",
    "                    .fillna(0)"
   ]
  },
  {
   "cell_type": "code",
   "execution_count": 8,
   "metadata": {
    "collapsed": false
   },
   "outputs": [],
   "source": [
    "customers_gender = customers_gender_train.set_index('customer_id')"
   ]
  },
  {
   "cell_type": "code",
   "execution_count": 9,
   "metadata": {
    "collapsed": true
   },
   "outputs": [],
   "source": [
    "Y_train = customers_gender.loc[X.index].gender\n",
    "Y_train = Y_train.reset_index()\n",
    "del Y_train['customer_id']\n",
    "Y_train = Y_train.dropna(0)"
   ]
  },
  {
   "cell_type": "code",
   "execution_count": 10,
   "metadata": {
    "collapsed": true
   },
   "outputs": [],
   "source": [
    "X_train = X.reset_index()\n",
    "X_train = X_train.loc[Y_train.index].set_index('customer_id')"
   ]
  },
  {
   "cell_type": "markdown",
   "metadata": {},
   "source": [
    "Обучаемся на всех данных"
   ]
  },
  {
   "cell_type": "code",
   "execution_count": 13,
   "metadata": {
    "collapsed": false
   },
   "outputs": [
    {
     "data": {
      "text/plain": [
       "GradientBoostingClassifier(criterion='friedman_mse', init=None,\n",
       "              learning_rate=0.1, loss='deviance', max_depth=3,\n",
       "              max_features=None, max_leaf_nodes=None,\n",
       "              min_impurity_split=1e-07, min_samples_leaf=1,\n",
       "              min_samples_split=2, min_weight_fraction_leaf=0.0,\n",
       "              n_estimators=100, presort='auto', random_state=13,\n",
       "              subsample=1.0, verbose=0, warm_start=False)"
      ]
     },
     "execution_count": 13,
     "metadata": {},
     "output_type": "execute_result"
    }
   ],
   "source": [
    "clf = GradientBoostingClassifier(random_state=13)\n",
    "clf.fit(X_train, Y_train.values[:, 0])"
   ]
  },
  {
   "cell_type": "markdown",
   "metadata": {},
   "source": [
    "Предсказываем пол для тестовых данных и создаём файл с ответом"
   ]
  },
  {
   "cell_type": "code",
   "execution_count": 14,
   "metadata": {
    "collapsed": true
   },
   "outputs": [],
   "source": [
    "X_test = X.drop(customers_gender.index)\n",
    "result = pd.DataFrame(X_test.index, columns=['customer_id'])\n",
    "result['gender'] = clf.predict_proba(X_test)[:, 1]"
   ]
  },
  {
   "cell_type": "code",
   "execution_count": 11,
   "metadata": {
    "collapsed": true
   },
   "outputs": [],
   "source": [
    "result.to_csv('baseline_a.csv', index=False)"
   ]
  },
  {
   "cell_type": "markdown",
   "metadata": {},
   "source": [
    "### Создание признаков"
   ]
  },
  {
   "cell_type": "markdown",
   "metadata": {},
   "source": []
  },
  {
   "cell_type": "code",
   "execution_count": 12,
   "metadata": {
    "collapsed": false
   },
   "outputs": [
    {
     "data": {
      "text/plain": [
       "(15000, 184)"
      ]
     },
     "execution_count": 12,
     "metadata": {},
     "output_type": "execute_result"
    }
   ],
   "source": [
    "mcc_count= transactions.groupby('customer_id').apply(lambda x: x[['mcc_code']].unstack().value_counts()).unstack().fillna(0)\n",
    "mcc_count.shape"
   ]
  },
  {
   "cell_type": "code",
   "execution_count": 13,
   "metadata": {
    "collapsed": false
   },
   "outputs": [
    {
     "data": {
      "text/plain": [
       "(15000, 77)"
      ]
     },
     "execution_count": 13,
     "metadata": {},
     "output_type": "execute_result"
    }
   ],
   "source": [
    "type_count= transactions.groupby('customer_id').apply(lambda x: x[['tr_type']].unstack().value_counts()).unstack().fillna(0)\n",
    "type_count.shape"
   ]
  },
  {
   "cell_type": "code",
   "execution_count": 215,
   "metadata": {
    "collapsed": true
   },
   "outputs": [],
   "source": [
    "X = pd.concat([mcc_count, type_count], axis = 1)\n",
    "\n",
    "Y_train = customers_gender.loc[X.index].gender\n",
    "Y_train = Y_train.reset_index()\n",
    "del Y_train['customer_id']\n",
    "Y_train = Y_train.dropna(0)\n",
    "\n",
    "X_train = X.reset_index()\n",
    "X_train = X_train.loc[Y_train.index].set_index('customer_id')"
   ]
  },
  {
   "cell_type": "code",
   "execution_count": 53,
   "metadata": {
    "collapsed": false
   },
   "outputs": [
    {
     "data": {
      "text/plain": [
       "((15000, 184), (15000, 77), (12000, 261))"
      ]
     },
     "execution_count": 53,
     "metadata": {},
     "output_type": "execute_result"
    }
   ],
   "source": [
    "mcc_count.shape, type_count.shape, X_train.shape"
   ]
  },
  {
   "cell_type": "code",
   "execution_count": 54,
   "metadata": {
    "collapsed": true
   },
   "outputs": [],
   "source": [
    "from sklearn.model_selection import train_test_split\n",
    "x_train, x_test, y_train, y_test = train_test_split(X_train, Y_train.values[:, 0], test_size = 0.3, random_state = 42)"
   ]
  },
  {
   "cell_type": "markdown",
   "metadata": {},
   "source": [
    "### Нейронка и ебустинг"
   ]
  },
  {
   "cell_type": "markdown",
   "metadata": {},
   "source": [
    "В прошлый раз получил также 86.8% - всё честно."
   ]
  },
  {
   "cell_type": "code",
   "execution_count": 46,
   "metadata": {
    "collapsed": false
   },
   "outputs": [
    {
     "data": {
      "text/plain": [
       "0.86837265625000004"
      ]
     },
     "execution_count": 46,
     "metadata": {},
     "output_type": "execute_result"
    }
   ],
   "source": [
    "nn2 = MLPClassifier(hidden_layer_sizes=(150,50,5), activation='relu', alpha=0.01, early_stopping=True, random_state = 42)\n",
    "nn2.fit(log(1+x_train), y_train)\n",
    "roc_auc_score(y_test,  nn2.predict_proba(log(1+x_test))[:,1])"
   ]
  },
  {
   "cell_type": "markdown",
   "metadata": {},
   "source": [
    "Логрегрессия почти так же классна, как нейросетушка!"
   ]
  },
  {
   "cell_type": "code",
   "execution_count": 176,
   "metadata": {
    "collapsed": false
   },
   "outputs": [
    {
     "data": {
      "text/plain": [
       "0.86710734375000009"
      ]
     },
     "execution_count": 176,
     "metadata": {},
     "output_type": "execute_result"
    }
   ],
   "source": [
    "lr = LogisticRegression(penalty= 'l2', C = 0.1, random_state = 42)\n",
    "lr.fit(log(1+x_train), y_train)\n",
    "roc_auc_score(y_test,  lr.predict_proba(log(1+x_test))[:,1])"
   ]
  },
  {
   "cell_type": "code",
   "execution_count": 152,
   "metadata": {
    "collapsed": false
   },
   "outputs": [
    {
     "data": {
      "text/plain": [
       "0.86070281250000003"
      ]
     },
     "execution_count": 152,
     "metadata": {},
     "output_type": "execute_result"
    }
   ],
   "source": [
    "from sklearn.ensemble import GradientBoostingClassifier\n",
    "gbc = GradientBoostingClassifier(random_state = 42, learning_rate=0.1, n_estimators=100, subsample=1.0\n",
    "                                 , min_samples_leaf = 50, max_depth=5)\n",
    "#cross_val_score(gbc, X_train, Y_train.values[:, 0], cv=3, scoring = 'roc_auc', n_jobs =3).mean()\n",
    "gbc.fit(log(1+x_train), y_train)\n",
    "roc_auc_score(y_test,  gbc.predict_proba(log(1+x_test))[:,1])"
   ]
  },
  {
   "cell_type": "markdown",
   "metadata": {},
   "source": [
    "При склеивании получаю джини под 87.2%, как и собирался."
   ]
  },
  {
   "cell_type": "code",
   "execution_count": 51,
   "metadata": {
    "collapsed": false
   },
   "outputs": [
    {
     "data": {
      "text/plain": [
       "0.87200828125000007"
      ]
     },
     "execution_count": 51,
     "metadata": {},
     "output_type": "execute_result"
    }
   ],
   "source": [
    "roc_auc_score(y_test,  nn2.predict_proba(log(1+x_test))[:,1]+gbc.predict_proba(log(1+x_test))[:,1])"
   ]
  },
  {
   "cell_type": "code",
   "execution_count": 58,
   "metadata": {
    "collapsed": true
   },
   "outputs": [],
   "source": [
    "X_test = X.drop(customers_gender.index)\n",
    "result = pd.DataFrame(X_test.index, columns=['customer_id'])\n",
    "result['gender'] = nn2.predict_proba(log(1+X_test))[:, 1]*0.7 + gbc.predict_proba(log(1+X_test))[:, 1] * 0.3"
   ]
  },
  {
   "cell_type": "code",
   "execution_count": 60,
   "metadata": {
    "collapsed": false
   },
   "outputs": [
    {
     "name": "stdout",
     "output_type": "stream",
     "text": [
      "(3000, 2)\n"
     ]
    },
    {
     "data": {
      "text/html": [
       "<div>\n",
       "<table border=\"1\" class=\"dataframe\">\n",
       "  <thead>\n",
       "    <tr style=\"text-align: right;\">\n",
       "      <th></th>\n",
       "      <th>customer_id</th>\n",
       "      <th>gender</th>\n",
       "    </tr>\n",
       "  </thead>\n",
       "  <tbody>\n",
       "    <tr>\n",
       "      <th>0</th>\n",
       "      <td>49101</td>\n",
       "      <td>0.440015</td>\n",
       "    </tr>\n",
       "    <tr>\n",
       "      <th>1</th>\n",
       "      <td>114348</td>\n",
       "      <td>0.754649</td>\n",
       "    </tr>\n",
       "    <tr>\n",
       "      <th>2</th>\n",
       "      <td>127946</td>\n",
       "      <td>0.795105</td>\n",
       "    </tr>\n",
       "    <tr>\n",
       "      <th>3</th>\n",
       "      <td>137367</td>\n",
       "      <td>0.536945</td>\n",
       "    </tr>\n",
       "    <tr>\n",
       "      <th>4</th>\n",
       "      <td>174467</td>\n",
       "      <td>0.757122</td>\n",
       "    </tr>\n",
       "  </tbody>\n",
       "</table>\n",
       "</div>"
      ],
      "text/plain": [
       "   customer_id    gender\n",
       "0        49101  0.440015\n",
       "1       114348  0.754649\n",
       "2       127946  0.795105\n",
       "3       137367  0.536945\n",
       "4       174467  0.757122"
      ]
     },
     "execution_count": 60,
     "metadata": {},
     "output_type": "execute_result"
    }
   ],
   "source": [
    "print(result.shape)\n",
    "result.head()"
   ]
  },
  {
   "cell_type": "code",
   "execution_count": 61,
   "metadata": {
    "collapsed": true
   },
   "outputs": [],
   "source": [
    "result.to_csv('a06_2.csv', index=False)"
   ]
  },
  {
   "cell_type": "markdown",
   "metadata": {},
   "source": [
    "Честный рекорд на тесте = 87.2%. Хотя на валидации это только 86.3%"
   ]
  },
  {
   "cell_type": "markdown",
   "metadata": {},
   "source": [
    "### Смотрю на важные признаки"
   ]
  },
  {
   "cell_type": "code",
   "execution_count": 153,
   "metadata": {
    "collapsed": false
   },
   "outputs": [
    {
     "data": {
      "text/plain": [
       "[<matplotlib.lines.Line2D at 0x21904ac1710>]"
      ]
     },
     "execution_count": 153,
     "metadata": {},
     "output_type": "execute_result"
    },
    {
     "data": {
      "image/png": "[encoded data removed]",
      "text/plain": [
       "<matplotlib.figure.Figure at 0x21900818978>"
      ]
     },
     "metadata": {},
     "output_type": "display_data"
    }
   ],
   "source": [
    "plot(gbc.feature_importances_)"
   ]
  },
  {
   "cell_type": "code",
   "execution_count": 173,
   "metadata": {
    "collapsed": false
   },
   "outputs": [
    {
     "name": "stdout",
     "output_type": "stream",
     "text": [
      "[5211, 5411, 5533, 5541, 5621, 5661, 5691, 5732, 5812, 5912, 5977, 6011, 1010, 1030, 2010]\n"
     ]
    },
    {
     "data": {
      "text/html": [
       "<div>\n",
       "<table border=\"1\" class=\"dataframe\">\n",
       "  <thead>\n",
       "    <tr style=\"text-align: right;\">\n",
       "      <th></th>\n",
       "      <th>mcc_code</th>\n",
       "      <th>mcc_description</th>\n",
       "    </tr>\n",
       "  </thead>\n",
       "  <tbody>\n",
       "    <tr>\n",
       "      <th>0</th>\n",
       "      <td>5211</td>\n",
       "      <td>Лесо- и строительный материал</td>\n",
       "    </tr>\n",
       "    <tr>\n",
       "      <th>1</th>\n",
       "      <td>5411</td>\n",
       "      <td>Бакалейные магазины, супермаркеты</td>\n",
       "    </tr>\n",
       "    <tr>\n",
       "      <th>2</th>\n",
       "      <td>5533</td>\n",
       "      <td>Автозапчасти и аксессуары</td>\n",
       "    </tr>\n",
       "    <tr>\n",
       "      <th>3</th>\n",
       "      <td>5541</td>\n",
       "      <td>Станции техобслуживания</td>\n",
       "    </tr>\n",
       "    <tr>\n",
       "      <th>4</th>\n",
       "      <td>5621</td>\n",
       "      <td>Готовая женская одежда</td>\n",
       "    </tr>\n",
       "    <tr>\n",
       "      <th>5</th>\n",
       "      <td>5661</td>\n",
       "      <td>Обувные магазины</td>\n",
       "    </tr>\n",
       "    <tr>\n",
       "      <th>6</th>\n",
       "      <td>5691</td>\n",
       "      <td>Магазины мужской и женской одежды</td>\n",
       "    </tr>\n",
       "    <tr>\n",
       "      <th>7</th>\n",
       "      <td>5732</td>\n",
       "      <td>Продажа электронного оборудования</td>\n",
       "    </tr>\n",
       "    <tr>\n",
       "      <th>8</th>\n",
       "      <td>5812</td>\n",
       "      <td>Места общественного питания, рестораны</td>\n",
       "    </tr>\n",
       "    <tr>\n",
       "      <th>9</th>\n",
       "      <td>5912</td>\n",
       "      <td>Аптеки</td>\n",
       "    </tr>\n",
       "    <tr>\n",
       "      <th>10</th>\n",
       "      <td>5977</td>\n",
       "      <td>Магазины косметики</td>\n",
       "    </tr>\n",
       "    <tr>\n",
       "      <th>11</th>\n",
       "      <td>6011</td>\n",
       "      <td>Финансовые институты — снятие наличности автом...</td>\n",
       "    </tr>\n",
       "  </tbody>\n",
       "</table>\n",
       "</div>"
      ],
      "text/plain": [
       "    mcc_code                                    mcc_description\n",
       "0       5211                      Лесо- и строительный материал\n",
       "1       5411                  Бакалейные магазины, супермаркеты\n",
       "2       5533                          Автозапчасти и аксессуары\n",
       "3       5541                            Станции техобслуживания\n",
       "4       5621                             Готовая женская одежда\n",
       "5       5661                                   Обувные магазины\n",
       "6       5691                  Магазины мужской и женской одежды\n",
       "7       5732                  Продажа электронного оборудования\n",
       "8       5812             Места общественного питания, рестораны\n",
       "9       5912                                             Аптеки\n",
       "10      5977                                 Магазины косметики\n",
       "11      6011  Финансовые институты — снятие наличности автом..."
      ]
     },
     "execution_count": 173,
     "metadata": {},
     "output_type": "execute_result"
    }
   ],
   "source": [
    "important = x_train.columns[gbc.feature_importances_> 0.02]\n",
    "print(important.tolist())\n",
    "pd.merge(tr_mcc_codes, pd.DataFrame({'mcc_code':important.tolist()}))"
   ]
  },
  {
   "cell_type": "code",
   "execution_count": 174,
   "metadata": {
    "collapsed": false
   },
   "outputs": [
    {
     "data": {
      "text/html": [
       "<div>\n",
       "<table border=\"1\" class=\"dataframe\">\n",
       "  <thead>\n",
       "    <tr style=\"text-align: right;\">\n",
       "      <th></th>\n",
       "      <th>tr_type</th>\n",
       "      <th>tr_description</th>\n",
       "    </tr>\n",
       "  </thead>\n",
       "  <tbody>\n",
       "    <tr>\n",
       "      <th>0</th>\n",
       "      <td>1010</td>\n",
       "      <td>Покупка. POS ТУ СБ РФ</td>\n",
       "    </tr>\n",
       "    <tr>\n",
       "      <th>1</th>\n",
       "      <td>1030</td>\n",
       "      <td>Оплата услуги. Банкоматы СБ РФ</td>\n",
       "    </tr>\n",
       "    <tr>\n",
       "      <th>2</th>\n",
       "      <td>2010</td>\n",
       "      <td>Выдача наличных в АТМ Сбербанк России</td>\n",
       "    </tr>\n",
       "  </tbody>\n",
       "</table>\n",
       "</div>"
      ],
      "text/plain": [
       "   tr_type                         tr_description\n",
       "0     1010                  Покупка. POS ТУ СБ РФ\n",
       "1     1030         Оплата услуги. Банкоматы СБ РФ\n",
       "2     2010  Выдача наличных в АТМ Сбербанк России"
      ]
     },
     "execution_count": 174,
     "metadata": {},
     "output_type": "execute_result"
    }
   ],
   "source": [
    "pd.merge(tr_types, pd.DataFrame({'tr_type':important.tolist()}))"
   ]
  },
  {
   "cell_type": "code",
   "execution_count": 177,
   "metadata": {
    "collapsed": false
   },
   "outputs": [
    {
     "data": {
      "text/plain": [
       "[<matplotlib.lines.Line2D at 0x21904bf0748>]"
      ]
     },
     "execution_count": 177,
     "metadata": {},
     "output_type": "execute_result"
    },
    {
     "data": {
      "image/png": "[encoded data removed]",
      "text/plain": [
       "<matplotlib.figure.Figure at 0x21904a98d30>"
      ]
     },
     "metadata": {},
     "output_type": "display_data"
    }
   ],
   "source": [
    "plot(lr.coef_[0])"
   ]
  },
  {
   "cell_type": "markdown",
   "metadata": {},
   "source": [
    "Мужские транзакции:"
   ]
  },
  {
   "cell_type": "code",
   "execution_count": 179,
   "metadata": {
    "collapsed": false
   },
   "outputs": [
    {
     "data": {
      "text/html": [
       "<div>\n",
       "<table border=\"1\" class=\"dataframe\">\n",
       "  <thead>\n",
       "    <tr style=\"text-align: right;\">\n",
       "      <th></th>\n",
       "      <th>mcc_code</th>\n",
       "      <th>mcc_description</th>\n",
       "    </tr>\n",
       "  </thead>\n",
       "  <tbody>\n",
       "    <tr>\n",
       "      <th>0</th>\n",
       "      <td>5511</td>\n",
       "      <td>Легковой и грузовой транспорт — продажа, серви...</td>\n",
       "    </tr>\n",
       "    <tr>\n",
       "      <th>1</th>\n",
       "      <td>5533</td>\n",
       "      <td>Автозапчасти и аксессуары</td>\n",
       "    </tr>\n",
       "    <tr>\n",
       "      <th>2</th>\n",
       "      <td>5611</td>\n",
       "      <td>Мужская одежда и аксессуары, включая одежду дл...</td>\n",
       "    </tr>\n",
       "    <tr>\n",
       "      <th>3</th>\n",
       "      <td>5732</td>\n",
       "      <td>Продажа электронного оборудования</td>\n",
       "    </tr>\n",
       "    <tr>\n",
       "      <th>4</th>\n",
       "      <td>5734</td>\n",
       "      <td>Продажа компьютерного программного обеспечения</td>\n",
       "    </tr>\n",
       "    <tr>\n",
       "      <th>5</th>\n",
       "      <td>7994</td>\n",
       "      <td>Галереи/учреждения видеоигр</td>\n",
       "    </tr>\n",
       "  </tbody>\n",
       "</table>\n",
       "</div>"
      ],
      "text/plain": [
       "   mcc_code                                    mcc_description\n",
       "0      5511  Легковой и грузовой транспорт — продажа, серви...\n",
       "1      5533                          Автозапчасти и аксессуары\n",
       "2      5611  Мужская одежда и аксессуары, включая одежду дл...\n",
       "3      5732                  Продажа электронного оборудования\n",
       "4      5734     Продажа компьютерного программного обеспечения\n",
       "5      7994                        Галереи/учреждения видеоигр"
      ]
     },
     "execution_count": 179,
     "metadata": {},
     "output_type": "execute_result"
    }
   ],
   "source": [
    "pd.merge(tr_mcc_codes, pd.DataFrame({'mcc_code':x_train.columns[lr.coef_[0]> 0.4].tolist()}))"
   ]
  },
  {
   "cell_type": "markdown",
   "metadata": {},
   "source": [
    "Женские транзакции"
   ]
  },
  {
   "cell_type": "code",
   "execution_count": 180,
   "metadata": {
    "collapsed": false
   },
   "outputs": [
    {
     "data": {
      "text/html": [
       "<div>\n",
       "<table border=\"1\" class=\"dataframe\">\n",
       "  <thead>\n",
       "    <tr style=\"text-align: right;\">\n",
       "      <th></th>\n",
       "      <th>mcc_code</th>\n",
       "      <th>mcc_description</th>\n",
       "    </tr>\n",
       "  </thead>\n",
       "  <tbody>\n",
       "    <tr>\n",
       "      <th>0</th>\n",
       "      <td>5621</td>\n",
       "      <td>Готовая женская одежда</td>\n",
       "    </tr>\n",
       "    <tr>\n",
       "      <th>1</th>\n",
       "      <td>5631</td>\n",
       "      <td>Аксессуары для женщин</td>\n",
       "    </tr>\n",
       "    <tr>\n",
       "      <th>2</th>\n",
       "      <td>5651</td>\n",
       "      <td>Одежда для всей семьи</td>\n",
       "    </tr>\n",
       "    <tr>\n",
       "      <th>3</th>\n",
       "      <td>5661</td>\n",
       "      <td>Обувные магазины</td>\n",
       "    </tr>\n",
       "    <tr>\n",
       "      <th>4</th>\n",
       "      <td>5714</td>\n",
       "      <td>Ткани, обивочный материал, гардины и портьеры,...</td>\n",
       "    </tr>\n",
       "    <tr>\n",
       "      <th>5</th>\n",
       "      <td>5943</td>\n",
       "      <td>Магазины офисных, школьных принадлежностей, ка...</td>\n",
       "    </tr>\n",
       "    <tr>\n",
       "      <th>6</th>\n",
       "      <td>5977</td>\n",
       "      <td>Магазины косметики</td>\n",
       "    </tr>\n",
       "    <tr>\n",
       "      <th>7</th>\n",
       "      <td>7230</td>\n",
       "      <td>Салоты красоты и парикмахерские</td>\n",
       "    </tr>\n",
       "  </tbody>\n",
       "</table>\n",
       "</div>"
      ],
      "text/plain": [
       "   mcc_code                                    mcc_description\n",
       "0      5621                             Готовая женская одежда\n",
       "1      5631                              Аксессуары для женщин\n",
       "2      5651                              Одежда для всей семьи\n",
       "3      5661                                   Обувные магазины\n",
       "4      5714  Ткани, обивочный материал, гардины и портьеры,...\n",
       "5      5943  Магазины офисных, школьных принадлежностей, ка...\n",
       "6      5977                                 Магазины косметики\n",
       "7      7230                    Салоты красоты и парикмахерские"
      ]
     },
     "execution_count": 180,
     "metadata": {},
     "output_type": "execute_result"
    }
   ],
   "source": [
    "pd.merge(tr_mcc_codes, pd.DataFrame({'mcc_code':x_train.columns[lr.coef_[0]< -0.4].tolist()}))"
   ]
  },
  {
   "cell_type": "markdown",
   "metadata": {},
   "source": [
    "нейтральные транзакции"
   ]
  },
  {
   "cell_type": "code",
   "execution_count": 181,
   "metadata": {
    "collapsed": false
   },
   "outputs": [
    {
     "data": {
      "text/html": [
       "<div>\n",
       "<table border=\"1\" class=\"dataframe\">\n",
       "  <thead>\n",
       "    <tr style=\"text-align: right;\">\n",
       "      <th></th>\n",
       "      <th>mcc_code</th>\n",
       "      <th>mcc_description</th>\n",
       "    </tr>\n",
       "  </thead>\n",
       "  <tbody>\n",
       "    <tr>\n",
       "      <th>0</th>\n",
       "      <td>4900</td>\n",
       "      <td>Коммунальные услуги — электричество, газ, сани...</td>\n",
       "    </tr>\n",
       "    <tr>\n",
       "      <th>1</th>\n",
       "      <td>5169</td>\n",
       "      <td>Химикалии и смежные вещества, не классифициров...</td>\n",
       "    </tr>\n",
       "    <tr>\n",
       "      <th>2</th>\n",
       "      <td>5499</td>\n",
       "      <td>Различные продовольственные магазины — рынки, ...</td>\n",
       "    </tr>\n",
       "    <tr>\n",
       "      <th>3</th>\n",
       "      <td>5571</td>\n",
       "      <td>Продажа мотоциклов</td>\n",
       "    </tr>\n",
       "    <tr>\n",
       "      <th>4</th>\n",
       "      <td>5712</td>\n",
       "      <td>Оборудование, мебель и бытовые принадлежности ...</td>\n",
       "    </tr>\n",
       "    <tr>\n",
       "      <th>5</th>\n",
       "      <td>5945</td>\n",
       "      <td>Магазины игрушек</td>\n",
       "    </tr>\n",
       "    <tr>\n",
       "      <th>6</th>\n",
       "      <td>5950</td>\n",
       "      <td>Магазины хрусталя и изделий из стекла</td>\n",
       "    </tr>\n",
       "    <tr>\n",
       "      <th>7</th>\n",
       "      <td>6300</td>\n",
       "      <td>Продажа страхования, гарантированное размещени...</td>\n",
       "    </tr>\n",
       "    <tr>\n",
       "      <th>8</th>\n",
       "      <td>7375</td>\n",
       "      <td>Информационные провайдеры</td>\n",
       "    </tr>\n",
       "    <tr>\n",
       "      <th>9</th>\n",
       "      <td>7395</td>\n",
       "      <td>Фотостудии, фотолаборатории</td>\n",
       "    </tr>\n",
       "    <tr>\n",
       "      <th>10</th>\n",
       "      <td>7829</td>\n",
       "      <td>Производство и дистрибуция видеофильмов</td>\n",
       "    </tr>\n",
       "  </tbody>\n",
       "</table>\n",
       "</div>"
      ],
      "text/plain": [
       "    mcc_code                                    mcc_description\n",
       "0       4900  Коммунальные услуги — электричество, газ, сани...\n",
       "1       5169  Химикалии и смежные вещества, не классифициров...\n",
       "2       5499  Различные продовольственные магазины — рынки, ...\n",
       "3       5571                                 Продажа мотоциклов\n",
       "4       5712  Оборудование, мебель и бытовые принадлежности ...\n",
       "5       5945                                   Магазины игрушек\n",
       "6       5950              Магазины хрусталя и изделий из стекла\n",
       "7       6300  Продажа страхования, гарантированное размещени...\n",
       "8       7375                          Информационные провайдеры\n",
       "9       7395                        Фотостудии, фотолаборатории\n",
       "10      7829            Производство и дистрибуция видеофильмов"
      ]
     },
     "execution_count": 181,
     "metadata": {},
     "output_type": "execute_result"
    }
   ],
   "source": [
    "pd.merge(tr_mcc_codes, pd.DataFrame({'mcc_code':x_train.columns[abs(lr.coef_[0])< 0.01].tolist()}))"
   ]
  },
  {
   "cell_type": "code",
   "execution_count": 336,
   "metadata": {
    "collapsed": false
   },
   "outputs": [
    {
     "data": {
      "text/html": [
       "<div>\n",
       "<table border=\"1\" class=\"dataframe\">\n",
       "  <thead>\n",
       "    <tr style=\"text-align: right;\">\n",
       "      <th></th>\n",
       "      <th>gender</th>\n",
       "    </tr>\n",
       "  </thead>\n",
       "  <tbody>\n",
       "    <tr>\n",
       "      <th>0</th>\n",
       "      <td>0.0</td>\n",
       "    </tr>\n",
       "    <tr>\n",
       "      <th>1</th>\n",
       "      <td>1.0</td>\n",
       "    </tr>\n",
       "    <tr>\n",
       "      <th>2</th>\n",
       "      <td>1.0</td>\n",
       "    </tr>\n",
       "    <tr>\n",
       "      <th>3</th>\n",
       "      <td>0.0</td>\n",
       "    </tr>\n",
       "    <tr>\n",
       "      <th>4</th>\n",
       "      <td>0.0</td>\n",
       "    </tr>\n",
       "  </tbody>\n",
       "</table>\n",
       "</div>"
      ],
      "text/plain": [
       "   gender\n",
       "0     0.0\n",
       "1     1.0\n",
       "2     1.0\n",
       "3     0.0\n",
       "4     0.0"
      ]
     },
     "execution_count": 336,
     "metadata": {},
     "output_type": "execute_result"
    }
   ],
   "source": [
    "Y_train.head()"
   ]
  },
  {
   "cell_type": "markdown",
   "metadata": {},
   "source": [
    "# Пытаюсь ещё как-то расширить пространство фич"
   ]
  },
  {
   "cell_type": "markdown",
   "metadata": {},
   "source": [
    "### Использую PCA"
   ]
  },
  {
   "cell_type": "markdown",
   "metadata": {},
   "source": [
    "Удивительно, но уже порядка 10 главных компонент на 60% описывают пространство моих людишек"
   ]
  },
  {
   "cell_type": "code",
   "execution_count": 79,
   "metadata": {
    "collapsed": false
   },
   "outputs": [
    {
     "name": "stdout",
     "output_type": "stream",
     "text": [
      "0.886114363204\n"
     ]
    },
    {
     "data": {
      "image/png": "[encoded data removed]",
      "text/plain": [
       "<matplotlib.figure.Figure at 0x219004adb70>"
      ]
     },
     "metadata": {},
     "output_type": "display_data"
    }
   ],
   "source": [
    "from sklearn.decomposition import PCA\n",
    "pca = PCA(n_components = 50).fit(log(1+x_train))\n",
    "print(sum(pca.explained_variance_ratio_))\n",
    "_ = figure(figsize = (15, 3))\n",
    "_ = subplot(1, 2, 1)\n",
    "_ =plot(pca.explained_variance_ratio_)\n",
    "_ = subplot(1, 2, 2)\n",
    "_ =plot(cumsum(pca.explained_variance_ratio_))"
   ]
  },
  {
   "cell_type": "markdown",
   "metadata": {},
   "source": [
    "Первая компонента, видимо, просто отражает то, как много человек вообще транзачит.\n",
    "\n",
    "Остальные отражают разные контрасты."
   ]
  },
  {
   "cell_type": "code",
   "execution_count": 78,
   "metadata": {
    "collapsed": false
   },
   "outputs": [
    {
     "name": "stdout",
     "output_type": "stream",
     "text": [
      "(20, 261)\n"
     ]
    },
    {
     "data": {
      "image/png": "[encoded data removed]",
      "text/plain": [
       "<matplotlib.figure.Figure at 0x21900ae3160>"
      ]
     },
     "metadata": {},
     "output_type": "display_data"
    }
   ],
   "source": [
    "print(pca.components_.shape)\n",
    "for i in range(6):\n",
    "    subplot(3, 2, i+1)\n",
    "    plot(pca.components_[i])"
   ]
  },
  {
   "cell_type": "code",
   "execution_count": 102,
   "metadata": {
    "collapsed": false
   },
   "outputs": [
    {
     "data": {
      "text/plain": [
       "(8400, 311)"
      ]
     },
     "execution_count": 102,
     "metadata": {},
     "output_type": "execute_result"
    }
   ],
   "source": [
    "x_train_pca = pd.DataFrame(pca.transform(log(1+x_train)))\n",
    "x_train_pca.index = x_train.index\n",
    "x_train_pca.columns = ['pca_'+str(cn) for cn in x_train_pca.columns]\n",
    "x_train_pca = pd.concat([log(1+x_train), x_train_pca], axis = 1)\n",
    "x_train_pca.shape"
   ]
  },
  {
   "cell_type": "code",
   "execution_count": 107,
   "metadata": {
    "collapsed": false
   },
   "outputs": [
    {
     "data": {
      "text/plain": [
       "(3600, 311)"
      ]
     },
     "execution_count": 107,
     "metadata": {},
     "output_type": "execute_result"
    }
   ],
   "source": [
    "x_test_pca = pd.DataFrame(pca.transform(log(1+x_test)))\n",
    "x_test_pca.index = x_test.index\n",
    "x_test_pca.columns = ['pca_'+str(cn) for cn in x_test_pca.columns]\n",
    "x_test_pca = pd.concat([log(1+x_test), x_test_pca], axis = 1)\n",
    "x_test_pca.shape"
   ]
  },
  {
   "cell_type": "markdown",
   "metadata": {},
   "source": [
    "Градиентный бустинг, которому я добавил главных компонент, справляется хуже, чем без них.\n",
    "\n",
    "глубина 5, шаг 0.1 - быстровато он обучается! Но замедление счастья не приносит; моя хренюшка справляется хуже логита.\n",
    "\n",
    "Возможно, пихать всюду главные компоненты - так себе идея.\n",
    "\n",
    "Но зато мне ОЧЕНЬ хочется сделать что-то ядерное."
   ]
  },
  {
   "cell_type": "code",
   "execution_count": 175,
   "metadata": {
    "collapsed": false
   },
   "outputs": [
    {
     "data": {
      "text/plain": [
       "0.86107203124999998"
      ]
     },
     "execution_count": 175,
     "metadata": {},
     "output_type": "execute_result"
    }
   ],
   "source": [
    "gbc = GradientBoostingClassifier(random_state = 42, learning_rate=0.03, n_estimators=500, subsample=1.0\n",
    "                                 , min_samples_leaf = 50, max_depth=5)\n",
    "#cross_val_score(gbc, X_train, Y_train.values[:, 0], cv=3, scoring = 'roc_auc', n_jobs =3).mean()\n",
    "gbc.fit(x_train_pca, y_train)\n",
    "roc_auc_score(y_test,  gbc.predict_proba(x_test_pca)[:,1])"
   ]
  },
  {
   "cell_type": "code",
   "execution_count": 115,
   "metadata": {
    "collapsed": false
   },
   "outputs": [
    {
     "data": {
      "text/plain": [
       "[<matplotlib.lines.Line2D at 0x2190033ccc0>]"
      ]
     },
     "execution_count": 115,
     "metadata": {},
     "output_type": "execute_result"
    },
    {
     "data": {
      "image/png": "[encoded data removed]",
      "text/plain": [
       "<matplotlib.figure.Figure at 0x2190033ce10>"
      ]
     },
     "metadata": {},
     "output_type": "display_data"
    }
   ],
   "source": [
    "value_train= [roc_auc_score(y_train, pr) for pr in gbc.staged_decision_function(x_train_pca)]\n",
    "value_test = [roc_auc_score(y_test,  pr) for pr in gbc.staged_decision_function(x_test_pca)]\n",
    "plot(value_test)\n",
    "plot(value_train)"
   ]
  },
  {
   "cell_type": "markdown",
   "metadata": {},
   "source": [
    "Да, логит даёт уверенные 86.7%"
   ]
  },
  {
   "cell_type": "code",
   "execution_count": 116,
   "metadata": {
    "collapsed": false
   },
   "outputs": [
    {
     "data": {
      "text/plain": [
       "0.86702671875000004"
      ]
     },
     "execution_count": 116,
     "metadata": {},
     "output_type": "execute_result"
    }
   ],
   "source": [
    "lr = LogisticRegression(penalty= 'l2', C = 0.1, random_state = 42)\n",
    "lr.fit(x_train_pca, y_train)\n",
    "roc_auc_score(y_test,  lr.predict_proba(x_test_pca)[:,1])"
   ]
  },
  {
   "cell_type": "markdown",
   "metadata": {},
   "source": [
    "### Надеваю бустинг на логит"
   ]
  },
  {
   "cell_type": "markdown",
   "metadata": {},
   "source": [
    "А если надеть бустинг на логит?\n",
    "\n",
    "Получаем джини меньше, чем от просто логита.\n",
    "\n",
    "Если заставить бустинг меньше переобучаться, то побольше, до 86.9% (50 деревьев, шаг 0.1)"
   ]
  },
  {
   "cell_type": "code",
   "execution_count": 143,
   "metadata": {
    "collapsed": false
   },
   "outputs": [
    {
     "data": {
      "text/plain": [
       "0.86973109375000002"
      ]
     },
     "execution_count": 143,
     "metadata": {},
     "output_type": "execute_result"
    }
   ],
   "source": [
    "class init:\n",
    "    def __init__(self, est):\n",
    "        self.est = est\n",
    "    def predict(self, X):\n",
    "        pr = self.est.predict_proba(X)[:,1][:,numpy.newaxis]\n",
    "        return log(pr/(1-pr))\n",
    "    def fit(self, X, y, sample_weights):\n",
    "        self.est.fit(X, y)\n",
    "\n",
    "init_lr = init(LogisticRegression(penalty= 'l2', C = 0.1, random_state = 42))\n",
    "        \n",
    "gbc = GradientBoostingClassifier(random_state = 42, learning_rate=0.03, n_estimators=200, subsample=1.0\n",
    "                                 , min_samples_leaf = 500, max_depth=2, init = init_lr)\n",
    "#cross_val_score(gbc, X_train, Y_train.values[:, 0], cv=3, scoring = 'roc_auc', n_jobs =3).mean()\n",
    "gbc.fit(x_train_pca, y_train)\n",
    "roc_auc_score(y_test,  gbc.predict_proba(x_test_pca)[:,1])"
   ]
  },
  {
   "cell_type": "markdown",
   "metadata": {},
   "source": [
    "Почему бустинг <b>портит</b> предсказание на тесте? Ну очевидно, потому что жестоко переобучаюсь."
   ]
  },
  {
   "cell_type": "code",
   "execution_count": 144,
   "metadata": {
    "collapsed": false
   },
   "outputs": [
    {
     "data": {
      "text/plain": [
       "[<matplotlib.lines.Line2D at 0x2190080abe0>]"
      ]
     },
     "execution_count": 144,
     "metadata": {},
     "output_type": "execute_result"
    },
    {
     "data": {
      "image/png": "[encoded data removed]",
      "text/plain": [
       "<matplotlib.figure.Figure at 0x2190080add8>"
      ]
     },
     "metadata": {},
     "output_type": "display_data"
    }
   ],
   "source": [
    "value_train= [roc_auc_score(y_train, pr) for pr in gbc.staged_decision_function(x_train_pca)]\n",
    "value_test = [roc_auc_score(y_test,  pr) for pr in gbc.staged_decision_function(x_test_pca)]\n",
    "plot(value_test)\n",
    "plot(value_train)"
   ]
  },
  {
   "cell_type": "markdown",
   "metadata": {},
   "source": [
    "Ага! А бустинг-то в основном на главные компоненты смотрит!"
   ]
  },
  {
   "cell_type": "code",
   "execution_count": 146,
   "metadata": {
    "collapsed": false
   },
   "outputs": [
    {
     "data": {
      "text/plain": [
       "[<matplotlib.lines.Line2D at 0x21900c399b0>]"
      ]
     },
     "execution_count": 146,
     "metadata": {},
     "output_type": "execute_result"
    },
    {
     "data": {
      "image/png": "[encoded data removed]",
      "text/plain": [
       "<matplotlib.figure.Figure at 0x2190080f908>"
      ]
     },
     "metadata": {},
     "output_type": "display_data"
    }
   ],
   "source": [
    "plot(gbc.feature_importances_)"
   ]
  },
  {
   "cell_type": "markdown",
   "metadata": {},
   "source": [
    "логит же смотрит на всё подряд, но больше на MCC, чем на типы сделок."
   ]
  },
  {
   "cell_type": "code",
   "execution_count": 150,
   "metadata": {
    "collapsed": false
   },
   "outputs": [
    {
     "data": {
      "image/png": "[encoded data removed]",
      "text/plain": [
       "<matplotlib.figure.Figure at 0x219049a3ba8>"
      ]
     },
     "metadata": {},
     "output_type": "display_data"
    }
   ],
   "source": [
    "_ = plot(lr.coef_[0,:])"
   ]
  },
  {
   "cell_type": "markdown",
   "metadata": {},
   "source": [
    "### Добавляю признаки по суммам транзакций"
   ]
  },
  {
   "cell_type": "code",
   "execution_count": 20,
   "metadata": {
    "collapsed": false
   },
   "outputs": [
    {
     "data": {
      "text/plain": [
       "(15000, 184)"
      ]
     },
     "execution_count": 20,
     "metadata": {},
     "output_type": "execute_result"
    }
   ],
   "source": [
    "mcc_sums = transactions.groupby(['customer_id', 'mcc_code'])[['amount']].sum().reset_index()\n",
    "mcc_sums = mcc_sums.pivot(index='customer_id', columns='mcc_code', values='amount').fillna(0)\n",
    "mcc_sums.shape"
   ]
  },
  {
   "cell_type": "code",
   "execution_count": 21,
   "metadata": {
    "collapsed": false
   },
   "outputs": [
    {
     "data": {
      "text/plain": [
       "(15000, 77)"
      ]
     },
     "execution_count": 21,
     "metadata": {},
     "output_type": "execute_result"
    }
   ],
   "source": [
    "type_sums = transactions.groupby(['customer_id', 'tr_type'])[['amount']].sum().reset_index()\n",
    "type_sums = type_sums.pivot(index='customer_id', columns='tr_type', values='amount').fillna(0)\n",
    "type_sums.shape"
   ]
  },
  {
   "cell_type": "code",
   "execution_count": 225,
   "metadata": {
    "collapsed": false
   },
   "outputs": [
    {
     "data": {
      "text/plain": [
       "(15000, 77)"
      ]
     },
     "execution_count": 225,
     "metadata": {},
     "output_type": "execute_result"
    }
   ],
   "source": [
    "type_sums.shape"
   ]
  },
  {
   "cell_type": "code",
   "execution_count": 454,
   "metadata": {
    "collapsed": false
   },
   "outputs": [],
   "source": [
    "X = pd.concat([mcc_count, type_count, mcc_sums, type_sums], axis = 1)\n",
    "\n",
    "Y_train = customers_gender.loc[X.index].gender\n",
    "Y_train = Y_train.reset_index()\n",
    "del Y_train['customer_id']\n",
    "Y_train = Y_train.dropna(0)\n",
    "\n",
    "X_train = X.reset_index()\n",
    "X_train = X_train.loc[Y_train.index].set_index('customer_id')\n",
    "from sklearn.model_selection import train_test_split\n",
    "x_train, x_test, y_train, y_test = train_test_split(X_train, Y_train.values[:, 0], test_size = 0.3, random_state = 42)"
   ]
  },
  {
   "cell_type": "code",
   "execution_count": 455,
   "metadata": {
    "collapsed": false
   },
   "outputs": [
    {
     "data": {
      "text/plain": [
       "(8400, 522)"
      ]
     },
     "execution_count": 455,
     "metadata": {},
     "output_type": "execute_result"
    }
   ],
   "source": [
    "x_train.shape"
   ]
  },
  {
   "cell_type": "markdown",
   "metadata": {},
   "source": [
    "Смотрим, как отрабатывает бустинг на признаках с суммой. Оказывается - хорошо!"
   ]
  },
  {
   "cell_type": "code",
   "execution_count": 456,
   "metadata": {
    "collapsed": false
   },
   "outputs": [
    {
     "data": {
      "text/plain": [
       "0.86698468749999991"
      ]
     },
     "execution_count": 456,
     "metadata": {},
     "output_type": "execute_result"
    }
   ],
   "source": [
    "from sklearn.ensemble import GradientBoostingClassifier\n",
    "gbc = GradientBoostingClassifier(random_state = 42, learning_rate=0.1, n_estimators=100, subsample=1.0\n",
    "                                 , min_samples_leaf = 50, max_depth=5)\n",
    "#cross_val_score(gbc, X_train, Y_train.values[:, 0], cv=3, scoring = 'roc_auc', n_jobs =3).mean()\n",
    "gbc.fit(x_train, y_train)\n",
    "roc_auc_score(y_test,  gbc.predict_proba(x_test)[:,1])"
   ]
  },
  {
   "cell_type": "code",
   "execution_count": 229,
   "metadata": {
    "collapsed": false
   },
   "outputs": [
    {
     "data": {
      "text/plain": [
       "[<matplotlib.lines.Line2D at 0x21900e1c828>]"
      ]
     },
     "execution_count": 229,
     "metadata": {},
     "output_type": "execute_result"
    },
    {
     "data": {
      "image/png": "[encoded data removed]",
      "text/plain": [
       "<matplotlib.figure.Figure at 0x21900df4550>"
      ]
     },
     "metadata": {},
     "output_type": "display_data"
    }
   ],
   "source": [
    "plot(gbc.feature_importances_)"
   ]
  },
  {
   "cell_type": "code",
   "execution_count": 242,
   "metadata": {
    "collapsed": false
   },
   "outputs": [
    {
     "data": {
      "text/plain": [
       "[<matplotlib.lines.Line2D at 0x2190104d240>]"
      ]
     },
     "execution_count": 242,
     "metadata": {},
     "output_type": "execute_result"
    },
    {
     "data": {
      "image/png": "[encoded data removed]",
      "text/plain": [
       "<matplotlib.figure.Figure at 0x219010012b0>"
      ]
     },
     "metadata": {},
     "output_type": "display_data"
    }
   ],
   "source": [
    "plot(x_train.mean(axis = 0).tolist())"
   ]
  },
  {
   "cell_type": "code",
   "execution_count": 236,
   "metadata": {
    "collapsed": false
   },
   "outputs": [
    {
     "data": {
      "text/plain": [
       "[<matplotlib.lines.Line2D at 0x21900f2a780>]"
      ]
     },
     "execution_count": 236,
     "metadata": {},
     "output_type": "execute_result"
    },
    {
     "data": {
      "image/png": "[encoded data removed]",
      "text/plain": [
       "<matplotlib.figure.Figure at 0x21900ea80f0>"
      ]
     },
     "metadata": {},
     "output_type": "display_data"
    }
   ],
   "source": [
    "plot(mean(sign(x_train)).tolist())"
   ]
  },
  {
   "cell_type": "code",
   "execution_count": 458,
   "metadata": {
    "collapsed": true
   },
   "outputs": [],
   "source": [
    "x_train_log = sign(x_train) * log(1+abs(x_train))\n",
    "x_test_log = sign(x_test) * log(1+abs(x_test))"
   ]
  },
  {
   "cell_type": "code",
   "execution_count": 248,
   "metadata": {
    "collapsed": false
   },
   "outputs": [
    {
     "data": {
      "text/plain": [
       "[<matplotlib.lines.Line2D at 0x219011114a8>]"
      ]
     },
     "execution_count": 248,
     "metadata": {},
     "output_type": "execute_result"
    },
    {
     "data": {
      "image/png": "[encoded data removed]",
      "text/plain": [
       "<matplotlib.figure.Figure at 0x219010c1550>"
      ]
     },
     "metadata": {},
     "output_type": "display_data"
    }
   ],
   "source": [
    "plot(x_train_log.mean(axis = 0).tolist())"
   ]
  },
  {
   "cell_type": "markdown",
   "metadata": {},
   "source": [
    "Логит на логарифмированных широких признаках работает не сильно лучше, чем на узких"
   ]
  },
  {
   "cell_type": "code",
   "execution_count": 258,
   "metadata": {
    "collapsed": false
   },
   "outputs": [
    {
     "data": {
      "text/plain": [
       "0.86712843750000002"
      ]
     },
     "execution_count": 258,
     "metadata": {},
     "output_type": "execute_result"
    }
   ],
   "source": [
    "lr = LogisticRegression(penalty= 'l2', C = 0.01, random_state = 42)\n",
    "lr.fit(x_train_log, y_train)\n",
    "roc_auc_score(y_test,  lr.predict_proba(x_test_log)[:,1])"
   ]
  },
  {
   "cell_type": "markdown",
   "metadata": {},
   "source": [
    "Нейронка чё-то вообще не тащит. Хотя это сильно зависит от масштабирования признаков!"
   ]
  },
  {
   "cell_type": "code",
   "execution_count": 296,
   "metadata": {
    "collapsed": true
   },
   "outputs": [],
   "source": [
    "from sklearn.preprocessing import StandardScaler\n",
    "scaler = StandardScaler().fit(x_train_log)"
   ]
  },
  {
   "cell_type": "markdown",
   "metadata": {},
   "source": [
    "Как ни странно, лучше всего пока отрабатывает нейронка всего из 3 клеток"
   ]
  },
  {
   "cell_type": "code",
   "execution_count": 335,
   "metadata": {
    "collapsed": false
   },
   "outputs": [
    {
     "data": {
      "text/plain": [
       "0.86809687499999999"
      ]
     },
     "execution_count": 335,
     "metadata": {},
     "output_type": "execute_result"
    }
   ],
   "source": [
    "nn2 = MLPClassifier(hidden_layer_sizes=(3), activation='logistic', alpha=0.1, early_stopping=True, random_state = 42)\n",
    "nn2.fit(scaler.transform(x_train_log), y_train)\n",
    "roc_auc_score(y_test,  nn2.predict_proba(scaler.transform(x_test_log))[:,1])"
   ]
  },
  {
   "cell_type": "markdown",
   "metadata": {},
   "source": [
    "Пытаюсь зарядить гауссовскую SVM. Увы, не очень проходит."
   ]
  },
  {
   "cell_type": "code",
   "execution_count": 383,
   "metadata": {
    "collapsed": false
   },
   "outputs": [
    {
     "name": "stdout",
     "output_type": "stream",
     "text": [
      "0.1 0.001 0.8073896875\n",
      "1 0.001 0.856276875\n",
      "10 0.001 0.846948125\n",
      "0.1 0.003 0.774306875\n",
      "1 0.003 0.8293546875\n",
      "10 0.003 0.8076421875\n",
      "0.1 0.01 0.7521946875\n",
      "1 0.01 0.770443125\n",
      "10 0.01 0.7512828125\n",
      "0.1 0.03 0.701570625\n",
      "1 0.03 0.711588125\n",
      "10 0.03 0.69868984375\n",
      "0.1 0.1 0.631938125\n",
      "1 0.1 0.62718703125\n",
      "10 0.1 0.62169515625\n"
     ]
    }
   ],
   "source": [
    "for gamma in [0.001, 0.003, 0.01, 0.03, 0.1]:\n",
    "    for C in [0.1, 1, 10]:\n",
    "        svc = SVC(C=C, kernel='rbf', degree=3, gamma=gamma, random_state=42)\n",
    "        svc.fit(scaler.transform(x_train_log), y_train)\n",
    "        print(C, gamma, roc_auc_score(y_test,  svc.decision_function(scaler.transform(x_test_log))))"
   ]
  },
  {
   "cell_type": "markdown",
   "metadata": {},
   "source": [
    "#### Выкидываю лишние фичи"
   ]
  },
  {
   "cell_type": "code",
   "execution_count": 459,
   "metadata": {
    "collapsed": true
   },
   "outputs": [],
   "source": [
    "x_train_log_sparse = x_train_log.copy()\n",
    "x_test_log_sparse = x_test_log.copy()\n"
   ]
  },
  {
   "cell_type": "code",
   "execution_count": 461,
   "metadata": {
    "collapsed": false
   },
   "outputs": [
    {
     "data": {
      "text/plain": [
       "0.86705062499999996"
      ]
     },
     "execution_count": 461,
     "metadata": {},
     "output_type": "execute_result"
    }
   ],
   "source": [
    "gbc = GradientBoostingClassifier(random_state = 42, learning_rate=0.1, n_estimators=100, subsample=1.0\n",
    "                                 , min_samples_leaf = 50, max_depth=5)\n",
    "gbc.fit(x_train_log_sparse, y_train)\n",
    "roc_auc_score(y_test,  gbc.predict_proba(x_test_log_sparse)[:,1])"
   ]
  },
  {
   "cell_type": "code",
   "execution_count": 468,
   "metadata": {
    "collapsed": false
   },
   "outputs": [
    {
     "data": {
      "text/plain": [
       "0.32758620689655171"
      ]
     },
     "execution_count": 468,
     "metadata": {},
     "output_type": "execute_result"
    }
   ],
   "source": [
    "mean(gbc.feature_importances_>0)"
   ]
  },
  {
   "cell_type": "code",
   "execution_count": 463,
   "metadata": {
    "collapsed": false
   },
   "outputs": [
    {
     "data": {
      "image/png": "[encoded data removed]",
      "text/plain": [
       "<matplotlib.figure.Figure at 0x219012ed0f0>"
      ]
     },
     "metadata": {},
     "output_type": "display_data"
    }
   ],
   "source": [
    "_ = hist(gbc.feature_importances_, bins = 30)"
   ]
  },
  {
   "cell_type": "markdown",
   "metadata": {},
   "source": [
    "Ага! За счёт отбора признаков логрегрессия работает лучшеее!"
   ]
  },
  {
   "cell_type": "code",
   "execution_count": 466,
   "metadata": {
    "collapsed": true
   },
   "outputs": [],
   "source": [
    "important = x_train_log.columns[gbc.feature_importances_>0]\n",
    "x_train_log_sparse = x_train_log_sparse[important]\n",
    "x_test_log_sparse = x_test_log_sparse[important]"
   ]
  },
  {
   "cell_type": "code",
   "execution_count": 467,
   "metadata": {
    "collapsed": false
   },
   "outputs": [
    {
     "data": {
      "text/plain": [
       "0.8683609375000001"
      ]
     },
     "execution_count": 467,
     "metadata": {},
     "output_type": "execute_result"
    }
   ],
   "source": [
    "lr = LogisticRegression(penalty= 'l2', C = 0.01, random_state = 42)\n",
    "lr.fit(x_train_log_sparse, y_train)\n",
    "roc_auc_score(y_test,  lr.predict_proba(x_test_log_sparse)[:,1])"
   ]
  },
  {
   "cell_type": "code",
   "execution_count": 484,
   "metadata": {
    "collapsed": false
   },
   "outputs": [
    {
     "data": {
      "text/plain": [
       "0.19348659003831417"
      ]
     },
     "execution_count": 484,
     "metadata": {},
     "output_type": "execute_result"
    }
   ],
   "source": [
    "mean(gbc.feature_importances_>0.003)"
   ]
  },
  {
   "cell_type": "code",
   "execution_count": 483,
   "metadata": {
    "collapsed": false
   },
   "outputs": [
    {
     "data": {
      "text/plain": [
       "0.86559843749999998"
      ]
     },
     "execution_count": 483,
     "metadata": {},
     "output_type": "execute_result"
    }
   ],
   "source": [
    "important = x_train_log.columns[gbc.feature_importances_>0.003]\n",
    "x_train_log_sparse = x_train_log[important]\n",
    "x_test_log_sparse = x_test_log[important]\n",
    "lr = LogisticRegression(penalty= 'l2', C = 0.01, random_state = 42)\n",
    "lr.fit(x_train_log_sparse, y_train)\n",
    "roc_auc_score(y_test,  lr.predict_proba(x_test_log_sparse)[:,1])"
   ]
  },
  {
   "cell_type": "markdown",
   "metadata": {},
   "source": [
    "Кажется, теперь я достиг новых высот Oo"
   ]
  },
  {
   "cell_type": "code",
   "execution_count": 499,
   "metadata": {
    "collapsed": false
   },
   "outputs": [
    {
     "data": {
      "text/plain": [
       "0.87368531250000003"
      ]
     },
     "execution_count": 499,
     "metadata": {},
     "output_type": "execute_result"
    }
   ],
   "source": [
    "roc_auc_score(y_test,  gbc.predict_proba(x_test_log)[:,1]+lr.predict_proba(x_test_log_sparse)[:,1])"
   ]
  },
  {
   "cell_type": "code",
   "execution_count": 498,
   "metadata": {
    "collapsed": false
   },
   "outputs": [
    {
     "data": {
      "text/plain": [
       "0.8592815625000001"
      ]
     },
     "execution_count": 498,
     "metadata": {},
     "output_type": "execute_result"
    }
   ],
   "source": [
    "scaler= StandardScaler().fit(x_train_log_sparse)\n",
    "nn2 = MLPClassifier(hidden_layer_sizes=(100), activation='logistic', alpha=0.1, early_stopping=True, random_state = 42)\n",
    "nn2.fit(scaler.transform(x_train_log_sparse), y_train)\n",
    "roc_auc_score(y_test,  nn2.predict_proba(scaler.transform(x_test_log_sparse))[:,1])"
   ]
  },
  {
   "cell_type": "markdown",
   "metadata": {},
   "source": [
    "#### Фиксирую успех: модель на предотобранных фичах, AUC 87.3%"
   ]
  },
  {
   "cell_type": "code",
   "execution_count": 509,
   "metadata": {
    "collapsed": true
   },
   "outputs": [],
   "source": [
    "X = pd.concat([mcc_count, type_count, mcc_sums, type_sums], axis = 1)\n",
    "\n",
    "Y_train = customers_gender.loc[X.index].gender\n",
    "Y_train = Y_train.reset_index()\n",
    "del Y_train['customer_id']\n",
    "Y_train = Y_train.dropna(0)\n",
    "\n",
    "X_train = X.reset_index()\n",
    "X_train = X_train.loc[Y_train.index].set_index('customer_id')\n",
    "\n",
    "Y_train = Y_train.values[:, 0]\n",
    "from sklearn.model_selection import train_test_split\n",
    "x_train, x_test, y_train, y_test = train_test_split(X_train, Y_train, test_size = 0.3, random_state = 42)\n",
    "\n",
    "x_train_log = sign(x_train) * log(1+abs(x_train))\n",
    "x_test_log = sign(x_test) * log(1+abs(x_test))\n",
    "X_train_log = sign(X_train) * log(1+abs(X_train))"
   ]
  },
  {
   "cell_type": "code",
   "execution_count": 504,
   "metadata": {
    "collapsed": true
   },
   "outputs": [],
   "source": [
    "X_test = X.drop(customers_gender.index)\n",
    "X_test_log = sign(X_test) * log(1+abs(X_test))\n",
    "\n",
    "result = pd.DataFrame(X_test.index, columns=['customer_id'])\n"
   ]
  },
  {
   "cell_type": "code",
   "execution_count": 510,
   "metadata": {
    "collapsed": false
   },
   "outputs": [
    {
     "data": {
      "text/plain": [
       "GradientBoostingClassifier(criterion='friedman_mse', init=None,\n",
       "              learning_rate=0.1, loss='deviance', max_depth=5,\n",
       "              max_features=None, max_leaf_nodes=None,\n",
       "              min_impurity_split=1e-07, min_samples_leaf=50,\n",
       "              min_samples_split=2, min_weight_fraction_leaf=0.0,\n",
       "              n_estimators=100, presort='auto', random_state=42,\n",
       "              subsample=1.0, verbose=0, warm_start=False)"
      ]
     },
     "execution_count": 510,
     "metadata": {},
     "output_type": "execute_result"
    }
   ],
   "source": [
    "gbc = GradientBoostingClassifier(random_state = 42, learning_rate=0.1, n_estimators=100, subsample=1.0\n",
    "                                 , min_samples_leaf = 50, max_depth=5)\n",
    "gbc.fit(X_train_log, Y_train)"
   ]
  },
  {
   "cell_type": "code",
   "execution_count": 511,
   "metadata": {
    "collapsed": false
   },
   "outputs": [
    {
     "data": {
      "text/plain": [
       "LogisticRegression(C=0.01, class_weight=None, dual=False, fit_intercept=True,\n",
       "          intercept_scaling=1, max_iter=100, multi_class='ovr', n_jobs=1,\n",
       "          penalty='l2', random_state=42, solver='liblinear', tol=0.0001,\n",
       "          verbose=0, warm_start=False)"
      ]
     },
     "execution_count": 511,
     "metadata": {},
     "output_type": "execute_result"
    }
   ],
   "source": [
    "important = X_train_log.columns[gbc.feature_importances_>0.003]\n",
    "X_train_log_sparse = X_train_log[important]\n",
    "X_test_log_sparse = X_test_log[important]\n",
    "lr = LogisticRegression(penalty= 'l2', C = 0.01, random_state = 42)\n",
    "lr.fit(X_train_log_sparse, Y_train)"
   ]
  },
  {
   "cell_type": "code",
   "execution_count": null,
   "metadata": {
    "collapsed": false
   },
   "outputs": [],
   "source": [
    "result['gender'] = gbc.predict_proba(X_test_log)[:, 1]*0.5 + lr.predict_proba(X_test_log_sparse)[:, 1]*0.5\n",
    "result.to_csv('a07.csv', index=False)\n",
    "result.head()"
   ]
  },
  {
   "cell_type": "markdown",
   "metadata": {},
   "source": [
    "#### а если я всё просто бинаризую?"
   ]
  },
  {
   "cell_type": "code",
   "execution_count": 350,
   "metadata": {
    "collapsed": true
   },
   "outputs": [],
   "source": [
    "X = pd.concat([mcc_count>0, type_count>0], axis = 1)\n",
    "\n",
    "Y_train = customers_gender.loc[X.index].gender\n",
    "Y_train = Y_train.reset_index()\n",
    "del Y_train['customer_id']\n",
    "Y_train = Y_train.dropna(0)\n",
    "\n",
    "X_train = X.reset_index()\n",
    "X_train = X_train.loc[Y_train.index].set_index('customer_id')\n",
    "from sklearn.model_selection import train_test_split\n",
    "x_train, x_test, y_train, y_test = train_test_split(X_train, Y_train.values[:, 0], test_size = 0.3, random_state = 42)"
   ]
  },
  {
   "cell_type": "markdown",
   "metadata": {},
   "source": [
    "На бинаризованных признаках и логит, и бустинг не дотягивают"
   ]
  },
  {
   "cell_type": "code",
   "execution_count": 352,
   "metadata": {
    "collapsed": false
   },
   "outputs": [
    {
     "data": {
      "text/plain": [
       "0.84133765625000001"
      ]
     },
     "execution_count": 352,
     "metadata": {},
     "output_type": "execute_result"
    }
   ],
   "source": [
    "lr = LogisticRegression(penalty= 'l2', C = 0.01, random_state = 42)\n",
    "lr.fit(x_train, y_train)\n",
    "roc_auc_score(y_test,  lr.predict_proba(x_test)[:,1])"
   ]
  },
  {
   "cell_type": "code",
   "execution_count": 366,
   "metadata": {
    "collapsed": false
   },
   "outputs": [
    {
     "data": {
      "text/plain": [
       "0.83194906249999989"
      ]
     },
     "execution_count": 366,
     "metadata": {},
     "output_type": "execute_result"
    }
   ],
   "source": [
    "gbc = GradientBoostingClassifier(random_state = 42, learning_rate=0.1, n_estimators=100, subsample=1.0\n",
    "                                 , min_samples_leaf = 100, max_depth=5)\n",
    "#cross_val_score(gbc, X_train, Y_train.values[:, 0], cv=3, scoring = 'roc_auc', n_jobs =3).mean()\n",
    "gbc.fit(x_train, y_train)\n",
    "roc_auc_score(y_test,  gbc.predict_proba(x_test)[:,1])"
   ]
  },
  {
   "cell_type": "code",
   "execution_count": 371,
   "metadata": {
    "collapsed": false
   },
   "outputs": [
    {
     "data": {
      "text/plain": [
       "0.81164640624999995"
      ]
     },
     "execution_count": 371,
     "metadata": {},
     "output_type": "execute_result"
    }
   ],
   "source": [
    "rf = RandomForestClassifier(random_state = 42, n_estimators = 1000, min_samples_leaf = 50)\n",
    "#cross_val_score(gbc, X_train, Y_train.values[:, 0], cv=3, scoring = 'roc_auc', n_jobs =3).mean()\n",
    "rf.fit(x_train, y_train)\n",
    "roc_auc_score(y_test,  rf.predict_proba(x_test)[:,1])"
   ]
  },
  {
   "cell_type": "markdown",
   "metadata": {},
   "source": [
    "Таки никто не остановит мою мечту запустить SVM!\n",
    "\n",
    "Только SVM сука не тянет. Отрабатывает хуже логита!"
   ]
  },
  {
   "cell_type": "code",
   "execution_count": 375,
   "metadata": {
    "collapsed": false
   },
   "outputs": [
    {
     "data": {
      "text/plain": [
       "0.83338609374999995"
      ]
     },
     "execution_count": 375,
     "metadata": {},
     "output_type": "execute_result"
    }
   ],
   "source": [
    "from sklearn.svm import SVC\n",
    "svc = SVC(C=1.0, kernel='rbf', degree=3, gamma='auto', random_state=42)\n",
    "svc.fit(x_train, y_train)\n",
    "roc_auc_score(y_test,  svc.decision_function(x_test))"
   ]
  },
  {
   "cell_type": "code",
   "execution_count": 379,
   "metadata": {
    "collapsed": false
   },
   "outputs": [
    {
     "name": "stdout",
     "output_type": "stream",
     "text": [
      "0.1 0.001 0.76845890625\n",
      "1 0.001 0.82039140625\n",
      "10 0.001 0.83795171875\n",
      "0.1 0.01 0.81403890625\n",
      "1 0.01 0.83749890625\n",
      "10 0.01 0.83527984375\n",
      "0.1 0.1 0.78875546875\n",
      "1 0.1 0.82079234375\n",
      "10 0.1 0.79805859375\n",
      "0.1 1 0.64592609375\n",
      "1 1 0.65061296875\n",
      "10 1 0.64542390625\n",
      "0.1 10 0.5037396875\n",
      "1 10 0.50515828125\n",
      "10 10 0.505491875\n"
     ]
    }
   ],
   "source": [
    "for gamma in [0.001, 0.01, 0.1, 1, 10]:\n",
    "    for C in [0.1, 1, 10]:\n",
    "        svc = SVC(C=C, kernel='rbf', degree=3, gamma=gamma, random_state=42)\n",
    "        svc.fit(x_train, y_train)\n",
    "        print(C, gamma, roc_auc_score(y_test,  svc.decision_function(x_test)))"
   ]
  },
  {
   "cell_type": "code",
   "execution_count": 380,
   "metadata": {
    "collapsed": false
   },
   "outputs": [
    {
     "data": {
      "text/plain": [
       "0.82100203124999993"
      ]
     },
     "execution_count": 380,
     "metadata": {},
     "output_type": "execute_result"
    }
   ],
   "source": [
    "svc = SVC(C=10, kernel='rbf', degree=3, gamma=0.0001, random_state=42)\n",
    "svc.fit(x_train, y_train)\n",
    "roc_auc_score(y_test,  svc.decision_function(x_test))"
   ]
  },
  {
   "cell_type": "markdown",
   "metadata": {},
   "source": [
    "Пробую запуститься и на ДОЛЯХ (к обороту)"
   ]
  },
  {
   "cell_type": "code",
   "execution_count": 445,
   "metadata": {
    "collapsed": true
   },
   "outputs": [],
   "source": [
    "mcc_shares = (mcc_sums.abs().transpose() / mcc_sums.abs().sum(axis = 1)).transpose()\n",
    "type_shares = (type_sums.abs().transpose() / type_sums.abs().sum(axis = 1)).transpose()"
   ]
  },
  {
   "cell_type": "code",
   "execution_count": 446,
   "metadata": {
    "collapsed": true
   },
   "outputs": [],
   "source": [
    "X = pd.concat([mcc_count, type_count, mcc_shares, type_shares], axis = 1)\n",
    "\n",
    "Y_train = customers_gender.loc[X.index].gender\n",
    "Y_train = Y_train.reset_index()\n",
    "del Y_train['customer_id']\n",
    "Y_train = Y_train.dropna(0)\n",
    "\n",
    "X_train = X.reset_index()\n",
    "X_train = X_train.loc[Y_train.index].set_index('customer_id')\n",
    "from sklearn.model_selection import train_test_split\n",
    "x_train, x_test, y_train, y_test = train_test_split(X_train, Y_train.values[:, 0], test_size = 0.3, random_state = 42)\n",
    "\n",
    "x_train_log = sign(x_train) * log(1+abs(x_train))\n",
    "x_test_log = sign(x_test) * log(1+abs(x_test))"
   ]
  },
  {
   "cell_type": "markdown",
   "metadata": {},
   "source": [
    "Если запуститься на долях, падаю с ошибкой - ибо есть люди с отрицательными долями, т.к. отрицательная сумма транзакций. Что ж, беру всё по модулю.\n",
    "\n",
    "Но таки до модели на суммах моя модель не дотягивает."
   ]
  },
  {
   "cell_type": "code",
   "execution_count": 448,
   "metadata": {
    "collapsed": false
   },
   "outputs": [
    {
     "data": {
      "text/plain": [
       "0.86463640625000004"
      ]
     },
     "execution_count": 448,
     "metadata": {},
     "output_type": "execute_result"
    }
   ],
   "source": [
    "lr = LogisticRegression(penalty= 'l2', C = 0.01, random_state = 42)\n",
    "lr.fit(x_train_log, y_train)\n",
    "roc_auc_score(y_test,  lr.predict_proba(x_test_log)[:,1])"
   ]
  },
  {
   "cell_type": "code",
   "execution_count": 449,
   "metadata": {
    "collapsed": false
   },
   "outputs": [
    {
     "data": {
      "text/plain": [
       "0.86074593749999995"
      ]
     },
     "execution_count": 449,
     "metadata": {},
     "output_type": "execute_result"
    }
   ],
   "source": [
    "gbc = GradientBoostingClassifier(random_state = 42, learning_rate=0.1, n_estimators=100, subsample=1.0\n",
    "                                 , min_samples_leaf = 100, max_depth=5)\n",
    "#cross_val_score(gbc, X_train, Y_train.values[:, 0], cv=3, scoring = 'roc_auc', n_jobs =3).mean()\n",
    "gbc.fit(x_train_log, y_train)\n",
    "roc_auc_score(y_test,  gbc.predict_proba(x_test_log)[:,1])"
   ]
  },
  {
   "cell_type": "code",
   "execution_count": 453,
   "metadata": {
    "collapsed": false
   },
   "outputs": [
    {
     "data": {
      "text/plain": [
       "0.87021109375000005"
      ]
     },
     "execution_count": 453,
     "metadata": {},
     "output_type": "execute_result"
    }
   ],
   "source": [
    "roc_auc_score(y_test,  lr.predict_proba(x_test_log)[:,1]*0.5+gbc.predict_proba(x_test_log)[:,1]*0.5)"
   ]
  },
  {
   "cell_type": "markdown",
   "metadata": {},
   "source": [
    "### В качестве фич можно ещё юзать минимумы и максимумы"
   ]
  },
  {
   "cell_type": "code",
   "execution_count": 518,
   "metadata": {
    "collapsed": false
   },
   "outputs": [
    {
     "data": {
      "text/plain": [
       "(15000, 184)"
      ]
     },
     "execution_count": 518,
     "metadata": {},
     "output_type": "execute_result"
    }
   ],
   "source": [
    "mcc_maxs = transactions.groupby(['customer_id', 'mcc_code'])[['abs_amount']].max().reset_index()\n",
    "mcc_maxs = mcc_maxs.pivot(index='customer_id', columns='mcc_code', values='abs_amount').fillna(0)\n",
    "mcc_maxs.shape"
   ]
  },
  {
   "cell_type": "code",
   "execution_count": 520,
   "metadata": {
    "collapsed": false
   },
   "outputs": [
    {
     "data": {
      "text/plain": [
       "(15000, 77)"
      ]
     },
     "execution_count": 520,
     "metadata": {},
     "output_type": "execute_result"
    }
   ],
   "source": [
    "type_maxs = transactions.groupby(['customer_id', 'tr_type'])[['abs_amount']].max().reset_index()\n",
    "type_maxs = type_maxs.pivot(index='customer_id', columns='tr_type', values='abs_amount').fillna(0)\n",
    "type_maxs.shape"
   ]
  },
  {
   "cell_type": "code",
   "execution_count": 723,
   "metadata": {
    "collapsed": true
   },
   "outputs": [],
   "source": [
    "X = pd.concat([mcc_count, type_count, mcc_sums, type_sums, mcc_shares, type_shares, mcc_maxs, type_maxs], axis = 1)\n",
    "\n",
    "Y_train = customers_gender.loc[X.index].gender\n",
    "Y_train = Y_train.reset_index()\n",
    "del Y_train['customer_id']\n",
    "Y_train = Y_train.dropna(0)\n",
    "\n",
    "X_train = X.reset_index()\n",
    "X_train = X_train.loc[Y_train.index].set_index('customer_id')\n",
    "from sklearn.model_selection import train_test_split\n",
    "x_train, x_test, y_train, y_test = train_test_split(X_train, Y_train.values[:, 0], test_size = 0.3, random_state = 42)\n",
    "\n",
    "Y_train = Y_train.values[:, 0]\n",
    "\n",
    "x_train_log = sign(x_train) * log(1+abs(x_train))\n",
    "x_test_log = sign(x_test) * log(1+abs(x_test))"
   ]
  },
  {
   "cell_type": "markdown",
   "metadata": {},
   "source": [
    "Добавляю отмасштабированных фич"
   ]
  },
  {
   "cell_type": "code",
   "execution_count": 528,
   "metadata": {
    "collapsed": false
   },
   "outputs": [
    {
     "data": {
      "text/plain": [
       "[<matplotlib.lines.Line2D at 0x219028cc2e8>]"
      ]
     },
     "execution_count": 528,
     "metadata": {},
     "output_type": "execute_result"
    },
    {
     "data": {
      "image/png": "[encoded data removed]",
      "text/plain": [
       "<matplotlib.figure.Figure at 0x21901a8dc18>"
      ]
     },
     "metadata": {},
     "output_type": "display_data"
    }
   ],
   "source": [
    "plot(x_train_log.mean().tolist())"
   ]
  },
  {
   "cell_type": "code",
   "execution_count": 724,
   "metadata": {
    "collapsed": false
   },
   "outputs": [],
   "source": [
    "scaler = StandardScaler().fit(x_train_log)\n",
    "x_train_log_sc = scaler.transform(x_train_log)\n",
    "x_test_log_sc = scaler.transform(x_test_log)"
   ]
  },
  {
   "cell_type": "markdown",
   "metadata": {},
   "source": [
    "Главные компоненты не очень помогают, но что-то да они объясняют."
   ]
  },
  {
   "cell_type": "code",
   "execution_count": 725,
   "metadata": {
    "collapsed": false
   },
   "outputs": [
    {
     "name": "stdout",
     "output_type": "stream",
     "text": [
      "0.52745826647\n"
     ]
    },
    {
     "data": {
      "image/png": "[encoded data removed]",
      "text/plain": [
       "<matplotlib.figure.Figure at 0x2190685f9e8>"
      ]
     },
     "metadata": {},
     "output_type": "display_data"
    }
   ],
   "source": [
    "pca = PCA(n_components = 100, random_state = 42)\n",
    "pca.fit(x_train_log_sc)\n",
    "print(sum(pca.explained_variance_ratio_))\n",
    "_ = figure(figsize = (15, 3))\n",
    "_ = subplot(1, 2, 1)\n",
    "_ =plot(pca.explained_variance_ratio_)\n",
    "_ = subplot(1, 2, 2)\n",
    "_ =plot(cumsum(pca.explained_variance_ratio_))"
   ]
  },
  {
   "cell_type": "code",
   "execution_count": 549,
   "metadata": {
    "collapsed": false
   },
   "outputs": [
    {
     "data": {
      "text/plain": [
       "0.86462093750000002"
      ]
     },
     "execution_count": 549,
     "metadata": {},
     "output_type": "execute_result"
    }
   ],
   "source": [
    "gbc = GradientBoostingClassifier(random_state = 42, learning_rate=0.1, n_estimators=100, subsample=1.0\n",
    "                                 , min_samples_leaf = 100, max_depth=5)\n",
    "#cross_val_score(gbc, X_train, Y_train.values[:, 0], cv=3, scoring = 'roc_auc', n_jobs =3).mean()\n",
    "gbc.fit(x_train_log, y_train)\n",
    "roc_auc_score(y_test,  gbc.predict_proba(x_test_log)[:,1])"
   ]
  },
  {
   "cell_type": "markdown",
   "metadata": {},
   "source": [
    "Важнее всего всё равно суммы!"
   ]
  },
  {
   "cell_type": "code",
   "execution_count": 550,
   "metadata": {
    "collapsed": false
   },
   "outputs": [
    {
     "data": {
      "text/plain": [
       "[<matplotlib.lines.Line2D at 0x219053fb6d8>]"
      ]
     },
     "execution_count": 550,
     "metadata": {},
     "output_type": "execute_result"
    },
    {
     "data": {
      "image/png": "[encoded data removed]",
      "text/plain": [
       "<matplotlib.figure.Figure at 0x219019a4668>"
      ]
     },
     "metadata": {},
     "output_type": "display_data"
    }
   ],
   "source": [
    "plot(gbc.feature_importances_)"
   ]
  },
  {
   "cell_type": "code",
   "execution_count": 551,
   "metadata": {
    "collapsed": false
   },
   "outputs": [
    {
     "data": {
      "text/plain": [
       "0.86140968749999991"
      ]
     },
     "execution_count": 551,
     "metadata": {},
     "output_type": "execute_result"
    }
   ],
   "source": [
    "lr = LogisticRegression(penalty= 'l2', C = 0.01, random_state = 42)\n",
    "lr.fit(x_train_log_sc, y_train)\n",
    "roc_auc_score(y_test,  lr.predict_proba(x_test_log_sc)[:,1])"
   ]
  },
  {
   "cell_type": "markdown",
   "metadata": {},
   "source": [
    "Ежели мы добавляем главные компоненты в признаки, "
   ]
  },
  {
   "cell_type": "code",
   "execution_count": 726,
   "metadata": {
    "collapsed": false
   },
   "outputs": [
    {
     "data": {
      "text/plain": [
       "(8400, 1144)"
      ]
     },
     "execution_count": 726,
     "metadata": {},
     "output_type": "execute_result"
    }
   ],
   "source": [
    "x_train_log_sc_pca = np.concatenate([x_train_log_sc, pca.transform(x_train_log_sc)], axis = 1)\n",
    "x_test_log_sc_pca = np.concatenate([x_test_log_sc, pca.transform(x_test_log_sc)], axis = 1)\n",
    "x_train_log_sc_pca.shape"
   ]
  },
  {
   "cell_type": "markdown",
   "metadata": {},
   "source": [
    "Бустинг неплохо так взлетает, на полпроцента, при добавлении главных компонент; он им придаёт неплохие важности.\n",
    "\n",
    "логиту не горячно не холодно"
   ]
  },
  {
   "cell_type": "code",
   "execution_count": 559,
   "metadata": {
    "collapsed": false
   },
   "outputs": [
    {
     "data": {
      "text/plain": [
       "0.86981140625000009"
      ]
     },
     "execution_count": 559,
     "metadata": {},
     "output_type": "execute_result"
    }
   ],
   "source": [
    "gbc = GradientBoostingClassifier(random_state = 42, learning_rate=0.1, n_estimators=100, subsample=1.0\n",
    "                                 , min_samples_leaf = 100, max_depth=5)\n",
    "#cross_val_score(gbc, X_train, Y_train.values[:, 0], cv=3, scoring = 'roc_auc', n_jobs =3).mean()\n",
    "gbc.fit(x_train_log_sc_pca, y_train)\n",
    "roc_auc_score(y_test,  gbc.predict_proba(x_test_log_sc_pca)[:,1])"
   ]
  },
  {
   "cell_type": "code",
   "execution_count": 561,
   "metadata": {
    "collapsed": false
   },
   "outputs": [
    {
     "data": {
      "text/plain": [
       "[<matplotlib.lines.Line2D at 0x2190194aeb8>]"
      ]
     },
     "execution_count": 561,
     "metadata": {},
     "output_type": "execute_result"
    },
    {
     "data": {
      "image/png": "[encoded data removed]",
      "text/plain": [
       "<matplotlib.figure.Figure at 0x2190533c748>"
      ]
     },
     "metadata": {},
     "output_type": "display_data"
    }
   ],
   "source": [
    "plot(gbc.feature_importances_)"
   ]
  },
  {
   "cell_type": "markdown",
   "metadata": {},
   "source": [
    "Нейронка справляется так себе (86.6 максимум с 50 нейронами)"
   ]
  },
  {
   "cell_type": "code",
   "execution_count": 749,
   "metadata": {
    "collapsed": false
   },
   "outputs": [
    {
     "data": {
      "text/plain": [
       "0.86146124999999996"
      ]
     },
     "execution_count": 749,
     "metadata": {},
     "output_type": "execute_result"
    }
   ],
   "source": [
    "nn = MLPClassifier(hidden_layer_sizes=(50,20), activation='logistic', alpha=0.01, early_stopping=True, random_state = 42)\n",
    "nn.fit(x_train_log_sc_pca, y_train)\n",
    "roc_auc_score(y_test,  nn.predict_proba(x_test_log_sc_pca)[:,1])"
   ]
  },
  {
   "cell_type": "code",
   "execution_count": 558,
   "metadata": {
    "collapsed": false
   },
   "outputs": [
    {
     "data": {
      "text/plain": [
       "0.86142187499999989"
      ]
     },
     "execution_count": 558,
     "metadata": {},
     "output_type": "execute_result"
    }
   ],
   "source": [
    "lr = LogisticRegression(penalty= 'l2', C = 0.01, random_state = 42)\n",
    "lr.fit(x_train_log_sc_pca, y_train)\n",
    "roc_auc_score(y_test,  lr.predict_proba(x_test_log_sc_pca)[:,1])"
   ]
  },
  {
   "cell_type": "markdown",
   "metadata": {},
   "source": [
    "Лес существенно уступает нормальным алгоритмам"
   ]
  },
  {
   "cell_type": "code",
   "execution_count": 563,
   "metadata": {
    "collapsed": false
   },
   "outputs": [
    {
     "data": {
      "text/plain": [
       "0.84755500000000006"
      ]
     },
     "execution_count": 563,
     "metadata": {},
     "output_type": "execute_result"
    }
   ],
   "source": [
    "rf = RandomForestClassifier(n_estimators = 1000, min_samples_leaf = 10, random_state = 42)\n",
    "rf.fit(x_train_log_sc_pca, y_train)\n",
    "roc_auc_score(y_test,  rf.predict_proba(x_test_log_sc_pca)[:,1])"
   ]
  },
  {
   "cell_type": "code",
   "execution_count": 567,
   "metadata": {
    "collapsed": false
   },
   "outputs": [
    {
     "data": {
      "text/plain": [
       "[<matplotlib.lines.Line2D at 0x2190132b5c0>]"
      ]
     },
     "execution_count": 567,
     "metadata": {},
     "output_type": "execute_result"
    },
    {
     "data": {
      "image/png": "[encoded data removed]",
      "text/plain": [
       "<matplotlib.figure.Figure at 0x21901338630>"
      ]
     },
     "metadata": {},
     "output_type": "display_data"
    }
   ],
   "source": [
    "plot(rf.feature_importances_)"
   ]
  },
  {
   "cell_type": "code",
   "execution_count": 575,
   "metadata": {
    "collapsed": false
   },
   "outputs": [
    {
     "name": "stdout",
     "output_type": "stream",
     "text": [
      "0 0.638986013986\n",
      "0.0001 0.407342657343\n",
      "0.001 0.225524475524\n",
      "0.002 0.16520979021\n",
      "0.003 0.0646853146853\n",
      "0.005 0.0244755244755\n",
      "0.01 0.0122377622378\n",
      "0.03 0.000874125874126\n"
     ]
    }
   ],
   "source": [
    "ths = [0, 0.0001, 0.001, 0.002, 0.003, 0.005, 0.01, 0.03]\n",
    "for th in ths:\n",
    "    print(th, mean(rf.feature_importances_ > th ))"
   ]
  },
  {
   "cell_type": "markdown",
   "metadata": {},
   "source": [
    "Проверяю, как обрубание по лесу влияет на качество. Оказалось, лучше всего иметь фичи начиная с 1/1000 (22% от всех)"
   ]
  },
  {
   "cell_type": "code",
   "execution_count": 576,
   "metadata": {
    "collapsed": false
   },
   "outputs": [
    {
     "name": "stdout",
     "output_type": "stream",
     "text": [
      "0 0.864796875\n",
      "0.0001 0.867923125\n",
      "0.001 0.8679575\n",
      "0.002 0.866339375\n",
      "0.003 0.8530790625\n",
      "0.005 0.824833125\n",
      "0.01 0.8054046875\n",
      "0.03 0.7382928125\n"
     ]
    }
   ],
   "source": [
    "for th in ths:\n",
    "    lr.fit(x_train_log_sc_pca[:, rf.feature_importances_ > th], y_train)\n",
    "    print(th, roc_auc_score(y_test,  lr.predict_proba(x_test_log_sc_pca[:, rf.feature_importances_ > th])[:,1]))"
   ]
  },
  {
   "cell_type": "code",
   "execution_count": 577,
   "metadata": {
    "collapsed": false
   },
   "outputs": [
    {
     "data": {
      "text/plain": [
       "LogisticRegression(C=0.01, class_weight=None, dual=False, fit_intercept=True,\n",
       "          intercept_scaling=1, max_iter=100, multi_class='ovr', n_jobs=1,\n",
       "          penalty='l2', random_state=42, solver='liblinear', tol=0.0001,\n",
       "          verbose=0, warm_start=False)"
      ]
     },
     "execution_count": 577,
     "metadata": {},
     "output_type": "execute_result"
    }
   ],
   "source": [
    "lr.fit(x_train_log_sc_pca[:, rf.feature_importances_ > 0.001], y_train)"
   ]
  },
  {
   "cell_type": "markdown",
   "metadata": {},
   "source": [
    "Ладно, попробуем отправить, что есть."
   ]
  },
  {
   "cell_type": "code",
   "execution_count": 580,
   "metadata": {
    "collapsed": false
   },
   "outputs": [
    {
     "data": {
      "text/plain": [
       "(12000, 1144)"
      ]
     },
     "execution_count": 580,
     "metadata": {},
     "output_type": "execute_result"
    }
   ],
   "source": [
    "X_train_log = sign(X_train) * log(1+abs(X_train))\n",
    "X_train_log_sc = scaler.transform(X_train_log)\n",
    "X_train_log_sc_pca = np.concatenate([X_train_log_sc, pca.transform(X_train_log_sc)], axis = 1)\n",
    "X_train_log_sc_pca.shape"
   ]
  },
  {
   "cell_type": "code",
   "execution_count": 579,
   "metadata": {
    "collapsed": false
   },
   "outputs": [
    {
     "data": {
      "text/plain": [
       "(3000, 1144)"
      ]
     },
     "execution_count": 579,
     "metadata": {},
     "output_type": "execute_result"
    }
   ],
   "source": [
    "X_test = X.drop(customers_gender.index)\n",
    "X_test_log = sign(X_test) * log(1+abs(X_test))\n",
    "X_test_log_sc = scaler.transform(X_test_log)\n",
    "X_test_log_sc_pca = np.concatenate([X_test_log_sc, pca.transform(X_test_log_sc)], axis = 1)\n",
    "X_test_log_sc_pca.shape"
   ]
  },
  {
   "cell_type": "code",
   "execution_count": 585,
   "metadata": {
    "collapsed": false
   },
   "outputs": [
    {
     "data": {
      "text/plain": [
       "GradientBoostingClassifier(criterion='friedman_mse', init=None,\n",
       "              learning_rate=0.1, loss='deviance', max_depth=5,\n",
       "              max_features=None, max_leaf_nodes=None,\n",
       "              min_impurity_split=1e-07, min_samples_leaf=100,\n",
       "              min_samples_split=2, min_weight_fraction_leaf=0.0,\n",
       "              n_estimators=100, presort='auto', random_state=42,\n",
       "              subsample=1.0, verbose=0, warm_start=False)"
      ]
     },
     "execution_count": 585,
     "metadata": {},
     "output_type": "execute_result"
    }
   ],
   "source": [
    "gbc = GradientBoostingClassifier(random_state = 42, learning_rate=0.1, n_estimators=100, subsample=1.0\n",
    "                                 , min_samples_leaf = 100, max_depth=5)\n",
    "#cross_val_score(gbc, X_train, Y_train.values[:, 0], cv=3, scoring = 'roc_auc', n_jobs =3).mean()\n",
    "gbc.fit(X_train_log_sc_pca, Y_train)"
   ]
  },
  {
   "cell_type": "code",
   "execution_count": 587,
   "metadata": {
    "collapsed": false
   },
   "outputs": [
    {
     "data": {
      "text/html": [
       "<div>\n",
       "<table border=\"1\" class=\"dataframe\">\n",
       "  <thead>\n",
       "    <tr style=\"text-align: right;\">\n",
       "      <th></th>\n",
       "      <th>customer_id</th>\n",
       "      <th>gender</th>\n",
       "    </tr>\n",
       "  </thead>\n",
       "  <tbody>\n",
       "    <tr>\n",
       "      <th>0</th>\n",
       "      <td>49101</td>\n",
       "      <td>0.278234</td>\n",
       "    </tr>\n",
       "    <tr>\n",
       "      <th>1</th>\n",
       "      <td>114348</td>\n",
       "      <td>0.743923</td>\n",
       "    </tr>\n",
       "    <tr>\n",
       "      <th>2</th>\n",
       "      <td>127946</td>\n",
       "      <td>0.686719</td>\n",
       "    </tr>\n",
       "    <tr>\n",
       "      <th>3</th>\n",
       "      <td>137367</td>\n",
       "      <td>0.661188</td>\n",
       "    </tr>\n",
       "    <tr>\n",
       "      <th>4</th>\n",
       "      <td>174467</td>\n",
       "      <td>0.713999</td>\n",
       "    </tr>\n",
       "  </tbody>\n",
       "</table>\n",
       "</div>"
      ],
      "text/plain": [
       "   customer_id    gender\n",
       "0        49101  0.278234\n",
       "1       114348  0.743923\n",
       "2       127946  0.686719\n",
       "3       137367  0.661188\n",
       "4       174467  0.713999"
      ]
     },
     "execution_count": 587,
     "metadata": {},
     "output_type": "execute_result"
    }
   ],
   "source": [
    "result['gender'] = gbc.predict_proba(X_test_log_sc_pca)[:, 1]\n",
    "result.to_csv('a08.csv', index=False)\n",
    "result.head()"
   ]
  },
  {
   "cell_type": "code",
   "execution_count": 589,
   "metadata": {
    "collapsed": false
   },
   "outputs": [
    {
     "data": {
      "text/plain": [
       "LogisticRegression(C=0.01, class_weight=None, dual=False, fit_intercept=True,\n",
       "          intercept_scaling=1, max_iter=100, multi_class='ovr', n_jobs=1,\n",
       "          penalty='l2', random_state=42, solver='liblinear', tol=0.0001,\n",
       "          verbose=0, warm_start=False)"
      ]
     },
     "execution_count": 589,
     "metadata": {},
     "output_type": "execute_result"
    }
   ],
   "source": [
    "lr = LogisticRegression(penalty= 'l2', C = 0.01, random_state = 42)\n",
    "lr.fit(X_train_log_sc_pca[:, rf.feature_importances_ > 0.001], Y_train)"
   ]
  },
  {
   "cell_type": "code",
   "execution_count": 590,
   "metadata": {
    "collapsed": true
   },
   "outputs": [],
   "source": [
    "result['gender'] = lr.predict_proba(X_test_log_sc_pca[:, rf.feature_importances_ > 0.001])[:, 1]\n",
    "result.to_csv('a09.csv', index=False)"
   ]
  },
  {
   "cell_type": "markdown",
   "metadata": {},
   "source": [
    "И все решения абсолютно провальные на валидации! Писец какой-то"
   ]
  },
  {
   "cell_type": "code",
   "execution_count": 591,
   "metadata": {
    "collapsed": true
   },
   "outputs": [],
   "source": [
    "result['gender'] = (lr.predict_proba(X_test_log_sc_pca[:, rf.feature_importances_ > 0.001])[:, 1] * 0.5 \n",
    "                    + gbc.predict_proba(X_test_log_sc_pca)[:, 1] * 0.5)\n",
    "result.to_csv('a10.csv', index=False)"
   ]
  },
  {
   "cell_type": "markdown",
   "metadata": {},
   "source": [
    "#### работа над ошибками"
   ]
  },
  {
   "cell_type": "code",
   "execution_count": 593,
   "metadata": {
    "collapsed": false
   },
   "outputs": [],
   "source": [
    "lr.fit(x_train_log_sc_pca[:, rf.feature_importances_ > 0.001], y_train)\n",
    "pr = lr.predict_proba(x_test_log_sc_pca[:, rf.feature_importances_ > 0.001])[:,1]"
   ]
  },
  {
   "cell_type": "code",
   "execution_count": 598,
   "metadata": {
    "collapsed": false
   },
   "outputs": [
    {
     "data": {
      "image/png": "[encoded data removed]",
      "text/plain": [
       "<matplotlib.figure.Figure at 0x219061d03c8>"
      ]
     },
     "metadata": {},
     "output_type": "display_data"
    }
   ],
   "source": [
    "resid = y_test-pr\n",
    "_ = hist(resid, bins = 50)"
   ]
  },
  {
   "cell_type": "code",
   "execution_count": 628,
   "metadata": {
    "collapsed": false
   },
   "outputs": [
    {
     "data": {
      "text/plain": [
       "([44349687, 82244228, 10789064, 13799180], [20795048, 82776368, 15053840])"
      ]
     },
     "execution_count": 628,
     "metadata": {},
     "output_type": "execute_result"
    }
   ],
   "source": [
    "err1, err2 = x_test.index[resid >=0.99], x_test.index[resid <= -0.99]\n",
    "err1.tolist(), err2.tolist()"
   ]
  },
  {
   "cell_type": "code",
   "execution_count": 642,
   "metadata": {
    "collapsed": false
   },
   "outputs": [
    {
     "data": {
      "text/plain": [
       "(430, 8)"
      ]
     },
     "execution_count": 642,
     "metadata": {},
     "output_type": "execute_result"
    }
   ],
   "source": [
    "#err_table = pd.merge(transactions, pd.DataFrame({'customer_id':err1.tolist()})).transpose()\n",
    "x1 = transactions[transactions.customer_id == 13799180]\n",
    "x1.shape"
   ]
  },
  {
   "cell_type": "markdown",
   "metadata": {},
   "source": [
    "Один мужик только и транзачил, что 4784 - дорожное и мостовое. Непонятно, чё его в бабы записали.\n",
    "Другие действительно ходили во всякие магазины женской одежды.\n",
    "\n",
    "Одна женщина, принятая за мужика, засветилась в службах знакомств; одна транзачила много и непонятно; одна много возилась с оборудованием."
   ]
  },
  {
   "cell_type": "code",
   "execution_count": 643,
   "metadata": {
    "collapsed": false
   },
   "outputs": [
    {
     "data": {
      "text/html": [
       "<div>\n",
       "<table border=\"1\" class=\"dataframe\">\n",
       "  <thead>\n",
       "    <tr style=\"text-align: right;\">\n",
       "      <th></th>\n",
       "      <th>customer_id</th>\n",
       "      <th>tr_datetime</th>\n",
       "      <th>mcc_code</th>\n",
       "      <th>tr_type</th>\n",
       "      <th>amount</th>\n",
       "      <th>term_id</th>\n",
       "      <th>time</th>\n",
       "      <th>abs_amount</th>\n",
       "      <th>mcc_description</th>\n",
       "    </tr>\n",
       "  </thead>\n",
       "  <tbody>\n",
       "    <tr>\n",
       "      <th>0</th>\n",
       "      <td>13799180</td>\n",
       "      <td>1 00:00:00</td>\n",
       "      <td>4121</td>\n",
       "      <td>1200</td>\n",
       "      <td>-68046.08</td>\n",
       "      <td>NaN</td>\n",
       "      <td>0</td>\n",
       "      <td>68046.08</td>\n",
       "      <td>Лимузины и такси</td>\n",
       "    </tr>\n",
       "    <tr>\n",
       "      <th>1</th>\n",
       "      <td>13799180</td>\n",
       "      <td>1 16:26:38</td>\n",
       "      <td>5661</td>\n",
       "      <td>1110</td>\n",
       "      <td>-146635.84</td>\n",
       "      <td>NaN</td>\n",
       "      <td>16</td>\n",
       "      <td>146635.84</td>\n",
       "      <td>Обувные магазины</td>\n",
       "    </tr>\n",
       "    <tr>\n",
       "      <th>2</th>\n",
       "      <td>13799180</td>\n",
       "      <td>8 18:45:02</td>\n",
       "      <td>5661</td>\n",
       "      <td>1210</td>\n",
       "      <td>-93676.02</td>\n",
       "      <td>NaN</td>\n",
       "      <td>18</td>\n",
       "      <td>93676.02</td>\n",
       "      <td>Обувные магазины</td>\n",
       "    </tr>\n",
       "    <tr>\n",
       "      <th>3</th>\n",
       "      <td>13799180</td>\n",
       "      <td>78 19:00:13</td>\n",
       "      <td>5661</td>\n",
       "      <td>1110</td>\n",
       "      <td>-1186517.30</td>\n",
       "      <td>NaN</td>\n",
       "      <td>19</td>\n",
       "      <td>1186517.30</td>\n",
       "      <td>Обувные магазины</td>\n",
       "    </tr>\n",
       "    <tr>\n",
       "      <th>4</th>\n",
       "      <td>13799180</td>\n",
       "      <td>94 17:19:23</td>\n",
       "      <td>5661</td>\n",
       "      <td>1210</td>\n",
       "      <td>-311436.87</td>\n",
       "      <td>NaN</td>\n",
       "      <td>17</td>\n",
       "      <td>311436.87</td>\n",
       "      <td>Обувные магазины</td>\n",
       "    </tr>\n",
       "    <tr>\n",
       "      <th>5</th>\n",
       "      <td>13799180</td>\n",
       "      <td>101 20:45:35</td>\n",
       "      <td>5661</td>\n",
       "      <td>1110</td>\n",
       "      <td>-212957.73</td>\n",
       "      <td>NaN</td>\n",
       "      <td>20</td>\n",
       "      <td>212957.73</td>\n",
       "      <td>Обувные магазины</td>\n",
       "    </tr>\n",
       "    <tr>\n",
       "      <th>6</th>\n",
       "      <td>13799180</td>\n",
       "      <td>113 19:17:59</td>\n",
       "      <td>5661</td>\n",
       "      <td>1110</td>\n",
       "      <td>-396179.54</td>\n",
       "      <td>NaN</td>\n",
       "      <td>19</td>\n",
       "      <td>396179.54</td>\n",
       "      <td>Обувные магазины</td>\n",
       "    </tr>\n",
       "    <tr>\n",
       "      <th>7</th>\n",
       "      <td>13799180</td>\n",
       "      <td>246 00:00:00</td>\n",
       "      <td>5661</td>\n",
       "      <td>1110</td>\n",
       "      <td>-188656.92</td>\n",
       "      <td>15342089</td>\n",
       "      <td>0</td>\n",
       "      <td>188656.92</td>\n",
       "      <td>Обувные магазины</td>\n",
       "    </tr>\n",
       "    <tr>\n",
       "      <th>8</th>\n",
       "      <td>13799180</td>\n",
       "      <td>296 13:04:08</td>\n",
       "      <td>5661</td>\n",
       "      <td>1110</td>\n",
       "      <td>-230453.42</td>\n",
       "      <td>29065120</td>\n",
       "      <td>13</td>\n",
       "      <td>230453.42</td>\n",
       "      <td>Обувные магазины</td>\n",
       "    </tr>\n",
       "    <tr>\n",
       "      <th>9</th>\n",
       "      <td>13799180</td>\n",
       "      <td>386 00:00:00</td>\n",
       "      <td>5661</td>\n",
       "      <td>1110</td>\n",
       "      <td>-253788.48</td>\n",
       "      <td>29218421</td>\n",
       "      <td>0</td>\n",
       "      <td>253788.48</td>\n",
       "      <td>Обувные магазины</td>\n",
       "    </tr>\n",
       "    <tr>\n",
       "      <th>10</th>\n",
       "      <td>13799180</td>\n",
       "      <td>444 20:54:36</td>\n",
       "      <td>5661</td>\n",
       "      <td>1110</td>\n",
       "      <td>-143514.02</td>\n",
       "      <td>21726331</td>\n",
       "      <td>20</td>\n",
       "      <td>143514.02</td>\n",
       "      <td>Обувные магазины</td>\n",
       "    </tr>\n",
       "    <tr>\n",
       "      <th>11</th>\n",
       "      <td>13799180</td>\n",
       "      <td>1 18:22:38</td>\n",
       "      <td>4812</td>\n",
       "      <td>1010</td>\n",
       "      <td>-226657.82</td>\n",
       "      <td>NaN</td>\n",
       "      <td>18</td>\n",
       "      <td>226657.82</td>\n",
       "      <td>Телекоммуникационное оборудование, включая про...</td>\n",
       "    </tr>\n",
       "    <tr>\n",
       "      <th>12</th>\n",
       "      <td>13799180</td>\n",
       "      <td>150 20:40:55</td>\n",
       "      <td>4812</td>\n",
       "      <td>1010</td>\n",
       "      <td>-349217.44</td>\n",
       "      <td>NaN</td>\n",
       "      <td>20</td>\n",
       "      <td>349217.44</td>\n",
       "      <td>Телекоммуникационное оборудование, включая про...</td>\n",
       "    </tr>\n",
       "    <tr>\n",
       "      <th>13</th>\n",
       "      <td>13799180</td>\n",
       "      <td>331 12:31:01</td>\n",
       "      <td>4812</td>\n",
       "      <td>1010</td>\n",
       "      <td>-448958.56</td>\n",
       "      <td>036841</td>\n",
       "      <td>12</td>\n",
       "      <td>448958.56</td>\n",
       "      <td>Телекоммуникационное оборудование, включая про...</td>\n",
       "    </tr>\n",
       "    <tr>\n",
       "      <th>14</th>\n",
       "      <td>13799180</td>\n",
       "      <td>444 18:47:54</td>\n",
       "      <td>4812</td>\n",
       "      <td>1010</td>\n",
       "      <td>-898141.72</td>\n",
       "      <td>479056</td>\n",
       "      <td>18</td>\n",
       "      <td>898141.72</td>\n",
       "      <td>Телекоммуникационное оборудование, включая про...</td>\n",
       "    </tr>\n",
       "    <tr>\n",
       "      <th>15</th>\n",
       "      <td>13799180</td>\n",
       "      <td>6 01:08:36</td>\n",
       "      <td>5812</td>\n",
       "      <td>1210</td>\n",
       "      <td>-57368.77</td>\n",
       "      <td>NaN</td>\n",
       "      <td>1</td>\n",
       "      <td>57368.77</td>\n",
       "      <td>Места общественного питания, рестораны</td>\n",
       "    </tr>\n",
       "    <tr>\n",
       "      <th>16</th>\n",
       "      <td>13799180</td>\n",
       "      <td>6 01:20:13</td>\n",
       "      <td>5812</td>\n",
       "      <td>1210</td>\n",
       "      <td>-89004.07</td>\n",
       "      <td>NaN</td>\n",
       "      <td>1</td>\n",
       "      <td>89004.07</td>\n",
       "      <td>Места общественного питания, рестораны</td>\n",
       "    </tr>\n",
       "    <tr>\n",
       "      <th>17</th>\n",
       "      <td>13799180</td>\n",
       "      <td>6 01:20:50</td>\n",
       "      <td>5812</td>\n",
       "      <td>1210</td>\n",
       "      <td>-13362.30</td>\n",
       "      <td>NaN</td>\n",
       "      <td>1</td>\n",
       "      <td>13362.30</td>\n",
       "      <td>Места общественного питания, рестораны</td>\n",
       "    </tr>\n",
       "    <tr>\n",
       "      <th>18</th>\n",
       "      <td>13799180</td>\n",
       "      <td>7 11:04:45</td>\n",
       "      <td>5812</td>\n",
       "      <td>1210</td>\n",
       "      <td>-7460.71</td>\n",
       "      <td>NaN</td>\n",
       "      <td>11</td>\n",
       "      <td>7460.71</td>\n",
       "      <td>Места общественного питания, рестораны</td>\n",
       "    </tr>\n",
       "    <tr>\n",
       "      <th>19</th>\n",
       "      <td>13799180</td>\n",
       "      <td>7 11:20:28</td>\n",
       "      <td>5812</td>\n",
       "      <td>1210</td>\n",
       "      <td>-6012.99</td>\n",
       "      <td>NaN</td>\n",
       "      <td>11</td>\n",
       "      <td>6012.99</td>\n",
       "      <td>Места общественного питания, рестораны</td>\n",
       "    </tr>\n",
       "    <tr>\n",
       "      <th>20</th>\n",
       "      <td>13799180</td>\n",
       "      <td>7 11:47:26</td>\n",
       "      <td>5812</td>\n",
       "      <td>1210</td>\n",
       "      <td>-3340.58</td>\n",
       "      <td>NaN</td>\n",
       "      <td>11</td>\n",
       "      <td>3340.58</td>\n",
       "      <td>Места общественного питания, рестораны</td>\n",
       "    </tr>\n",
       "    <tr>\n",
       "      <th>21</th>\n",
       "      <td>13799180</td>\n",
       "      <td>7 18:23:45</td>\n",
       "      <td>5812</td>\n",
       "      <td>1210</td>\n",
       "      <td>-186849.41</td>\n",
       "      <td>NaN</td>\n",
       "      <td>18</td>\n",
       "      <td>186849.41</td>\n",
       "      <td>Места общественного питания, рестораны</td>\n",
       "    </tr>\n",
       "    <tr>\n",
       "      <th>22</th>\n",
       "      <td>13799180</td>\n",
       "      <td>8 12:56:05</td>\n",
       "      <td>5812</td>\n",
       "      <td>1210</td>\n",
       "      <td>-63881.03</td>\n",
       "      <td>NaN</td>\n",
       "      <td>12</td>\n",
       "      <td>63881.03</td>\n",
       "      <td>Места общественного питания, рестораны</td>\n",
       "    </tr>\n",
       "    <tr>\n",
       "      <th>23</th>\n",
       "      <td>13799180</td>\n",
       "      <td>8 19:53:40</td>\n",
       "      <td>5812</td>\n",
       "      <td>1210</td>\n",
       "      <td>-171817.95</td>\n",
       "      <td>NaN</td>\n",
       "      <td>19</td>\n",
       "      <td>171817.95</td>\n",
       "      <td>Места общественного питания, рестораны</td>\n",
       "    </tr>\n",
       "    <tr>\n",
       "      <th>24</th>\n",
       "      <td>13799180</td>\n",
       "      <td>10 15:51:44</td>\n",
       "      <td>5812</td>\n",
       "      <td>1210</td>\n",
       "      <td>-50097.40</td>\n",
       "      <td>NaN</td>\n",
       "      <td>15</td>\n",
       "      <td>50097.40</td>\n",
       "      <td>Места общественного питания, рестораны</td>\n",
       "    </tr>\n",
       "    <tr>\n",
       "      <th>25</th>\n",
       "      <td>13799180</td>\n",
       "      <td>11 00:00:00</td>\n",
       "      <td>5812</td>\n",
       "      <td>1210</td>\n",
       "      <td>-378425.58</td>\n",
       "      <td>NaN</td>\n",
       "      <td>0</td>\n",
       "      <td>378425.58</td>\n",
       "      <td>Места общественного питания, рестораны</td>\n",
       "    </tr>\n",
       "    <tr>\n",
       "      <th>26</th>\n",
       "      <td>13799180</td>\n",
       "      <td>12 00:00:00</td>\n",
       "      <td>5812</td>\n",
       "      <td>1210</td>\n",
       "      <td>-47838.68</td>\n",
       "      <td>NaN</td>\n",
       "      <td>0</td>\n",
       "      <td>47838.68</td>\n",
       "      <td>Места общественного питания, рестораны</td>\n",
       "    </tr>\n",
       "    <tr>\n",
       "      <th>27</th>\n",
       "      <td>13799180</td>\n",
       "      <td>17 00:00:00</td>\n",
       "      <td>5812</td>\n",
       "      <td>1110</td>\n",
       "      <td>-136338.32</td>\n",
       "      <td>NaN</td>\n",
       "      <td>0</td>\n",
       "      <td>136338.32</td>\n",
       "      <td>Места общественного питания, рестораны</td>\n",
       "    </tr>\n",
       "    <tr>\n",
       "      <th>28</th>\n",
       "      <td>13799180</td>\n",
       "      <td>36 19:53:07</td>\n",
       "      <td>5812</td>\n",
       "      <td>1210</td>\n",
       "      <td>-98885.20</td>\n",
       "      <td>NaN</td>\n",
       "      <td>19</td>\n",
       "      <td>98885.20</td>\n",
       "      <td>Места общественного питания, рестораны</td>\n",
       "    </tr>\n",
       "    <tr>\n",
       "      <th>29</th>\n",
       "      <td>13799180</td>\n",
       "      <td>37 20:37:34</td>\n",
       "      <td>5812</td>\n",
       "      <td>1210</td>\n",
       "      <td>-122517.63</td>\n",
       "      <td>NaN</td>\n",
       "      <td>20</td>\n",
       "      <td>122517.63</td>\n",
       "      <td>Места общественного питания, рестораны</td>\n",
       "    </tr>\n",
       "    <tr>\n",
       "      <th>30</th>\n",
       "      <td>13799180</td>\n",
       "      <td>38 00:00:00</td>\n",
       "      <td>5812</td>\n",
       "      <td>1210</td>\n",
       "      <td>-138744.37</td>\n",
       "      <td>NaN</td>\n",
       "      <td>0</td>\n",
       "      <td>138744.37</td>\n",
       "      <td>Места общественного питания, рестораны</td>\n",
       "    </tr>\n",
       "    <tr>\n",
       "      <th>31</th>\n",
       "      <td>13799180</td>\n",
       "      <td>39 00:00:00</td>\n",
       "      <td>5812</td>\n",
       "      <td>1210</td>\n",
       "      <td>-191770.21</td>\n",
       "      <td>NaN</td>\n",
       "      <td>0</td>\n",
       "      <td>191770.21</td>\n",
       "      <td>Места общественного питания, рестораны</td>\n",
       "    </tr>\n",
       "    <tr>\n",
       "      <th>32</th>\n",
       "      <td>13799180</td>\n",
       "      <td>40 00:00:00</td>\n",
       "      <td>5812</td>\n",
       "      <td>1210</td>\n",
       "      <td>-173530.46</td>\n",
       "      <td>NaN</td>\n",
       "      <td>0</td>\n",
       "      <td>173530.46</td>\n",
       "      <td>Места общественного питания, рестораны</td>\n",
       "    </tr>\n",
       "    <tr>\n",
       "      <th>33</th>\n",
       "      <td>13799180</td>\n",
       "      <td>41 19:59:05</td>\n",
       "      <td>5812</td>\n",
       "      <td>1210</td>\n",
       "      <td>-149413.14</td>\n",
       "      <td>NaN</td>\n",
       "      <td>19</td>\n",
       "      <td>149413.14</td>\n",
       "      <td>Места общественного питания, рестораны</td>\n",
       "    </tr>\n",
       "    <tr>\n",
       "      <th>34</th>\n",
       "      <td>13799180</td>\n",
       "      <td>43 20:11:34</td>\n",
       "      <td>5812</td>\n",
       "      <td>1210</td>\n",
       "      <td>-132778.99</td>\n",
       "      <td>NaN</td>\n",
       "      <td>20</td>\n",
       "      <td>132778.99</td>\n",
       "      <td>Места общественного питания, рестораны</td>\n",
       "    </tr>\n",
       "    <tr>\n",
       "      <th>35</th>\n",
       "      <td>13799180</td>\n",
       "      <td>44 00:00:00</td>\n",
       "      <td>5812</td>\n",
       "      <td>1210</td>\n",
       "      <td>-158587.93</td>\n",
       "      <td>NaN</td>\n",
       "      <td>0</td>\n",
       "      <td>158587.93</td>\n",
       "      <td>Места общественного питания, рестораны</td>\n",
       "    </tr>\n",
       "    <tr>\n",
       "      <th>36</th>\n",
       "      <td>13799180</td>\n",
       "      <td>44 15:01:41</td>\n",
       "      <td>5812</td>\n",
       "      <td>1210</td>\n",
       "      <td>-80213.56</td>\n",
       "      <td>NaN</td>\n",
       "      <td>15</td>\n",
       "      <td>80213.56</td>\n",
       "      <td>Места общественного питания, рестораны</td>\n",
       "    </tr>\n",
       "    <tr>\n",
       "      <th>37</th>\n",
       "      <td>13799180</td>\n",
       "      <td>45 00:00:00</td>\n",
       "      <td>5812</td>\n",
       "      <td>1210</td>\n",
       "      <td>-141176.69</td>\n",
       "      <td>NaN</td>\n",
       "      <td>0</td>\n",
       "      <td>141176.69</td>\n",
       "      <td>Места общественного питания, рестораны</td>\n",
       "    </tr>\n",
       "    <tr>\n",
       "      <th>38</th>\n",
       "      <td>13799180</td>\n",
       "      <td>91 16:24:01</td>\n",
       "      <td>5812</td>\n",
       "      <td>1210</td>\n",
       "      <td>-64039.14</td>\n",
       "      <td>NaN</td>\n",
       "      <td>16</td>\n",
       "      <td>64039.14</td>\n",
       "      <td>Места общественного питания, рестораны</td>\n",
       "    </tr>\n",
       "    <tr>\n",
       "      <th>39</th>\n",
       "      <td>13799180</td>\n",
       "      <td>91 19:47:59</td>\n",
       "      <td>5812</td>\n",
       "      <td>1210</td>\n",
       "      <td>-187325.32</td>\n",
       "      <td>NaN</td>\n",
       "      <td>19</td>\n",
       "      <td>187325.32</td>\n",
       "      <td>Места общественного питания, рестораны</td>\n",
       "    </tr>\n",
       "    <tr>\n",
       "      <th>40</th>\n",
       "      <td>13799180</td>\n",
       "      <td>94 14:50:18</td>\n",
       "      <td>5812</td>\n",
       "      <td>1210</td>\n",
       "      <td>-117570.55</td>\n",
       "      <td>NaN</td>\n",
       "      <td>14</td>\n",
       "      <td>117570.55</td>\n",
       "      <td>Места общественного питания, рестораны</td>\n",
       "    </tr>\n",
       "    <tr>\n",
       "      <th>41</th>\n",
       "      <td>13799180</td>\n",
       "      <td>94 20:40:56</td>\n",
       "      <td>5812</td>\n",
       "      <td>1210</td>\n",
       "      <td>-258530.06</td>\n",
       "      <td>NaN</td>\n",
       "      <td>20</td>\n",
       "      <td>258530.06</td>\n",
       "      <td>Места общественного питания, рестораны</td>\n",
       "    </tr>\n",
       "    <tr>\n",
       "      <th>42</th>\n",
       "      <td>13799180</td>\n",
       "      <td>109 20:54:26</td>\n",
       "      <td>5812</td>\n",
       "      <td>1110</td>\n",
       "      <td>-288038.70</td>\n",
       "      <td>NaN</td>\n",
       "      <td>20</td>\n",
       "      <td>288038.70</td>\n",
       "      <td>Места общественного питания, рестораны</td>\n",
       "    </tr>\n",
       "    <tr>\n",
       "      <th>43</th>\n",
       "      <td>13799180</td>\n",
       "      <td>150 19:13:17</td>\n",
       "      <td>5812</td>\n",
       "      <td>1110</td>\n",
       "      <td>-155298.34</td>\n",
       "      <td>NaN</td>\n",
       "      <td>19</td>\n",
       "      <td>155298.34</td>\n",
       "      <td>Места общественного питания, рестораны</td>\n",
       "    </tr>\n",
       "    <tr>\n",
       "      <th>44</th>\n",
       "      <td>13799180</td>\n",
       "      <td>159 15:20:33</td>\n",
       "      <td>5812</td>\n",
       "      <td>1110</td>\n",
       "      <td>-270295.96</td>\n",
       "      <td>NaN</td>\n",
       "      <td>15</td>\n",
       "      <td>270295.96</td>\n",
       "      <td>Места общественного питания, рестораны</td>\n",
       "    </tr>\n",
       "    <tr>\n",
       "      <th>45</th>\n",
       "      <td>13799180</td>\n",
       "      <td>160 13:37:40</td>\n",
       "      <td>5812</td>\n",
       "      <td>1110</td>\n",
       "      <td>-208420.98</td>\n",
       "      <td>NaN</td>\n",
       "      <td>13</td>\n",
       "      <td>208420.98</td>\n",
       "      <td>Места общественного питания, рестораны</td>\n",
       "    </tr>\n",
       "    <tr>\n",
       "      <th>46</th>\n",
       "      <td>13799180</td>\n",
       "      <td>171 22:05:30</td>\n",
       "      <td>5812</td>\n",
       "      <td>1110</td>\n",
       "      <td>-94597.97</td>\n",
       "      <td>NaN</td>\n",
       "      <td>22</td>\n",
       "      <td>94597.97</td>\n",
       "      <td>Места общественного питания, рестораны</td>\n",
       "    </tr>\n",
       "    <tr>\n",
       "      <th>47</th>\n",
       "      <td>13799180</td>\n",
       "      <td>190 16:32:15</td>\n",
       "      <td>5812</td>\n",
       "      <td>1010</td>\n",
       "      <td>-2695.10</td>\n",
       "      <td>NaN</td>\n",
       "      <td>16</td>\n",
       "      <td>2695.10</td>\n",
       "      <td>Места общественного питания, рестораны</td>\n",
       "    </tr>\n",
       "    <tr>\n",
       "      <th>48</th>\n",
       "      <td>13799180</td>\n",
       "      <td>192 00:00:00</td>\n",
       "      <td>5812</td>\n",
       "      <td>1110</td>\n",
       "      <td>-220436.63</td>\n",
       "      <td>NaN</td>\n",
       "      <td>0</td>\n",
       "      <td>220436.63</td>\n",
       "      <td>Места общественного питания, рестораны</td>\n",
       "    </tr>\n",
       "    <tr>\n",
       "      <th>49</th>\n",
       "      <td>13799180</td>\n",
       "      <td>193 00:00:00</td>\n",
       "      <td>5812</td>\n",
       "      <td>1110</td>\n",
       "      <td>-295787.11</td>\n",
       "      <td>NaN</td>\n",
       "      <td>0</td>\n",
       "      <td>295787.11</td>\n",
       "      <td>Места общественного питания, рестораны</td>\n",
       "    </tr>\n",
       "    <tr>\n",
       "      <th>50</th>\n",
       "      <td>13799180</td>\n",
       "      <td>193 00:00:00</td>\n",
       "      <td>5812</td>\n",
       "      <td>1110</td>\n",
       "      <td>-143738.61</td>\n",
       "      <td>NaN</td>\n",
       "      <td>0</td>\n",
       "      <td>143738.61</td>\n",
       "      <td>Места общественного питания, рестораны</td>\n",
       "    </tr>\n",
       "    <tr>\n",
       "      <th>51</th>\n",
       "      <td>13799180</td>\n",
       "      <td>227 15:49:47</td>\n",
       "      <td>5812</td>\n",
       "      <td>1210</td>\n",
       "      <td>-144322.55</td>\n",
       "      <td>80100856</td>\n",
       "      <td>15</td>\n",
       "      <td>144322.55</td>\n",
       "      <td>Места общественного питания, рестораны</td>\n",
       "    </tr>\n",
       "    <tr>\n",
       "      <th>52</th>\n",
       "      <td>13799180</td>\n",
       "      <td>228 13:57:51</td>\n",
       "      <td>5812</td>\n",
       "      <td>1210</td>\n",
       "      <td>-144666.62</td>\n",
       "      <td>00080607</td>\n",
       "      <td>13</td>\n",
       "      <td>144666.62</td>\n",
       "      <td>Места общественного питания, рестораны</td>\n",
       "    </tr>\n",
       "    <tr>\n",
       "      <th>53</th>\n",
       "      <td>13799180</td>\n",
       "      <td>229 17:01:48</td>\n",
       "      <td>5812</td>\n",
       "      <td>1210</td>\n",
       "      <td>-112320.04</td>\n",
       "      <td>30817289</td>\n",
       "      <td>17</td>\n",
       "      <td>112320.04</td>\n",
       "      <td>Места общественного питания, рестораны</td>\n",
       "    </tr>\n",
       "    <tr>\n",
       "      <th>54</th>\n",
       "      <td>13799180</td>\n",
       "      <td>230 09:45:03</td>\n",
       "      <td>5812</td>\n",
       "      <td>1210</td>\n",
       "      <td>-11954.34</td>\n",
       "      <td>55690011</td>\n",
       "      <td>9</td>\n",
       "      <td>11954.34</td>\n",
       "      <td>Места общественного питания, рестораны</td>\n",
       "    </tr>\n",
       "    <tr>\n",
       "      <th>55</th>\n",
       "      <td>13799180</td>\n",
       "      <td>230 11:34:09</td>\n",
       "      <td>5812</td>\n",
       "      <td>1210</td>\n",
       "      <td>-18734.31</td>\n",
       "      <td>55690018</td>\n",
       "      <td>11</td>\n",
       "      <td>18734.31</td>\n",
       "      <td>Места общественного питания, рестораны</td>\n",
       "    </tr>\n",
       "    <tr>\n",
       "      <th>56</th>\n",
       "      <td>13799180</td>\n",
       "      <td>230 11:43:21</td>\n",
       "      <td>5812</td>\n",
       "      <td>1210</td>\n",
       "      <td>-7617.25</td>\n",
       "      <td>55690018</td>\n",
       "      <td>11</td>\n",
       "      <td>7617.25</td>\n",
       "      <td>Места общественного питания, рестораны</td>\n",
       "    </tr>\n",
       "    <tr>\n",
       "      <th>57</th>\n",
       "      <td>13799180</td>\n",
       "      <td>230 11:44:01</td>\n",
       "      <td>5812</td>\n",
       "      <td>1210</td>\n",
       "      <td>-4337.09</td>\n",
       "      <td>55690018</td>\n",
       "      <td>11</td>\n",
       "      <td>4337.09</td>\n",
       "      <td>Места общественного питания, рестораны</td>\n",
       "    </tr>\n",
       "    <tr>\n",
       "      <th>58</th>\n",
       "      <td>13799180</td>\n",
       "      <td>241 18:29:54</td>\n",
       "      <td>5812</td>\n",
       "      <td>1110</td>\n",
       "      <td>-140603.31</td>\n",
       "      <td>35475001</td>\n",
       "      <td>18</td>\n",
       "      <td>140603.31</td>\n",
       "      <td>Места общественного питания, рестораны</td>\n",
       "    </tr>\n",
       "    <tr>\n",
       "      <th>59</th>\n",
       "      <td>13799180</td>\n",
       "      <td>260 23:12:29</td>\n",
       "      <td>5812</td>\n",
       "      <td>1110</td>\n",
       "      <td>-146546.00</td>\n",
       "      <td>29061125</td>\n",
       "      <td>23</td>\n",
       "      <td>146546.00</td>\n",
       "      <td>Места общественного питания, рестораны</td>\n",
       "    </tr>\n",
       "    <tr>\n",
       "      <th>60</th>\n",
       "      <td>13799180</td>\n",
       "      <td>261 04:34:15</td>\n",
       "      <td>5812</td>\n",
       "      <td>1010</td>\n",
       "      <td>-30319.86</td>\n",
       "      <td>253739</td>\n",
       "      <td>4</td>\n",
       "      <td>30319.86</td>\n",
       "      <td>Места общественного питания, рестораны</td>\n",
       "    </tr>\n",
       "    <tr>\n",
       "      <th>61</th>\n",
       "      <td>13799180</td>\n",
       "      <td>261 20:48:19</td>\n",
       "      <td>5812</td>\n",
       "      <td>1110</td>\n",
       "      <td>-170801.89</td>\n",
       "      <td>29061125</td>\n",
       "      <td>20</td>\n",
       "      <td>170801.89</td>\n",
       "      <td>Места общественного питания, рестораны</td>\n",
       "    </tr>\n",
       "    <tr>\n",
       "      <th>62</th>\n",
       "      <td>13799180</td>\n",
       "      <td>262 21:37:00</td>\n",
       "      <td>5812</td>\n",
       "      <td>1110</td>\n",
       "      <td>-113517.57</td>\n",
       "      <td>35475001</td>\n",
       "      <td>21</td>\n",
       "      <td>113517.57</td>\n",
       "      <td>Места общественного питания, рестораны</td>\n",
       "    </tr>\n",
       "    <tr>\n",
       "      <th>63</th>\n",
       "      <td>13799180</td>\n",
       "      <td>269 19:58:28</td>\n",
       "      <td>5812</td>\n",
       "      <td>1110</td>\n",
       "      <td>-102683.27</td>\n",
       "      <td>35475001</td>\n",
       "      <td>19</td>\n",
       "      <td>102683.27</td>\n",
       "      <td>Места общественного питания, рестораны</td>\n",
       "    </tr>\n",
       "    <tr>\n",
       "      <th>64</th>\n",
       "      <td>13799180</td>\n",
       "      <td>269 20:51:08</td>\n",
       "      <td>5812</td>\n",
       "      <td>1110</td>\n",
       "      <td>-122087.98</td>\n",
       "      <td>35475001</td>\n",
       "      <td>20</td>\n",
       "      <td>122087.98</td>\n",
       "      <td>Места общественного питания, рестораны</td>\n",
       "    </tr>\n",
       "    <tr>\n",
       "      <th>65</th>\n",
       "      <td>13799180</td>\n",
       "      <td>277 22:22:17</td>\n",
       "      <td>5812</td>\n",
       "      <td>1110</td>\n",
       "      <td>-122189.05</td>\n",
       "      <td>35475001</td>\n",
       "      <td>22</td>\n",
       "      <td>122189.05</td>\n",
       "      <td>Места общественного питания, рестораны</td>\n",
       "    </tr>\n",
       "    <tr>\n",
       "      <th>66</th>\n",
       "      <td>13799180</td>\n",
       "      <td>277 22:38:40</td>\n",
       "      <td>5812</td>\n",
       "      <td>1110</td>\n",
       "      <td>-47972.76</td>\n",
       "      <td>35475001</td>\n",
       "      <td>22</td>\n",
       "      <td>47972.76</td>\n",
       "      <td>Места общественного питания, рестораны</td>\n",
       "    </tr>\n",
       "    <tr>\n",
       "      <th>67</th>\n",
       "      <td>13799180</td>\n",
       "      <td>304 20:12:01</td>\n",
       "      <td>5812</td>\n",
       "      <td>1110</td>\n",
       "      <td>-126984.08</td>\n",
       "      <td>35475001</td>\n",
       "      <td>20</td>\n",
       "      <td>126984.08</td>\n",
       "      <td>Места общественного питания, рестораны</td>\n",
       "    </tr>\n",
       "    <tr>\n",
       "      <th>68</th>\n",
       "      <td>13799180</td>\n",
       "      <td>326 22:55:37</td>\n",
       "      <td>5812</td>\n",
       "      <td>1110</td>\n",
       "      <td>-275371.73</td>\n",
       "      <td>35475001</td>\n",
       "      <td>22</td>\n",
       "      <td>275371.73</td>\n",
       "      <td>Места общественного питания, рестораны</td>\n",
       "    </tr>\n",
       "    <tr>\n",
       "      <th>69</th>\n",
       "      <td>13799180</td>\n",
       "      <td>339 16:13:19</td>\n",
       "      <td>5812</td>\n",
       "      <td>1010</td>\n",
       "      <td>-63110.23</td>\n",
       "      <td>10278043</td>\n",
       "      <td>16</td>\n",
       "      <td>63110.23</td>\n",
       "      <td>Места общественного питания, рестораны</td>\n",
       "    </tr>\n",
       "    <tr>\n",
       "      <th>70</th>\n",
       "      <td>13799180</td>\n",
       "      <td>344 17:55:14</td>\n",
       "      <td>5812</td>\n",
       "      <td>1010</td>\n",
       "      <td>-2695.10</td>\n",
       "      <td>135312</td>\n",
       "      <td>17</td>\n",
       "      <td>2695.10</td>\n",
       "      <td>Места общественного питания, рестораны</td>\n",
       "    </tr>\n",
       "    <tr>\n",
       "      <th>71</th>\n",
       "      <td>13799180</td>\n",
       "      <td>367 00:00:00</td>\n",
       "      <td>5812</td>\n",
       "      <td>1110</td>\n",
       "      <td>-122972.87</td>\n",
       "      <td>35475001</td>\n",
       "      <td>0</td>\n",
       "      <td>122972.87</td>\n",
       "      <td>Места общественного питания, рестораны</td>\n",
       "    </tr>\n",
       "    <tr>\n",
       "      <th>72</th>\n",
       "      <td>13799180</td>\n",
       "      <td>368 00:00:00</td>\n",
       "      <td>5812</td>\n",
       "      <td>1110</td>\n",
       "      <td>-125793.74</td>\n",
       "      <td>35475001</td>\n",
       "      <td>0</td>\n",
       "      <td>125793.74</td>\n",
       "      <td>Места общественного питания, рестораны</td>\n",
       "    </tr>\n",
       "    <tr>\n",
       "      <th>73</th>\n",
       "      <td>13799180</td>\n",
       "      <td>374 00:00:00</td>\n",
       "      <td>5812</td>\n",
       "      <td>1110</td>\n",
       "      <td>-230318.66</td>\n",
       "      <td>30277001</td>\n",
       "      <td>0</td>\n",
       "      <td>230318.66</td>\n",
       "      <td>Места общественного питания, рестораны</td>\n",
       "    </tr>\n",
       "    <tr>\n",
       "      <th>74</th>\n",
       "      <td>13799180</td>\n",
       "      <td>380 13:22:57</td>\n",
       "      <td>5812</td>\n",
       "      <td>1110</td>\n",
       "      <td>-49747.03</td>\n",
       "      <td>34010801</td>\n",
       "      <td>13</td>\n",
       "      <td>49747.03</td>\n",
       "      <td>Места общественного питания, рестораны</td>\n",
       "    </tr>\n",
       "    <tr>\n",
       "      <th>75</th>\n",
       "      <td>13799180</td>\n",
       "      <td>395 15:44:26</td>\n",
       "      <td>5812</td>\n",
       "      <td>1110</td>\n",
       "      <td>-128354.09</td>\n",
       "      <td>35475001</td>\n",
       "      <td>15</td>\n",
       "      <td>128354.09</td>\n",
       "      <td>Места общественного питания, рестораны</td>\n",
       "    </tr>\n",
       "    <tr>\n",
       "      <th>76</th>\n",
       "      <td>13799180</td>\n",
       "      <td>402 17:19:35</td>\n",
       "      <td>5812</td>\n",
       "      <td>1110</td>\n",
       "      <td>-628.86</td>\n",
       "      <td>98770976</td>\n",
       "      <td>17</td>\n",
       "      <td>628.86</td>\n",
       "      <td>Места общественного питания, рестораны</td>\n",
       "    </tr>\n",
       "    <tr>\n",
       "      <th>77</th>\n",
       "      <td>13799180</td>\n",
       "      <td>402 17:56:54</td>\n",
       "      <td>5812</td>\n",
       "      <td>1110</td>\n",
       "      <td>-1257.71</td>\n",
       "      <td>98770976</td>\n",
       "      <td>17</td>\n",
       "      <td>1257.71</td>\n",
       "      <td>Места общественного питания, рестораны</td>\n",
       "    </tr>\n",
       "    <tr>\n",
       "      <th>78</th>\n",
       "      <td>13799180</td>\n",
       "      <td>404 00:00:00</td>\n",
       "      <td>5812</td>\n",
       "      <td>1210</td>\n",
       "      <td>-291551.76</td>\n",
       "      <td>73100628</td>\n",
       "      <td>0</td>\n",
       "      <td>291551.76</td>\n",
       "      <td>Места общественного питания, рестораны</td>\n",
       "    </tr>\n",
       "    <tr>\n",
       "      <th>79</th>\n",
       "      <td>13799180</td>\n",
       "      <td>404 14:42:53</td>\n",
       "      <td>5812</td>\n",
       "      <td>1210</td>\n",
       "      <td>-98831.07</td>\n",
       "      <td>73103331</td>\n",
       "      <td>14</td>\n",
       "      <td>98831.07</td>\n",
       "      <td>Места общественного питания, рестораны</td>\n",
       "    </tr>\n",
       "    <tr>\n",
       "      <th>80</th>\n",
       "      <td>13799180</td>\n",
       "      <td>405 00:00:00</td>\n",
       "      <td>5812</td>\n",
       "      <td>1210</td>\n",
       "      <td>-311797.12</td>\n",
       "      <td>73100628</td>\n",
       "      <td>0</td>\n",
       "      <td>311797.12</td>\n",
       "      <td>Места общественного питания, рестораны</td>\n",
       "    </tr>\n",
       "    <tr>\n",
       "      <th>81</th>\n",
       "      <td>13799180</td>\n",
       "      <td>408 20:08:08</td>\n",
       "      <td>5812</td>\n",
       "      <td>1210</td>\n",
       "      <td>-350818.33</td>\n",
       "      <td>90005069</td>\n",
       "      <td>20</td>\n",
       "      <td>350818.33</td>\n",
       "      <td>Места общественного питания, рестораны</td>\n",
       "    </tr>\n",
       "    <tr>\n",
       "      <th>82</th>\n",
       "      <td>13799180</td>\n",
       "      <td>411 00:00:00</td>\n",
       "      <td>5812</td>\n",
       "      <td>1210</td>\n",
       "      <td>-313347.02</td>\n",
       "      <td>73100628</td>\n",
       "      <td>0</td>\n",
       "      <td>313347.02</td>\n",
       "      <td>Места общественного питания, рестораны</td>\n",
       "    </tr>\n",
       "    <tr>\n",
       "      <th>83</th>\n",
       "      <td>13799180</td>\n",
       "      <td>414 00:00:00</td>\n",
       "      <td>5812</td>\n",
       "      <td>1210</td>\n",
       "      <td>-153611.43</td>\n",
       "      <td>73103331</td>\n",
       "      <td>0</td>\n",
       "      <td>153611.43</td>\n",
       "      <td>Места общественного питания, рестораны</td>\n",
       "    </tr>\n",
       "    <tr>\n",
       "      <th>84</th>\n",
       "      <td>13799180</td>\n",
       "      <td>444 20:08:43</td>\n",
       "      <td>5812</td>\n",
       "      <td>1010</td>\n",
       "      <td>-124311.44</td>\n",
       "      <td>316371</td>\n",
       "      <td>20</td>\n",
       "      <td>124311.44</td>\n",
       "      <td>Места общественного питания, рестораны</td>\n",
       "    </tr>\n",
       "    <tr>\n",
       "      <th>85</th>\n",
       "      <td>13799180</td>\n",
       "      <td>6 13:36:41</td>\n",
       "      <td>5712</td>\n",
       "      <td>1210</td>\n",
       "      <td>-116920.13</td>\n",
       "      <td>NaN</td>\n",
       "      <td>13</td>\n",
       "      <td>116920.13</td>\n",
       "      <td>Оборудование, мебель и бытовые принадлежности ...</td>\n",
       "    </tr>\n",
       "    <tr>\n",
       "      <th>86</th>\n",
       "      <td>13799180</td>\n",
       "      <td>6 20:27:49</td>\n",
       "      <td>5950</td>\n",
       "      <td>1210</td>\n",
       "      <td>-141417.68</td>\n",
       "      <td>NaN</td>\n",
       "      <td>20</td>\n",
       "      <td>141417.68</td>\n",
       "      <td>Магазины хрусталя и изделий из стекла</td>\n",
       "    </tr>\n",
       "    <tr>\n",
       "      <th>87</th>\n",
       "      <td>13799180</td>\n",
       "      <td>7 10:31:04</td>\n",
       "      <td>7230</td>\n",
       "      <td>1210</td>\n",
       "      <td>-25455.21</td>\n",
       "      <td>NaN</td>\n",
       "      <td>10</td>\n",
       "      <td>25455.21</td>\n",
       "      <td>Салоты красоты и парикмахерские</td>\n",
       "    </tr>\n",
       "    <tr>\n",
       "      <th>88</th>\n",
       "      <td>13799180</td>\n",
       "      <td>7 10:36:40</td>\n",
       "      <td>5651</td>\n",
       "      <td>1210</td>\n",
       "      <td>-22041.42</td>\n",
       "      <td>NaN</td>\n",
       "      <td>10</td>\n",
       "      <td>22041.42</td>\n",
       "      <td>Одежда для всей семьи</td>\n",
       "    </tr>\n",
       "    <tr>\n",
       "      <th>89</th>\n",
       "      <td>13799180</td>\n",
       "      <td>8 11:32:32</td>\n",
       "      <td>5651</td>\n",
       "      <td>1210</td>\n",
       "      <td>-65022.18</td>\n",
       "      <td>NaN</td>\n",
       "      <td>11</td>\n",
       "      <td>65022.18</td>\n",
       "      <td>Одежда для всей семьи</td>\n",
       "    </tr>\n",
       "    <tr>\n",
       "      <th>90</th>\n",
       "      <td>13799180</td>\n",
       "      <td>8 20:32:47</td>\n",
       "      <td>5651</td>\n",
       "      <td>1210</td>\n",
       "      <td>-44082.83</td>\n",
       "      <td>NaN</td>\n",
       "      <td>20</td>\n",
       "      <td>44082.83</td>\n",
       "      <td>Одежда для всей семьи</td>\n",
       "    </tr>\n",
       "    <tr>\n",
       "      <th>91</th>\n",
       "      <td>13799180</td>\n",
       "      <td>39 21:00:23</td>\n",
       "      <td>5651</td>\n",
       "      <td>1210</td>\n",
       "      <td>-103142.56</td>\n",
       "      <td>NaN</td>\n",
       "      <td>21</td>\n",
       "      <td>103142.56</td>\n",
       "      <td>Одежда для всей семьи</td>\n",
       "    </tr>\n",
       "    <tr>\n",
       "      <th>92</th>\n",
       "      <td>13799180</td>\n",
       "      <td>91 18:24:29</td>\n",
       "      <td>5651</td>\n",
       "      <td>1210</td>\n",
       "      <td>-219027.55</td>\n",
       "      <td>NaN</td>\n",
       "      <td>18</td>\n",
       "      <td>219027.55</td>\n",
       "      <td>Одежда для всей семьи</td>\n",
       "    </tr>\n",
       "    <tr>\n",
       "      <th>93</th>\n",
       "      <td>13799180</td>\n",
       "      <td>129 17:54:04</td>\n",
       "      <td>5651</td>\n",
       "      <td>1010</td>\n",
       "      <td>-289723.13</td>\n",
       "      <td>NaN</td>\n",
       "      <td>17</td>\n",
       "      <td>289723.13</td>\n",
       "      <td>Одежда для всей семьи</td>\n",
       "    </tr>\n",
       "    <tr>\n",
       "      <th>94</th>\n",
       "      <td>13799180</td>\n",
       "      <td>185 21:13:47</td>\n",
       "      <td>5651</td>\n",
       "      <td>1010</td>\n",
       "      <td>-92082.55</td>\n",
       "      <td>NaN</td>\n",
       "      <td>21</td>\n",
       "      <td>92082.55</td>\n",
       "      <td>Одежда для всей семьи</td>\n",
       "    </tr>\n",
       "    <tr>\n",
       "      <th>95</th>\n",
       "      <td>13799180</td>\n",
       "      <td>248 20:11:09</td>\n",
       "      <td>5651</td>\n",
       "      <td>1010</td>\n",
       "      <td>-242558.90</td>\n",
       "      <td>952669</td>\n",
       "      <td>20</td>\n",
       "      <td>242558.90</td>\n",
       "      <td>Одежда для всей семьи</td>\n",
       "    </tr>\n",
       "    <tr>\n",
       "      <th>96</th>\n",
       "      <td>13799180</td>\n",
       "      <td>318 18:25:53</td>\n",
       "      <td>5651</td>\n",
       "      <td>1110</td>\n",
       "      <td>-214934.14</td>\n",
       "      <td>00480030</td>\n",
       "      <td>18</td>\n",
       "      <td>214934.14</td>\n",
       "      <td>Одежда для всей семьи</td>\n",
       "    </tr>\n",
       "    <tr>\n",
       "      <th>97</th>\n",
       "      <td>13799180</td>\n",
       "      <td>7 18:31:41</td>\n",
       "      <td>7011</td>\n",
       "      <td>1210</td>\n",
       "      <td>-234953.78</td>\n",
       "      <td>NaN</td>\n",
       "      <td>18</td>\n",
       "      <td>234953.78</td>\n",
       "      <td>Отели, мотели, базы отдыха, сервисы бронирования</td>\n",
       "    </tr>\n",
       "    <tr>\n",
       "      <th>98</th>\n",
       "      <td>13799180</td>\n",
       "      <td>9 15:22:40</td>\n",
       "      <td>7011</td>\n",
       "      <td>1210</td>\n",
       "      <td>-23678.24</td>\n",
       "      <td>NaN</td>\n",
       "      <td>15</td>\n",
       "      <td>23678.24</td>\n",
       "      <td>Отели, мотели, базы отдыха, сервисы бронирования</td>\n",
       "    </tr>\n",
       "    <tr>\n",
       "      <th>99</th>\n",
       "      <td>13799180</td>\n",
       "      <td>9 16:38:48</td>\n",
       "      <td>7011</td>\n",
       "      <td>1210</td>\n",
       "      <td>-137398.84</td>\n",
       "      <td>NaN</td>\n",
       "      <td>16</td>\n",
       "      <td>137398.84</td>\n",
       "      <td>Отели, мотели, базы отдыха, сервисы бронирования</td>\n",
       "    </tr>\n",
       "    <tr>\n",
       "      <th>100</th>\n",
       "      <td>13799180</td>\n",
       "      <td>10 13:38:55</td>\n",
       "      <td>7011</td>\n",
       "      <td>1210</td>\n",
       "      <td>-165317.82</td>\n",
       "      <td>NaN</td>\n",
       "      <td>13</td>\n",
       "      <td>165317.82</td>\n",
       "      <td>Отели, мотели, базы отдыха, сервисы бронирования</td>\n",
       "    </tr>\n",
       "    <tr>\n",
       "      <th>101</th>\n",
       "      <td>13799180</td>\n",
       "      <td>10 16:45:56</td>\n",
       "      <td>7011</td>\n",
       "      <td>1210</td>\n",
       "      <td>-23664.32</td>\n",
       "      <td>NaN</td>\n",
       "      <td>16</td>\n",
       "      <td>23664.32</td>\n",
       "      <td>Отели, мотели, базы отдыха, сервисы бронирования</td>\n",
       "    </tr>\n",
       "    <tr>\n",
       "      <th>102</th>\n",
       "      <td>13799180</td>\n",
       "      <td>11 00:00:00</td>\n",
       "      <td>7011</td>\n",
       "      <td>1210</td>\n",
       "      <td>-1484052.85</td>\n",
       "      <td>NaN</td>\n",
       "      <td>0</td>\n",
       "      <td>1484052.85</td>\n",
       "      <td>Отели, мотели, базы отдыха, сервисы бронирования</td>\n",
       "    </tr>\n",
       "    <tr>\n",
       "      <th>103</th>\n",
       "      <td>13799180</td>\n",
       "      <td>91 13:54:60</td>\n",
       "      <td>7011</td>\n",
       "      <td>1210</td>\n",
       "      <td>-1847114.80</td>\n",
       "      <td>NaN</td>\n",
       "      <td>13</td>\n",
       "      <td>1847114.80</td>\n",
       "      <td>Отели, мотели, базы отдыха, сервисы бронирования</td>\n",
       "    </tr>\n",
       "    <tr>\n",
       "      <th>104</th>\n",
       "      <td>13799180</td>\n",
       "      <td>93 17:24:19</td>\n",
       "      <td>7011</td>\n",
       "      <td>1210</td>\n",
       "      <td>-137457.46</td>\n",
       "      <td>NaN</td>\n",
       "      <td>17</td>\n",
       "      <td>137457.46</td>\n",
       "      <td>Отели, мотели, базы отдыха, сервисы бронирования</td>\n",
       "    </tr>\n",
       "    <tr>\n",
       "      <th>105</th>\n",
       "      <td>13799180</td>\n",
       "      <td>159 16:54:28</td>\n",
       "      <td>7011</td>\n",
       "      <td>1110</td>\n",
       "      <td>-13026.31</td>\n",
       "      <td>NaN</td>\n",
       "      <td>16</td>\n",
       "      <td>13026.31</td>\n",
       "      <td>Отели, мотели, базы отдыха, сервисы бронирования</td>\n",
       "    </tr>\n",
       "    <tr>\n",
       "      <th>106</th>\n",
       "      <td>13799180</td>\n",
       "      <td>159 22:12:08</td>\n",
       "      <td>7011</td>\n",
       "      <td>1110</td>\n",
       "      <td>-77933.28</td>\n",
       "      <td>NaN</td>\n",
       "      <td>22</td>\n",
       "      <td>77933.28</td>\n",
       "      <td>Отели, мотели, базы отдыха, сервисы бронирования</td>\n",
       "    </tr>\n",
       "    <tr>\n",
       "      <th>107</th>\n",
       "      <td>13799180</td>\n",
       "      <td>160 13:09:43</td>\n",
       "      <td>7011</td>\n",
       "      <td>1110</td>\n",
       "      <td>-392226.73</td>\n",
       "      <td>NaN</td>\n",
       "      <td>13</td>\n",
       "      <td>392226.73</td>\n",
       "      <td>Отели, мотели, базы отдыха, сервисы бронирования</td>\n",
       "    </tr>\n",
       "    <tr>\n",
       "      <th>108</th>\n",
       "      <td>13799180</td>\n",
       "      <td>230 08:54:45</td>\n",
       "      <td>7011</td>\n",
       "      <td>1210</td>\n",
       "      <td>-29817.45</td>\n",
       "      <td>00068079</td>\n",
       "      <td>8</td>\n",
       "      <td>29817.45</td>\n",
       "      <td>Отели, мотели, базы отдыха, сервисы бронирования</td>\n",
       "    </tr>\n",
       "    <tr>\n",
       "      <th>109</th>\n",
       "      <td>13799180</td>\n",
       "      <td>317 15:06:45</td>\n",
       "      <td>7011</td>\n",
       "      <td>1110</td>\n",
       "      <td>-3672072.29</td>\n",
       "      <td>39807002</td>\n",
       "      <td>15</td>\n",
       "      <td>3672072.29</td>\n",
       "      <td>Отели, мотели, базы отдыха, сервисы бронирования</td>\n",
       "    </tr>\n",
       "    <tr>\n",
       "      <th>110</th>\n",
       "      <td>13799180</td>\n",
       "      <td>439 19:18:18</td>\n",
       "      <td>7011</td>\n",
       "      <td>1200</td>\n",
       "      <td>-888827.46</td>\n",
       "      <td>54303431</td>\n",
       "      <td>19</td>\n",
       "      <td>888827.46</td>\n",
       "      <td>Отели, мотели, базы отдыха, сервисы бронирования</td>\n",
       "    </tr>\n",
       "    <tr>\n",
       "      <th>111</th>\n",
       "      <td>13799180</td>\n",
       "      <td>7 19:00:45</td>\n",
       "      <td>5311</td>\n",
       "      <td>1210</td>\n",
       "      <td>-132509.48</td>\n",
       "      <td>NaN</td>\n",
       "      <td>19</td>\n",
       "      <td>132509.48</td>\n",
       "      <td>Универмаги</td>\n",
       "    </tr>\n",
       "    <tr>\n",
       "      <th>112</th>\n",
       "      <td>13799180</td>\n",
       "      <td>11 16:27:48</td>\n",
       "      <td>5311</td>\n",
       "      <td>1210</td>\n",
       "      <td>-887115.39</td>\n",
       "      <td>NaN</td>\n",
       "      <td>16</td>\n",
       "      <td>887115.39</td>\n",
       "      <td>Универмаги</td>\n",
       "    </tr>\n",
       "    <tr>\n",
       "      <th>113</th>\n",
       "      <td>13799180</td>\n",
       "      <td>11 16:29:38</td>\n",
       "      <td>5311</td>\n",
       "      <td>1210</td>\n",
       "      <td>-104464.06</td>\n",
       "      <td>NaN</td>\n",
       "      <td>16</td>\n",
       "      <td>104464.06</td>\n",
       "      <td>Универмаги</td>\n",
       "    </tr>\n",
       "    <tr>\n",
       "      <th>114</th>\n",
       "      <td>13799180</td>\n",
       "      <td>11 16:32:40</td>\n",
       "      <td>5311</td>\n",
       "      <td>1210</td>\n",
       "      <td>-54166.55</td>\n",
       "      <td>NaN</td>\n",
       "      <td>16</td>\n",
       "      <td>54166.55</td>\n",
       "      <td>Универмаги</td>\n",
       "    </tr>\n",
       "    <tr>\n",
       "      <th>115</th>\n",
       "      <td>13799180</td>\n",
       "      <td>11 16:48:54</td>\n",
       "      <td>5311</td>\n",
       "      <td>1210</td>\n",
       "      <td>-1403908.47</td>\n",
       "      <td>NaN</td>\n",
       "      <td>16</td>\n",
       "      <td>1403908.47</td>\n",
       "      <td>Универмаги</td>\n",
       "    </tr>\n",
       "    <tr>\n",
       "      <th>116</th>\n",
       "      <td>13799180</td>\n",
       "      <td>11 17:17:49</td>\n",
       "      <td>5311</td>\n",
       "      <td>1210</td>\n",
       "      <td>-176870.36</td>\n",
       "      <td>NaN</td>\n",
       "      <td>17</td>\n",
       "      <td>176870.36</td>\n",
       "      <td>Универмаги</td>\n",
       "    </tr>\n",
       "    <tr>\n",
       "      <th>117</th>\n",
       "      <td>13799180</td>\n",
       "      <td>11 17:38:05</td>\n",
       "      <td>5311</td>\n",
       "      <td>1210</td>\n",
       "      <td>-65220.94</td>\n",
       "      <td>NaN</td>\n",
       "      <td>17</td>\n",
       "      <td>65220.94</td>\n",
       "      <td>Универмаги</td>\n",
       "    </tr>\n",
       "    <tr>\n",
       "      <th>118</th>\n",
       "      <td>13799180</td>\n",
       "      <td>94 10:55:19</td>\n",
       "      <td>5311</td>\n",
       "      <td>1210</td>\n",
       "      <td>-206248.73</td>\n",
       "      <td>NaN</td>\n",
       "      <td>10</td>\n",
       "      <td>206248.73</td>\n",
       "      <td>Универмаги</td>\n",
       "    </tr>\n",
       "    <tr>\n",
       "      <th>119</th>\n",
       "      <td>13799180</td>\n",
       "      <td>94 11:01:33</td>\n",
       "      <td>5311</td>\n",
       "      <td>1210</td>\n",
       "      <td>-112442.45</td>\n",
       "      <td>NaN</td>\n",
       "      <td>11</td>\n",
       "      <td>112442.45</td>\n",
       "      <td>Универмаги</td>\n",
       "    </tr>\n",
       "    <tr>\n",
       "      <th>120</th>\n",
       "      <td>13799180</td>\n",
       "      <td>94 14:04:42</td>\n",
       "      <td>5311</td>\n",
       "      <td>1210</td>\n",
       "      <td>-137582.55</td>\n",
       "      <td>NaN</td>\n",
       "      <td>14</td>\n",
       "      <td>137582.55</td>\n",
       "      <td>Универмаги</td>\n",
       "    </tr>\n",
       "    <tr>\n",
       "      <th>121</th>\n",
       "      <td>13799180</td>\n",
       "      <td>304 15:49:28</td>\n",
       "      <td>5311</td>\n",
       "      <td>1110</td>\n",
       "      <td>-181829.34</td>\n",
       "      <td>09011601</td>\n",
       "      <td>15</td>\n",
       "      <td>181829.34</td>\n",
       "      <td>Универмаги</td>\n",
       "    </tr>\n",
       "    <tr>\n",
       "      <th>122</th>\n",
       "      <td>13799180</td>\n",
       "      <td>7 19:52:59</td>\n",
       "      <td>5941</td>\n",
       "      <td>1210</td>\n",
       "      <td>-9854.63</td>\n",
       "      <td>NaN</td>\n",
       "      <td>19</td>\n",
       "      <td>9854.63</td>\n",
       "      <td>Магазины спорттоваров</td>\n",
       "    </tr>\n",
       "    <tr>\n",
       "      <th>123</th>\n",
       "      <td>13799180</td>\n",
       "      <td>7 20:35:46</td>\n",
       "      <td>5813</td>\n",
       "      <td>1210</td>\n",
       "      <td>-182618.11</td>\n",
       "      <td>NaN</td>\n",
       "      <td>20</td>\n",
       "      <td>182618.11</td>\n",
       "      <td>Бары, коктейль-бары, дискотеки, ночные клубы и...</td>\n",
       "    </tr>\n",
       "    <tr>\n",
       "      <th>124</th>\n",
       "      <td>13799180</td>\n",
       "      <td>227 07:54:26</td>\n",
       "      <td>5813</td>\n",
       "      <td>1110</td>\n",
       "      <td>-40426.48</td>\n",
       "      <td>116467</td>\n",
       "      <td>7</td>\n",
       "      <td>40426.48</td>\n",
       "      <td>Бары, коктейль-бары, дискотеки, ночные клубы и...</td>\n",
       "    </tr>\n",
       "    <tr>\n",
       "      <th>125</th>\n",
       "      <td>13799180</td>\n",
       "      <td>227 09:07:16</td>\n",
       "      <td>5813</td>\n",
       "      <td>1110</td>\n",
       "      <td>-148118.15</td>\n",
       "      <td>39477003</td>\n",
       "      <td>9</td>\n",
       "      <td>148118.15</td>\n",
       "      <td>Бары, коктейль-бары, дискотеки, ночные клубы и...</td>\n",
       "    </tr>\n",
       "    <tr>\n",
       "      <th>126</th>\n",
       "      <td>13799180</td>\n",
       "      <td>227 10:02:45</td>\n",
       "      <td>5813</td>\n",
       "      <td>1110</td>\n",
       "      <td>-52329.84</td>\n",
       "      <td>39477003</td>\n",
       "      <td>10</td>\n",
       "      <td>52329.84</td>\n",
       "      <td>Бары, коктейль-бары, дискотеки, ночные клубы и...</td>\n",
       "    </tr>\n",
       "    <tr>\n",
       "      <th>127</th>\n",
       "      <td>13799180</td>\n",
       "      <td>317 21:41:51</td>\n",
       "      <td>5813</td>\n",
       "      <td>1110</td>\n",
       "      <td>-78607.05</td>\n",
       "      <td>39787001</td>\n",
       "      <td>21</td>\n",
       "      <td>78607.05</td>\n",
       "      <td>Бары, коктейль-бары, дискотеки, ночные клубы и...</td>\n",
       "    </tr>\n",
       "    <tr>\n",
       "      <th>128</th>\n",
       "      <td>13799180</td>\n",
       "      <td>318 21:26:54</td>\n",
       "      <td>5813</td>\n",
       "      <td>1110</td>\n",
       "      <td>-52105.25</td>\n",
       "      <td>39787001</td>\n",
       "      <td>21</td>\n",
       "      <td>52105.25</td>\n",
       "      <td>Бары, коктейль-бары, дискотеки, ночные клубы и...</td>\n",
       "    </tr>\n",
       "    <tr>\n",
       "      <th>129</th>\n",
       "      <td>13799180</td>\n",
       "      <td>8 13:07:40</td>\n",
       "      <td>6011</td>\n",
       "      <td>4210</td>\n",
       "      <td>-2245.92</td>\n",
       "      <td>NaN</td>\n",
       "      <td>13</td>\n",
       "      <td>2245.92</td>\n",
       "      <td>Финансовые институты — снятие наличности автом...</td>\n",
       "    </tr>\n",
       "    <tr>\n",
       "      <th>130</th>\n",
       "      <td>13799180</td>\n",
       "      <td>8 13:07:26</td>\n",
       "      <td>6011</td>\n",
       "      <td>2210</td>\n",
       "      <td>-55103.54</td>\n",
       "      <td>NaN</td>\n",
       "      <td>13</td>\n",
       "      <td>55103.54</td>\n",
       "      <td>Финансовые институты — снятие наличности автом...</td>\n",
       "    </tr>\n",
       "    <tr>\n",
       "      <th>131</th>\n",
       "      <td>13799180</td>\n",
       "      <td>8 16:15:43</td>\n",
       "      <td>6011</td>\n",
       "      <td>4210</td>\n",
       "      <td>-2245.92</td>\n",
       "      <td>NaN</td>\n",
       "      <td>16</td>\n",
       "      <td>2245.92</td>\n",
       "      <td>Финансовые институты — снятие наличности автом...</td>\n",
       "    </tr>\n",
       "    <tr>\n",
       "      <th>132</th>\n",
       "      <td>13799180</td>\n",
       "      <td>8 16:15:09</td>\n",
       "      <td>6011</td>\n",
       "      <td>2210</td>\n",
       "      <td>-99125.74</td>\n",
       "      <td>NaN</td>\n",
       "      <td>16</td>\n",
       "      <td>99125.74</td>\n",
       "      <td>Финансовые институты — снятие наличности автом...</td>\n",
       "    </tr>\n",
       "    <tr>\n",
       "      <th>133</th>\n",
       "      <td>13799180</td>\n",
       "      <td>8 18:14:48</td>\n",
       "      <td>6011</td>\n",
       "      <td>4210</td>\n",
       "      <td>-2245.92</td>\n",
       "      <td>NaN</td>\n",
       "      <td>18</td>\n",
       "      <td>2245.92</td>\n",
       "      <td>Финансовые институты — снятие наличности автом...</td>\n",
       "    </tr>\n",
       "    <tr>\n",
       "      <th>134</th>\n",
       "      <td>13799180</td>\n",
       "      <td>8 18:14:08</td>\n",
       "      <td>6011</td>\n",
       "      <td>2210</td>\n",
       "      <td>-99125.74</td>\n",
       "      <td>NaN</td>\n",
       "      <td>18</td>\n",
       "      <td>99125.74</td>\n",
       "      <td>Финансовые институты — снятие наличности автом...</td>\n",
       "    </tr>\n",
       "    <tr>\n",
       "      <th>135</th>\n",
       "      <td>13799180</td>\n",
       "      <td>9 18:38:47</td>\n",
       "      <td>6011</td>\n",
       "      <td>2210</td>\n",
       "      <td>-936076.81</td>\n",
       "      <td>NaN</td>\n",
       "      <td>18</td>\n",
       "      <td>936076.81</td>\n",
       "      <td>Финансовые институты — снятие наличности автом...</td>\n",
       "    </tr>\n",
       "    <tr>\n",
       "      <th>136</th>\n",
       "      <td>13799180</td>\n",
       "      <td>9 18:38:58</td>\n",
       "      <td>6011</td>\n",
       "      <td>4210</td>\n",
       "      <td>-9360.75</td>\n",
       "      <td>NaN</td>\n",
       "      <td>18</td>\n",
       "      <td>9360.75</td>\n",
       "      <td>Финансовые институты — снятие наличности автом...</td>\n",
       "    </tr>\n",
       "    <tr>\n",
       "      <th>137</th>\n",
       "      <td>13799180</td>\n",
       "      <td>11 00:00:00</td>\n",
       "      <td>6011</td>\n",
       "      <td>2210</td>\n",
       "      <td>-164771.61</td>\n",
       "      <td>NaN</td>\n",
       "      <td>0</td>\n",
       "      <td>164771.61</td>\n",
       "      <td>Финансовые институты — снятие наличности автом...</td>\n",
       "    </tr>\n",
       "    <tr>\n",
       "      <th>138</th>\n",
       "      <td>13799180</td>\n",
       "      <td>11 08:44:33</td>\n",
       "      <td>6011</td>\n",
       "      <td>2210</td>\n",
       "      <td>-99489.58</td>\n",
       "      <td>NaN</td>\n",
       "      <td>8</td>\n",
       "      <td>99489.58</td>\n",
       "      <td>Финансовые институты — снятие наличности автом...</td>\n",
       "    </tr>\n",
       "    <tr>\n",
       "      <th>139</th>\n",
       "      <td>13799180</td>\n",
       "      <td>11 08:44:45</td>\n",
       "      <td>6011</td>\n",
       "      <td>4210</td>\n",
       "      <td>-2245.92</td>\n",
       "      <td>NaN</td>\n",
       "      <td>8</td>\n",
       "      <td>2245.92</td>\n",
       "      <td>Финансовые институты — снятие наличности автом...</td>\n",
       "    </tr>\n",
       "    <tr>\n",
       "      <th>140</th>\n",
       "      <td>13799180</td>\n",
       "      <td>36 21:38:42</td>\n",
       "      <td>6011</td>\n",
       "      <td>2210</td>\n",
       "      <td>-349927.15</td>\n",
       "      <td>NaN</td>\n",
       "      <td>21</td>\n",
       "      <td>349927.15</td>\n",
       "      <td>Финансовые институты — снятие наличности автом...</td>\n",
       "    </tr>\n",
       "    <tr>\n",
       "      <th>141</th>\n",
       "      <td>13799180</td>\n",
       "      <td>36 21:38:09</td>\n",
       "      <td>6011</td>\n",
       "      <td>4210</td>\n",
       "      <td>-3499.36</td>\n",
       "      <td>NaN</td>\n",
       "      <td>21</td>\n",
       "      <td>3499.36</td>\n",
       "      <td>Финансовые институты — снятие наличности автом...</td>\n",
       "    </tr>\n",
       "    <tr>\n",
       "      <th>142</th>\n",
       "      <td>13799180</td>\n",
       "      <td>38 09:52:35</td>\n",
       "      <td>6011</td>\n",
       "      <td>4210</td>\n",
       "      <td>-3499.36</td>\n",
       "      <td>NaN</td>\n",
       "      <td>9</td>\n",
       "      <td>3499.36</td>\n",
       "      <td>Финансовые институты — снятие наличности автом...</td>\n",
       "    </tr>\n",
       "    <tr>\n",
       "      <th>143</th>\n",
       "      <td>13799180</td>\n",
       "      <td>38 09:52:28</td>\n",
       "      <td>6011</td>\n",
       "      <td>2210</td>\n",
       "      <td>-349927.15</td>\n",
       "      <td>NaN</td>\n",
       "      <td>9</td>\n",
       "      <td>349927.15</td>\n",
       "      <td>Финансовые институты — снятие наличности автом...</td>\n",
       "    </tr>\n",
       "    <tr>\n",
       "      <th>144</th>\n",
       "      <td>13799180</td>\n",
       "      <td>39 00:00:00</td>\n",
       "      <td>6011</td>\n",
       "      <td>4210</td>\n",
       "      <td>-2245.92</td>\n",
       "      <td>NaN</td>\n",
       "      <td>0</td>\n",
       "      <td>2245.92</td>\n",
       "      <td>Финансовые институты — снятие наличности автом...</td>\n",
       "    </tr>\n",
       "    <tr>\n",
       "      <th>145</th>\n",
       "      <td>13799180</td>\n",
       "      <td>39 00:00:00</td>\n",
       "      <td>6011</td>\n",
       "      <td>2210</td>\n",
       "      <td>-109960.04</td>\n",
       "      <td>NaN</td>\n",
       "      <td>0</td>\n",
       "      <td>109960.04</td>\n",
       "      <td>Финансовые институты — снятие наличности автом...</td>\n",
       "    </tr>\n",
       "    <tr>\n",
       "      <th>146</th>\n",
       "      <td>13799180</td>\n",
       "      <td>40 22:22:51</td>\n",
       "      <td>6011</td>\n",
       "      <td>4210</td>\n",
       "      <td>-2245.92</td>\n",
       "      <td>NaN</td>\n",
       "      <td>22</td>\n",
       "      <td>2245.92</td>\n",
       "      <td>Финансовые институты — снятие наличности автом...</td>\n",
       "    </tr>\n",
       "    <tr>\n",
       "      <th>147</th>\n",
       "      <td>13799180</td>\n",
       "      <td>40 22:22:29</td>\n",
       "      <td>6011</td>\n",
       "      <td>2210</td>\n",
       "      <td>-223333.86</td>\n",
       "      <td>NaN</td>\n",
       "      <td>22</td>\n",
       "      <td>223333.86</td>\n",
       "      <td>Финансовые институты — снятие наличности автом...</td>\n",
       "    </tr>\n",
       "    <tr>\n",
       "      <th>148</th>\n",
       "      <td>13799180</td>\n",
       "      <td>42 00:00:00</td>\n",
       "      <td>6011</td>\n",
       "      <td>4210</td>\n",
       "      <td>-2245.92</td>\n",
       "      <td>NaN</td>\n",
       "      <td>0</td>\n",
       "      <td>2245.92</td>\n",
       "      <td>Финансовые институты — снятие наличности автом...</td>\n",
       "    </tr>\n",
       "    <tr>\n",
       "      <th>149</th>\n",
       "      <td>13799180</td>\n",
       "      <td>42 00:00:00</td>\n",
       "      <td>6011</td>\n",
       "      <td>2210</td>\n",
       "      <td>-202213.27</td>\n",
       "      <td>NaN</td>\n",
       "      <td>0</td>\n",
       "      <td>202213.27</td>\n",
       "      <td>Финансовые институты — снятие наличности автом...</td>\n",
       "    </tr>\n",
       "    <tr>\n",
       "      <th>150</th>\n",
       "      <td>13799180</td>\n",
       "      <td>42 16:30:27</td>\n",
       "      <td>6011</td>\n",
       "      <td>4210</td>\n",
       "      <td>-2258.04</td>\n",
       "      <td>NaN</td>\n",
       "      <td>16</td>\n",
       "      <td>2258.04</td>\n",
       "      <td>Финансовые институты — снятие наличности автом...</td>\n",
       "    </tr>\n",
       "    <tr>\n",
       "      <th>151</th>\n",
       "      <td>13799180</td>\n",
       "      <td>42 16:30:36</td>\n",
       "      <td>6011</td>\n",
       "      <td>2210</td>\n",
       "      <td>-225804.37</td>\n",
       "      <td>NaN</td>\n",
       "      <td>16</td>\n",
       "      <td>225804.37</td>\n",
       "      <td>Финансовые институты — снятие наличности автом...</td>\n",
       "    </tr>\n",
       "    <tr>\n",
       "      <th>152</th>\n",
       "      <td>13799180</td>\n",
       "      <td>44 00:00:00</td>\n",
       "      <td>6011</td>\n",
       "      <td>2210</td>\n",
       "      <td>-451608.74</td>\n",
       "      <td>NaN</td>\n",
       "      <td>0</td>\n",
       "      <td>451608.74</td>\n",
       "      <td>Финансовые институты — снятие наличности автом...</td>\n",
       "    </tr>\n",
       "    <tr>\n",
       "      <th>153</th>\n",
       "      <td>13799180</td>\n",
       "      <td>44 00:00:00</td>\n",
       "      <td>6011</td>\n",
       "      <td>2210</td>\n",
       "      <td>-338706.56</td>\n",
       "      <td>NaN</td>\n",
       "      <td>0</td>\n",
       "      <td>338706.56</td>\n",
       "      <td>Финансовые институты — снятие наличности автом...</td>\n",
       "    </tr>\n",
       "    <tr>\n",
       "      <th>154</th>\n",
       "      <td>13799180</td>\n",
       "      <td>44 00:00:00</td>\n",
       "      <td>6011</td>\n",
       "      <td>2210</td>\n",
       "      <td>-2258043.72</td>\n",
       "      <td>NaN</td>\n",
       "      <td>0</td>\n",
       "      <td>2258043.72</td>\n",
       "      <td>Финансовые институты — снятие наличности автом...</td>\n",
       "    </tr>\n",
       "    <tr>\n",
       "      <th>155</th>\n",
       "      <td>13799180</td>\n",
       "      <td>45 00:00:00</td>\n",
       "      <td>6011</td>\n",
       "      <td>2210</td>\n",
       "      <td>-343759.87</td>\n",
       "      <td>NaN</td>\n",
       "      <td>0</td>\n",
       "      <td>343759.87</td>\n",
       "      <td>Финансовые институты — снятие наличности автом...</td>\n",
       "    </tr>\n",
       "    <tr>\n",
       "      <th>156</th>\n",
       "      <td>13799180</td>\n",
       "      <td>56 00:00:00</td>\n",
       "      <td>6011</td>\n",
       "      <td>2110</td>\n",
       "      <td>-179673.26</td>\n",
       "      <td>NaN</td>\n",
       "      <td>0</td>\n",
       "      <td>179673.26</td>\n",
       "      <td>Финансовые институты — снятие наличности автом...</td>\n",
       "    </tr>\n",
       "    <tr>\n",
       "      <th>157</th>\n",
       "      <td>13799180</td>\n",
       "      <td>56 00:00:00</td>\n",
       "      <td>6011</td>\n",
       "      <td>2110</td>\n",
       "      <td>-179673.26</td>\n",
       "      <td>NaN</td>\n",
       "      <td>0</td>\n",
       "      <td>179673.26</td>\n",
       "      <td>Финансовые институты — снятие наличности автом...</td>\n",
       "    </tr>\n",
       "    <tr>\n",
       "      <th>158</th>\n",
       "      <td>13799180</td>\n",
       "      <td>56 00:00:00</td>\n",
       "      <td>6011</td>\n",
       "      <td>2110</td>\n",
       "      <td>-179673.26</td>\n",
       "      <td>NaN</td>\n",
       "      <td>0</td>\n",
       "      <td>179673.26</td>\n",
       "      <td>Финансовые институты — снятие наличности автом...</td>\n",
       "    </tr>\n",
       "    <tr>\n",
       "      <th>159</th>\n",
       "      <td>13799180</td>\n",
       "      <td>56 00:00:00</td>\n",
       "      <td>6011</td>\n",
       "      <td>2110</td>\n",
       "      <td>-179673.26</td>\n",
       "      <td>NaN</td>\n",
       "      <td>0</td>\n",
       "      <td>179673.26</td>\n",
       "      <td>Финансовые институты — снятие наличности автом...</td>\n",
       "    </tr>\n",
       "    <tr>\n",
       "      <th>160</th>\n",
       "      <td>13799180</td>\n",
       "      <td>84 10:17:15</td>\n",
       "      <td>6011</td>\n",
       "      <td>7010</td>\n",
       "      <td>2245915.77</td>\n",
       "      <td>NaN</td>\n",
       "      <td>10</td>\n",
       "      <td>2245915.77</td>\n",
       "      <td>Финансовые институты — снятие наличности автом...</td>\n",
       "    </tr>\n",
       "    <tr>\n",
       "      <th>161</th>\n",
       "      <td>13799180</td>\n",
       "      <td>91 18:06:39</td>\n",
       "      <td>6011</td>\n",
       "      <td>2210</td>\n",
       "      <td>-622940.90</td>\n",
       "      <td>NaN</td>\n",
       "      <td>18</td>\n",
       "      <td>622940.90</td>\n",
       "      <td>Финансовые институты — снятие наличности автом...</td>\n",
       "    </tr>\n",
       "    <tr>\n",
       "      <th>162</th>\n",
       "      <td>13799180</td>\n",
       "      <td>91 18:06:02</td>\n",
       "      <td>6011</td>\n",
       "      <td>4210</td>\n",
       "      <td>-6229.50</td>\n",
       "      <td>NaN</td>\n",
       "      <td>18</td>\n",
       "      <td>6229.50</td>\n",
       "      <td>Финансовые институты — снятие наличности автом...</td>\n",
       "    </tr>\n",
       "    <tr>\n",
       "      <th>163</th>\n",
       "      <td>13799180</td>\n",
       "      <td>92 18:10:50</td>\n",
       "      <td>6011</td>\n",
       "      <td>2210</td>\n",
       "      <td>-750450.30</td>\n",
       "      <td>NaN</td>\n",
       "      <td>18</td>\n",
       "      <td>750450.30</td>\n",
       "      <td>Финансовые институты — снятие наличности автом...</td>\n",
       "    </tr>\n",
       "    <tr>\n",
       "      <th>164</th>\n",
       "      <td>13799180</td>\n",
       "      <td>92 18:10:40</td>\n",
       "      <td>6011</td>\n",
       "      <td>4210</td>\n",
       "      <td>-7504.50</td>\n",
       "      <td>NaN</td>\n",
       "      <td>18</td>\n",
       "      <td>7504.50</td>\n",
       "      <td>Финансовые институты — снятие наличности автом...</td>\n",
       "    </tr>\n",
       "    <tr>\n",
       "      <th>165</th>\n",
       "      <td>13799180</td>\n",
       "      <td>94 16:05:16</td>\n",
       "      <td>6011</td>\n",
       "      <td>2210</td>\n",
       "      <td>-125180.38</td>\n",
       "      <td>NaN</td>\n",
       "      <td>16</td>\n",
       "      <td>125180.38</td>\n",
       "      <td>Финансовые институты — снятие наличности автом...</td>\n",
       "    </tr>\n",
       "    <tr>\n",
       "      <th>166</th>\n",
       "      <td>13799180</td>\n",
       "      <td>94 16:05:39</td>\n",
       "      <td>6011</td>\n",
       "      <td>4210</td>\n",
       "      <td>-2245.92</td>\n",
       "      <td>NaN</td>\n",
       "      <td>16</td>\n",
       "      <td>2245.92</td>\n",
       "      <td>Финансовые институты — снятие наличности автом...</td>\n",
       "    </tr>\n",
       "    <tr>\n",
       "      <th>167</th>\n",
       "      <td>13799180</td>\n",
       "      <td>94 19:13:51</td>\n",
       "      <td>6011</td>\n",
       "      <td>2210</td>\n",
       "      <td>-250150.10</td>\n",
       "      <td>NaN</td>\n",
       "      <td>19</td>\n",
       "      <td>250150.10</td>\n",
       "      <td>Финансовые институты — снятие наличности автом...</td>\n",
       "    </tr>\n",
       "    <tr>\n",
       "      <th>168</th>\n",
       "      <td>13799180</td>\n",
       "      <td>94 19:13:04</td>\n",
       "      <td>6011</td>\n",
       "      <td>4210</td>\n",
       "      <td>-2501.50</td>\n",
       "      <td>NaN</td>\n",
       "      <td>19</td>\n",
       "      <td>2501.50</td>\n",
       "      <td>Финансовые институты — снятие наличности автом...</td>\n",
       "    </tr>\n",
       "    <tr>\n",
       "      <th>169</th>\n",
       "      <td>13799180</td>\n",
       "      <td>190 14:55:29</td>\n",
       "      <td>6011</td>\n",
       "      <td>2010</td>\n",
       "      <td>-336887.37</td>\n",
       "      <td>NaN</td>\n",
       "      <td>14</td>\n",
       "      <td>336887.37</td>\n",
       "      <td>Финансовые институты — снятие наличности автом...</td>\n",
       "    </tr>\n",
       "    <tr>\n",
       "      <th>170</th>\n",
       "      <td>13799180</td>\n",
       "      <td>194 01:43:11</td>\n",
       "      <td>6011</td>\n",
       "      <td>2011</td>\n",
       "      <td>-898366.31</td>\n",
       "      <td>NaN</td>\n",
       "      <td>1</td>\n",
       "      <td>898366.31</td>\n",
       "      <td>Финансовые институты — снятие наличности автом...</td>\n",
       "    </tr>\n",
       "    <tr>\n",
       "      <th>171</th>\n",
       "      <td>13799180</td>\n",
       "      <td>227 22:18:47</td>\n",
       "      <td>6011</td>\n",
       "      <td>2210</td>\n",
       "      <td>-124203.41</td>\n",
       "      <td>84001142</td>\n",
       "      <td>22</td>\n",
       "      <td>124203.41</td>\n",
       "      <td>Финансовые институты — снятие наличности автом...</td>\n",
       "    </tr>\n",
       "    <tr>\n",
       "      <th>172</th>\n",
       "      <td>13799180</td>\n",
       "      <td>227 22:18:39</td>\n",
       "      <td>6011</td>\n",
       "      <td>4210</td>\n",
       "      <td>-2245.92</td>\n",
       "      <td>84001142</td>\n",
       "      <td>22</td>\n",
       "      <td>2245.92</td>\n",
       "      <td>Финансовые институты — снятие наличности автом...</td>\n",
       "    </tr>\n",
       "    <tr>\n",
       "      <th>173</th>\n",
       "      <td>13799180</td>\n",
       "      <td>228 19:04:45</td>\n",
       "      <td>6011</td>\n",
       "      <td>4210</td>\n",
       "      <td>-7714.72</td>\n",
       "      <td>A3201013</td>\n",
       "      <td>19</td>\n",
       "      <td>7714.72</td>\n",
       "      <td>Финансовые институты — снятие наличности автом...</td>\n",
       "    </tr>\n",
       "    <tr>\n",
       "      <th>174</th>\n",
       "      <td>13799180</td>\n",
       "      <td>228 19:04:11</td>\n",
       "      <td>6011</td>\n",
       "      <td>2210</td>\n",
       "      <td>-771479.03</td>\n",
       "      <td>A3201013</td>\n",
       "      <td>19</td>\n",
       "      <td>771479.03</td>\n",
       "      <td>Финансовые институты — снятие наличности автом...</td>\n",
       "    </tr>\n",
       "    <tr>\n",
       "      <th>175</th>\n",
       "      <td>13799180</td>\n",
       "      <td>261 08:48:29</td>\n",
       "      <td>6011</td>\n",
       "      <td>2110</td>\n",
       "      <td>-179673.26</td>\n",
       "      <td>31000595</td>\n",
       "      <td>8</td>\n",
       "      <td>179673.26</td>\n",
       "      <td>Финансовые институты — снятие наличности автом...</td>\n",
       "    </tr>\n",
       "    <tr>\n",
       "      <th>176</th>\n",
       "      <td>13799180</td>\n",
       "      <td>261 08:48:01</td>\n",
       "      <td>6011</td>\n",
       "      <td>4110</td>\n",
       "      <td>-2245.92</td>\n",
       "      <td>31000595</td>\n",
       "      <td>8</td>\n",
       "      <td>2245.92</td>\n",
       "      <td>Финансовые институты — снятие наличности автом...</td>\n",
       "    </tr>\n",
       "    <tr>\n",
       "      <th>177</th>\n",
       "      <td>13799180</td>\n",
       "      <td>261 12:25:21</td>\n",
       "      <td>6011</td>\n",
       "      <td>4110</td>\n",
       "      <td>-2245.92</td>\n",
       "      <td>31000595</td>\n",
       "      <td>12</td>\n",
       "      <td>2245.92</td>\n",
       "      <td>Финансовые институты — снятие наличности автом...</td>\n",
       "    </tr>\n",
       "    <tr>\n",
       "      <th>178</th>\n",
       "      <td>13799180</td>\n",
       "      <td>261 12:25:53</td>\n",
       "      <td>6011</td>\n",
       "      <td>2110</td>\n",
       "      <td>-112295.79</td>\n",
       "      <td>31000595</td>\n",
       "      <td>12</td>\n",
       "      <td>112295.79</td>\n",
       "      <td>Финансовые институты — снятие наличности автом...</td>\n",
       "    </tr>\n",
       "    <tr>\n",
       "      <th>179</th>\n",
       "      <td>13799180</td>\n",
       "      <td>261 12:28:31</td>\n",
       "      <td>6011</td>\n",
       "      <td>4110</td>\n",
       "      <td>-2245.92</td>\n",
       "      <td>31000595</td>\n",
       "      <td>12</td>\n",
       "      <td>2245.92</td>\n",
       "      <td>Финансовые институты — снятие наличности автом...</td>\n",
       "    </tr>\n",
       "    <tr>\n",
       "      <th>180</th>\n",
       "      <td>13799180</td>\n",
       "      <td>261 12:28:16</td>\n",
       "      <td>6011</td>\n",
       "      <td>2110</td>\n",
       "      <td>-112295.79</td>\n",
       "      <td>31000595</td>\n",
       "      <td>12</td>\n",
       "      <td>112295.79</td>\n",
       "      <td>Финансовые институты — снятие наличности автом...</td>\n",
       "    </tr>\n",
       "    <tr>\n",
       "      <th>181</th>\n",
       "      <td>13799180</td>\n",
       "      <td>262 08:18:04</td>\n",
       "      <td>6011</td>\n",
       "      <td>2110</td>\n",
       "      <td>-112295.79</td>\n",
       "      <td>31000595</td>\n",
       "      <td>8</td>\n",
       "      <td>112295.79</td>\n",
       "      <td>Финансовые институты — снятие наличности автом...</td>\n",
       "    </tr>\n",
       "    <tr>\n",
       "      <th>182</th>\n",
       "      <td>13799180</td>\n",
       "      <td>262 08:18:02</td>\n",
       "      <td>6011</td>\n",
       "      <td>4110</td>\n",
       "      <td>-2245.92</td>\n",
       "      <td>31000595</td>\n",
       "      <td>8</td>\n",
       "      <td>2245.92</td>\n",
       "      <td>Финансовые институты — снятие наличности автом...</td>\n",
       "    </tr>\n",
       "    <tr>\n",
       "      <th>183</th>\n",
       "      <td>13799180</td>\n",
       "      <td>262 08:49:18</td>\n",
       "      <td>6011</td>\n",
       "      <td>4110</td>\n",
       "      <td>-2245.92</td>\n",
       "      <td>31000595</td>\n",
       "      <td>8</td>\n",
       "      <td>2245.92</td>\n",
       "      <td>Финансовые институты — снятие наличности автом...</td>\n",
       "    </tr>\n",
       "    <tr>\n",
       "      <th>184</th>\n",
       "      <td>13799180</td>\n",
       "      <td>262 08:49:04</td>\n",
       "      <td>6011</td>\n",
       "      <td>2110</td>\n",
       "      <td>-112295.79</td>\n",
       "      <td>31000595</td>\n",
       "      <td>8</td>\n",
       "      <td>112295.79</td>\n",
       "      <td>Финансовые институты — снятие наличности автом...</td>\n",
       "    </tr>\n",
       "    <tr>\n",
       "      <th>185</th>\n",
       "      <td>13799180</td>\n",
       "      <td>262 13:34:21</td>\n",
       "      <td>6011</td>\n",
       "      <td>4110</td>\n",
       "      <td>-2245.92</td>\n",
       "      <td>31000595</td>\n",
       "      <td>13</td>\n",
       "      <td>2245.92</td>\n",
       "      <td>Финансовые институты — снятие наличности автом...</td>\n",
       "    </tr>\n",
       "    <tr>\n",
       "      <th>186</th>\n",
       "      <td>13799180</td>\n",
       "      <td>262 13:34:31</td>\n",
       "      <td>6011</td>\n",
       "      <td>2110</td>\n",
       "      <td>-112295.79</td>\n",
       "      <td>31000595</td>\n",
       "      <td>13</td>\n",
       "      <td>112295.79</td>\n",
       "      <td>Финансовые институты — снятие наличности автом...</td>\n",
       "    </tr>\n",
       "    <tr>\n",
       "      <th>187</th>\n",
       "      <td>13799180</td>\n",
       "      <td>320 23:01:34</td>\n",
       "      <td>6011</td>\n",
       "      <td>2010</td>\n",
       "      <td>-673774.73</td>\n",
       "      <td>340098</td>\n",
       "      <td>23</td>\n",
       "      <td>673774.73</td>\n",
       "      <td>Финансовые институты — снятие наличности автом...</td>\n",
       "    </tr>\n",
       "    <tr>\n",
       "      <th>188</th>\n",
       "      <td>13799180</td>\n",
       "      <td>321 00:20:48</td>\n",
       "      <td>6011</td>\n",
       "      <td>2110</td>\n",
       "      <td>-179673.26</td>\n",
       "      <td>31000595</td>\n",
       "      <td>0</td>\n",
       "      <td>179673.26</td>\n",
       "      <td>Финансовые институты — снятие наличности автом...</td>\n",
       "    </tr>\n",
       "    <tr>\n",
       "      <th>189</th>\n",
       "      <td>13799180</td>\n",
       "      <td>321 00:20:42</td>\n",
       "      <td>6011</td>\n",
       "      <td>4110</td>\n",
       "      <td>-2245.92</td>\n",
       "      <td>31000595</td>\n",
       "      <td>0</td>\n",
       "      <td>2245.92</td>\n",
       "      <td>Финансовые институты — снятие наличности автом...</td>\n",
       "    </tr>\n",
       "    <tr>\n",
       "      <th>190</th>\n",
       "      <td>13799180</td>\n",
       "      <td>404 00:00:00</td>\n",
       "      <td>6011</td>\n",
       "      <td>4210</td>\n",
       "      <td>-10677.98</td>\n",
       "      <td>NB080501</td>\n",
       "      <td>0</td>\n",
       "      <td>10677.98</td>\n",
       "      <td>Финансовые институты — снятие наличности автом...</td>\n",
       "    </tr>\n",
       "    <tr>\n",
       "      <th>191</th>\n",
       "      <td>13799180</td>\n",
       "      <td>404 00:00:00</td>\n",
       "      <td>6011</td>\n",
       "      <td>2210</td>\n",
       "      <td>-1067798.19</td>\n",
       "      <td>NB080501</td>\n",
       "      <td>0</td>\n",
       "      <td>1067798.19</td>\n",
       "      <td>Финансовые институты — снятие наличности автом...</td>\n",
       "    </tr>\n",
       "    <tr>\n",
       "      <th>192</th>\n",
       "      <td>13799180</td>\n",
       "      <td>404 00:00:00</td>\n",
       "      <td>6011</td>\n",
       "      <td>4210</td>\n",
       "      <td>-10677.98</td>\n",
       "      <td>NB080501</td>\n",
       "      <td>0</td>\n",
       "      <td>10677.98</td>\n",
       "      <td>Финансовые институты — снятие наличности автом...</td>\n",
       "    </tr>\n",
       "    <tr>\n",
       "      <th>193</th>\n",
       "      <td>13799180</td>\n",
       "      <td>404 00:00:00</td>\n",
       "      <td>6011</td>\n",
       "      <td>2210</td>\n",
       "      <td>-1067798.19</td>\n",
       "      <td>NB080501</td>\n",
       "      <td>0</td>\n",
       "      <td>1067798.19</td>\n",
       "      <td>Финансовые институты — снятие наличности автом...</td>\n",
       "    </tr>\n",
       "    <tr>\n",
       "      <th>194</th>\n",
       "      <td>13799180</td>\n",
       "      <td>404 20:44:53</td>\n",
       "      <td>6011</td>\n",
       "      <td>4210</td>\n",
       "      <td>-10677.98</td>\n",
       "      <td>NB080501</td>\n",
       "      <td>20</td>\n",
       "      <td>10677.98</td>\n",
       "      <td>Финансовые институты — снятие наличности автом...</td>\n",
       "    </tr>\n",
       "    <tr>\n",
       "      <th>195</th>\n",
       "      <td>13799180</td>\n",
       "      <td>404 20:44:24</td>\n",
       "      <td>6011</td>\n",
       "      <td>2210</td>\n",
       "      <td>-1067798.19</td>\n",
       "      <td>NB080501</td>\n",
       "      <td>20</td>\n",
       "      <td>1067798.19</td>\n",
       "      <td>Финансовые институты — снятие наличности автом...</td>\n",
       "    </tr>\n",
       "    <tr>\n",
       "      <th>196</th>\n",
       "      <td>13799180</td>\n",
       "      <td>404 20:44:35</td>\n",
       "      <td>6011</td>\n",
       "      <td>4210</td>\n",
       "      <td>-10677.98</td>\n",
       "      <td>NB080501</td>\n",
       "      <td>20</td>\n",
       "      <td>10677.98</td>\n",
       "      <td>Финансовые институты — снятие наличности автом...</td>\n",
       "    </tr>\n",
       "    <tr>\n",
       "      <th>197</th>\n",
       "      <td>13799180</td>\n",
       "      <td>404 20:44:27</td>\n",
       "      <td>6011</td>\n",
       "      <td>2210</td>\n",
       "      <td>-1067798.19</td>\n",
       "      <td>NB080501</td>\n",
       "      <td>20</td>\n",
       "      <td>1067798.19</td>\n",
       "      <td>Финансовые институты — снятие наличности автом...</td>\n",
       "    </tr>\n",
       "    <tr>\n",
       "      <th>198</th>\n",
       "      <td>13799180</td>\n",
       "      <td>411 00:00:00</td>\n",
       "      <td>6011</td>\n",
       "      <td>4210</td>\n",
       "      <td>-10416.56</td>\n",
       "      <td>NB080501</td>\n",
       "      <td>0</td>\n",
       "      <td>10416.56</td>\n",
       "      <td>Финансовые институты — снятие наличности автом...</td>\n",
       "    </tr>\n",
       "    <tr>\n",
       "      <th>199</th>\n",
       "      <td>13799180</td>\n",
       "      <td>411 00:00:00</td>\n",
       "      <td>6011</td>\n",
       "      <td>2210</td>\n",
       "      <td>-1041655.73</td>\n",
       "      <td>NB080501</td>\n",
       "      <td>0</td>\n",
       "      <td>1041655.73</td>\n",
       "      <td>Финансовые институты — снятие наличности автом...</td>\n",
       "    </tr>\n",
       "    <tr>\n",
       "      <th>200</th>\n",
       "      <td>13799180</td>\n",
       "      <td>411 00:00:00</td>\n",
       "      <td>6011</td>\n",
       "      <td>2210</td>\n",
       "      <td>-1041655.73</td>\n",
       "      <td>NB080501</td>\n",
       "      <td>0</td>\n",
       "      <td>1041655.73</td>\n",
       "      <td>Финансовые институты — снятие наличности автом...</td>\n",
       "    </tr>\n",
       "    <tr>\n",
       "      <th>201</th>\n",
       "      <td>13799180</td>\n",
       "      <td>411 00:00:00</td>\n",
       "      <td>6011</td>\n",
       "      <td>4210</td>\n",
       "      <td>-10416.56</td>\n",
       "      <td>NB080501</td>\n",
       "      <td>0</td>\n",
       "      <td>10416.56</td>\n",
       "      <td>Финансовые институты — снятие наличности автом...</td>\n",
       "    </tr>\n",
       "    <tr>\n",
       "      <th>202</th>\n",
       "      <td>13799180</td>\n",
       "      <td>413 00:00:00</td>\n",
       "      <td>6011</td>\n",
       "      <td>4210</td>\n",
       "      <td>-3420.53</td>\n",
       "      <td>NB080501</td>\n",
       "      <td>0</td>\n",
       "      <td>3420.53</td>\n",
       "      <td>Финансовые институты — снятие наличности автом...</td>\n",
       "    </tr>\n",
       "    <tr>\n",
       "      <th>203</th>\n",
       "      <td>13799180</td>\n",
       "      <td>413 00:00:00</td>\n",
       "      <td>6011</td>\n",
       "      <td>2210</td>\n",
       "      <td>-1029797.30</td>\n",
       "      <td>S1A16501</td>\n",
       "      <td>0</td>\n",
       "      <td>1029797.30</td>\n",
       "      <td>Финансовые институты — снятие наличности автом...</td>\n",
       "    </tr>\n",
       "    <tr>\n",
       "      <th>204</th>\n",
       "      <td>13799180</td>\n",
       "      <td>413 00:00:00</td>\n",
       "      <td>6011</td>\n",
       "      <td>2210</td>\n",
       "      <td>-342052.97</td>\n",
       "      <td>NB080501</td>\n",
       "      <td>0</td>\n",
       "      <td>342052.97</td>\n",
       "      <td>Финансовые институты — снятие наличности автом...</td>\n",
       "    </tr>\n",
       "    <tr>\n",
       "      <th>205</th>\n",
       "      <td>13799180</td>\n",
       "      <td>413 00:00:00</td>\n",
       "      <td>6011</td>\n",
       "      <td>4210</td>\n",
       "      <td>-10297.97</td>\n",
       "      <td>S1A16501</td>\n",
       "      <td>0</td>\n",
       "      <td>10297.97</td>\n",
       "      <td>Финансовые институты — снятие наличности автом...</td>\n",
       "    </tr>\n",
       "    <tr>\n",
       "      <th>206</th>\n",
       "      <td>13799180</td>\n",
       "      <td>430 20:18:05</td>\n",
       "      <td>6011</td>\n",
       "      <td>2010</td>\n",
       "      <td>-673774.73</td>\n",
       "      <td>756689</td>\n",
       "      <td>20</td>\n",
       "      <td>673774.73</td>\n",
       "      <td>Финансовые институты — снятие наличности автом...</td>\n",
       "    </tr>\n",
       "    <tr>\n",
       "      <th>207</th>\n",
       "      <td>13799180</td>\n",
       "      <td>430 20:20:18</td>\n",
       "      <td>6011</td>\n",
       "      <td>2010</td>\n",
       "      <td>-673774.73</td>\n",
       "      <td>756689</td>\n",
       "      <td>20</td>\n",
       "      <td>673774.73</td>\n",
       "      <td>Финансовые институты — снятие наличности автом...</td>\n",
       "    </tr>\n",
       "    <tr>\n",
       "      <th>208</th>\n",
       "      <td>13799180</td>\n",
       "      <td>8 15:44:26</td>\n",
       "      <td>5814</td>\n",
       "      <td>1210</td>\n",
       "      <td>-222618.32</td>\n",
       "      <td>NaN</td>\n",
       "      <td>15</td>\n",
       "      <td>222618.32</td>\n",
       "      <td>Рестораны, закусочные</td>\n",
       "    </tr>\n",
       "    <tr>\n",
       "      <th>209</th>\n",
       "      <td>13799180</td>\n",
       "      <td>11 14:48:56</td>\n",
       "      <td>5814</td>\n",
       "      <td>1210</td>\n",
       "      <td>-30399.59</td>\n",
       "      <td>NaN</td>\n",
       "      <td>14</td>\n",
       "      <td>30399.59</td>\n",
       "      <td>Рестораны, закусочные</td>\n",
       "    </tr>\n",
       "    <tr>\n",
       "      <th>210</th>\n",
       "      <td>13799180</td>\n",
       "      <td>190 16:33:31</td>\n",
       "      <td>5814</td>\n",
       "      <td>1010</td>\n",
       "      <td>-80516.08</td>\n",
       "      <td>NaN</td>\n",
       "      <td>16</td>\n",
       "      <td>80516.08</td>\n",
       "      <td>Рестораны, закусочные</td>\n",
       "    </tr>\n",
       "    <tr>\n",
       "      <th>211</th>\n",
       "      <td>13799180</td>\n",
       "      <td>246 17:06:34</td>\n",
       "      <td>5814</td>\n",
       "      <td>1010</td>\n",
       "      <td>-82537.40</td>\n",
       "      <td>590588</td>\n",
       "      <td>17</td>\n",
       "      <td>82537.40</td>\n",
       "      <td>Рестораны, закусочные</td>\n",
       "    </tr>\n",
       "    <tr>\n",
       "      <th>212</th>\n",
       "      <td>13799180</td>\n",
       "      <td>260 18:24:52</td>\n",
       "      <td>5814</td>\n",
       "      <td>1010</td>\n",
       "      <td>-122694.38</td>\n",
       "      <td>575597</td>\n",
       "      <td>18</td>\n",
       "      <td>122694.38</td>\n",
       "      <td>Рестораны, закусочные</td>\n",
       "    </tr>\n",
       "    <tr>\n",
       "      <th>213</th>\n",
       "      <td>13799180</td>\n",
       "      <td>262 13:57:60</td>\n",
       "      <td>5814</td>\n",
       "      <td>1110</td>\n",
       "      <td>-6872.50</td>\n",
       "      <td>26023039</td>\n",
       "      <td>13</td>\n",
       "      <td>6872.50</td>\n",
       "      <td>Рестораны, закусочные</td>\n",
       "    </tr>\n",
       "    <tr>\n",
       "      <th>214</th>\n",
       "      <td>13799180</td>\n",
       "      <td>318 19:46:01</td>\n",
       "      <td>5814</td>\n",
       "      <td>1110</td>\n",
       "      <td>-142660.57</td>\n",
       "      <td>39793003</td>\n",
       "      <td>19</td>\n",
       "      <td>142660.57</td>\n",
       "      <td>Рестораны, закусочные</td>\n",
       "    </tr>\n",
       "    <tr>\n",
       "      <th>215</th>\n",
       "      <td>13799180</td>\n",
       "      <td>324 14:05:02</td>\n",
       "      <td>5814</td>\n",
       "      <td>1110</td>\n",
       "      <td>-7501.36</td>\n",
       "      <td>25102415</td>\n",
       "      <td>14</td>\n",
       "      <td>7501.36</td>\n",
       "      <td>Рестораны, закусочные</td>\n",
       "    </tr>\n",
       "    <tr>\n",
       "      <th>216</th>\n",
       "      <td>13799180</td>\n",
       "      <td>324 14:20:47</td>\n",
       "      <td>5814</td>\n",
       "      <td>1110</td>\n",
       "      <td>-6670.37</td>\n",
       "      <td>25102415</td>\n",
       "      <td>14</td>\n",
       "      <td>6670.37</td>\n",
       "      <td>Рестораны, закусочные</td>\n",
       "    </tr>\n",
       "    <tr>\n",
       "      <th>217</th>\n",
       "      <td>13799180</td>\n",
       "      <td>344 17:56:25</td>\n",
       "      <td>5814</td>\n",
       "      <td>1010</td>\n",
       "      <td>-129364.75</td>\n",
       "      <td>590588</td>\n",
       "      <td>17</td>\n",
       "      <td>129364.75</td>\n",
       "      <td>Рестораны, закусочные</td>\n",
       "    </tr>\n",
       "    <tr>\n",
       "      <th>218</th>\n",
       "      <td>13799180</td>\n",
       "      <td>346 18:34:44</td>\n",
       "      <td>5814</td>\n",
       "      <td>1110</td>\n",
       "      <td>-86916.94</td>\n",
       "      <td>09744701</td>\n",
       "      <td>18</td>\n",
       "      <td>86916.94</td>\n",
       "      <td>Рестораны, закусочные</td>\n",
       "    </tr>\n",
       "    <tr>\n",
       "      <th>219</th>\n",
       "      <td>13799180</td>\n",
       "      <td>349 16:07:36</td>\n",
       "      <td>5814</td>\n",
       "      <td>1110</td>\n",
       "      <td>-6647.91</td>\n",
       "      <td>25102512</td>\n",
       "      <td>16</td>\n",
       "      <td>6647.91</td>\n",
       "      <td>Рестораны, закусочные</td>\n",
       "    </tr>\n",
       "    <tr>\n",
       "      <th>220</th>\n",
       "      <td>13799180</td>\n",
       "      <td>402 00:00:00</td>\n",
       "      <td>5814</td>\n",
       "      <td>1110</td>\n",
       "      <td>-123076.18</td>\n",
       "      <td>26305955</td>\n",
       "      <td>0</td>\n",
       "      <td>123076.18</td>\n",
       "      <td>Рестораны, закусочные</td>\n",
       "    </tr>\n",
       "    <tr>\n",
       "      <th>221</th>\n",
       "      <td>13799180</td>\n",
       "      <td>8 18:05:41</td>\n",
       "      <td>4131</td>\n",
       "      <td>1200</td>\n",
       "      <td>-683283.94</td>\n",
       "      <td>NaN</td>\n",
       "      <td>18</td>\n",
       "      <td>683283.94</td>\n",
       "      <td>Автобусные линии</td>\n",
       "    </tr>\n",
       "    <tr>\n",
       "      <th>222</th>\n",
       "      <td>13799180</td>\n",
       "      <td>10 00:00:00</td>\n",
       "      <td>5944</td>\n",
       "      <td>1210</td>\n",
       "      <td>-2941500.59</td>\n",
       "      <td>NaN</td>\n",
       "      <td>0</td>\n",
       "      <td>2941500.59</td>\n",
       "      <td>Магазины по продаже часов, ювелирных изделий и...</td>\n",
       "    </tr>\n",
       "    <tr>\n",
       "      <th>223</th>\n",
       "      <td>13799180</td>\n",
       "      <td>10 00:00:00</td>\n",
       "      <td>5944</td>\n",
       "      <td>1210</td>\n",
       "      <td>-13420617.70</td>\n",
       "      <td>NaN</td>\n",
       "      <td>0</td>\n",
       "      <td>13420617.70</td>\n",
       "      <td>Магазины по продаже часов, ювелирных изделий и...</td>\n",
       "    </tr>\n",
       "    <tr>\n",
       "      <th>224</th>\n",
       "      <td>13799180</td>\n",
       "      <td>10 16:24:34</td>\n",
       "      <td>5944</td>\n",
       "      <td>1210</td>\n",
       "      <td>-3661637.31</td>\n",
       "      <td>NaN</td>\n",
       "      <td>16</td>\n",
       "      <td>3661637.31</td>\n",
       "      <td>Магазины по продаже часов, ювелирных изделий и...</td>\n",
       "    </tr>\n",
       "    <tr>\n",
       "      <th>225</th>\n",
       "      <td>13799180</td>\n",
       "      <td>35 00:00:00</td>\n",
       "      <td>5944</td>\n",
       "      <td>1210</td>\n",
       "      <td>-42761.79</td>\n",
       "      <td>NaN</td>\n",
       "      <td>0</td>\n",
       "      <td>42761.79</td>\n",
       "      <td>Магазины по продаже часов, ювелирных изделий и...</td>\n",
       "    </tr>\n",
       "    <tr>\n",
       "      <th>226</th>\n",
       "      <td>13799180</td>\n",
       "      <td>35 00:00:00</td>\n",
       "      <td>5944</td>\n",
       "      <td>1210</td>\n",
       "      <td>-31797.23</td>\n",
       "      <td>NaN</td>\n",
       "      <td>0</td>\n",
       "      <td>31797.23</td>\n",
       "      <td>Магазины по продаже часов, ювелирных изделий и...</td>\n",
       "    </tr>\n",
       "    <tr>\n",
       "      <th>227</th>\n",
       "      <td>13799180</td>\n",
       "      <td>36 00:00:00</td>\n",
       "      <td>5944</td>\n",
       "      <td>1210</td>\n",
       "      <td>-1940727.26</td>\n",
       "      <td>NaN</td>\n",
       "      <td>0</td>\n",
       "      <td>1940727.26</td>\n",
       "      <td>Магазины по продаже часов, ювелирных изделий и...</td>\n",
       "    </tr>\n",
       "    <tr>\n",
       "      <th>228</th>\n",
       "      <td>13799180</td>\n",
       "      <td>36 20:53:31</td>\n",
       "      <td>5944</td>\n",
       "      <td>1210</td>\n",
       "      <td>-381165.60</td>\n",
       "      <td>NaN</td>\n",
       "      <td>20</td>\n",
       "      <td>381165.60</td>\n",
       "      <td>Магазины по продаже часов, ювелирных изделий и...</td>\n",
       "    </tr>\n",
       "    <tr>\n",
       "      <th>229</th>\n",
       "      <td>13799180</td>\n",
       "      <td>38 00:00:00</td>\n",
       "      <td>5944</td>\n",
       "      <td>1210</td>\n",
       "      <td>-142664.84</td>\n",
       "      <td>NaN</td>\n",
       "      <td>0</td>\n",
       "      <td>142664.84</td>\n",
       "      <td>Магазины по продаже часов, ювелирных изделий и...</td>\n",
       "    </tr>\n",
       "    <tr>\n",
       "      <th>230</th>\n",
       "      <td>13799180</td>\n",
       "      <td>40 00:00:00</td>\n",
       "      <td>5944</td>\n",
       "      <td>1210</td>\n",
       "      <td>-558334.66</td>\n",
       "      <td>NaN</td>\n",
       "      <td>0</td>\n",
       "      <td>558334.66</td>\n",
       "      <td>Магазины по продаже часов, ювелирных изделий и...</td>\n",
       "    </tr>\n",
       "    <tr>\n",
       "      <th>231</th>\n",
       "      <td>13799180</td>\n",
       "      <td>40 21:41:29</td>\n",
       "      <td>5944</td>\n",
       "      <td>1210</td>\n",
       "      <td>-6979183.26</td>\n",
       "      <td>NaN</td>\n",
       "      <td>21</td>\n",
       "      <td>6979183.26</td>\n",
       "      <td>Магазины по продаже часов, ювелирных изделий и...</td>\n",
       "    </tr>\n",
       "    <tr>\n",
       "      <th>232</th>\n",
       "      <td>13799180</td>\n",
       "      <td>52 20:49:54</td>\n",
       "      <td>5944</td>\n",
       "      <td>1010</td>\n",
       "      <td>-2855075.51</td>\n",
       "      <td>NaN</td>\n",
       "      <td>20</td>\n",
       "      <td>2855075.51</td>\n",
       "      <td>Магазины по продаже часов, ювелирных изделий и...</td>\n",
       "    </tr>\n",
       "    <tr>\n",
       "      <th>233</th>\n",
       "      <td>13799180</td>\n",
       "      <td>55 11:38:15</td>\n",
       "      <td>5944</td>\n",
       "      <td>1010</td>\n",
       "      <td>-1356533.13</td>\n",
       "      <td>NaN</td>\n",
       "      <td>11</td>\n",
       "      <td>1356533.13</td>\n",
       "      <td>Магазины по продаже часов, ювелирных изделий и...</td>\n",
       "    </tr>\n",
       "    <tr>\n",
       "      <th>234</th>\n",
       "      <td>13799180</td>\n",
       "      <td>55 12:08:51</td>\n",
       "      <td>5944</td>\n",
       "      <td>1110</td>\n",
       "      <td>-424478.08</td>\n",
       "      <td>NaN</td>\n",
       "      <td>12</td>\n",
       "      <td>424478.08</td>\n",
       "      <td>Магазины по продаже часов, ювелирных изделий и...</td>\n",
       "    </tr>\n",
       "    <tr>\n",
       "      <th>235</th>\n",
       "      <td>13799180</td>\n",
       "      <td>102 17:46:49</td>\n",
       "      <td>5944</td>\n",
       "      <td>1010</td>\n",
       "      <td>-1448413.54</td>\n",
       "      <td>NaN</td>\n",
       "      <td>17</td>\n",
       "      <td>1448413.54</td>\n",
       "      <td>Магазины по продаже часов, ювелирных изделий и...</td>\n",
       "    </tr>\n",
       "    <tr>\n",
       "      <th>236</th>\n",
       "      <td>13799180</td>\n",
       "      <td>136 20:13:21</td>\n",
       "      <td>5944</td>\n",
       "      <td>1010</td>\n",
       "      <td>-2030487.53</td>\n",
       "      <td>NaN</td>\n",
       "      <td>20</td>\n",
       "      <td>2030487.53</td>\n",
       "      <td>Магазины по продаже часов, ювелирных изделий и...</td>\n",
       "    </tr>\n",
       "    <tr>\n",
       "      <th>237</th>\n",
       "      <td>13799180</td>\n",
       "      <td>185 19:50:19</td>\n",
       "      <td>5944</td>\n",
       "      <td>1010</td>\n",
       "      <td>-346320.21</td>\n",
       "      <td>NaN</td>\n",
       "      <td>19</td>\n",
       "      <td>346320.21</td>\n",
       "      <td>Магазины по продаже часов, ювелирных изделий и...</td>\n",
       "    </tr>\n",
       "    <tr>\n",
       "      <th>238</th>\n",
       "      <td>13799180</td>\n",
       "      <td>214 20:12:13</td>\n",
       "      <td>5944</td>\n",
       "      <td>1010</td>\n",
       "      <td>-318695.45</td>\n",
       "      <td>104792</td>\n",
       "      <td>20</td>\n",
       "      <td>318695.45</td>\n",
       "      <td>Магазины по продаже часов, ювелирных изделий и...</td>\n",
       "    </tr>\n",
       "    <tr>\n",
       "      <th>239</th>\n",
       "      <td>13799180</td>\n",
       "      <td>229 10:05:03</td>\n",
       "      <td>5944</td>\n",
       "      <td>1210</td>\n",
       "      <td>-676615.59</td>\n",
       "      <td>00066118</td>\n",
       "      <td>10</td>\n",
       "      <td>676615.59</td>\n",
       "      <td>Магазины по продаже часов, ювелирных изделий и...</td>\n",
       "    </tr>\n",
       "    <tr>\n",
       "      <th>240</th>\n",
       "      <td>13799180</td>\n",
       "      <td>346 20:15:14</td>\n",
       "      <td>5944</td>\n",
       "      <td>1010</td>\n",
       "      <td>-738704.16</td>\n",
       "      <td>104792</td>\n",
       "      <td>20</td>\n",
       "      <td>738704.16</td>\n",
       "      <td>Магазины по продаже часов, ювелирных изделий и...</td>\n",
       "    </tr>\n",
       "    <tr>\n",
       "      <th>241</th>\n",
       "      <td>13799180</td>\n",
       "      <td>405 00:00:00</td>\n",
       "      <td>5944</td>\n",
       "      <td>1210</td>\n",
       "      <td>-56949.24</td>\n",
       "      <td>76604495</td>\n",
       "      <td>0</td>\n",
       "      <td>56949.24</td>\n",
       "      <td>Магазины по продаже часов, ювелирных изделий и...</td>\n",
       "    </tr>\n",
       "    <tr>\n",
       "      <th>242</th>\n",
       "      <td>13799180</td>\n",
       "      <td>421 17:53:25</td>\n",
       "      <td>5944</td>\n",
       "      <td>1010</td>\n",
       "      <td>-107736.58</td>\n",
       "      <td>132136</td>\n",
       "      <td>17</td>\n",
       "      <td>107736.58</td>\n",
       "      <td>Магазины по продаже часов, ювелирных изделий и...</td>\n",
       "    </tr>\n",
       "    <tr>\n",
       "      <th>243</th>\n",
       "      <td>13799180</td>\n",
       "      <td>430 20:37:37</td>\n",
       "      <td>5944</td>\n",
       "      <td>1010</td>\n",
       "      <td>-1217870.29</td>\n",
       "      <td>104792</td>\n",
       "      <td>20</td>\n",
       "      <td>1217870.29</td>\n",
       "      <td>Магазины по продаже часов, ювелирных изделий и...</td>\n",
       "    </tr>\n",
       "    <tr>\n",
       "      <th>244</th>\n",
       "      <td>13799180</td>\n",
       "      <td>10 17:07:49</td>\n",
       "      <td>5499</td>\n",
       "      <td>1210</td>\n",
       "      <td>-60929.22</td>\n",
       "      <td>NaN</td>\n",
       "      <td>17</td>\n",
       "      <td>60929.22</td>\n",
       "      <td>Различные продовольственные магазины — рынки, ...</td>\n",
       "    </tr>\n",
       "    <tr>\n",
       "      <th>245</th>\n",
       "      <td>13799180</td>\n",
       "      <td>10 17:11:28</td>\n",
       "      <td>5411</td>\n",
       "      <td>1210</td>\n",
       "      <td>-35797.88</td>\n",
       "      <td>NaN</td>\n",
       "      <td>17</td>\n",
       "      <td>35797.88</td>\n",
       "      <td>Бакалейные магазины, супермаркеты</td>\n",
       "    </tr>\n",
       "    <tr>\n",
       "      <th>246</th>\n",
       "      <td>13799180</td>\n",
       "      <td>11 13:25:18</td>\n",
       "      <td>5411</td>\n",
       "      <td>1210</td>\n",
       "      <td>-77380.78</td>\n",
       "      <td>NaN</td>\n",
       "      <td>13</td>\n",
       "      <td>77380.78</td>\n",
       "      <td>Бакалейные магазины, супермаркеты</td>\n",
       "    </tr>\n",
       "    <tr>\n",
       "      <th>247</th>\n",
       "      <td>13799180</td>\n",
       "      <td>35 00:00:00</td>\n",
       "      <td>5411</td>\n",
       "      <td>1210</td>\n",
       "      <td>-81236.35</td>\n",
       "      <td>NaN</td>\n",
       "      <td>0</td>\n",
       "      <td>81236.35</td>\n",
       "      <td>Бакалейные магазины, супермаркеты</td>\n",
       "    </tr>\n",
       "    <tr>\n",
       "      <th>248</th>\n",
       "      <td>13799180</td>\n",
       "      <td>40 13:20:14</td>\n",
       "      <td>5411</td>\n",
       "      <td>1210</td>\n",
       "      <td>-26464.97</td>\n",
       "      <td>NaN</td>\n",
       "      <td>13</td>\n",
       "      <td>26464.97</td>\n",
       "      <td>Бакалейные магазины, супермаркеты</td>\n",
       "    </tr>\n",
       "    <tr>\n",
       "      <th>249</th>\n",
       "      <td>13799180</td>\n",
       "      <td>41 00:00:00</td>\n",
       "      <td>5411</td>\n",
       "      <td>1210</td>\n",
       "      <td>-61863.53</td>\n",
       "      <td>NaN</td>\n",
       "      <td>0</td>\n",
       "      <td>61863.53</td>\n",
       "      <td>Бакалейные магазины, супермаркеты</td>\n",
       "    </tr>\n",
       "    <tr>\n",
       "      <th>250</th>\n",
       "      <td>13799180</td>\n",
       "      <td>41 13:37:24</td>\n",
       "      <td>5411</td>\n",
       "      <td>1210</td>\n",
       "      <td>-41986.72</td>\n",
       "      <td>NaN</td>\n",
       "      <td>13</td>\n",
       "      <td>41986.72</td>\n",
       "      <td>Бакалейные магазины, супермаркеты</td>\n",
       "    </tr>\n",
       "    <tr>\n",
       "      <th>251</th>\n",
       "      <td>13799180</td>\n",
       "      <td>42 00:00:00</td>\n",
       "      <td>5411</td>\n",
       "      <td>1210</td>\n",
       "      <td>-60338.10</td>\n",
       "      <td>NaN</td>\n",
       "      <td>0</td>\n",
       "      <td>60338.10</td>\n",
       "      <td>Бакалейные магазины, супермаркеты</td>\n",
       "    </tr>\n",
       "    <tr>\n",
       "      <th>252</th>\n",
       "      <td>13799180</td>\n",
       "      <td>95 10:15:18</td>\n",
       "      <td>5411</td>\n",
       "      <td>1210</td>\n",
       "      <td>-378852.30</td>\n",
       "      <td>NaN</td>\n",
       "      <td>10</td>\n",
       "      <td>378852.30</td>\n",
       "      <td>Бакалейные магазины, супермаркеты</td>\n",
       "    </tr>\n",
       "    <tr>\n",
       "      <th>253</th>\n",
       "      <td>13799180</td>\n",
       "      <td>95 10:24:14</td>\n",
       "      <td>5411</td>\n",
       "      <td>1210</td>\n",
       "      <td>-66539.97</td>\n",
       "      <td>NaN</td>\n",
       "      <td>10</td>\n",
       "      <td>66539.97</td>\n",
       "      <td>Бакалейные магазины, супермаркеты</td>\n",
       "    </tr>\n",
       "    <tr>\n",
       "      <th>254</th>\n",
       "      <td>13799180</td>\n",
       "      <td>230 11:12:33</td>\n",
       "      <td>5411</td>\n",
       "      <td>1210</td>\n",
       "      <td>-12142.77</td>\n",
       "      <td>83204039</td>\n",
       "      <td>11</td>\n",
       "      <td>12142.77</td>\n",
       "      <td>Бакалейные магазины, супермаркеты</td>\n",
       "    </tr>\n",
       "    <tr>\n",
       "      <th>255</th>\n",
       "      <td>13799180</td>\n",
       "      <td>354 00:00:00</td>\n",
       "      <td>5411</td>\n",
       "      <td>1110</td>\n",
       "      <td>-2807.39</td>\n",
       "      <td>00180347</td>\n",
       "      <td>0</td>\n",
       "      <td>2807.39</td>\n",
       "      <td>Бакалейные магазины, супермаркеты</td>\n",
       "    </tr>\n",
       "    <tr>\n",
       "      <th>256</th>\n",
       "      <td>13799180</td>\n",
       "      <td>407 00:00:00</td>\n",
       "      <td>5411</td>\n",
       "      <td>1210</td>\n",
       "      <td>-71460.32</td>\n",
       "      <td>00211606</td>\n",
       "      <td>0</td>\n",
       "      <td>71460.32</td>\n",
       "      <td>Бакалейные магазины, супермаркеты</td>\n",
       "    </tr>\n",
       "    <tr>\n",
       "      <th>257</th>\n",
       "      <td>13799180</td>\n",
       "      <td>421 00:00:00</td>\n",
       "      <td>5411</td>\n",
       "      <td>1110</td>\n",
       "      <td>-69039.90</td>\n",
       "      <td>30856016</td>\n",
       "      <td>0</td>\n",
       "      <td>69039.90</td>\n",
       "      <td>Бакалейные магазины, супермаркеты</td>\n",
       "    </tr>\n",
       "    <tr>\n",
       "      <th>258</th>\n",
       "      <td>13799180</td>\n",
       "      <td>11 13:27:40</td>\n",
       "      <td>5946</td>\n",
       "      <td>1210</td>\n",
       "      <td>-88435.18</td>\n",
       "      <td>NaN</td>\n",
       "      <td>13</td>\n",
       "      <td>88435.18</td>\n",
       "      <td>Магазины фотооборудования и фотоприборов</td>\n",
       "    </tr>\n",
       "    <tr>\n",
       "      <th>259</th>\n",
       "      <td>13799180</td>\n",
       "      <td>12 00:00:00</td>\n",
       "      <td>5200</td>\n",
       "      <td>1210</td>\n",
       "      <td>-139278.45</td>\n",
       "      <td>NaN</td>\n",
       "      <td>0</td>\n",
       "      <td>139278.45</td>\n",
       "      <td>Товары для дома</td>\n",
       "    </tr>\n",
       "    <tr>\n",
       "      <th>260</th>\n",
       "      <td>13799180</td>\n",
       "      <td>12 00:00:00</td>\n",
       "      <td>5977</td>\n",
       "      <td>1210</td>\n",
       "      <td>-64484.73</td>\n",
       "      <td>NaN</td>\n",
       "      <td>0</td>\n",
       "      <td>64484.73</td>\n",
       "      <td>Магазины косметики</td>\n",
       "    </tr>\n",
       "    <tr>\n",
       "      <th>261</th>\n",
       "      <td>13799180</td>\n",
       "      <td>150 20:13:39</td>\n",
       "      <td>5977</td>\n",
       "      <td>1110</td>\n",
       "      <td>-272693.48</td>\n",
       "      <td>NaN</td>\n",
       "      <td>20</td>\n",
       "      <td>272693.48</td>\n",
       "      <td>Магазины косметики</td>\n",
       "    </tr>\n",
       "    <tr>\n",
       "      <th>262</th>\n",
       "      <td>13799180</td>\n",
       "      <td>386 00:00:00</td>\n",
       "      <td>5977</td>\n",
       "      <td>1110</td>\n",
       "      <td>-168303.31</td>\n",
       "      <td>787037</td>\n",
       "      <td>0</td>\n",
       "      <td>168303.31</td>\n",
       "      <td>Магазины косметики</td>\n",
       "    </tr>\n",
       "    <tr>\n",
       "      <th>263</th>\n",
       "      <td>13799180</td>\n",
       "      <td>14 20:36:01</td>\n",
       "      <td>6010</td>\n",
       "      <td>7031</td>\n",
       "      <td>3368873.66</td>\n",
       "      <td>NaN</td>\n",
       "      <td>20</td>\n",
       "      <td>3368873.66</td>\n",
       "      <td>Финансовые институты — снятие наличности вручную</td>\n",
       "    </tr>\n",
       "    <tr>\n",
       "      <th>264</th>\n",
       "      <td>13799180</td>\n",
       "      <td>15 15:04:35</td>\n",
       "      <td>6010</td>\n",
       "      <td>7031</td>\n",
       "      <td>1122957.89</td>\n",
       "      <td>NaN</td>\n",
       "      <td>15</td>\n",
       "      <td>1122957.89</td>\n",
       "      <td>Финансовые институты — снятие наличности вручную</td>\n",
       "    </tr>\n",
       "    <tr>\n",
       "      <th>265</th>\n",
       "      <td>13799180</td>\n",
       "      <td>15 15:06:27</td>\n",
       "      <td>6010</td>\n",
       "      <td>7031</td>\n",
       "      <td>2245915.77</td>\n",
       "      <td>NaN</td>\n",
       "      <td>15</td>\n",
       "      <td>2245915.77</td>\n",
       "      <td>Финансовые институты — снятие наличности вручную</td>\n",
       "    </tr>\n",
       "    <tr>\n",
       "      <th>266</th>\n",
       "      <td>13799180</td>\n",
       "      <td>16 11:44:48</td>\n",
       "      <td>6010</td>\n",
       "      <td>7031</td>\n",
       "      <td>3368873.66</td>\n",
       "      <td>NaN</td>\n",
       "      <td>11</td>\n",
       "      <td>3368873.66</td>\n",
       "      <td>Финансовые институты — снятие наличности вручную</td>\n",
       "    </tr>\n",
       "    <tr>\n",
       "      <th>267</th>\n",
       "      <td>13799180</td>\n",
       "      <td>17 08:26:02</td>\n",
       "      <td>6010</td>\n",
       "      <td>7031</td>\n",
       "      <td>3368873.66</td>\n",
       "      <td>NaN</td>\n",
       "      <td>8</td>\n",
       "      <td>3368873.66</td>\n",
       "      <td>Финансовые институты — снятие наличности вручную</td>\n",
       "    </tr>\n",
       "    <tr>\n",
       "      <th>268</th>\n",
       "      <td>13799180</td>\n",
       "      <td>18 08:30:02</td>\n",
       "      <td>6010</td>\n",
       "      <td>7031</td>\n",
       "      <td>1956686.74</td>\n",
       "      <td>NaN</td>\n",
       "      <td>8</td>\n",
       "      <td>1956686.74</td>\n",
       "      <td>Финансовые институты — снятие наличности вручную</td>\n",
       "    </tr>\n",
       "    <tr>\n",
       "      <th>269</th>\n",
       "      <td>13799180</td>\n",
       "      <td>21 14:32:29</td>\n",
       "      <td>6010</td>\n",
       "      <td>7020</td>\n",
       "      <td>6737747.32</td>\n",
       "      <td>NaN</td>\n",
       "      <td>14</td>\n",
       "      <td>6737747.32</td>\n",
       "      <td>Финансовые институты — снятие наличности вручную</td>\n",
       "    </tr>\n",
       "    <tr>\n",
       "      <th>270</th>\n",
       "      <td>13799180</td>\n",
       "      <td>21 14:35:51</td>\n",
       "      <td>6010</td>\n",
       "      <td>7020</td>\n",
       "      <td>1122957.89</td>\n",
       "      <td>NaN</td>\n",
       "      <td>14</td>\n",
       "      <td>1122957.89</td>\n",
       "      <td>Финансовые институты — снятие наличности вручную</td>\n",
       "    </tr>\n",
       "    <tr>\n",
       "      <th>271</th>\n",
       "      <td>13799180</td>\n",
       "      <td>33 17:08:37</td>\n",
       "      <td>6010</td>\n",
       "      <td>7031</td>\n",
       "      <td>1347549.46</td>\n",
       "      <td>NaN</td>\n",
       "      <td>17</td>\n",
       "      <td>1347549.46</td>\n",
       "      <td>Финансовые институты — снятие наличности вручную</td>\n",
       "    </tr>\n",
       "    <tr>\n",
       "      <th>272</th>\n",
       "      <td>13799180</td>\n",
       "      <td>52 10:25:11</td>\n",
       "      <td>6010</td>\n",
       "      <td>7070</td>\n",
       "      <td>2245915.77</td>\n",
       "      <td>NaN</td>\n",
       "      <td>10</td>\n",
       "      <td>2245915.77</td>\n",
       "      <td>Финансовые институты — снятие наличности вручную</td>\n",
       "    </tr>\n",
       "    <tr>\n",
       "      <th>273</th>\n",
       "      <td>13799180</td>\n",
       "      <td>76 21:52:00</td>\n",
       "      <td>6010</td>\n",
       "      <td>7031</td>\n",
       "      <td>3368873.66</td>\n",
       "      <td>NaN</td>\n",
       "      <td>21</td>\n",
       "      <td>3368873.66</td>\n",
       "      <td>Финансовые институты — снятие наличности вручную</td>\n",
       "    </tr>\n",
       "    <tr>\n",
       "      <th>274</th>\n",
       "      <td>13799180</td>\n",
       "      <td>77 21:55:43</td>\n",
       "      <td>6010</td>\n",
       "      <td>7031</td>\n",
       "      <td>3368873.66</td>\n",
       "      <td>NaN</td>\n",
       "      <td>21</td>\n",
       "      <td>3368873.66</td>\n",
       "      <td>Финансовые институты — снятие наличности вручную</td>\n",
       "    </tr>\n",
       "    <tr>\n",
       "      <th>275</th>\n",
       "      <td>13799180</td>\n",
       "      <td>78 13:04:35</td>\n",
       "      <td>6010</td>\n",
       "      <td>7031</td>\n",
       "      <td>3368873.66</td>\n",
       "      <td>NaN</td>\n",
       "      <td>13</td>\n",
       "      <td>3368873.66</td>\n",
       "      <td>Финансовые институты — снятие наличности вручную</td>\n",
       "    </tr>\n",
       "    <tr>\n",
       "      <th>276</th>\n",
       "      <td>13799180</td>\n",
       "      <td>79 13:09:27</td>\n",
       "      <td>6010</td>\n",
       "      <td>7031</td>\n",
       "      <td>1122957.89</td>\n",
       "      <td>NaN</td>\n",
       "      <td>13</td>\n",
       "      <td>1122957.89</td>\n",
       "      <td>Финансовые институты — снятие наличности вручную</td>\n",
       "    </tr>\n",
       "    <tr>\n",
       "      <th>277</th>\n",
       "      <td>13799180</td>\n",
       "      <td>79 13:10:38</td>\n",
       "      <td>6010</td>\n",
       "      <td>7031</td>\n",
       "      <td>2221951.85</td>\n",
       "      <td>NaN</td>\n",
       "      <td>13</td>\n",
       "      <td>2221951.85</td>\n",
       "      <td>Финансовые институты — снятие наличности вручную</td>\n",
       "    </tr>\n",
       "    <tr>\n",
       "      <th>278</th>\n",
       "      <td>13799180</td>\n",
       "      <td>84 21:20:09</td>\n",
       "      <td>6010</td>\n",
       "      <td>7031</td>\n",
       "      <td>3368873.66</td>\n",
       "      <td>NaN</td>\n",
       "      <td>21</td>\n",
       "      <td>3368873.66</td>\n",
       "      <td>Финансовые институты — снятие наличности вручную</td>\n",
       "    </tr>\n",
       "    <tr>\n",
       "      <th>279</th>\n",
       "      <td>13799180</td>\n",
       "      <td>85 15:43:18</td>\n",
       "      <td>6010</td>\n",
       "      <td>7020</td>\n",
       "      <td>4312158.28</td>\n",
       "      <td>NaN</td>\n",
       "      <td>15</td>\n",
       "      <td>4312158.28</td>\n",
       "      <td>Финансовые институты — снятие наличности вручную</td>\n",
       "    </tr>\n",
       "    <tr>\n",
       "      <th>280</th>\n",
       "      <td>13799180</td>\n",
       "      <td>97 19:57:16</td>\n",
       "      <td>6010</td>\n",
       "      <td>7031</td>\n",
       "      <td>1347549.46</td>\n",
       "      <td>NaN</td>\n",
       "      <td>19</td>\n",
       "      <td>1347549.46</td>\n",
       "      <td>Финансовые институты — снятие наличности вручную</td>\n",
       "    </tr>\n",
       "    <tr>\n",
       "      <th>281</th>\n",
       "      <td>13799180</td>\n",
       "      <td>105 21:15:43</td>\n",
       "      <td>6010</td>\n",
       "      <td>7031</td>\n",
       "      <td>3368873.66</td>\n",
       "      <td>NaN</td>\n",
       "      <td>21</td>\n",
       "      <td>3368873.66</td>\n",
       "      <td>Финансовые институты — снятие наличности вручную</td>\n",
       "    </tr>\n",
       "    <tr>\n",
       "      <th>282</th>\n",
       "      <td>13799180</td>\n",
       "      <td>106 18:25:29</td>\n",
       "      <td>6010</td>\n",
       "      <td>7031</td>\n",
       "      <td>1122957.89</td>\n",
       "      <td>NaN</td>\n",
       "      <td>18</td>\n",
       "      <td>1122957.89</td>\n",
       "      <td>Финансовые институты — снятие наличности вручную</td>\n",
       "    </tr>\n",
       "    <tr>\n",
       "      <th>283</th>\n",
       "      <td>13799180</td>\n",
       "      <td>131 20:14:59</td>\n",
       "      <td>6010</td>\n",
       "      <td>7031</td>\n",
       "      <td>1122957.89</td>\n",
       "      <td>NaN</td>\n",
       "      <td>20</td>\n",
       "      <td>1122957.89</td>\n",
       "      <td>Финансовые институты — снятие наличности вручную</td>\n",
       "    </tr>\n",
       "    <tr>\n",
       "      <th>284</th>\n",
       "      <td>13799180</td>\n",
       "      <td>132 13:00:36</td>\n",
       "      <td>6010</td>\n",
       "      <td>7020</td>\n",
       "      <td>2492966.51</td>\n",
       "      <td>NaN</td>\n",
       "      <td>13</td>\n",
       "      <td>2492966.51</td>\n",
       "      <td>Финансовые институты — снятие наличности вручную</td>\n",
       "    </tr>\n",
       "    <tr>\n",
       "      <th>285</th>\n",
       "      <td>13799180</td>\n",
       "      <td>134 11:44:03</td>\n",
       "      <td>6010</td>\n",
       "      <td>7031</td>\n",
       "      <td>2245915.77</td>\n",
       "      <td>NaN</td>\n",
       "      <td>11</td>\n",
       "      <td>2245915.77</td>\n",
       "      <td>Финансовые институты — снятие наличности вручную</td>\n",
       "    </tr>\n",
       "    <tr>\n",
       "      <th>286</th>\n",
       "      <td>13799180</td>\n",
       "      <td>150 21:22:55</td>\n",
       "      <td>6010</td>\n",
       "      <td>7031</td>\n",
       "      <td>561478.94</td>\n",
       "      <td>NaN</td>\n",
       "      <td>21</td>\n",
       "      <td>561478.94</td>\n",
       "      <td>Финансовые институты — снятие наличности вручную</td>\n",
       "    </tr>\n",
       "    <tr>\n",
       "      <th>287</th>\n",
       "      <td>13799180</td>\n",
       "      <td>168 21:22:10</td>\n",
       "      <td>6010</td>\n",
       "      <td>7071</td>\n",
       "      <td>1572141.04</td>\n",
       "      <td>NaN</td>\n",
       "      <td>21</td>\n",
       "      <td>1572141.04</td>\n",
       "      <td>Финансовые институты — снятие наличности вручную</td>\n",
       "    </tr>\n",
       "    <tr>\n",
       "      <th>288</th>\n",
       "      <td>13799180</td>\n",
       "      <td>187 21:11:43</td>\n",
       "      <td>6010</td>\n",
       "      <td>7031</td>\n",
       "      <td>1572141.04</td>\n",
       "      <td>NaN</td>\n",
       "      <td>21</td>\n",
       "      <td>1572141.04</td>\n",
       "      <td>Финансовые институты — снятие наличности вручную</td>\n",
       "    </tr>\n",
       "    <tr>\n",
       "      <th>289</th>\n",
       "      <td>13799180</td>\n",
       "      <td>196 20:15:54</td>\n",
       "      <td>6010</td>\n",
       "      <td>7031</td>\n",
       "      <td>3368873.66</td>\n",
       "      <td>NaN</td>\n",
       "      <td>20</td>\n",
       "      <td>3368873.66</td>\n",
       "      <td>Финансовые институты — снятие наличности вручную</td>\n",
       "    </tr>\n",
       "    <tr>\n",
       "      <th>290</th>\n",
       "      <td>13799180</td>\n",
       "      <td>197 17:39:46</td>\n",
       "      <td>6010</td>\n",
       "      <td>7031</td>\n",
       "      <td>3368873.66</td>\n",
       "      <td>NaN</td>\n",
       "      <td>17</td>\n",
       "      <td>3368873.66</td>\n",
       "      <td>Финансовые институты — снятие наличности вручную</td>\n",
       "    </tr>\n",
       "    <tr>\n",
       "      <th>291</th>\n",
       "      <td>13799180</td>\n",
       "      <td>221 18:47:11</td>\n",
       "      <td>6010</td>\n",
       "      <td>7020</td>\n",
       "      <td>1010662.10</td>\n",
       "      <td>141981</td>\n",
       "      <td>18</td>\n",
       "      <td>1010662.10</td>\n",
       "      <td>Финансовые институты — снятие наличности вручную</td>\n",
       "    </tr>\n",
       "    <tr>\n",
       "      <th>292</th>\n",
       "      <td>13799180</td>\n",
       "      <td>224 20:49:01</td>\n",
       "      <td>6010</td>\n",
       "      <td>7031</td>\n",
       "      <td>2788034.92</td>\n",
       "      <td>340138</td>\n",
       "      <td>20</td>\n",
       "      <td>2788034.92</td>\n",
       "      <td>Финансовые институты — снятие наличности вручную</td>\n",
       "    </tr>\n",
       "    <tr>\n",
       "      <th>293</th>\n",
       "      <td>13799180</td>\n",
       "      <td>248 16:00:02</td>\n",
       "      <td>6010</td>\n",
       "      <td>7070</td>\n",
       "      <td>2245915.77</td>\n",
       "      <td>888992</td>\n",
       "      <td>16</td>\n",
       "      <td>2245915.77</td>\n",
       "      <td>Финансовые институты — снятие наличности вручную</td>\n",
       "    </tr>\n",
       "    <tr>\n",
       "      <th>294</th>\n",
       "      <td>13799180</td>\n",
       "      <td>249 17:56:33</td>\n",
       "      <td>6010</td>\n",
       "      <td>7070</td>\n",
       "      <td>2245915.77</td>\n",
       "      <td>888986</td>\n",
       "      <td>17</td>\n",
       "      <td>2245915.77</td>\n",
       "      <td>Финансовые институты — снятие наличности вручную</td>\n",
       "    </tr>\n",
       "    <tr>\n",
       "      <th>295</th>\n",
       "      <td>13799180</td>\n",
       "      <td>250 20:58:51</td>\n",
       "      <td>6010</td>\n",
       "      <td>7070</td>\n",
       "      <td>2021324.19</td>\n",
       "      <td>888991</td>\n",
       "      <td>20</td>\n",
       "      <td>2021324.19</td>\n",
       "      <td>Финансовые институты — снятие наличности вручную</td>\n",
       "    </tr>\n",
       "    <tr>\n",
       "      <th>296</th>\n",
       "      <td>13799180</td>\n",
       "      <td>295 11:37:04</td>\n",
       "      <td>6010</td>\n",
       "      <td>7020</td>\n",
       "      <td>864677.57</td>\n",
       "      <td>142075</td>\n",
       "      <td>11</td>\n",
       "      <td>864677.57</td>\n",
       "      <td>Финансовые институты — снятие наличности вручную</td>\n",
       "    </tr>\n",
       "    <tr>\n",
       "      <th>297</th>\n",
       "      <td>13799180</td>\n",
       "      <td>307 17:30:35</td>\n",
       "      <td>6010</td>\n",
       "      <td>7020</td>\n",
       "      <td>224591.58</td>\n",
       "      <td>142087</td>\n",
       "      <td>17</td>\n",
       "      <td>224591.58</td>\n",
       "      <td>Финансовые институты — снятие наличности вручную</td>\n",
       "    </tr>\n",
       "    <tr>\n",
       "      <th>298</th>\n",
       "      <td>13799180</td>\n",
       "      <td>339 14:57:18</td>\n",
       "      <td>6010</td>\n",
       "      <td>7070</td>\n",
       "      <td>474439.82</td>\n",
       "      <td>888917</td>\n",
       "      <td>14</td>\n",
       "      <td>474439.82</td>\n",
       "      <td>Финансовые институты — снятие наличности вручную</td>\n",
       "    </tr>\n",
       "    <tr>\n",
       "      <th>299</th>\n",
       "      <td>13799180</td>\n",
       "      <td>339 15:22:01</td>\n",
       "      <td>6010</td>\n",
       "      <td>7020</td>\n",
       "      <td>6737747.32</td>\n",
       "      <td>567786</td>\n",
       "      <td>15</td>\n",
       "      <td>6737747.32</td>\n",
       "      <td>Финансовые институты — снятие наличности вручную</td>\n",
       "    </tr>\n",
       "    <tr>\n",
       "      <th>300</th>\n",
       "      <td>13799180</td>\n",
       "      <td>350 20:14:05</td>\n",
       "      <td>6010</td>\n",
       "      <td>7031</td>\n",
       "      <td>112295.79</td>\n",
       "      <td>483623</td>\n",
       "      <td>20</td>\n",
       "      <td>112295.79</td>\n",
       "      <td>Финансовые институты — снятие наличности вручную</td>\n",
       "    </tr>\n",
       "    <tr>\n",
       "      <th>301</th>\n",
       "      <td>13799180</td>\n",
       "      <td>353 15:55:09</td>\n",
       "      <td>6010</td>\n",
       "      <td>7020</td>\n",
       "      <td>6737747.32</td>\n",
       "      <td>567786</td>\n",
       "      <td>15</td>\n",
       "      <td>6737747.32</td>\n",
       "      <td>Финансовые институты — снятие наличности вручную</td>\n",
       "    </tr>\n",
       "    <tr>\n",
       "      <th>302</th>\n",
       "      <td>13799180</td>\n",
       "      <td>354 20:03:45</td>\n",
       "      <td>6010</td>\n",
       "      <td>7031</td>\n",
       "      <td>3368873.66</td>\n",
       "      <td>483414</td>\n",
       "      <td>20</td>\n",
       "      <td>3368873.66</td>\n",
       "      <td>Финансовые институты — снятие наличности вручную</td>\n",
       "    </tr>\n",
       "    <tr>\n",
       "      <th>303</th>\n",
       "      <td>13799180</td>\n",
       "      <td>355 19:18:48</td>\n",
       "      <td>6010</td>\n",
       "      <td>7031</td>\n",
       "      <td>1572141.04</td>\n",
       "      <td>349341</td>\n",
       "      <td>19</td>\n",
       "      <td>1572141.04</td>\n",
       "      <td>Финансовые институты — снятие наличности вручную</td>\n",
       "    </tr>\n",
       "    <tr>\n",
       "      <th>304</th>\n",
       "      <td>13799180</td>\n",
       "      <td>367 18:53:23</td>\n",
       "      <td>6010</td>\n",
       "      <td>7031</td>\n",
       "      <td>1347549.46</td>\n",
       "      <td>340174</td>\n",
       "      <td>18</td>\n",
       "      <td>1347549.46</td>\n",
       "      <td>Финансовые институты — снятие наличности вручную</td>\n",
       "    </tr>\n",
       "    <tr>\n",
       "      <th>305</th>\n",
       "      <td>13799180</td>\n",
       "      <td>384 18:08:04</td>\n",
       "      <td>6010</td>\n",
       "      <td>7031</td>\n",
       "      <td>112295.79</td>\n",
       "      <td>968504</td>\n",
       "      <td>18</td>\n",
       "      <td>112295.79</td>\n",
       "      <td>Финансовые институты — снятие наличности вручную</td>\n",
       "    </tr>\n",
       "    <tr>\n",
       "      <th>306</th>\n",
       "      <td>13799180</td>\n",
       "      <td>416 12:38:42</td>\n",
       "      <td>6010</td>\n",
       "      <td>7020</td>\n",
       "      <td>112295.79</td>\n",
       "      <td>101713</td>\n",
       "      <td>12</td>\n",
       "      <td>112295.79</td>\n",
       "      <td>Финансовые институты — снятие наличности вручную</td>\n",
       "    </tr>\n",
       "    <tr>\n",
       "      <th>307</th>\n",
       "      <td>13799180</td>\n",
       "      <td>444 17:24:53</td>\n",
       "      <td>6010</td>\n",
       "      <td>7031</td>\n",
       "      <td>112295.79</td>\n",
       "      <td>152403</td>\n",
       "      <td>17</td>\n",
       "      <td>112295.79</td>\n",
       "      <td>Финансовые институты — снятие наличности вручную</td>\n",
       "    </tr>\n",
       "    <tr>\n",
       "      <th>308</th>\n",
       "      <td>13799180</td>\n",
       "      <td>17 00:00:00</td>\n",
       "      <td>5948</td>\n",
       "      <td>1110</td>\n",
       "      <td>-350385.32</td>\n",
       "      <td>NaN</td>\n",
       "      <td>0</td>\n",
       "      <td>350385.32</td>\n",
       "      <td>Магазины кожаных изделий, дорожных принадлежно...</td>\n",
       "    </tr>\n",
       "    <tr>\n",
       "      <th>309</th>\n",
       "      <td>13799180</td>\n",
       "      <td>37 00:00:00</td>\n",
       "      <td>5948</td>\n",
       "      <td>1210</td>\n",
       "      <td>-100192.10</td>\n",
       "      <td>NaN</td>\n",
       "      <td>0</td>\n",
       "      <td>100192.10</td>\n",
       "      <td>Магазины кожаных изделий, дорожных принадлежно...</td>\n",
       "    </tr>\n",
       "    <tr>\n",
       "      <th>310</th>\n",
       "      <td>13799180</td>\n",
       "      <td>94 17:00:52</td>\n",
       "      <td>5948</td>\n",
       "      <td>1210</td>\n",
       "      <td>-183797.89</td>\n",
       "      <td>NaN</td>\n",
       "      <td>17</td>\n",
       "      <td>183797.89</td>\n",
       "      <td>Магазины кожаных изделий, дорожных принадлежно...</td>\n",
       "    </tr>\n",
       "    <tr>\n",
       "      <th>311</th>\n",
       "      <td>13799180</td>\n",
       "      <td>179 08:21:57</td>\n",
       "      <td>5948</td>\n",
       "      <td>1110</td>\n",
       "      <td>-36383.84</td>\n",
       "      <td>NaN</td>\n",
       "      <td>8</td>\n",
       "      <td>36383.84</td>\n",
       "      <td>Магазины кожаных изделий, дорожных принадлежно...</td>\n",
       "    </tr>\n",
       "    <tr>\n",
       "      <th>312</th>\n",
       "      <td>13799180</td>\n",
       "      <td>179 08:24:44</td>\n",
       "      <td>5948</td>\n",
       "      <td>1110</td>\n",
       "      <td>-258459.99</td>\n",
       "      <td>NaN</td>\n",
       "      <td>8</td>\n",
       "      <td>258459.99</td>\n",
       "      <td>Магазины кожаных изделий, дорожных принадлежно...</td>\n",
       "    </tr>\n",
       "    <tr>\n",
       "      <th>313</th>\n",
       "      <td>13799180</td>\n",
       "      <td>333 00:00:00</td>\n",
       "      <td>5948</td>\n",
       "      <td>1110</td>\n",
       "      <td>-727362.28</td>\n",
       "      <td>77068410</td>\n",
       "      <td>0</td>\n",
       "      <td>727362.28</td>\n",
       "      <td>Магазины кожаных изделий, дорожных принадлежно...</td>\n",
       "    </tr>\n",
       "    <tr>\n",
       "      <th>314</th>\n",
       "      <td>13799180</td>\n",
       "      <td>17 19:35:22</td>\n",
       "      <td>5992</td>\n",
       "      <td>1010</td>\n",
       "      <td>-160088.88</td>\n",
       "      <td>NaN</td>\n",
       "      <td>19</td>\n",
       "      <td>160088.88</td>\n",
       "      <td>Флористика</td>\n",
       "    </tr>\n",
       "    <tr>\n",
       "      <th>315</th>\n",
       "      <td>13799180</td>\n",
       "      <td>117 21:11:44</td>\n",
       "      <td>5992</td>\n",
       "      <td>1100</td>\n",
       "      <td>-277370.60</td>\n",
       "      <td>NaN</td>\n",
       "      <td>21</td>\n",
       "      <td>277370.60</td>\n",
       "      <td>Флористика</td>\n",
       "    </tr>\n",
       "    <tr>\n",
       "      <th>316</th>\n",
       "      <td>13799180</td>\n",
       "      <td>304 18:39:11</td>\n",
       "      <td>5992</td>\n",
       "      <td>1010</td>\n",
       "      <td>-80852.97</td>\n",
       "      <td>784079</td>\n",
       "      <td>18</td>\n",
       "      <td>80852.97</td>\n",
       "      <td>Флористика</td>\n",
       "    </tr>\n",
       "    <tr>\n",
       "      <th>317</th>\n",
       "      <td>13799180</td>\n",
       "      <td>346 17:02:41</td>\n",
       "      <td>5992</td>\n",
       "      <td>1010</td>\n",
       "      <td>-153620.64</td>\n",
       "      <td>784079</td>\n",
       "      <td>17</td>\n",
       "      <td>153620.64</td>\n",
       "      <td>Флористика</td>\n",
       "    </tr>\n",
       "    <tr>\n",
       "      <th>318</th>\n",
       "      <td>13799180</td>\n",
       "      <td>17 20:15:16</td>\n",
       "      <td>5691</td>\n",
       "      <td>1010</td>\n",
       "      <td>-1325090.31</td>\n",
       "      <td>NaN</td>\n",
       "      <td>20</td>\n",
       "      <td>1325090.31</td>\n",
       "      <td>Магазины мужской и женской одежды</td>\n",
       "    </tr>\n",
       "    <tr>\n",
       "      <th>319</th>\n",
       "      <td>13799180</td>\n",
       "      <td>24 20:00:21</td>\n",
       "      <td>5691</td>\n",
       "      <td>1010</td>\n",
       "      <td>-294057.75</td>\n",
       "      <td>NaN</td>\n",
       "      <td>20</td>\n",
       "      <td>294057.75</td>\n",
       "      <td>Магазины мужской и женской одежды</td>\n",
       "    </tr>\n",
       "    <tr>\n",
       "      <th>320</th>\n",
       "      <td>13799180</td>\n",
       "      <td>24 20:04:49</td>\n",
       "      <td>5691</td>\n",
       "      <td>1010</td>\n",
       "      <td>-102862.94</td>\n",
       "      <td>NaN</td>\n",
       "      <td>20</td>\n",
       "      <td>102862.94</td>\n",
       "      <td>Магазины мужской и женской одежды</td>\n",
       "    </tr>\n",
       "    <tr>\n",
       "      <th>321</th>\n",
       "      <td>13799180</td>\n",
       "      <td>37 19:57:46</td>\n",
       "      <td>5691</td>\n",
       "      <td>1210</td>\n",
       "      <td>-74055.03</td>\n",
       "      <td>NaN</td>\n",
       "      <td>19</td>\n",
       "      <td>74055.03</td>\n",
       "      <td>Магазины мужской и женской одежды</td>\n",
       "    </tr>\n",
       "    <tr>\n",
       "      <th>322</th>\n",
       "      <td>13799180</td>\n",
       "      <td>37 20:01:25</td>\n",
       "      <td>5691</td>\n",
       "      <td>1210</td>\n",
       "      <td>-59897.45</td>\n",
       "      <td>NaN</td>\n",
       "      <td>20</td>\n",
       "      <td>59897.45</td>\n",
       "      <td>Магазины мужской и женской одежды</td>\n",
       "    </tr>\n",
       "    <tr>\n",
       "      <th>323</th>\n",
       "      <td>13799180</td>\n",
       "      <td>37 21:20:59</td>\n",
       "      <td>5691</td>\n",
       "      <td>1210</td>\n",
       "      <td>-163356.68</td>\n",
       "      <td>NaN</td>\n",
       "      <td>21</td>\n",
       "      <td>163356.68</td>\n",
       "      <td>Магазины мужской и женской одежды</td>\n",
       "    </tr>\n",
       "    <tr>\n",
       "      <th>324</th>\n",
       "      <td>13799180</td>\n",
       "      <td>39 00:00:00</td>\n",
       "      <td>5691</td>\n",
       "      <td>1210</td>\n",
       "      <td>-363967.72</td>\n",
       "      <td>NaN</td>\n",
       "      <td>0</td>\n",
       "      <td>363967.72</td>\n",
       "      <td>Магазины мужской и женской одежды</td>\n",
       "    </tr>\n",
       "    <tr>\n",
       "      <th>325</th>\n",
       "      <td>13799180</td>\n",
       "      <td>39 00:00:00</td>\n",
       "      <td>5691</td>\n",
       "      <td>1210</td>\n",
       "      <td>-113148.79</td>\n",
       "      <td>NaN</td>\n",
       "      <td>0</td>\n",
       "      <td>113148.79</td>\n",
       "      <td>Магазины мужской и женской одежды</td>\n",
       "    </tr>\n",
       "    <tr>\n",
       "      <th>326</th>\n",
       "      <td>13799180</td>\n",
       "      <td>59 19:23:34</td>\n",
       "      <td>5691</td>\n",
       "      <td>1010</td>\n",
       "      <td>-212688.22</td>\n",
       "      <td>NaN</td>\n",
       "      <td>19</td>\n",
       "      <td>212688.22</td>\n",
       "      <td>Магазины мужской и женской одежды</td>\n",
       "    </tr>\n",
       "    <tr>\n",
       "      <th>327</th>\n",
       "      <td>13799180</td>\n",
       "      <td>73 19:05:32</td>\n",
       "      <td>5691</td>\n",
       "      <td>1010</td>\n",
       "      <td>-707014.28</td>\n",
       "      <td>NaN</td>\n",
       "      <td>19</td>\n",
       "      <td>707014.28</td>\n",
       "      <td>Магазины мужской и женской одежды</td>\n",
       "    </tr>\n",
       "    <tr>\n",
       "      <th>328</th>\n",
       "      <td>13799180</td>\n",
       "      <td>73 19:09:58</td>\n",
       "      <td>5691</td>\n",
       "      <td>1010</td>\n",
       "      <td>-291070.68</td>\n",
       "      <td>NaN</td>\n",
       "      <td>19</td>\n",
       "      <td>291070.68</td>\n",
       "      <td>Магазины мужской и женской одежды</td>\n",
       "    </tr>\n",
       "    <tr>\n",
       "      <th>329</th>\n",
       "      <td>13799180</td>\n",
       "      <td>78 16:25:14</td>\n",
       "      <td>5691</td>\n",
       "      <td>1010</td>\n",
       "      <td>-268386.93</td>\n",
       "      <td>NaN</td>\n",
       "      <td>16</td>\n",
       "      <td>268386.93</td>\n",
       "      <td>Магазины мужской и женской одежды</td>\n",
       "    </tr>\n",
       "    <tr>\n",
       "      <th>330</th>\n",
       "      <td>13799180</td>\n",
       "      <td>94 13:45:34</td>\n",
       "      <td>5691</td>\n",
       "      <td>1210</td>\n",
       "      <td>-884155.50</td>\n",
       "      <td>NaN</td>\n",
       "      <td>13</td>\n",
       "      <td>884155.50</td>\n",
       "      <td>Магазины мужской и женской одежды</td>\n",
       "    </tr>\n",
       "    <tr>\n",
       "      <th>331</th>\n",
       "      <td>13799180</td>\n",
       "      <td>159 16:28:08</td>\n",
       "      <td>5691</td>\n",
       "      <td>1010</td>\n",
       "      <td>-288177.27</td>\n",
       "      <td>NaN</td>\n",
       "      <td>16</td>\n",
       "      <td>288177.27</td>\n",
       "      <td>Магазины мужской и женской одежды</td>\n",
       "    </tr>\n",
       "    <tr>\n",
       "      <th>332</th>\n",
       "      <td>13799180</td>\n",
       "      <td>160 11:08:46</td>\n",
       "      <td>5691</td>\n",
       "      <td>1110</td>\n",
       "      <td>-222457.96</td>\n",
       "      <td>NaN</td>\n",
       "      <td>11</td>\n",
       "      <td>222457.96</td>\n",
       "      <td>Магазины мужской и женской одежды</td>\n",
       "    </tr>\n",
       "    <tr>\n",
       "      <th>333</th>\n",
       "      <td>13799180</td>\n",
       "      <td>160 11:45:32</td>\n",
       "      <td>5691</td>\n",
       "      <td>1010</td>\n",
       "      <td>-1141273.33</td>\n",
       "      <td>NaN</td>\n",
       "      <td>11</td>\n",
       "      <td>1141273.33</td>\n",
       "      <td>Магазины мужской и женской одежды</td>\n",
       "    </tr>\n",
       "    <tr>\n",
       "      <th>334</th>\n",
       "      <td>13799180</td>\n",
       "      <td>165 19:48:23</td>\n",
       "      <td>5691</td>\n",
       "      <td>1110</td>\n",
       "      <td>-281413.25</td>\n",
       "      <td>NaN</td>\n",
       "      <td>19</td>\n",
       "      <td>281413.25</td>\n",
       "      <td>Магазины мужской и женской одежды</td>\n",
       "    </tr>\n",
       "    <tr>\n",
       "      <th>335</th>\n",
       "      <td>13799180</td>\n",
       "      <td>185 19:24:07</td>\n",
       "      <td>5691</td>\n",
       "      <td>1010</td>\n",
       "      <td>-649968.02</td>\n",
       "      <td>NaN</td>\n",
       "      <td>19</td>\n",
       "      <td>649968.02</td>\n",
       "      <td>Магазины мужской и женской одежды</td>\n",
       "    </tr>\n",
       "    <tr>\n",
       "      <th>336</th>\n",
       "      <td>13799180</td>\n",
       "      <td>185 19:30:23</td>\n",
       "      <td>5691</td>\n",
       "      <td>1010</td>\n",
       "      <td>-449183.15</td>\n",
       "      <td>NaN</td>\n",
       "      <td>19</td>\n",
       "      <td>449183.15</td>\n",
       "      <td>Магазины мужской и женской одежды</td>\n",
       "    </tr>\n",
       "    <tr>\n",
       "      <th>337</th>\n",
       "      <td>13799180</td>\n",
       "      <td>214 19:51:54</td>\n",
       "      <td>5691</td>\n",
       "      <td>1010</td>\n",
       "      <td>-1411333.47</td>\n",
       "      <td>248314</td>\n",
       "      <td>19</td>\n",
       "      <td>1411333.47</td>\n",
       "      <td>Магазины мужской и женской одежды</td>\n",
       "    </tr>\n",
       "    <tr>\n",
       "      <th>338</th>\n",
       "      <td>13799180</td>\n",
       "      <td>229 15:28:05</td>\n",
       "      <td>5691</td>\n",
       "      <td>1210</td>\n",
       "      <td>-183815.18</td>\n",
       "      <td>00041551</td>\n",
       "      <td>15</td>\n",
       "      <td>183815.18</td>\n",
       "      <td>Магазины мужской и женской одежды</td>\n",
       "    </tr>\n",
       "    <tr>\n",
       "      <th>339</th>\n",
       "      <td>13799180</td>\n",
       "      <td>248 19:24:48</td>\n",
       "      <td>5691</td>\n",
       "      <td>1010</td>\n",
       "      <td>-1134187.46</td>\n",
       "      <td>248314</td>\n",
       "      <td>19</td>\n",
       "      <td>1134187.46</td>\n",
       "      <td>Магазины мужской и женской одежды</td>\n",
       "    </tr>\n",
       "    <tr>\n",
       "      <th>340</th>\n",
       "      <td>13799180</td>\n",
       "      <td>255 16:53:06</td>\n",
       "      <td>5691</td>\n",
       "      <td>1010</td>\n",
       "      <td>-178550.30</td>\n",
       "      <td>248314</td>\n",
       "      <td>16</td>\n",
       "      <td>178550.30</td>\n",
       "      <td>Магазины мужской и женской одежды</td>\n",
       "    </tr>\n",
       "    <tr>\n",
       "      <th>341</th>\n",
       "      <td>13799180</td>\n",
       "      <td>282 10:49:55</td>\n",
       "      <td>5691</td>\n",
       "      <td>1110</td>\n",
       "      <td>-381244.20</td>\n",
       "      <td>00972773</td>\n",
       "      <td>10</td>\n",
       "      <td>381244.20</td>\n",
       "      <td>Магазины мужской и женской одежды</td>\n",
       "    </tr>\n",
       "    <tr>\n",
       "      <th>342</th>\n",
       "      <td>13799180</td>\n",
       "      <td>318 16:41:41</td>\n",
       "      <td>5691</td>\n",
       "      <td>1010</td>\n",
       "      <td>-112071.20</td>\n",
       "      <td>737478</td>\n",
       "      <td>16</td>\n",
       "      <td>112071.20</td>\n",
       "      <td>Магазины мужской и женской одежды</td>\n",
       "    </tr>\n",
       "    <tr>\n",
       "      <th>343</th>\n",
       "      <td>13799180</td>\n",
       "      <td>318 17:14:49</td>\n",
       "      <td>5691</td>\n",
       "      <td>1010</td>\n",
       "      <td>-380682.72</td>\n",
       "      <td>363697</td>\n",
       "      <td>17</td>\n",
       "      <td>380682.72</td>\n",
       "      <td>Магазины мужской и женской одежды</td>\n",
       "    </tr>\n",
       "    <tr>\n",
       "      <th>344</th>\n",
       "      <td>13799180</td>\n",
       "      <td>331 11:28:10</td>\n",
       "      <td>5691</td>\n",
       "      <td>1110</td>\n",
       "      <td>-219538.27</td>\n",
       "      <td>00972773</td>\n",
       "      <td>11</td>\n",
       "      <td>219538.27</td>\n",
       "      <td>Магазины мужской и женской одежды</td>\n",
       "    </tr>\n",
       "    <tr>\n",
       "      <th>345</th>\n",
       "      <td>13799180</td>\n",
       "      <td>332 20:03:31</td>\n",
       "      <td>5691</td>\n",
       "      <td>1010</td>\n",
       "      <td>-440199.49</td>\n",
       "      <td>248314</td>\n",
       "      <td>20</td>\n",
       "      <td>440199.49</td>\n",
       "      <td>Магазины мужской и женской одежды</td>\n",
       "    </tr>\n",
       "    <tr>\n",
       "      <th>346</th>\n",
       "      <td>13799180</td>\n",
       "      <td>333 17:55:08</td>\n",
       "      <td>5691</td>\n",
       "      <td>1010</td>\n",
       "      <td>-540142.74</td>\n",
       "      <td>248314</td>\n",
       "      <td>17</td>\n",
       "      <td>540142.74</td>\n",
       "      <td>Магазины мужской и женской одежды</td>\n",
       "    </tr>\n",
       "    <tr>\n",
       "      <th>347</th>\n",
       "      <td>13799180</td>\n",
       "      <td>333 19:03:06</td>\n",
       "      <td>5691</td>\n",
       "      <td>1010</td>\n",
       "      <td>-675571.46</td>\n",
       "      <td>10057582</td>\n",
       "      <td>19</td>\n",
       "      <td>675571.46</td>\n",
       "      <td>Магазины мужской и женской одежды</td>\n",
       "    </tr>\n",
       "    <tr>\n",
       "      <th>348</th>\n",
       "      <td>13799180</td>\n",
       "      <td>333 19:05:17</td>\n",
       "      <td>5691</td>\n",
       "      <td>1010</td>\n",
       "      <td>-345646.44</td>\n",
       "      <td>249086</td>\n",
       "      <td>19</td>\n",
       "      <td>345646.44</td>\n",
       "      <td>Магазины мужской и женской одежды</td>\n",
       "    </tr>\n",
       "    <tr>\n",
       "      <th>349</th>\n",
       "      <td>13799180</td>\n",
       "      <td>386 19:19:16</td>\n",
       "      <td>5691</td>\n",
       "      <td>1010</td>\n",
       "      <td>-169836.15</td>\n",
       "      <td>349179</td>\n",
       "      <td>19</td>\n",
       "      <td>169836.15</td>\n",
       "      <td>Магазины мужской и женской одежды</td>\n",
       "    </tr>\n",
       "    <tr>\n",
       "      <th>350</th>\n",
       "      <td>13799180</td>\n",
       "      <td>410 00:00:00</td>\n",
       "      <td>5691</td>\n",
       "      <td>1210</td>\n",
       "      <td>-120630.38</td>\n",
       "      <td>76101822</td>\n",
       "      <td>0</td>\n",
       "      <td>120630.38</td>\n",
       "      <td>Магазины мужской и женской одежды</td>\n",
       "    </tr>\n",
       "    <tr>\n",
       "      <th>351</th>\n",
       "      <td>13799180</td>\n",
       "      <td>444 17:55:37</td>\n",
       "      <td>5691</td>\n",
       "      <td>1010</td>\n",
       "      <td>-350812.04</td>\n",
       "      <td>248314</td>\n",
       "      <td>17</td>\n",
       "      <td>350812.04</td>\n",
       "      <td>Магазины мужской и женской одежды</td>\n",
       "    </tr>\n",
       "    <tr>\n",
       "      <th>352</th>\n",
       "      <td>13799180</td>\n",
       "      <td>30 13:58:03</td>\n",
       "      <td>5331</td>\n",
       "      <td>1010</td>\n",
       "      <td>-168443.68</td>\n",
       "      <td>NaN</td>\n",
       "      <td>13</td>\n",
       "      <td>168443.68</td>\n",
       "      <td>Универсальные магазины</td>\n",
       "    </tr>\n",
       "    <tr>\n",
       "      <th>353</th>\n",
       "      <td>13799180</td>\n",
       "      <td>160 16:12:27</td>\n",
       "      <td>5331</td>\n",
       "      <td>1010</td>\n",
       "      <td>-71150.61</td>\n",
       "      <td>NaN</td>\n",
       "      <td>16</td>\n",
       "      <td>71150.61</td>\n",
       "      <td>Универсальные магазины</td>\n",
       "    </tr>\n",
       "    <tr>\n",
       "      <th>354</th>\n",
       "      <td>13799180</td>\n",
       "      <td>219 14:30:60</td>\n",
       "      <td>5331</td>\n",
       "      <td>1010</td>\n",
       "      <td>-597368.68</td>\n",
       "      <td>700601</td>\n",
       "      <td>14</td>\n",
       "      <td>597368.68</td>\n",
       "      <td>Универсальные магазины</td>\n",
       "    </tr>\n",
       "    <tr>\n",
       "      <th>355</th>\n",
       "      <td>13799180</td>\n",
       "      <td>304 17:28:31</td>\n",
       "      <td>5331</td>\n",
       "      <td>1010</td>\n",
       "      <td>-187466.59</td>\n",
       "      <td>735756</td>\n",
       "      <td>17</td>\n",
       "      <td>187466.59</td>\n",
       "      <td>Универсальные магазины</td>\n",
       "    </tr>\n",
       "    <tr>\n",
       "      <th>356</th>\n",
       "      <td>13799180</td>\n",
       "      <td>346 19:40:33</td>\n",
       "      <td>5331</td>\n",
       "      <td>1010</td>\n",
       "      <td>-185247.62</td>\n",
       "      <td>477947</td>\n",
       "      <td>19</td>\n",
       "      <td>185247.62</td>\n",
       "      <td>Универсальные магазины</td>\n",
       "    </tr>\n",
       "    <tr>\n",
       "      <th>357</th>\n",
       "      <td>13799180</td>\n",
       "      <td>35 08:43:24</td>\n",
       "      <td>5309</td>\n",
       "      <td>1110</td>\n",
       "      <td>-87497.29</td>\n",
       "      <td>NaN</td>\n",
       "      <td>8</td>\n",
       "      <td>87497.29</td>\n",
       "      <td>Беспошлинные магазины Duty Free</td>\n",
       "    </tr>\n",
       "    <tr>\n",
       "      <th>358</th>\n",
       "      <td>13799180</td>\n",
       "      <td>46 00:00:00</td>\n",
       "      <td>5309</td>\n",
       "      <td>1210</td>\n",
       "      <td>-154409.40</td>\n",
       "      <td>NaN</td>\n",
       "      <td>0</td>\n",
       "      <td>154409.40</td>\n",
       "      <td>Беспошлинные магазины Duty Free</td>\n",
       "    </tr>\n",
       "    <tr>\n",
       "      <th>359</th>\n",
       "      <td>13799180</td>\n",
       "      <td>227 10:21:30</td>\n",
       "      <td>5309</td>\n",
       "      <td>1110</td>\n",
       "      <td>-48871.13</td>\n",
       "      <td>T7505223</td>\n",
       "      <td>10</td>\n",
       "      <td>48871.13</td>\n",
       "      <td>Беспошлинные магазины Duty Free</td>\n",
       "    </tr>\n",
       "    <tr>\n",
       "      <th>360</th>\n",
       "      <td>13799180</td>\n",
       "      <td>227 10:29:36</td>\n",
       "      <td>5309</td>\n",
       "      <td>1110</td>\n",
       "      <td>-77009.08</td>\n",
       "      <td>T7504849</td>\n",
       "      <td>10</td>\n",
       "      <td>77009.08</td>\n",
       "      <td>Беспошлинные магазины Duty Free</td>\n",
       "    </tr>\n",
       "    <tr>\n",
       "      <th>361</th>\n",
       "      <td>13799180</td>\n",
       "      <td>414 18:33:45</td>\n",
       "      <td>5309</td>\n",
       "      <td>1210</td>\n",
       "      <td>-153783.02</td>\n",
       "      <td>31271573</td>\n",
       "      <td>18</td>\n",
       "      <td>153783.02</td>\n",
       "      <td>Беспошлинные магазины Duty Free</td>\n",
       "    </tr>\n",
       "    <tr>\n",
       "      <th>362</th>\n",
       "      <td>13799180</td>\n",
       "      <td>39 16:56:55</td>\n",
       "      <td>5947</td>\n",
       "      <td>1210</td>\n",
       "      <td>-52780.82</td>\n",
       "      <td>NaN</td>\n",
       "      <td>16</td>\n",
       "      <td>52780.82</td>\n",
       "      <td>Магазины открыток, подарков, новинок и сувениров</td>\n",
       "    </tr>\n",
       "    <tr>\n",
       "      <th>363</th>\n",
       "      <td>13799180</td>\n",
       "      <td>56 13:24:35</td>\n",
       "      <td>5732</td>\n",
       "      <td>1010</td>\n",
       "      <td>-1102228.08</td>\n",
       "      <td>NaN</td>\n",
       "      <td>13</td>\n",
       "      <td>1102228.08</td>\n",
       "      <td>Продажа электронного оборудования</td>\n",
       "    </tr>\n",
       "    <tr>\n",
       "      <th>364</th>\n",
       "      <td>13799180</td>\n",
       "      <td>192 11:49:08</td>\n",
       "      <td>5732</td>\n",
       "      <td>1010</td>\n",
       "      <td>-417538.20</td>\n",
       "      <td>NaN</td>\n",
       "      <td>11</td>\n",
       "      <td>417538.20</td>\n",
       "      <td>Продажа электронного оборудования</td>\n",
       "    </tr>\n",
       "    <tr>\n",
       "      <th>365</th>\n",
       "      <td>13799180</td>\n",
       "      <td>58 00:00:00</td>\n",
       "      <td>4511</td>\n",
       "      <td>1100</td>\n",
       "      <td>-3090133.05</td>\n",
       "      <td>NaN</td>\n",
       "      <td>0</td>\n",
       "      <td>3090133.05</td>\n",
       "      <td>Авиалинии, авиакомпании, нигде более не класси...</td>\n",
       "    </tr>\n",
       "    <tr>\n",
       "      <th>366</th>\n",
       "      <td>13799180</td>\n",
       "      <td>255 00:00:00</td>\n",
       "      <td>4511</td>\n",
       "      <td>1100</td>\n",
       "      <td>-900836.82</td>\n",
       "      <td>77024174</td>\n",
       "      <td>0</td>\n",
       "      <td>900836.82</td>\n",
       "      <td>Авиалинии, авиакомпании, нигде более не класси...</td>\n",
       "    </tr>\n",
       "    <tr>\n",
       "      <th>367</th>\n",
       "      <td>13799180</td>\n",
       "      <td>439 00:00:00</td>\n",
       "      <td>4511</td>\n",
       "      <td>1100</td>\n",
       "      <td>-891359.05</td>\n",
       "      <td>122763</td>\n",
       "      <td>0</td>\n",
       "      <td>891359.05</td>\n",
       "      <td>Авиалинии, авиакомпании, нигде более не класси...</td>\n",
       "    </tr>\n",
       "    <tr>\n",
       "      <th>368</th>\n",
       "      <td>13799180</td>\n",
       "      <td>65 12:09:46</td>\n",
       "      <td>4829</td>\n",
       "      <td>4051</td>\n",
       "      <td>-18798.32</td>\n",
       "      <td>NaN</td>\n",
       "      <td>12</td>\n",
       "      <td>18798.32</td>\n",
       "      <td>Денежные переводы</td>\n",
       "    </tr>\n",
       "    <tr>\n",
       "      <th>369</th>\n",
       "      <td>13799180</td>\n",
       "      <td>65 12:09:40</td>\n",
       "      <td>4829</td>\n",
       "      <td>2331</td>\n",
       "      <td>-1879831.50</td>\n",
       "      <td>NaN</td>\n",
       "      <td>12</td>\n",
       "      <td>1879831.50</td>\n",
       "      <td>Денежные переводы</td>\n",
       "    </tr>\n",
       "    <tr>\n",
       "      <th>370</th>\n",
       "      <td>13799180</td>\n",
       "      <td>149 10:07:33</td>\n",
       "      <td>4829</td>\n",
       "      <td>4051</td>\n",
       "      <td>-22459.16</td>\n",
       "      <td>NaN</td>\n",
       "      <td>10</td>\n",
       "      <td>22459.16</td>\n",
       "      <td>Денежные переводы</td>\n",
       "    </tr>\n",
       "    <tr>\n",
       "      <th>371</th>\n",
       "      <td>13799180</td>\n",
       "      <td>149 10:07:40</td>\n",
       "      <td>4829</td>\n",
       "      <td>2331</td>\n",
       "      <td>-2582803.14</td>\n",
       "      <td>NaN</td>\n",
       "      <td>10</td>\n",
       "      <td>2582803.14</td>\n",
       "      <td>Денежные переводы</td>\n",
       "    </tr>\n",
       "    <tr>\n",
       "      <th>372</th>\n",
       "      <td>13799180</td>\n",
       "      <td>201 10:42:13</td>\n",
       "      <td>4829</td>\n",
       "      <td>2331</td>\n",
       "      <td>-449183.15</td>\n",
       "      <td>NaN</td>\n",
       "      <td>10</td>\n",
       "      <td>449183.15</td>\n",
       "      <td>Денежные переводы</td>\n",
       "    </tr>\n",
       "    <tr>\n",
       "      <th>373</th>\n",
       "      <td>13799180</td>\n",
       "      <td>201 10:42:24</td>\n",
       "      <td>4829</td>\n",
       "      <td>4051</td>\n",
       "      <td>-4491.83</td>\n",
       "      <td>NaN</td>\n",
       "      <td>10</td>\n",
       "      <td>4491.83</td>\n",
       "      <td>Денежные переводы</td>\n",
       "    </tr>\n",
       "    <tr>\n",
       "      <th>374</th>\n",
       "      <td>13799180</td>\n",
       "      <td>203 10:33:03</td>\n",
       "      <td>4829</td>\n",
       "      <td>2331</td>\n",
       "      <td>-714201.22</td>\n",
       "      <td>NaN</td>\n",
       "      <td>10</td>\n",
       "      <td>714201.22</td>\n",
       "      <td>Денежные переводы</td>\n",
       "    </tr>\n",
       "    <tr>\n",
       "      <th>375</th>\n",
       "      <td>13799180</td>\n",
       "      <td>203 10:33:53</td>\n",
       "      <td>4829</td>\n",
       "      <td>4051</td>\n",
       "      <td>-7142.01</td>\n",
       "      <td>NaN</td>\n",
       "      <td>10</td>\n",
       "      <td>7142.01</td>\n",
       "      <td>Денежные переводы</td>\n",
       "    </tr>\n",
       "    <tr>\n",
       "      <th>376</th>\n",
       "      <td>13799180</td>\n",
       "      <td>280 15:11:33</td>\n",
       "      <td>4829</td>\n",
       "      <td>4051</td>\n",
       "      <td>-22459.16</td>\n",
       "      <td>350009</td>\n",
       "      <td>15</td>\n",
       "      <td>22459.16</td>\n",
       "      <td>Денежные переводы</td>\n",
       "    </tr>\n",
       "    <tr>\n",
       "      <th>377</th>\n",
       "      <td>13799180</td>\n",
       "      <td>280 15:11:06</td>\n",
       "      <td>4829</td>\n",
       "      <td>2331</td>\n",
       "      <td>-3144282.08</td>\n",
       "      <td>350009</td>\n",
       "      <td>15</td>\n",
       "      <td>3144282.08</td>\n",
       "      <td>Денежные переводы</td>\n",
       "    </tr>\n",
       "    <tr>\n",
       "      <th>378</th>\n",
       "      <td>13799180</td>\n",
       "      <td>339 14:57:10</td>\n",
       "      <td>4829</td>\n",
       "      <td>2370</td>\n",
       "      <td>-474439.82</td>\n",
       "      <td>888917</td>\n",
       "      <td>14</td>\n",
       "      <td>474439.82</td>\n",
       "      <td>Денежные переводы</td>\n",
       "    </tr>\n",
       "    <tr>\n",
       "      <th>379</th>\n",
       "      <td>13799180</td>\n",
       "      <td>442 08:49:60</td>\n",
       "      <td>4829</td>\n",
       "      <td>4051</td>\n",
       "      <td>-1572.14</td>\n",
       "      <td>350009</td>\n",
       "      <td>8</td>\n",
       "      <td>1572.14</td>\n",
       "      <td>Денежные переводы</td>\n",
       "    </tr>\n",
       "    <tr>\n",
       "      <th>380</th>\n",
       "      <td>13799180</td>\n",
       "      <td>442 08:49:23</td>\n",
       "      <td>4829</td>\n",
       "      <td>2331</td>\n",
       "      <td>-157214.10</td>\n",
       "      <td>350009</td>\n",
       "      <td>8</td>\n",
       "      <td>157214.10</td>\n",
       "      <td>Денежные переводы</td>\n",
       "    </tr>\n",
       "    <tr>\n",
       "      <th>381</th>\n",
       "      <td>13799180</td>\n",
       "      <td>80 17:59:24</td>\n",
       "      <td>5722</td>\n",
       "      <td>1110</td>\n",
       "      <td>-264344.29</td>\n",
       "      <td>NaN</td>\n",
       "      <td>17</td>\n",
       "      <td>264344.29</td>\n",
       "      <td>Бытовое оборудование</td>\n",
       "    </tr>\n",
       "    <tr>\n",
       "      <th>382</th>\n",
       "      <td>13799180</td>\n",
       "      <td>129 17:44:36</td>\n",
       "      <td>5722</td>\n",
       "      <td>1110</td>\n",
       "      <td>-555594.64</td>\n",
       "      <td>NaN</td>\n",
       "      <td>17</td>\n",
       "      <td>555594.64</td>\n",
       "      <td>Бытовое оборудование</td>\n",
       "    </tr>\n",
       "    <tr>\n",
       "      <th>383</th>\n",
       "      <td>13799180</td>\n",
       "      <td>221 19:23:05</td>\n",
       "      <td>5722</td>\n",
       "      <td>1110</td>\n",
       "      <td>-62661.05</td>\n",
       "      <td>736702</td>\n",
       "      <td>19</td>\n",
       "      <td>62661.05</td>\n",
       "      <td>Бытовое оборудование</td>\n",
       "    </tr>\n",
       "    <tr>\n",
       "      <th>384</th>\n",
       "      <td>13799180</td>\n",
       "      <td>91 17:06:32</td>\n",
       "      <td>5611</td>\n",
       "      <td>1210</td>\n",
       "      <td>-420579.62</td>\n",
       "      <td>NaN</td>\n",
       "      <td>17</td>\n",
       "      <td>420579.62</td>\n",
       "      <td>Мужская одежда и аксессуары, включая одежду дл...</td>\n",
       "    </tr>\n",
       "    <tr>\n",
       "      <th>385</th>\n",
       "      <td>13799180</td>\n",
       "      <td>91 17:29:41</td>\n",
       "      <td>5611</td>\n",
       "      <td>1210</td>\n",
       "      <td>-347267.54</td>\n",
       "      <td>NaN</td>\n",
       "      <td>17</td>\n",
       "      <td>347267.54</td>\n",
       "      <td>Мужская одежда и аксессуары, включая одежду дл...</td>\n",
       "    </tr>\n",
       "    <tr>\n",
       "      <th>386</th>\n",
       "      <td>13799180</td>\n",
       "      <td>91 17:36:42</td>\n",
       "      <td>5611</td>\n",
       "      <td>1210</td>\n",
       "      <td>-99326.07</td>\n",
       "      <td>NaN</td>\n",
       "      <td>17</td>\n",
       "      <td>99326.07</td>\n",
       "      <td>Мужская одежда и аксессуары, включая одежду дл...</td>\n",
       "    </tr>\n",
       "    <tr>\n",
       "      <th>387</th>\n",
       "      <td>13799180</td>\n",
       "      <td>94 16:54:28</td>\n",
       "      <td>5611</td>\n",
       "      <td>1210</td>\n",
       "      <td>-323944.38</td>\n",
       "      <td>NaN</td>\n",
       "      <td>16</td>\n",
       "      <td>323944.38</td>\n",
       "      <td>Мужская одежда и аксессуары, включая одежду дл...</td>\n",
       "    </tr>\n",
       "    <tr>\n",
       "      <th>388</th>\n",
       "      <td>13799180</td>\n",
       "      <td>411 00:00:00</td>\n",
       "      <td>5611</td>\n",
       "      <td>1210</td>\n",
       "      <td>-234562.54</td>\n",
       "      <td>76627036</td>\n",
       "      <td>0</td>\n",
       "      <td>234562.54</td>\n",
       "      <td>Мужская одежда и аксессуары, включая одежду дл...</td>\n",
       "    </tr>\n",
       "    <tr>\n",
       "      <th>389</th>\n",
       "      <td>13799180</td>\n",
       "      <td>94 16:01:20</td>\n",
       "      <td>5621</td>\n",
       "      <td>1210</td>\n",
       "      <td>-112554.97</td>\n",
       "      <td>NaN</td>\n",
       "      <td>16</td>\n",
       "      <td>112554.97</td>\n",
       "      <td>Готовая женская одежда</td>\n",
       "    </tr>\n",
       "    <tr>\n",
       "      <th>390</th>\n",
       "      <td>13799180</td>\n",
       "      <td>113 19:54:09</td>\n",
       "      <td>5621</td>\n",
       "      <td>1010</td>\n",
       "      <td>-148679.62</td>\n",
       "      <td>NaN</td>\n",
       "      <td>19</td>\n",
       "      <td>148679.62</td>\n",
       "      <td>Готовая женская одежда</td>\n",
       "    </tr>\n",
       "    <tr>\n",
       "      <th>391</th>\n",
       "      <td>13799180</td>\n",
       "      <td>344 19:26:34</td>\n",
       "      <td>5621</td>\n",
       "      <td>1010</td>\n",
       "      <td>-132172.14</td>\n",
       "      <td>235955</td>\n",
       "      <td>19</td>\n",
       "      <td>132172.14</td>\n",
       "      <td>Готовая женская одежда</td>\n",
       "    </tr>\n",
       "    <tr>\n",
       "      <th>392</th>\n",
       "      <td>13799180</td>\n",
       "      <td>344 20:54:29</td>\n",
       "      <td>5621</td>\n",
       "      <td>1010</td>\n",
       "      <td>-303872.40</td>\n",
       "      <td>132190</td>\n",
       "      <td>20</td>\n",
       "      <td>303872.40</td>\n",
       "      <td>Готовая женская одежда</td>\n",
       "    </tr>\n",
       "    <tr>\n",
       "      <th>393</th>\n",
       "      <td>13799180</td>\n",
       "      <td>123 00:00:00</td>\n",
       "      <td>7922</td>\n",
       "      <td>1100</td>\n",
       "      <td>-177876.53</td>\n",
       "      <td>NaN</td>\n",
       "      <td>0</td>\n",
       "      <td>177876.53</td>\n",
       "      <td>Театральные продюсерские агентства</td>\n",
       "    </tr>\n",
       "    <tr>\n",
       "      <th>394</th>\n",
       "      <td>13799180</td>\n",
       "      <td>129 17:59:10</td>\n",
       "      <td>5999</td>\n",
       "      <td>1010</td>\n",
       "      <td>-232339.99</td>\n",
       "      <td>NaN</td>\n",
       "      <td>17</td>\n",
       "      <td>232339.99</td>\n",
       "      <td>Плавательные бассейны — распродажа</td>\n",
       "    </tr>\n",
       "    <tr>\n",
       "      <th>395</th>\n",
       "      <td>13799180</td>\n",
       "      <td>229 18:13:08</td>\n",
       "      <td>5999</td>\n",
       "      <td>1210</td>\n",
       "      <td>-387073.03</td>\n",
       "      <td>00020126</td>\n",
       "      <td>18</td>\n",
       "      <td>387073.03</td>\n",
       "      <td>Плавательные бассейны — распродажа</td>\n",
       "    </tr>\n",
       "    <tr>\n",
       "      <th>396</th>\n",
       "      <td>13799180</td>\n",
       "      <td>344 20:01:39</td>\n",
       "      <td>5999</td>\n",
       "      <td>1010</td>\n",
       "      <td>-157663.29</td>\n",
       "      <td>132131</td>\n",
       "      <td>20</td>\n",
       "      <td>157663.29</td>\n",
       "      <td>Плавательные бассейны — распродажа</td>\n",
       "    </tr>\n",
       "    <tr>\n",
       "      <th>397</th>\n",
       "      <td>13799180</td>\n",
       "      <td>182 17:14:27</td>\n",
       "      <td>4899</td>\n",
       "      <td>1100</td>\n",
       "      <td>-26950.99</td>\n",
       "      <td>NaN</td>\n",
       "      <td>17</td>\n",
       "      <td>26950.99</td>\n",
       "      <td>Кабельные и другие платные телевизионные услуги</td>\n",
       "    </tr>\n",
       "    <tr>\n",
       "      <th>398</th>\n",
       "      <td>13799180</td>\n",
       "      <td>182 17:19:30</td>\n",
       "      <td>4899</td>\n",
       "      <td>1100</td>\n",
       "      <td>-26950.99</td>\n",
       "      <td>NaN</td>\n",
       "      <td>17</td>\n",
       "      <td>26950.99</td>\n",
       "      <td>Кабельные и другие платные телевизионные услуги</td>\n",
       "    </tr>\n",
       "    <tr>\n",
       "      <th>399</th>\n",
       "      <td>13799180</td>\n",
       "      <td>384 18:47:47</td>\n",
       "      <td>4899</td>\n",
       "      <td>1100</td>\n",
       "      <td>-26950.99</td>\n",
       "      <td>80053001</td>\n",
       "      <td>18</td>\n",
       "      <td>26950.99</td>\n",
       "      <td>Кабельные и другие платные телевизионные услуги</td>\n",
       "    </tr>\n",
       "    <tr>\n",
       "      <th>400</th>\n",
       "      <td>13799180</td>\n",
       "      <td>384 19:05:59</td>\n",
       "      <td>4899</td>\n",
       "      <td>1100</td>\n",
       "      <td>-26950.99</td>\n",
       "      <td>80053001</td>\n",
       "      <td>19</td>\n",
       "      <td>26950.99</td>\n",
       "      <td>Кабельные и другие платные телевизионные услуги</td>\n",
       "    </tr>\n",
       "    <tr>\n",
       "      <th>401</th>\n",
       "      <td>13799180</td>\n",
       "      <td>185 18:37:26</td>\n",
       "      <td>4789</td>\n",
       "      <td>1010</td>\n",
       "      <td>-250644.20</td>\n",
       "      <td>NaN</td>\n",
       "      <td>18</td>\n",
       "      <td>250644.20</td>\n",
       "      <td>Услуги по транспортировке — нигде более не кла...</td>\n",
       "    </tr>\n",
       "    <tr>\n",
       "      <th>402</th>\n",
       "      <td>13799180</td>\n",
       "      <td>187 17:40:05</td>\n",
       "      <td>3000</td>\n",
       "      <td>1010</td>\n",
       "      <td>-5460068.29</td>\n",
       "      <td>NaN</td>\n",
       "      <td>17</td>\n",
       "      <td>5460068.29</td>\n",
       "      <td>Авиалинии, авиакомпании</td>\n",
       "    </tr>\n",
       "    <tr>\n",
       "      <th>403</th>\n",
       "      <td>13799180</td>\n",
       "      <td>310 22:06:45</td>\n",
       "      <td>3000</td>\n",
       "      <td>1010</td>\n",
       "      <td>-485185.18</td>\n",
       "      <td>290594</td>\n",
       "      <td>22</td>\n",
       "      <td>485185.18</td>\n",
       "      <td>Авиалинии, авиакомпании</td>\n",
       "    </tr>\n",
       "    <tr>\n",
       "      <th>404</th>\n",
       "      <td>13799180</td>\n",
       "      <td>197 17:53:22</td>\n",
       "      <td>5399</td>\n",
       "      <td>1110</td>\n",
       "      <td>-351643.03</td>\n",
       "      <td>NaN</td>\n",
       "      <td>17</td>\n",
       "      <td>351643.03</td>\n",
       "      <td>Различные товары общего назначения</td>\n",
       "    </tr>\n",
       "    <tr>\n",
       "      <th>405</th>\n",
       "      <td>13799180</td>\n",
       "      <td>224 00:00:00</td>\n",
       "      <td>7399</td>\n",
       "      <td>1200</td>\n",
       "      <td>-5788.17</td>\n",
       "      <td>NaN</td>\n",
       "      <td>0</td>\n",
       "      <td>5788.17</td>\n",
       "      <td>Бизнес-сервис</td>\n",
       "    </tr>\n",
       "    <tr>\n",
       "      <th>406</th>\n",
       "      <td>13799180</td>\n",
       "      <td>260 00:00:00</td>\n",
       "      <td>7399</td>\n",
       "      <td>1200</td>\n",
       "      <td>-3463.65</td>\n",
       "      <td>NaN</td>\n",
       "      <td>0</td>\n",
       "      <td>3463.65</td>\n",
       "      <td>Бизнес-сервис</td>\n",
       "    </tr>\n",
       "    <tr>\n",
       "      <th>407</th>\n",
       "      <td>13799180</td>\n",
       "      <td>324 00:00:00</td>\n",
       "      <td>7399</td>\n",
       "      <td>1200</td>\n",
       "      <td>-3463.65</td>\n",
       "      <td>NaN</td>\n",
       "      <td>0</td>\n",
       "      <td>3463.65</td>\n",
       "      <td>Бизнес-сервис</td>\n",
       "    </tr>\n",
       "    <tr>\n",
       "      <th>408</th>\n",
       "      <td>13799180</td>\n",
       "      <td>324 00:00:00</td>\n",
       "      <td>7399</td>\n",
       "      <td>1200</td>\n",
       "      <td>-3463.65</td>\n",
       "      <td>NaN</td>\n",
       "      <td>0</td>\n",
       "      <td>3463.65</td>\n",
       "      <td>Бизнес-сервис</td>\n",
       "    </tr>\n",
       "    <tr>\n",
       "      <th>409</th>\n",
       "      <td>13799180</td>\n",
       "      <td>324 00:00:00</td>\n",
       "      <td>7399</td>\n",
       "      <td>1200</td>\n",
       "      <td>-3463.65</td>\n",
       "      <td>NaN</td>\n",
       "      <td>0</td>\n",
       "      <td>3463.65</td>\n",
       "      <td>Бизнес-сервис</td>\n",
       "    </tr>\n",
       "    <tr>\n",
       "      <th>410</th>\n",
       "      <td>13799180</td>\n",
       "      <td>332 07:29:09</td>\n",
       "      <td>7399</td>\n",
       "      <td>1100</td>\n",
       "      <td>-4177.40</td>\n",
       "      <td>14741002</td>\n",
       "      <td>7</td>\n",
       "      <td>4177.40</td>\n",
       "      <td>Бизнес-сервис</td>\n",
       "    </tr>\n",
       "    <tr>\n",
       "      <th>411</th>\n",
       "      <td>13799180</td>\n",
       "      <td>339 10:12:22</td>\n",
       "      <td>7399</td>\n",
       "      <td>1100</td>\n",
       "      <td>-21336.20</td>\n",
       "      <td>14741002</td>\n",
       "      <td>10</td>\n",
       "      <td>21336.20</td>\n",
       "      <td>Бизнес-сервис</td>\n",
       "    </tr>\n",
       "    <tr>\n",
       "      <th>412</th>\n",
       "      <td>13799180</td>\n",
       "      <td>341 10:11:26</td>\n",
       "      <td>7399</td>\n",
       "      <td>1100</td>\n",
       "      <td>-43795.36</td>\n",
       "      <td>14741002</td>\n",
       "      <td>10</td>\n",
       "      <td>43795.36</td>\n",
       "      <td>Бизнес-сервис</td>\n",
       "    </tr>\n",
       "    <tr>\n",
       "      <th>413</th>\n",
       "      <td>13799180</td>\n",
       "      <td>422 00:00:00</td>\n",
       "      <td>7399</td>\n",
       "      <td>1200</td>\n",
       "      <td>-3484.31</td>\n",
       "      <td>NaN</td>\n",
       "      <td>0</td>\n",
       "      <td>3484.31</td>\n",
       "      <td>Бизнес-сервис</td>\n",
       "    </tr>\n",
       "    <tr>\n",
       "      <th>414</th>\n",
       "      <td>13799180</td>\n",
       "      <td>422 00:00:00</td>\n",
       "      <td>7399</td>\n",
       "      <td>1200</td>\n",
       "      <td>-3463.65</td>\n",
       "      <td>NaN</td>\n",
       "      <td>0</td>\n",
       "      <td>3463.65</td>\n",
       "      <td>Бизнес-сервис</td>\n",
       "    </tr>\n",
       "    <tr>\n",
       "      <th>415</th>\n",
       "      <td>13799180</td>\n",
       "      <td>441 00:00:00</td>\n",
       "      <td>7399</td>\n",
       "      <td>1200</td>\n",
       "      <td>-6715.29</td>\n",
       "      <td>NaN</td>\n",
       "      <td>0</td>\n",
       "      <td>6715.29</td>\n",
       "      <td>Бизнес-сервис</td>\n",
       "    </tr>\n",
       "    <tr>\n",
       "      <th>416</th>\n",
       "      <td>13799180</td>\n",
       "      <td>442 00:00:00</td>\n",
       "      <td>7399</td>\n",
       "      <td>1200</td>\n",
       "      <td>-4469.37</td>\n",
       "      <td>NaN</td>\n",
       "      <td>0</td>\n",
       "      <td>4469.37</td>\n",
       "      <td>Бизнес-сервис</td>\n",
       "    </tr>\n",
       "    <tr>\n",
       "      <th>417</th>\n",
       "      <td>13799180</td>\n",
       "      <td>442 00:00:00</td>\n",
       "      <td>7399</td>\n",
       "      <td>1200</td>\n",
       "      <td>-5143.15</td>\n",
       "      <td>NaN</td>\n",
       "      <td>0</td>\n",
       "      <td>5143.15</td>\n",
       "      <td>Бизнес-сервис</td>\n",
       "    </tr>\n",
       "    <tr>\n",
       "      <th>418</th>\n",
       "      <td>13799180</td>\n",
       "      <td>442 00:00:00</td>\n",
       "      <td>7399</td>\n",
       "      <td>1200</td>\n",
       "      <td>-5592.33</td>\n",
       "      <td>NaN</td>\n",
       "      <td>0</td>\n",
       "      <td>5592.33</td>\n",
       "      <td>Бизнес-сервис</td>\n",
       "    </tr>\n",
       "    <tr>\n",
       "      <th>419</th>\n",
       "      <td>13799180</td>\n",
       "      <td>442 00:00:00</td>\n",
       "      <td>7399</td>\n",
       "      <td>1200</td>\n",
       "      <td>-5143.15</td>\n",
       "      <td>NaN</td>\n",
       "      <td>0</td>\n",
       "      <td>5143.15</td>\n",
       "      <td>Бизнес-сервис</td>\n",
       "    </tr>\n",
       "    <tr>\n",
       "      <th>420</th>\n",
       "      <td>13799180</td>\n",
       "      <td>449 00:00:00</td>\n",
       "      <td>7399</td>\n",
       "      <td>1200</td>\n",
       "      <td>-4469.37</td>\n",
       "      <td>NaN</td>\n",
       "      <td>0</td>\n",
       "      <td>4469.37</td>\n",
       "      <td>Бизнес-сервис</td>\n",
       "    </tr>\n",
       "    <tr>\n",
       "      <th>421</th>\n",
       "      <td>13799180</td>\n",
       "      <td>452 00:00:00</td>\n",
       "      <td>7399</td>\n",
       "      <td>1200</td>\n",
       "      <td>-3795.60</td>\n",
       "      <td>NaN</td>\n",
       "      <td>0</td>\n",
       "      <td>3795.60</td>\n",
       "      <td>Бизнес-сервис</td>\n",
       "    </tr>\n",
       "    <tr>\n",
       "      <th>422</th>\n",
       "      <td>13799180</td>\n",
       "      <td>452 00:00:00</td>\n",
       "      <td>7399</td>\n",
       "      <td>1200</td>\n",
       "      <td>-2897.23</td>\n",
       "      <td>NaN</td>\n",
       "      <td>0</td>\n",
       "      <td>2897.23</td>\n",
       "      <td>Бизнес-сервис</td>\n",
       "    </tr>\n",
       "    <tr>\n",
       "      <th>423</th>\n",
       "      <td>13799180</td>\n",
       "      <td>228 23:16:06</td>\n",
       "      <td>3501</td>\n",
       "      <td>1210</td>\n",
       "      <td>-230669.03</td>\n",
       "      <td>80100849</td>\n",
       "      <td>23</td>\n",
       "      <td>230669.03</td>\n",
       "      <td>Жилье — отели, мотели, курорты</td>\n",
       "    </tr>\n",
       "    <tr>\n",
       "      <th>424</th>\n",
       "      <td>13799180</td>\n",
       "      <td>273 00:00:00</td>\n",
       "      <td>4722</td>\n",
       "      <td>1100</td>\n",
       "      <td>-48287.19</td>\n",
       "      <td>NaN</td>\n",
       "      <td>0</td>\n",
       "      <td>48287.19</td>\n",
       "      <td>Туристические агентства и организаторы экскурсий</td>\n",
       "    </tr>\n",
       "    <tr>\n",
       "      <th>425</th>\n",
       "      <td>13799180</td>\n",
       "      <td>402 15:51:12</td>\n",
       "      <td>5211</td>\n",
       "      <td>1110</td>\n",
       "      <td>-203255.38</td>\n",
       "      <td>01015516</td>\n",
       "      <td>15</td>\n",
       "      <td>203255.38</td>\n",
       "      <td>Лесо- и строительный материал</td>\n",
       "    </tr>\n",
       "    <tr>\n",
       "      <th>426</th>\n",
       "      <td>13799180</td>\n",
       "      <td>406 00:00:00</td>\n",
       "      <td>5681</td>\n",
       "      <td>1510</td>\n",
       "      <td>-6851345.74</td>\n",
       "      <td>01280762</td>\n",
       "      <td>0</td>\n",
       "      <td>6851345.74</td>\n",
       "      <td>Изготовление и продажа меховых изделий</td>\n",
       "    </tr>\n",
       "    <tr>\n",
       "      <th>427</th>\n",
       "      <td>13799180</td>\n",
       "      <td>409 00:00:00</td>\n",
       "      <td>7512</td>\n",
       "      <td>1210</td>\n",
       "      <td>-281563.72</td>\n",
       "      <td>73203715</td>\n",
       "      <td>0</td>\n",
       "      <td>281563.72</td>\n",
       "      <td>Прокат автомобилей</td>\n",
       "    </tr>\n",
       "    <tr>\n",
       "      <th>428</th>\n",
       "      <td>13799180</td>\n",
       "      <td>420 12:33:38</td>\n",
       "      <td>4814</td>\n",
       "      <td>1030</td>\n",
       "      <td>-11903.35</td>\n",
       "      <td>888916</td>\n",
       "      <td>12</td>\n",
       "      <td>11903.35</td>\n",
       "      <td>Звонки с использованием телефонов, считывающих...</td>\n",
       "    </tr>\n",
       "    <tr>\n",
       "      <th>429</th>\n",
       "      <td>13799180</td>\n",
       "      <td>452 11:13:55</td>\n",
       "      <td>6536</td>\n",
       "      <td>6110</td>\n",
       "      <td>673774.73</td>\n",
       "      <td>122774</td>\n",
       "      <td>11</td>\n",
       "      <td>673774.73</td>\n",
       "      <td>Денежные переводы MasterCard MoneySend</td>\n",
       "    </tr>\n",
       "  </tbody>\n",
       "</table>\n",
       "</div>"
      ],
      "text/plain": [
       "     customer_id   tr_datetime  mcc_code  tr_type       amount   term_id  \\\n",
       "0       13799180    1 00:00:00      4121     1200    -68046.08       NaN   \n",
       "1       13799180    1 16:26:38      5661     1110   -146635.84       NaN   \n",
       "2       13799180    8 18:45:02      5661     1210    -93676.02       NaN   \n",
       "3       13799180   78 19:00:13      5661     1110  -1186517.30       NaN   \n",
       "4       13799180   94 17:19:23      5661     1210   -311436.87       NaN   \n",
       "5       13799180  101 20:45:35      5661     1110   -212957.73       NaN   \n",
       "6       13799180  113 19:17:59      5661     1110   -396179.54       NaN   \n",
       "7       13799180  246 00:00:00      5661     1110   -188656.92  15342089   \n",
       "8       13799180  296 13:04:08      5661     1110   -230453.42  29065120   \n",
       "9       13799180  386 00:00:00      5661     1110   -253788.48  29218421   \n",
       "10      13799180  444 20:54:36      5661     1110   -143514.02  21726331   \n",
       "11      13799180    1 18:22:38      4812     1010   -226657.82       NaN   \n",
       "12      13799180  150 20:40:55      4812     1010   -349217.44       NaN   \n",
       "13      13799180  331 12:31:01      4812     1010   -448958.56    036841   \n",
       "14      13799180  444 18:47:54      4812     1010   -898141.72    479056   \n",
       "15      13799180    6 01:08:36      5812     1210    -57368.77       NaN   \n",
       "16      13799180    6 01:20:13      5812     1210    -89004.07       NaN   \n",
       "17      13799180    6 01:20:50      5812     1210    -13362.30       NaN   \n",
       "18      13799180    7 11:04:45      5812     1210     -7460.71       NaN   \n",
       "19      13799180    7 11:20:28      5812     1210     -6012.99       NaN   \n",
       "20      13799180    7 11:47:26      5812     1210     -3340.58       NaN   \n",
       "21      13799180    7 18:23:45      5812     1210   -186849.41       NaN   \n",
       "22      13799180    8 12:56:05      5812     1210    -63881.03       NaN   \n",
       "23      13799180    8 19:53:40      5812     1210   -171817.95       NaN   \n",
       "24      13799180   10 15:51:44      5812     1210    -50097.40       NaN   \n",
       "25      13799180   11 00:00:00      5812     1210   -378425.58       NaN   \n",
       "26      13799180   12 00:00:00      5812     1210    -47838.68       NaN   \n",
       "27      13799180   17 00:00:00      5812     1110   -136338.32       NaN   \n",
       "28      13799180   36 19:53:07      5812     1210    -98885.20       NaN   \n",
       "29      13799180   37 20:37:34      5812     1210   -122517.63       NaN   \n",
       "30      13799180   38 00:00:00      5812     1210   -138744.37       NaN   \n",
       "31      13799180   39 00:00:00      5812     1210   -191770.21       NaN   \n",
       "32      13799180   40 00:00:00      5812     1210   -173530.46       NaN   \n",
       "33      13799180   41 19:59:05      5812     1210   -149413.14       NaN   \n",
       "34      13799180   43 20:11:34      5812     1210   -132778.99       NaN   \n",
       "35      13799180   44 00:00:00      5812     1210   -158587.93       NaN   \n",
       "36      13799180   44 15:01:41      5812     1210    -80213.56       NaN   \n",
       "37      13799180   45 00:00:00      5812     1210   -141176.69       NaN   \n",
       "38      13799180   91 16:24:01      5812     1210    -64039.14       NaN   \n",
       "39      13799180   91 19:47:59      5812     1210   -187325.32       NaN   \n",
       "40      13799180   94 14:50:18      5812     1210   -117570.55       NaN   \n",
       "41      13799180   94 20:40:56      5812     1210   -258530.06       NaN   \n",
       "42      13799180  109 20:54:26      5812     1110   -288038.70       NaN   \n",
       "43      13799180  150 19:13:17      5812     1110   -155298.34       NaN   \n",
       "44      13799180  159 15:20:33      5812     1110   -270295.96       NaN   \n",
       "45      13799180  160 13:37:40      5812     1110   -208420.98       NaN   \n",
       "46      13799180  171 22:05:30      5812     1110    -94597.97       NaN   \n",
       "47      13799180  190 16:32:15      5812     1010     -2695.10       NaN   \n",
       "48      13799180  192 00:00:00      5812     1110   -220436.63       NaN   \n",
       "49      13799180  193 00:00:00      5812     1110   -295787.11       NaN   \n",
       "50      13799180  193 00:00:00      5812     1110   -143738.61       NaN   \n",
       "51      13799180  227 15:49:47      5812     1210   -144322.55  80100856   \n",
       "52      13799180  228 13:57:51      5812     1210   -144666.62  00080607   \n",
       "53      13799180  229 17:01:48      5812     1210   -112320.04  30817289   \n",
       "54      13799180  230 09:45:03      5812     1210    -11954.34  55690011   \n",
       "55      13799180  230 11:34:09      5812     1210    -18734.31  55690018   \n",
       "56      13799180  230 11:43:21      5812     1210     -7617.25  55690018   \n",
       "57      13799180  230 11:44:01      5812     1210     -4337.09  55690018   \n",
       "58      13799180  241 18:29:54      5812     1110   -140603.31  35475001   \n",
       "59      13799180  260 23:12:29      5812     1110   -146546.00  29061125   \n",
       "60      13799180  261 04:34:15      5812     1010    -30319.86    253739   \n",
       "61      13799180  261 20:48:19      5812     1110   -170801.89  29061125   \n",
       "62      13799180  262 21:37:00      5812     1110   -113517.57  35475001   \n",
       "63      13799180  269 19:58:28      5812     1110   -102683.27  35475001   \n",
       "64      13799180  269 20:51:08      5812     1110   -122087.98  35475001   \n",
       "65      13799180  277 22:22:17      5812     1110   -122189.05  35475001   \n",
       "66      13799180  277 22:38:40      5812     1110    -47972.76  35475001   \n",
       "67      13799180  304 20:12:01      5812     1110   -126984.08  35475001   \n",
       "68      13799180  326 22:55:37      5812     1110   -275371.73  35475001   \n",
       "69      13799180  339 16:13:19      5812     1010    -63110.23  10278043   \n",
       "70      13799180  344 17:55:14      5812     1010     -2695.10    135312   \n",
       "71      13799180  367 00:00:00      5812     1110   -122972.87  35475001   \n",
       "72      13799180  368 00:00:00      5812     1110   -125793.74  35475001   \n",
       "73      13799180  374 00:00:00      5812     1110   -230318.66  30277001   \n",
       "74      13799180  380 13:22:57      5812     1110    -49747.03  34010801   \n",
       "75      13799180  395 15:44:26      5812     1110   -128354.09  35475001   \n",
       "76      13799180  402 17:19:35      5812     1110      -628.86  98770976   \n",
       "77      13799180  402 17:56:54      5812     1110     -1257.71  98770976   \n",
       "78      13799180  404 00:00:00      5812     1210   -291551.76  73100628   \n",
       "79      13799180  404 14:42:53      5812     1210    -98831.07  73103331   \n",
       "80      13799180  405 00:00:00      5812     1210   -311797.12  73100628   \n",
       "81      13799180  408 20:08:08      5812     1210   -350818.33  90005069   \n",
       "82      13799180  411 00:00:00      5812     1210   -313347.02  73100628   \n",
       "83      13799180  414 00:00:00      5812     1210   -153611.43  73103331   \n",
       "84      13799180  444 20:08:43      5812     1010   -124311.44    316371   \n",
       "85      13799180    6 13:36:41      5712     1210   -116920.13       NaN   \n",
       "86      13799180    6 20:27:49      5950     1210   -141417.68       NaN   \n",
       "87      13799180    7 10:31:04      7230     1210    -25455.21       NaN   \n",
       "88      13799180    7 10:36:40      5651     1210    -22041.42       NaN   \n",
       "89      13799180    8 11:32:32      5651     1210    -65022.18       NaN   \n",
       "90      13799180    8 20:32:47      5651     1210    -44082.83       NaN   \n",
       "91      13799180   39 21:00:23      5651     1210   -103142.56       NaN   \n",
       "92      13799180   91 18:24:29      5651     1210   -219027.55       NaN   \n",
       "93      13799180  129 17:54:04      5651     1010   -289723.13       NaN   \n",
       "94      13799180  185 21:13:47      5651     1010    -92082.55       NaN   \n",
       "95      13799180  248 20:11:09      5651     1010   -242558.90    952669   \n",
       "96      13799180  318 18:25:53      5651     1110   -214934.14  00480030   \n",
       "97      13799180    7 18:31:41      7011     1210   -234953.78       NaN   \n",
       "98      13799180    9 15:22:40      7011     1210    -23678.24       NaN   \n",
       "99      13799180    9 16:38:48      7011     1210   -137398.84       NaN   \n",
       "100     13799180   10 13:38:55      7011     1210   -165317.82       NaN   \n",
       "101     13799180   10 16:45:56      7011     1210    -23664.32       NaN   \n",
       "102     13799180   11 00:00:00      7011     1210  -1484052.85       NaN   \n",
       "103     13799180   91 13:54:60      7011     1210  -1847114.80       NaN   \n",
       "104     13799180   93 17:24:19      7011     1210   -137457.46       NaN   \n",
       "105     13799180  159 16:54:28      7011     1110    -13026.31       NaN   \n",
       "106     13799180  159 22:12:08      7011     1110    -77933.28       NaN   \n",
       "107     13799180  160 13:09:43      7011     1110   -392226.73       NaN   \n",
       "108     13799180  230 08:54:45      7011     1210    -29817.45  00068079   \n",
       "109     13799180  317 15:06:45      7011     1110  -3672072.29  39807002   \n",
       "110     13799180  439 19:18:18      7011     1200   -888827.46  54303431   \n",
       "111     13799180    7 19:00:45      5311     1210   -132509.48       NaN   \n",
       "112     13799180   11 16:27:48      5311     1210   -887115.39       NaN   \n",
       "113     13799180   11 16:29:38      5311     1210   -104464.06       NaN   \n",
       "114     13799180   11 16:32:40      5311     1210    -54166.55       NaN   \n",
       "115     13799180   11 16:48:54      5311     1210  -1403908.47       NaN   \n",
       "116     13799180   11 17:17:49      5311     1210   -176870.36       NaN   \n",
       "117     13799180   11 17:38:05      5311     1210    -65220.94       NaN   \n",
       "118     13799180   94 10:55:19      5311     1210   -206248.73       NaN   \n",
       "119     13799180   94 11:01:33      5311     1210   -112442.45       NaN   \n",
       "120     13799180   94 14:04:42      5311     1210   -137582.55       NaN   \n",
       "121     13799180  304 15:49:28      5311     1110   -181829.34  09011601   \n",
       "122     13799180    7 19:52:59      5941     1210     -9854.63       NaN   \n",
       "123     13799180    7 20:35:46      5813     1210   -182618.11       NaN   \n",
       "124     13799180  227 07:54:26      5813     1110    -40426.48    116467   \n",
       "125     13799180  227 09:07:16      5813     1110   -148118.15  39477003   \n",
       "126     13799180  227 10:02:45      5813     1110    -52329.84  39477003   \n",
       "127     13799180  317 21:41:51      5813     1110    -78607.05  39787001   \n",
       "128     13799180  318 21:26:54      5813     1110    -52105.25  39787001   \n",
       "129     13799180    8 13:07:40      6011     4210     -2245.92       NaN   \n",
       "130     13799180    8 13:07:26      6011     2210    -55103.54       NaN   \n",
       "131     13799180    8 16:15:43      6011     4210     -2245.92       NaN   \n",
       "132     13799180    8 16:15:09      6011     2210    -99125.74       NaN   \n",
       "133     13799180    8 18:14:48      6011     4210     -2245.92       NaN   \n",
       "134     13799180    8 18:14:08      6011     2210    -99125.74       NaN   \n",
       "135     13799180    9 18:38:47      6011     2210   -936076.81       NaN   \n",
       "136     13799180    9 18:38:58      6011     4210     -9360.75       NaN   \n",
       "137     13799180   11 00:00:00      6011     2210   -164771.61       NaN   \n",
       "138     13799180   11 08:44:33      6011     2210    -99489.58       NaN   \n",
       "139     13799180   11 08:44:45      6011     4210     -2245.92       NaN   \n",
       "140     13799180   36 21:38:42      6011     2210   -349927.15       NaN   \n",
       "141     13799180   36 21:38:09      6011     4210     -3499.36       NaN   \n",
       "142     13799180   38 09:52:35      6011     4210     -3499.36       NaN   \n",
       "143     13799180   38 09:52:28      6011     2210   -349927.15       NaN   \n",
       "144     13799180   39 00:00:00      6011     4210     -2245.92       NaN   \n",
       "145     13799180   39 00:00:00      6011     2210   -109960.04       NaN   \n",
       "146     13799180   40 22:22:51      6011     4210     -2245.92       NaN   \n",
       "147     13799180   40 22:22:29      6011     2210   -223333.86       NaN   \n",
       "148     13799180   42 00:00:00      6011     4210     -2245.92       NaN   \n",
       "149     13799180   42 00:00:00      6011     2210   -202213.27       NaN   \n",
       "150     13799180   42 16:30:27      6011     4210     -2258.04       NaN   \n",
       "151     13799180   42 16:30:36      6011     2210   -225804.37       NaN   \n",
       "152     13799180   44 00:00:00      6011     2210   -451608.74       NaN   \n",
       "153     13799180   44 00:00:00      6011     2210   -338706.56       NaN   \n",
       "154     13799180   44 00:00:00      6011     2210  -2258043.72       NaN   \n",
       "155     13799180   45 00:00:00      6011     2210   -343759.87       NaN   \n",
       "156     13799180   56 00:00:00      6011     2110   -179673.26       NaN   \n",
       "157     13799180   56 00:00:00      6011     2110   -179673.26       NaN   \n",
       "158     13799180   56 00:00:00      6011     2110   -179673.26       NaN   \n",
       "159     13799180   56 00:00:00      6011     2110   -179673.26       NaN   \n",
       "160     13799180   84 10:17:15      6011     7010   2245915.77       NaN   \n",
       "161     13799180   91 18:06:39      6011     2210   -622940.90       NaN   \n",
       "162     13799180   91 18:06:02      6011     4210     -6229.50       NaN   \n",
       "163     13799180   92 18:10:50      6011     2210   -750450.30       NaN   \n",
       "164     13799180   92 18:10:40      6011     4210     -7504.50       NaN   \n",
       "165     13799180   94 16:05:16      6011     2210   -125180.38       NaN   \n",
       "166     13799180   94 16:05:39      6011     4210     -2245.92       NaN   \n",
       "167     13799180   94 19:13:51      6011     2210   -250150.10       NaN   \n",
       "168     13799180   94 19:13:04      6011     4210     -2501.50       NaN   \n",
       "169     13799180  190 14:55:29      6011     2010   -336887.37       NaN   \n",
       "170     13799180  194 01:43:11      6011     2011   -898366.31       NaN   \n",
       "171     13799180  227 22:18:47      6011     2210   -124203.41  84001142   \n",
       "172     13799180  227 22:18:39      6011     4210     -2245.92  84001142   \n",
       "173     13799180  228 19:04:45      6011     4210     -7714.72  A3201013   \n",
       "174     13799180  228 19:04:11      6011     2210   -771479.03  A3201013   \n",
       "175     13799180  261 08:48:29      6011     2110   -179673.26  31000595   \n",
       "176     13799180  261 08:48:01      6011     4110     -2245.92  31000595   \n",
       "177     13799180  261 12:25:21      6011     4110     -2245.92  31000595   \n",
       "178     13799180  261 12:25:53      6011     2110   -112295.79  31000595   \n",
       "179     13799180  261 12:28:31      6011     4110     -2245.92  31000595   \n",
       "180     13799180  261 12:28:16      6011     2110   -112295.79  31000595   \n",
       "181     13799180  262 08:18:04      6011     2110   -112295.79  31000595   \n",
       "182     13799180  262 08:18:02      6011     4110     -2245.92  31000595   \n",
       "183     13799180  262 08:49:18      6011     4110     -2245.92  31000595   \n",
       "184     13799180  262 08:49:04      6011     2110   -112295.79  31000595   \n",
       "185     13799180  262 13:34:21      6011     4110     -2245.92  31000595   \n",
       "186     13799180  262 13:34:31      6011     2110   -112295.79  31000595   \n",
       "187     13799180  320 23:01:34      6011     2010   -673774.73    340098   \n",
       "188     13799180  321 00:20:48      6011     2110   -179673.26  31000595   \n",
       "189     13799180  321 00:20:42      6011     4110     -2245.92  31000595   \n",
       "190     13799180  404 00:00:00      6011     4210    -10677.98  NB080501   \n",
       "191     13799180  404 00:00:00      6011     2210  -1067798.19  NB080501   \n",
       "192     13799180  404 00:00:00      6011     4210    -10677.98  NB080501   \n",
       "193     13799180  404 00:00:00      6011     2210  -1067798.19  NB080501   \n",
       "194     13799180  404 20:44:53      6011     4210    -10677.98  NB080501   \n",
       "195     13799180  404 20:44:24      6011     2210  -1067798.19  NB080501   \n",
       "196     13799180  404 20:44:35      6011     4210    -10677.98  NB080501   \n",
       "197     13799180  404 20:44:27      6011     2210  -1067798.19  NB080501   \n",
       "198     13799180  411 00:00:00      6011     4210    -10416.56  NB080501   \n",
       "199     13799180  411 00:00:00      6011     2210  -1041655.73  NB080501   \n",
       "200     13799180  411 00:00:00      6011     2210  -1041655.73  NB080501   \n",
       "201     13799180  411 00:00:00      6011     4210    -10416.56  NB080501   \n",
       "202     13799180  413 00:00:00      6011     4210     -3420.53  NB080501   \n",
       "203     13799180  413 00:00:00      6011     2210  -1029797.30  S1A16501   \n",
       "204     13799180  413 00:00:00      6011     2210   -342052.97  NB080501   \n",
       "205     13799180  413 00:00:00      6011     4210    -10297.97  S1A16501   \n",
       "206     13799180  430 20:18:05      6011     2010   -673774.73    756689   \n",
       "207     13799180  430 20:20:18      6011     2010   -673774.73    756689   \n",
       "208     13799180    8 15:44:26      5814     1210   -222618.32       NaN   \n",
       "209     13799180   11 14:48:56      5814     1210    -30399.59       NaN   \n",
       "210     13799180  190 16:33:31      5814     1010    -80516.08       NaN   \n",
       "211     13799180  246 17:06:34      5814     1010    -82537.40    590588   \n",
       "212     13799180  260 18:24:52      5814     1010   -122694.38    575597   \n",
       "213     13799180  262 13:57:60      5814     1110     -6872.50  26023039   \n",
       "214     13799180  318 19:46:01      5814     1110   -142660.57  39793003   \n",
       "215     13799180  324 14:05:02      5814     1110     -7501.36  25102415   \n",
       "216     13799180  324 14:20:47      5814     1110     -6670.37  25102415   \n",
       "217     13799180  344 17:56:25      5814     1010   -129364.75    590588   \n",
       "218     13799180  346 18:34:44      5814     1110    -86916.94  09744701   \n",
       "219     13799180  349 16:07:36      5814     1110     -6647.91  25102512   \n",
       "220     13799180  402 00:00:00      5814     1110   -123076.18  26305955   \n",
       "221     13799180    8 18:05:41      4131     1200   -683283.94       NaN   \n",
       "222     13799180   10 00:00:00      5944     1210  -2941500.59       NaN   \n",
       "223     13799180   10 00:00:00      5944     1210 -13420617.70       NaN   \n",
       "224     13799180   10 16:24:34      5944     1210  -3661637.31       NaN   \n",
       "225     13799180   35 00:00:00      5944     1210    -42761.79       NaN   \n",
       "226     13799180   35 00:00:00      5944     1210    -31797.23       NaN   \n",
       "227     13799180   36 00:00:00      5944     1210  -1940727.26       NaN   \n",
       "228     13799180   36 20:53:31      5944     1210   -381165.60       NaN   \n",
       "229     13799180   38 00:00:00      5944     1210   -142664.84       NaN   \n",
       "230     13799180   40 00:00:00      5944     1210   -558334.66       NaN   \n",
       "231     13799180   40 21:41:29      5944     1210  -6979183.26       NaN   \n",
       "232     13799180   52 20:49:54      5944     1010  -2855075.51       NaN   \n",
       "233     13799180   55 11:38:15      5944     1010  -1356533.13       NaN   \n",
       "234     13799180   55 12:08:51      5944     1110   -424478.08       NaN   \n",
       "235     13799180  102 17:46:49      5944     1010  -1448413.54       NaN   \n",
       "236     13799180  136 20:13:21      5944     1010  -2030487.53       NaN   \n",
       "237     13799180  185 19:50:19      5944     1010   -346320.21       NaN   \n",
       "238     13799180  214 20:12:13      5944     1010   -318695.45    104792   \n",
       "239     13799180  229 10:05:03      5944     1210   -676615.59  00066118   \n",
       "240     13799180  346 20:15:14      5944     1010   -738704.16    104792   \n",
       "241     13799180  405 00:00:00      5944     1210    -56949.24  76604495   \n",
       "242     13799180  421 17:53:25      5944     1010   -107736.58    132136   \n",
       "243     13799180  430 20:37:37      5944     1010  -1217870.29    104792   \n",
       "244     13799180   10 17:07:49      5499     1210    -60929.22       NaN   \n",
       "245     13799180   10 17:11:28      5411     1210    -35797.88       NaN   \n",
       "246     13799180   11 13:25:18      5411     1210    -77380.78       NaN   \n",
       "247     13799180   35 00:00:00      5411     1210    -81236.35       NaN   \n",
       "248     13799180   40 13:20:14      5411     1210    -26464.97       NaN   \n",
       "249     13799180   41 00:00:00      5411     1210    -61863.53       NaN   \n",
       "250     13799180   41 13:37:24      5411     1210    -41986.72       NaN   \n",
       "251     13799180   42 00:00:00      5411     1210    -60338.10       NaN   \n",
       "252     13799180   95 10:15:18      5411     1210   -378852.30       NaN   \n",
       "253     13799180   95 10:24:14      5411     1210    -66539.97       NaN   \n",
       "254     13799180  230 11:12:33      5411     1210    -12142.77  83204039   \n",
       "255     13799180  354 00:00:00      5411     1110     -2807.39  00180347   \n",
       "256     13799180  407 00:00:00      5411     1210    -71460.32  00211606   \n",
       "257     13799180  421 00:00:00      5411     1110    -69039.90  30856016   \n",
       "258     13799180   11 13:27:40      5946     1210    -88435.18       NaN   \n",
       "259     13799180   12 00:00:00      5200     1210   -139278.45       NaN   \n",
       "260     13799180   12 00:00:00      5977     1210    -64484.73       NaN   \n",
       "261     13799180  150 20:13:39      5977     1110   -272693.48       NaN   \n",
       "262     13799180  386 00:00:00      5977     1110   -168303.31    787037   \n",
       "263     13799180   14 20:36:01      6010     7031   3368873.66       NaN   \n",
       "264     13799180   15 15:04:35      6010     7031   1122957.89       NaN   \n",
       "265     13799180   15 15:06:27      6010     7031   2245915.77       NaN   \n",
       "266     13799180   16 11:44:48      6010     7031   3368873.66       NaN   \n",
       "267     13799180   17 08:26:02      6010     7031   3368873.66       NaN   \n",
       "268     13799180   18 08:30:02      6010     7031   1956686.74       NaN   \n",
       "269     13799180   21 14:32:29      6010     7020   6737747.32       NaN   \n",
       "270     13799180   21 14:35:51      6010     7020   1122957.89       NaN   \n",
       "271     13799180   33 17:08:37      6010     7031   1347549.46       NaN   \n",
       "272     13799180   52 10:25:11      6010     7070   2245915.77       NaN   \n",
       "273     13799180   76 21:52:00      6010     7031   3368873.66       NaN   \n",
       "274     13799180   77 21:55:43      6010     7031   3368873.66       NaN   \n",
       "275     13799180   78 13:04:35      6010     7031   3368873.66       NaN   \n",
       "276     13799180   79 13:09:27      6010     7031   1122957.89       NaN   \n",
       "277     13799180   79 13:10:38      6010     7031   2221951.85       NaN   \n",
       "278     13799180   84 21:20:09      6010     7031   3368873.66       NaN   \n",
       "279     13799180   85 15:43:18      6010     7020   4312158.28       NaN   \n",
       "280     13799180   97 19:57:16      6010     7031   1347549.46       NaN   \n",
       "281     13799180  105 21:15:43      6010     7031   3368873.66       NaN   \n",
       "282     13799180  106 18:25:29      6010     7031   1122957.89       NaN   \n",
       "283     13799180  131 20:14:59      6010     7031   1122957.89       NaN   \n",
       "284     13799180  132 13:00:36      6010     7020   2492966.51       NaN   \n",
       "285     13799180  134 11:44:03      6010     7031   2245915.77       NaN   \n",
       "286     13799180  150 21:22:55      6010     7031    561478.94       NaN   \n",
       "287     13799180  168 21:22:10      6010     7071   1572141.04       NaN   \n",
       "288     13799180  187 21:11:43      6010     7031   1572141.04       NaN   \n",
       "289     13799180  196 20:15:54      6010     7031   3368873.66       NaN   \n",
       "290     13799180  197 17:39:46      6010     7031   3368873.66       NaN   \n",
       "291     13799180  221 18:47:11      6010     7020   1010662.10    141981   \n",
       "292     13799180  224 20:49:01      6010     7031   2788034.92    340138   \n",
       "293     13799180  248 16:00:02      6010     7070   2245915.77    888992   \n",
       "294     13799180  249 17:56:33      6010     7070   2245915.77    888986   \n",
       "295     13799180  250 20:58:51      6010     7070   2021324.19    888991   \n",
       "296     13799180  295 11:37:04      6010     7020    864677.57    142075   \n",
       "297     13799180  307 17:30:35      6010     7020    224591.58    142087   \n",
       "298     13799180  339 14:57:18      6010     7070    474439.82    888917   \n",
       "299     13799180  339 15:22:01      6010     7020   6737747.32    567786   \n",
       "300     13799180  350 20:14:05      6010     7031    112295.79    483623   \n",
       "301     13799180  353 15:55:09      6010     7020   6737747.32    567786   \n",
       "302     13799180  354 20:03:45      6010     7031   3368873.66    483414   \n",
       "303     13799180  355 19:18:48      6010     7031   1572141.04    349341   \n",
       "304     13799180  367 18:53:23      6010     7031   1347549.46    340174   \n",
       "305     13799180  384 18:08:04      6010     7031    112295.79    968504   \n",
       "306     13799180  416 12:38:42      6010     7020    112295.79    101713   \n",
       "307     13799180  444 17:24:53      6010     7031    112295.79    152403   \n",
       "308     13799180   17 00:00:00      5948     1110   -350385.32       NaN   \n",
       "309     13799180   37 00:00:00      5948     1210   -100192.10       NaN   \n",
       "310     13799180   94 17:00:52      5948     1210   -183797.89       NaN   \n",
       "311     13799180  179 08:21:57      5948     1110    -36383.84       NaN   \n",
       "312     13799180  179 08:24:44      5948     1110   -258459.99       NaN   \n",
       "313     13799180  333 00:00:00      5948     1110   -727362.28  77068410   \n",
       "314     13799180   17 19:35:22      5992     1010   -160088.88       NaN   \n",
       "315     13799180  117 21:11:44      5992     1100   -277370.60       NaN   \n",
       "316     13799180  304 18:39:11      5992     1010    -80852.97    784079   \n",
       "317     13799180  346 17:02:41      5992     1010   -153620.64    784079   \n",
       "318     13799180   17 20:15:16      5691     1010  -1325090.31       NaN   \n",
       "319     13799180   24 20:00:21      5691     1010   -294057.75       NaN   \n",
       "320     13799180   24 20:04:49      5691     1010   -102862.94       NaN   \n",
       "321     13799180   37 19:57:46      5691     1210    -74055.03       NaN   \n",
       "322     13799180   37 20:01:25      5691     1210    -59897.45       NaN   \n",
       "323     13799180   37 21:20:59      5691     1210   -163356.68       NaN   \n",
       "324     13799180   39 00:00:00      5691     1210   -363967.72       NaN   \n",
       "325     13799180   39 00:00:00      5691     1210   -113148.79       NaN   \n",
       "326     13799180   59 19:23:34      5691     1010   -212688.22       NaN   \n",
       "327     13799180   73 19:05:32      5691     1010   -707014.28       NaN   \n",
       "328     13799180   73 19:09:58      5691     1010   -291070.68       NaN   \n",
       "329     13799180   78 16:25:14      5691     1010   -268386.93       NaN   \n",
       "330     13799180   94 13:45:34      5691     1210   -884155.50       NaN   \n",
       "331     13799180  159 16:28:08      5691     1010   -288177.27       NaN   \n",
       "332     13799180  160 11:08:46      5691     1110   -222457.96       NaN   \n",
       "333     13799180  160 11:45:32      5691     1010  -1141273.33       NaN   \n",
       "334     13799180  165 19:48:23      5691     1110   -281413.25       NaN   \n",
       "335     13799180  185 19:24:07      5691     1010   -649968.02       NaN   \n",
       "336     13799180  185 19:30:23      5691     1010   -449183.15       NaN   \n",
       "337     13799180  214 19:51:54      5691     1010  -1411333.47    248314   \n",
       "338     13799180  229 15:28:05      5691     1210   -183815.18  00041551   \n",
       "339     13799180  248 19:24:48      5691     1010  -1134187.46    248314   \n",
       "340     13799180  255 16:53:06      5691     1010   -178550.30    248314   \n",
       "341     13799180  282 10:49:55      5691     1110   -381244.20  00972773   \n",
       "342     13799180  318 16:41:41      5691     1010   -112071.20    737478   \n",
       "343     13799180  318 17:14:49      5691     1010   -380682.72    363697   \n",
       "344     13799180  331 11:28:10      5691     1110   -219538.27  00972773   \n",
       "345     13799180  332 20:03:31      5691     1010   -440199.49    248314   \n",
       "346     13799180  333 17:55:08      5691     1010   -540142.74    248314   \n",
       "347     13799180  333 19:03:06      5691     1010   -675571.46  10057582   \n",
       "348     13799180  333 19:05:17      5691     1010   -345646.44    249086   \n",
       "349     13799180  386 19:19:16      5691     1010   -169836.15    349179   \n",
       "350     13799180  410 00:00:00      5691     1210   -120630.38  76101822   \n",
       "351     13799180  444 17:55:37      5691     1010   -350812.04    248314   \n",
       "352     13799180   30 13:58:03      5331     1010   -168443.68       NaN   \n",
       "353     13799180  160 16:12:27      5331     1010    -71150.61       NaN   \n",
       "354     13799180  219 14:30:60      5331     1010   -597368.68    700601   \n",
       "355     13799180  304 17:28:31      5331     1010   -187466.59    735756   \n",
       "356     13799180  346 19:40:33      5331     1010   -185247.62    477947   \n",
       "357     13799180   35 08:43:24      5309     1110    -87497.29       NaN   \n",
       "358     13799180   46 00:00:00      5309     1210   -154409.40       NaN   \n",
       "359     13799180  227 10:21:30      5309     1110    -48871.13  T7505223   \n",
       "360     13799180  227 10:29:36      5309     1110    -77009.08  T7504849   \n",
       "361     13799180  414 18:33:45      5309     1210   -153783.02  31271573   \n",
       "362     13799180   39 16:56:55      5947     1210    -52780.82       NaN   \n",
       "363     13799180   56 13:24:35      5732     1010  -1102228.08       NaN   \n",
       "364     13799180  192 11:49:08      5732     1010   -417538.20       NaN   \n",
       "365     13799180   58 00:00:00      4511     1100  -3090133.05       NaN   \n",
       "366     13799180  255 00:00:00      4511     1100   -900836.82  77024174   \n",
       "367     13799180  439 00:00:00      4511     1100   -891359.05    122763   \n",
       "368     13799180   65 12:09:46      4829     4051    -18798.32       NaN   \n",
       "369     13799180   65 12:09:40      4829     2331  -1879831.50       NaN   \n",
       "370     13799180  149 10:07:33      4829     4051    -22459.16       NaN   \n",
       "371     13799180  149 10:07:40      4829     2331  -2582803.14       NaN   \n",
       "372     13799180  201 10:42:13      4829     2331   -449183.15       NaN   \n",
       "373     13799180  201 10:42:24      4829     4051     -4491.83       NaN   \n",
       "374     13799180  203 10:33:03      4829     2331   -714201.22       NaN   \n",
       "375     13799180  203 10:33:53      4829     4051     -7142.01       NaN   \n",
       "376     13799180  280 15:11:33      4829     4051    -22459.16    350009   \n",
       "377     13799180  280 15:11:06      4829     2331  -3144282.08    350009   \n",
       "378     13799180  339 14:57:10      4829     2370   -474439.82    888917   \n",
       "379     13799180  442 08:49:60      4829     4051     -1572.14    350009   \n",
       "380     13799180  442 08:49:23      4829     2331   -157214.10    350009   \n",
       "381     13799180   80 17:59:24      5722     1110   -264344.29       NaN   \n",
       "382     13799180  129 17:44:36      5722     1110   -555594.64       NaN   \n",
       "383     13799180  221 19:23:05      5722     1110    -62661.05    736702   \n",
       "384     13799180   91 17:06:32      5611     1210   -420579.62       NaN   \n",
       "385     13799180   91 17:29:41      5611     1210   -347267.54       NaN   \n",
       "386     13799180   91 17:36:42      5611     1210    -99326.07       NaN   \n",
       "387     13799180   94 16:54:28      5611     1210   -323944.38       NaN   \n",
       "388     13799180  411 00:00:00      5611     1210   -234562.54  76627036   \n",
       "389     13799180   94 16:01:20      5621     1210   -112554.97       NaN   \n",
       "390     13799180  113 19:54:09      5621     1010   -148679.62       NaN   \n",
       "391     13799180  344 19:26:34      5621     1010   -132172.14    235955   \n",
       "392     13799180  344 20:54:29      5621     1010   -303872.40    132190   \n",
       "393     13799180  123 00:00:00      7922     1100   -177876.53       NaN   \n",
       "394     13799180  129 17:59:10      5999     1010   -232339.99       NaN   \n",
       "395     13799180  229 18:13:08      5999     1210   -387073.03  00020126   \n",
       "396     13799180  344 20:01:39      5999     1010   -157663.29    132131   \n",
       "397     13799180  182 17:14:27      4899     1100    -26950.99       NaN   \n",
       "398     13799180  182 17:19:30      4899     1100    -26950.99       NaN   \n",
       "399     13799180  384 18:47:47      4899     1100    -26950.99  80053001   \n",
       "400     13799180  384 19:05:59      4899     1100    -26950.99  80053001   \n",
       "401     13799180  185 18:37:26      4789     1010   -250644.20       NaN   \n",
       "402     13799180  187 17:40:05      3000     1010  -5460068.29       NaN   \n",
       "403     13799180  310 22:06:45      3000     1010   -485185.18    290594   \n",
       "404     13799180  197 17:53:22      5399     1110   -351643.03       NaN   \n",
       "405     13799180  224 00:00:00      7399     1200     -5788.17       NaN   \n",
       "406     13799180  260 00:00:00      7399     1200     -3463.65       NaN   \n",
       "407     13799180  324 00:00:00      7399     1200     -3463.65       NaN   \n",
       "408     13799180  324 00:00:00      7399     1200     -3463.65       NaN   \n",
       "409     13799180  324 00:00:00      7399     1200     -3463.65       NaN   \n",
       "410     13799180  332 07:29:09      7399     1100     -4177.40  14741002   \n",
       "411     13799180  339 10:12:22      7399     1100    -21336.20  14741002   \n",
       "412     13799180  341 10:11:26      7399     1100    -43795.36  14741002   \n",
       "413     13799180  422 00:00:00      7399     1200     -3484.31       NaN   \n",
       "414     13799180  422 00:00:00      7399     1200     -3463.65       NaN   \n",
       "415     13799180  441 00:00:00      7399     1200     -6715.29       NaN   \n",
       "416     13799180  442 00:00:00      7399     1200     -4469.37       NaN   \n",
       "417     13799180  442 00:00:00      7399     1200     -5143.15       NaN   \n",
       "418     13799180  442 00:00:00      7399     1200     -5592.33       NaN   \n",
       "419     13799180  442 00:00:00      7399     1200     -5143.15       NaN   \n",
       "420     13799180  449 00:00:00      7399     1200     -4469.37       NaN   \n",
       "421     13799180  452 00:00:00      7399     1200     -3795.60       NaN   \n",
       "422     13799180  452 00:00:00      7399     1200     -2897.23       NaN   \n",
       "423     13799180  228 23:16:06      3501     1210   -230669.03  80100849   \n",
       "424     13799180  273 00:00:00      4722     1100    -48287.19       NaN   \n",
       "425     13799180  402 15:51:12      5211     1110   -203255.38  01015516   \n",
       "426     13799180  406 00:00:00      5681     1510  -6851345.74  01280762   \n",
       "427     13799180  409 00:00:00      7512     1210   -281563.72  73203715   \n",
       "428     13799180  420 12:33:38      4814     1030    -11903.35    888916   \n",
       "429     13799180  452 11:13:55      6536     6110    673774.73    122774   \n",
       "\n",
       "     time   abs_amount                                    mcc_description  \n",
       "0       0     68046.08                                   Лимузины и такси  \n",
       "1      16    146635.84                                   Обувные магазины  \n",
       "2      18     93676.02                                   Обувные магазины  \n",
       "3      19   1186517.30                                   Обувные магазины  \n",
       "4      17    311436.87                                   Обувные магазины  \n",
       "5      20    212957.73                                   Обувные магазины  \n",
       "6      19    396179.54                                   Обувные магазины  \n",
       "7       0    188656.92                                   Обувные магазины  \n",
       "8      13    230453.42                                   Обувные магазины  \n",
       "9       0    253788.48                                   Обувные магазины  \n",
       "10     20    143514.02                                   Обувные магазины  \n",
       "11     18    226657.82  Телекоммуникационное оборудование, включая про...  \n",
       "12     20    349217.44  Телекоммуникационное оборудование, включая про...  \n",
       "13     12    448958.56  Телекоммуникационное оборудование, включая про...  \n",
       "14     18    898141.72  Телекоммуникационное оборудование, включая про...  \n",
       "15      1     57368.77             Места общественного питания, рестораны  \n",
       "16      1     89004.07             Места общественного питания, рестораны  \n",
       "17      1     13362.30             Места общественного питания, рестораны  \n",
       "18     11      7460.71             Места общественного питания, рестораны  \n",
       "19     11      6012.99             Места общественного питания, рестораны  \n",
       "20     11      3340.58             Места общественного питания, рестораны  \n",
       "21     18    186849.41             Места общественного питания, рестораны  \n",
       "22     12     63881.03             Места общественного питания, рестораны  \n",
       "23     19    171817.95             Места общественного питания, рестораны  \n",
       "24     15     50097.40             Места общественного питания, рестораны  \n",
       "25      0    378425.58             Места общественного питания, рестораны  \n",
       "26      0     47838.68             Места общественного питания, рестораны  \n",
       "27      0    136338.32             Места общественного питания, рестораны  \n",
       "28     19     98885.20             Места общественного питания, рестораны  \n",
       "29     20    122517.63             Места общественного питания, рестораны  \n",
       "30      0    138744.37             Места общественного питания, рестораны  \n",
       "31      0    191770.21             Места общественного питания, рестораны  \n",
       "32      0    173530.46             Места общественного питания, рестораны  \n",
       "33     19    149413.14             Места общественного питания, рестораны  \n",
       "34     20    132778.99             Места общественного питания, рестораны  \n",
       "35      0    158587.93             Места общественного питания, рестораны  \n",
       "36     15     80213.56             Места общественного питания, рестораны  \n",
       "37      0    141176.69             Места общественного питания, рестораны  \n",
       "38     16     64039.14             Места общественного питания, рестораны  \n",
       "39     19    187325.32             Места общественного питания, рестораны  \n",
       "40     14    117570.55             Места общественного питания, рестораны  \n",
       "41     20    258530.06             Места общественного питания, рестораны  \n",
       "42     20    288038.70             Места общественного питания, рестораны  \n",
       "43     19    155298.34             Места общественного питания, рестораны  \n",
       "44     15    270295.96             Места общественного питания, рестораны  \n",
       "45     13    208420.98             Места общественного питания, рестораны  \n",
       "46     22     94597.97             Места общественного питания, рестораны  \n",
       "47     16      2695.10             Места общественного питания, рестораны  \n",
       "48      0    220436.63             Места общественного питания, рестораны  \n",
       "49      0    295787.11             Места общественного питания, рестораны  \n",
       "50      0    143738.61             Места общественного питания, рестораны  \n",
       "51     15    144322.55             Места общественного питания, рестораны  \n",
       "52     13    144666.62             Места общественного питания, рестораны  \n",
       "53     17    112320.04             Места общественного питания, рестораны  \n",
       "54      9     11954.34             Места общественного питания, рестораны  \n",
       "55     11     18734.31             Места общественного питания, рестораны  \n",
       "56     11      7617.25             Места общественного питания, рестораны  \n",
       "57     11      4337.09             Места общественного питания, рестораны  \n",
       "58     18    140603.31             Места общественного питания, рестораны  \n",
       "59     23    146546.00             Места общественного питания, рестораны  \n",
       "60      4     30319.86             Места общественного питания, рестораны  \n",
       "61     20    170801.89             Места общественного питания, рестораны  \n",
       "62     21    113517.57             Места общественного питания, рестораны  \n",
       "63     19    102683.27             Места общественного питания, рестораны  \n",
       "64     20    122087.98             Места общественного питания, рестораны  \n",
       "65     22    122189.05             Места общественного питания, рестораны  \n",
       "66     22     47972.76             Места общественного питания, рестораны  \n",
       "67     20    126984.08             Места общественного питания, рестораны  \n",
       "68     22    275371.73             Места общественного питания, рестораны  \n",
       "69     16     63110.23             Места общественного питания, рестораны  \n",
       "70     17      2695.10             Места общественного питания, рестораны  \n",
       "71      0    122972.87             Места общественного питания, рестораны  \n",
       "72      0    125793.74             Места общественного питания, рестораны  \n",
       "73      0    230318.66             Места общественного питания, рестораны  \n",
       "74     13     49747.03             Места общественного питания, рестораны  \n",
       "75     15    128354.09             Места общественного питания, рестораны  \n",
       "76     17       628.86             Места общественного питания, рестораны  \n",
       "77     17      1257.71             Места общественного питания, рестораны  \n",
       "78      0    291551.76             Места общественного питания, рестораны  \n",
       "79     14     98831.07             Места общественного питания, рестораны  \n",
       "80      0    311797.12             Места общественного питания, рестораны  \n",
       "81     20    350818.33             Места общественного питания, рестораны  \n",
       "82      0    313347.02             Места общественного питания, рестораны  \n",
       "83      0    153611.43             Места общественного питания, рестораны  \n",
       "84     20    124311.44             Места общественного питания, рестораны  \n",
       "85     13    116920.13  Оборудование, мебель и бытовые принадлежности ...  \n",
       "86     20    141417.68              Магазины хрусталя и изделий из стекла  \n",
       "87     10     25455.21                    Салоты красоты и парикмахерские  \n",
       "88     10     22041.42                              Одежда для всей семьи  \n",
       "89     11     65022.18                              Одежда для всей семьи  \n",
       "90     20     44082.83                              Одежда для всей семьи  \n",
       "91     21    103142.56                              Одежда для всей семьи  \n",
       "92     18    219027.55                              Одежда для всей семьи  \n",
       "93     17    289723.13                              Одежда для всей семьи  \n",
       "94     21     92082.55                              Одежда для всей семьи  \n",
       "95     20    242558.90                              Одежда для всей семьи  \n",
       "96     18    214934.14                              Одежда для всей семьи  \n",
       "97     18    234953.78   Отели, мотели, базы отдыха, сервисы бронирования  \n",
       "98     15     23678.24   Отели, мотели, базы отдыха, сервисы бронирования  \n",
       "99     16    137398.84   Отели, мотели, базы отдыха, сервисы бронирования  \n",
       "100    13    165317.82   Отели, мотели, базы отдыха, сервисы бронирования  \n",
       "101    16     23664.32   Отели, мотели, базы отдыха, сервисы бронирования  \n",
       "102     0   1484052.85   Отели, мотели, базы отдыха, сервисы бронирования  \n",
       "103    13   1847114.80   Отели, мотели, базы отдыха, сервисы бронирования  \n",
       "104    17    137457.46   Отели, мотели, базы отдыха, сервисы бронирования  \n",
       "105    16     13026.31   Отели, мотели, базы отдыха, сервисы бронирования  \n",
       "106    22     77933.28   Отели, мотели, базы отдыха, сервисы бронирования  \n",
       "107    13    392226.73   Отели, мотели, базы отдыха, сервисы бронирования  \n",
       "108     8     29817.45   Отели, мотели, базы отдыха, сервисы бронирования  \n",
       "109    15   3672072.29   Отели, мотели, базы отдыха, сервисы бронирования  \n",
       "110    19    888827.46   Отели, мотели, базы отдыха, сервисы бронирования  \n",
       "111    19    132509.48                                         Универмаги  \n",
       "112    16    887115.39                                         Универмаги  \n",
       "113    16    104464.06                                         Универмаги  \n",
       "114    16     54166.55                                         Универмаги  \n",
       "115    16   1403908.47                                         Универмаги  \n",
       "116    17    176870.36                                         Универмаги  \n",
       "117    17     65220.94                                         Универмаги  \n",
       "118    10    206248.73                                         Универмаги  \n",
       "119    11    112442.45                                         Универмаги  \n",
       "120    14    137582.55                                         Универмаги  \n",
       "121    15    181829.34                                         Универмаги  \n",
       "122    19      9854.63                              Магазины спорттоваров  \n",
       "123    20    182618.11  Бары, коктейль-бары, дискотеки, ночные клубы и...  \n",
       "124     7     40426.48  Бары, коктейль-бары, дискотеки, ночные клубы и...  \n",
       "125     9    148118.15  Бары, коктейль-бары, дискотеки, ночные клубы и...  \n",
       "126    10     52329.84  Бары, коктейль-бары, дискотеки, ночные клубы и...  \n",
       "127    21     78607.05  Бары, коктейль-бары, дискотеки, ночные клубы и...  \n",
       "128    21     52105.25  Бары, коктейль-бары, дискотеки, ночные клубы и...  \n",
       "129    13      2245.92  Финансовые институты — снятие наличности автом...  \n",
       "130    13     55103.54  Финансовые институты — снятие наличности автом...  \n",
       "131    16      2245.92  Финансовые институты — снятие наличности автом...  \n",
       "132    16     99125.74  Финансовые институты — снятие наличности автом...  \n",
       "133    18      2245.92  Финансовые институты — снятие наличности автом...  \n",
       "134    18     99125.74  Финансовые институты — снятие наличности автом...  \n",
       "135    18    936076.81  Финансовые институты — снятие наличности автом...  \n",
       "136    18      9360.75  Финансовые институты — снятие наличности автом...  \n",
       "137     0    164771.61  Финансовые институты — снятие наличности автом...  \n",
       "138     8     99489.58  Финансовые институты — снятие наличности автом...  \n",
       "139     8      2245.92  Финансовые институты — снятие наличности автом...  \n",
       "140    21    349927.15  Финансовые институты — снятие наличности автом...  \n",
       "141    21      3499.36  Финансовые институты — снятие наличности автом...  \n",
       "142     9      3499.36  Финансовые институты — снятие наличности автом...  \n",
       "143     9    349927.15  Финансовые институты — снятие наличности автом...  \n",
       "144     0      2245.92  Финансовые институты — снятие наличности автом...  \n",
       "145     0    109960.04  Финансовые институты — снятие наличности автом...  \n",
       "146    22      2245.92  Финансовые институты — снятие наличности автом...  \n",
       "147    22    223333.86  Финансовые институты — снятие наличности автом...  \n",
       "148     0      2245.92  Финансовые институты — снятие наличности автом...  \n",
       "149     0    202213.27  Финансовые институты — снятие наличности автом...  \n",
       "150    16      2258.04  Финансовые институты — снятие наличности автом...  \n",
       "151    16    225804.37  Финансовые институты — снятие наличности автом...  \n",
       "152     0    451608.74  Финансовые институты — снятие наличности автом...  \n",
       "153     0    338706.56  Финансовые институты — снятие наличности автом...  \n",
       "154     0   2258043.72  Финансовые институты — снятие наличности автом...  \n",
       "155     0    343759.87  Финансовые институты — снятие наличности автом...  \n",
       "156     0    179673.26  Финансовые институты — снятие наличности автом...  \n",
       "157     0    179673.26  Финансовые институты — снятие наличности автом...  \n",
       "158     0    179673.26  Финансовые институты — снятие наличности автом...  \n",
       "159     0    179673.26  Финансовые институты — снятие наличности автом...  \n",
       "160    10   2245915.77  Финансовые институты — снятие наличности автом...  \n",
       "161    18    622940.90  Финансовые институты — снятие наличности автом...  \n",
       "162    18      6229.50  Финансовые институты — снятие наличности автом...  \n",
       "163    18    750450.30  Финансовые институты — снятие наличности автом...  \n",
       "164    18      7504.50  Финансовые институты — снятие наличности автом...  \n",
       "165    16    125180.38  Финансовые институты — снятие наличности автом...  \n",
       "166    16      2245.92  Финансовые институты — снятие наличности автом...  \n",
       "167    19    250150.10  Финансовые институты — снятие наличности автом...  \n",
       "168    19      2501.50  Финансовые институты — снятие наличности автом...  \n",
       "169    14    336887.37  Финансовые институты — снятие наличности автом...  \n",
       "170     1    898366.31  Финансовые институты — снятие наличности автом...  \n",
       "171    22    124203.41  Финансовые институты — снятие наличности автом...  \n",
       "172    22      2245.92  Финансовые институты — снятие наличности автом...  \n",
       "173    19      7714.72  Финансовые институты — снятие наличности автом...  \n",
       "174    19    771479.03  Финансовые институты — снятие наличности автом...  \n",
       "175     8    179673.26  Финансовые институты — снятие наличности автом...  \n",
       "176     8      2245.92  Финансовые институты — снятие наличности автом...  \n",
       "177    12      2245.92  Финансовые институты — снятие наличности автом...  \n",
       "178    12    112295.79  Финансовые институты — снятие наличности автом...  \n",
       "179    12      2245.92  Финансовые институты — снятие наличности автом...  \n",
       "180    12    112295.79  Финансовые институты — снятие наличности автом...  \n",
       "181     8    112295.79  Финансовые институты — снятие наличности автом...  \n",
       "182     8      2245.92  Финансовые институты — снятие наличности автом...  \n",
       "183     8      2245.92  Финансовые институты — снятие наличности автом...  \n",
       "184     8    112295.79  Финансовые институты — снятие наличности автом...  \n",
       "185    13      2245.92  Финансовые институты — снятие наличности автом...  \n",
       "186    13    112295.79  Финансовые институты — снятие наличности автом...  \n",
       "187    23    673774.73  Финансовые институты — снятие наличности автом...  \n",
       "188     0    179673.26  Финансовые институты — снятие наличности автом...  \n",
       "189     0      2245.92  Финансовые институты — снятие наличности автом...  \n",
       "190     0     10677.98  Финансовые институты — снятие наличности автом...  \n",
       "191     0   1067798.19  Финансовые институты — снятие наличности автом...  \n",
       "192     0     10677.98  Финансовые институты — снятие наличности автом...  \n",
       "193     0   1067798.19  Финансовые институты — снятие наличности автом...  \n",
       "194    20     10677.98  Финансовые институты — снятие наличности автом...  \n",
       "195    20   1067798.19  Финансовые институты — снятие наличности автом...  \n",
       "196    20     10677.98  Финансовые институты — снятие наличности автом...  \n",
       "197    20   1067798.19  Финансовые институты — снятие наличности автом...  \n",
       "198     0     10416.56  Финансовые институты — снятие наличности автом...  \n",
       "199     0   1041655.73  Финансовые институты — снятие наличности автом...  \n",
       "200     0   1041655.73  Финансовые институты — снятие наличности автом...  \n",
       "201     0     10416.56  Финансовые институты — снятие наличности автом...  \n",
       "202     0      3420.53  Финансовые институты — снятие наличности автом...  \n",
       "203     0   1029797.30  Финансовые институты — снятие наличности автом...  \n",
       "204     0    342052.97  Финансовые институты — снятие наличности автом...  \n",
       "205     0     10297.97  Финансовые институты — снятие наличности автом...  \n",
       "206    20    673774.73  Финансовые институты — снятие наличности автом...  \n",
       "207    20    673774.73  Финансовые институты — снятие наличности автом...  \n",
       "208    15    222618.32                              Рестораны, закусочные  \n",
       "209    14     30399.59                              Рестораны, закусочные  \n",
       "210    16     80516.08                              Рестораны, закусочные  \n",
       "211    17     82537.40                              Рестораны, закусочные  \n",
       "212    18    122694.38                              Рестораны, закусочные  \n",
       "213    13      6872.50                              Рестораны, закусочные  \n",
       "214    19    142660.57                              Рестораны, закусочные  \n",
       "215    14      7501.36                              Рестораны, закусочные  \n",
       "216    14      6670.37                              Рестораны, закусочные  \n",
       "217    17    129364.75                              Рестораны, закусочные  \n",
       "218    18     86916.94                              Рестораны, закусочные  \n",
       "219    16      6647.91                              Рестораны, закусочные  \n",
       "220     0    123076.18                              Рестораны, закусочные  \n",
       "221    18    683283.94                                   Автобусные линии  \n",
       "222     0   2941500.59  Магазины по продаже часов, ювелирных изделий и...  \n",
       "223     0  13420617.70  Магазины по продаже часов, ювелирных изделий и...  \n",
       "224    16   3661637.31  Магазины по продаже часов, ювелирных изделий и...  \n",
       "225     0     42761.79  Магазины по продаже часов, ювелирных изделий и...  \n",
       "226     0     31797.23  Магазины по продаже часов, ювелирных изделий и...  \n",
       "227     0   1940727.26  Магазины по продаже часов, ювелирных изделий и...  \n",
       "228    20    381165.60  Магазины по продаже часов, ювелирных изделий и...  \n",
       "229     0    142664.84  Магазины по продаже часов, ювелирных изделий и...  \n",
       "230     0    558334.66  Магазины по продаже часов, ювелирных изделий и...  \n",
       "231    21   6979183.26  Магазины по продаже часов, ювелирных изделий и...  \n",
       "232    20   2855075.51  Магазины по продаже часов, ювелирных изделий и...  \n",
       "233    11   1356533.13  Магазины по продаже часов, ювелирных изделий и...  \n",
       "234    12    424478.08  Магазины по продаже часов, ювелирных изделий и...  \n",
       "235    17   1448413.54  Магазины по продаже часов, ювелирных изделий и...  \n",
       "236    20   2030487.53  Магазины по продаже часов, ювелирных изделий и...  \n",
       "237    19    346320.21  Магазины по продаже часов, ювелирных изделий и...  \n",
       "238    20    318695.45  Магазины по продаже часов, ювелирных изделий и...  \n",
       "239    10    676615.59  Магазины по продаже часов, ювелирных изделий и...  \n",
       "240    20    738704.16  Магазины по продаже часов, ювелирных изделий и...  \n",
       "241     0     56949.24  Магазины по продаже часов, ювелирных изделий и...  \n",
       "242    17    107736.58  Магазины по продаже часов, ювелирных изделий и...  \n",
       "243    20   1217870.29  Магазины по продаже часов, ювелирных изделий и...  \n",
       "244    17     60929.22  Различные продовольственные магазины — рынки, ...  \n",
       "245    17     35797.88                  Бакалейные магазины, супермаркеты  \n",
       "246    13     77380.78                  Бакалейные магазины, супермаркеты  \n",
       "247     0     81236.35                  Бакалейные магазины, супермаркеты  \n",
       "248    13     26464.97                  Бакалейные магазины, супермаркеты  \n",
       "249     0     61863.53                  Бакалейные магазины, супермаркеты  \n",
       "250    13     41986.72                  Бакалейные магазины, супермаркеты  \n",
       "251     0     60338.10                  Бакалейные магазины, супермаркеты  \n",
       "252    10    378852.30                  Бакалейные магазины, супермаркеты  \n",
       "253    10     66539.97                  Бакалейные магазины, супермаркеты  \n",
       "254    11     12142.77                  Бакалейные магазины, супермаркеты  \n",
       "255     0      2807.39                  Бакалейные магазины, супермаркеты  \n",
       "256     0     71460.32                  Бакалейные магазины, супермаркеты  \n",
       "257     0     69039.90                  Бакалейные магазины, супермаркеты  \n",
       "258    13     88435.18           Магазины фотооборудования и фотоприборов  \n",
       "259     0    139278.45                                    Товары для дома  \n",
       "260     0     64484.73                                 Магазины косметики  \n",
       "261    20    272693.48                                 Магазины косметики  \n",
       "262     0    168303.31                                 Магазины косметики  \n",
       "263    20   3368873.66   Финансовые институты — снятие наличности вручную  \n",
       "264    15   1122957.89   Финансовые институты — снятие наличности вручную  \n",
       "265    15   2245915.77   Финансовые институты — снятие наличности вручную  \n",
       "266    11   3368873.66   Финансовые институты — снятие наличности вручную  \n",
       "267     8   3368873.66   Финансовые институты — снятие наличности вручную  \n",
       "268     8   1956686.74   Финансовые институты — снятие наличности вручную  \n",
       "269    14   6737747.32   Финансовые институты — снятие наличности вручную  \n",
       "270    14   1122957.89   Финансовые институты — снятие наличности вручную  \n",
       "271    17   1347549.46   Финансовые институты — снятие наличности вручную  \n",
       "272    10   2245915.77   Финансовые институты — снятие наличности вручную  \n",
       "273    21   3368873.66   Финансовые институты — снятие наличности вручную  \n",
       "274    21   3368873.66   Финансовые институты — снятие наличности вручную  \n",
       "275    13   3368873.66   Финансовые институты — снятие наличности вручную  \n",
       "276    13   1122957.89   Финансовые институты — снятие наличности вручную  \n",
       "277    13   2221951.85   Финансовые институты — снятие наличности вручную  \n",
       "278    21   3368873.66   Финансовые институты — снятие наличности вручную  \n",
       "279    15   4312158.28   Финансовые институты — снятие наличности вручную  \n",
       "280    19   1347549.46   Финансовые институты — снятие наличности вручную  \n",
       "281    21   3368873.66   Финансовые институты — снятие наличности вручную  \n",
       "282    18   1122957.89   Финансовые институты — снятие наличности вручную  \n",
       "283    20   1122957.89   Финансовые институты — снятие наличности вручную  \n",
       "284    13   2492966.51   Финансовые институты — снятие наличности вручную  \n",
       "285    11   2245915.77   Финансовые институты — снятие наличности вручную  \n",
       "286    21    561478.94   Финансовые институты — снятие наличности вручную  \n",
       "287    21   1572141.04   Финансовые институты — снятие наличности вручную  \n",
       "288    21   1572141.04   Финансовые институты — снятие наличности вручную  \n",
       "289    20   3368873.66   Финансовые институты — снятие наличности вручную  \n",
       "290    17   3368873.66   Финансовые институты — снятие наличности вручную  \n",
       "291    18   1010662.10   Финансовые институты — снятие наличности вручную  \n",
       "292    20   2788034.92   Финансовые институты — снятие наличности вручную  \n",
       "293    16   2245915.77   Финансовые институты — снятие наличности вручную  \n",
       "294    17   2245915.77   Финансовые институты — снятие наличности вручную  \n",
       "295    20   2021324.19   Финансовые институты — снятие наличности вручную  \n",
       "296    11    864677.57   Финансовые институты — снятие наличности вручную  \n",
       "297    17    224591.58   Финансовые институты — снятие наличности вручную  \n",
       "298    14    474439.82   Финансовые институты — снятие наличности вручную  \n",
       "299    15   6737747.32   Финансовые институты — снятие наличности вручную  \n",
       "300    20    112295.79   Финансовые институты — снятие наличности вручную  \n",
       "301    15   6737747.32   Финансовые институты — снятие наличности вручную  \n",
       "302    20   3368873.66   Финансовые институты — снятие наличности вручную  \n",
       "303    19   1572141.04   Финансовые институты — снятие наличности вручную  \n",
       "304    18   1347549.46   Финансовые институты — снятие наличности вручную  \n",
       "305    18    112295.79   Финансовые институты — снятие наличности вручную  \n",
       "306    12    112295.79   Финансовые институты — снятие наличности вручную  \n",
       "307    17    112295.79   Финансовые институты — снятие наличности вручную  \n",
       "308     0    350385.32  Магазины кожаных изделий, дорожных принадлежно...  \n",
       "309     0    100192.10  Магазины кожаных изделий, дорожных принадлежно...  \n",
       "310    17    183797.89  Магазины кожаных изделий, дорожных принадлежно...  \n",
       "311     8     36383.84  Магазины кожаных изделий, дорожных принадлежно...  \n",
       "312     8    258459.99  Магазины кожаных изделий, дорожных принадлежно...  \n",
       "313     0    727362.28  Магазины кожаных изделий, дорожных принадлежно...  \n",
       "314    19    160088.88                                         Флористика  \n",
       "315    21    277370.60                                         Флористика  \n",
       "316    18     80852.97                                         Флористика  \n",
       "317    17    153620.64                                         Флористика  \n",
       "318    20   1325090.31                  Магазины мужской и женской одежды  \n",
       "319    20    294057.75                  Магазины мужской и женской одежды  \n",
       "320    20    102862.94                  Магазины мужской и женской одежды  \n",
       "321    19     74055.03                  Магазины мужской и женской одежды  \n",
       "322    20     59897.45                  Магазины мужской и женской одежды  \n",
       "323    21    163356.68                  Магазины мужской и женской одежды  \n",
       "324     0    363967.72                  Магазины мужской и женской одежды  \n",
       "325     0    113148.79                  Магазины мужской и женской одежды  \n",
       "326    19    212688.22                  Магазины мужской и женской одежды  \n",
       "327    19    707014.28                  Магазины мужской и женской одежды  \n",
       "328    19    291070.68                  Магазины мужской и женской одежды  \n",
       "329    16    268386.93                  Магазины мужской и женской одежды  \n",
       "330    13    884155.50                  Магазины мужской и женской одежды  \n",
       "331    16    288177.27                  Магазины мужской и женской одежды  \n",
       "332    11    222457.96                  Магазины мужской и женской одежды  \n",
       "333    11   1141273.33                  Магазины мужской и женской одежды  \n",
       "334    19    281413.25                  Магазины мужской и женской одежды  \n",
       "335    19    649968.02                  Магазины мужской и женской одежды  \n",
       "336    19    449183.15                  Магазины мужской и женской одежды  \n",
       "337    19   1411333.47                  Магазины мужской и женской одежды  \n",
       "338    15    183815.18                  Магазины мужской и женской одежды  \n",
       "339    19   1134187.46                  Магазины мужской и женской одежды  \n",
       "340    16    178550.30                  Магазины мужской и женской одежды  \n",
       "341    10    381244.20                  Магазины мужской и женской одежды  \n",
       "342    16    112071.20                  Магазины мужской и женской одежды  \n",
       "343    17    380682.72                  Магазины мужской и женской одежды  \n",
       "344    11    219538.27                  Магазины мужской и женской одежды  \n",
       "345    20    440199.49                  Магазины мужской и женской одежды  \n",
       "346    17    540142.74                  Магазины мужской и женской одежды  \n",
       "347    19    675571.46                  Магазины мужской и женской одежды  \n",
       "348    19    345646.44                  Магазины мужской и женской одежды  \n",
       "349    19    169836.15                  Магазины мужской и женской одежды  \n",
       "350     0    120630.38                  Магазины мужской и женской одежды  \n",
       "351    17    350812.04                  Магазины мужской и женской одежды  \n",
       "352    13    168443.68                             Универсальные магазины  \n",
       "353    16     71150.61                             Универсальные магазины  \n",
       "354    14    597368.68                             Универсальные магазины  \n",
       "355    17    187466.59                             Универсальные магазины  \n",
       "356    19    185247.62                             Универсальные магазины  \n",
       "357     8     87497.29                    Беспошлинные магазины Duty Free  \n",
       "358     0    154409.40                    Беспошлинные магазины Duty Free  \n",
       "359    10     48871.13                    Беспошлинные магазины Duty Free  \n",
       "360    10     77009.08                    Беспошлинные магазины Duty Free  \n",
       "361    18    153783.02                    Беспошлинные магазины Duty Free  \n",
       "362    16     52780.82   Магазины открыток, подарков, новинок и сувениров  \n",
       "363    13   1102228.08                  Продажа электронного оборудования  \n",
       "364    11    417538.20                  Продажа электронного оборудования  \n",
       "365     0   3090133.05  Авиалинии, авиакомпании, нигде более не класси...  \n",
       "366     0    900836.82  Авиалинии, авиакомпании, нигде более не класси...  \n",
       "367     0    891359.05  Авиалинии, авиакомпании, нигде более не класси...  \n",
       "368    12     18798.32                                  Денежные переводы  \n",
       "369    12   1879831.50                                  Денежные переводы  \n",
       "370    10     22459.16                                  Денежные переводы  \n",
       "371    10   2582803.14                                  Денежные переводы  \n",
       "372    10    449183.15                                  Денежные переводы  \n",
       "373    10      4491.83                                  Денежные переводы  \n",
       "374    10    714201.22                                  Денежные переводы  \n",
       "375    10      7142.01                                  Денежные переводы  \n",
       "376    15     22459.16                                  Денежные переводы  \n",
       "377    15   3144282.08                                  Денежные переводы  \n",
       "378    14    474439.82                                  Денежные переводы  \n",
       "379     8      1572.14                                  Денежные переводы  \n",
       "380     8    157214.10                                  Денежные переводы  \n",
       "381    17    264344.29                               Бытовое оборудование  \n",
       "382    17    555594.64                               Бытовое оборудование  \n",
       "383    19     62661.05                               Бытовое оборудование  \n",
       "384    17    420579.62  Мужская одежда и аксессуары, включая одежду дл...  \n",
       "385    17    347267.54  Мужская одежда и аксессуары, включая одежду дл...  \n",
       "386    17     99326.07  Мужская одежда и аксессуары, включая одежду дл...  \n",
       "387    16    323944.38  Мужская одежда и аксессуары, включая одежду дл...  \n",
       "388     0    234562.54  Мужская одежда и аксессуары, включая одежду дл...  \n",
       "389    16    112554.97                             Готовая женская одежда  \n",
       "390    19    148679.62                             Готовая женская одежда  \n",
       "391    19    132172.14                             Готовая женская одежда  \n",
       "392    20    303872.40                             Готовая женская одежда  \n",
       "393     0    177876.53                 Театральные продюсерские агентства  \n",
       "394    17    232339.99                 Плавательные бассейны — распродажа  \n",
       "395    18    387073.03                 Плавательные бассейны — распродажа  \n",
       "396    20    157663.29                 Плавательные бассейны — распродажа  \n",
       "397    17     26950.99    Кабельные и другие платные телевизионные услуги  \n",
       "398    17     26950.99    Кабельные и другие платные телевизионные услуги  \n",
       "399    18     26950.99    Кабельные и другие платные телевизионные услуги  \n",
       "400    19     26950.99    Кабельные и другие платные телевизионные услуги  \n",
       "401    18    250644.20  Услуги по транспортировке — нигде более не кла...  \n",
       "402    17   5460068.29                            Авиалинии, авиакомпании  \n",
       "403    22    485185.18                            Авиалинии, авиакомпании  \n",
       "404    17    351643.03                 Различные товары общего назначения  \n",
       "405     0      5788.17                                      Бизнес-сервис  \n",
       "406     0      3463.65                                      Бизнес-сервис  \n",
       "407     0      3463.65                                      Бизнес-сервис  \n",
       "408     0      3463.65                                      Бизнес-сервис  \n",
       "409     0      3463.65                                      Бизнес-сервис  \n",
       "410     7      4177.40                                      Бизнес-сервис  \n",
       "411    10     21336.20                                      Бизнес-сервис  \n",
       "412    10     43795.36                                      Бизнес-сервис  \n",
       "413     0      3484.31                                      Бизнес-сервис  \n",
       "414     0      3463.65                                      Бизнес-сервис  \n",
       "415     0      6715.29                                      Бизнес-сервис  \n",
       "416     0      4469.37                                      Бизнес-сервис  \n",
       "417     0      5143.15                                      Бизнес-сервис  \n",
       "418     0      5592.33                                      Бизнес-сервис  \n",
       "419     0      5143.15                                      Бизнес-сервис  \n",
       "420     0      4469.37                                      Бизнес-сервис  \n",
       "421     0      3795.60                                      Бизнес-сервис  \n",
       "422     0      2897.23                                      Бизнес-сервис  \n",
       "423    23    230669.03                     Жилье — отели, мотели, курорты  \n",
       "424     0     48287.19   Туристические агентства и организаторы экскурсий  \n",
       "425    15    203255.38                      Лесо- и строительный материал  \n",
       "426     0   6851345.74             Изготовление и продажа меховых изделий  \n",
       "427     0    281563.72                                 Прокат автомобилей  \n",
       "428    12     11903.35  Звонки с использованием телефонов, считывающих...  \n",
       "429    11    673774.73             Денежные переводы MasterCard MoneySend  "
      ]
     },
     "execution_count": 643,
     "metadata": {},
     "output_type": "execute_result"
    }
   ],
   "source": [
    "pd.merge(x1, tr_mcc_codes) #.groupby('mcc_description')[['amount']].count()"
   ]
  },
  {
   "cell_type": "markdown",
   "metadata": {},
   "source": [
    "#### "
   ]
  },
  {
   "cell_type": "code",
   "execution_count": 647,
   "metadata": {
    "collapsed": false
   },
   "outputs": [
    {
     "data": {
      "image/png": "[encoded data removed]",
      "text/plain": [
       "<matplotlib.figure.Figure at 0x21906833240>"
      ]
     },
     "metadata": {},
     "output_type": "display_data"
    }
   ],
   "source": [
    "_ = hist(log10(transactions.abs_amount), bins = 50)"
   ]
  },
  {
   "cell_type": "markdown",
   "metadata": {},
   "source": [
    "tf idf"
   ]
  },
  {
   "cell_type": "code",
   "execution_count": 653,
   "metadata": {
    "collapsed": false
   },
   "outputs": [
    {
     "data": {
      "image/png": "[encoded data removed]",
      "text/plain": [
       "<matplotlib.figure.Figure at 0x21906902550>"
      ]
     },
     "metadata": {},
     "output_type": "display_data"
    }
   ],
   "source": [
    "_ = hist(round(log10(transactions.abs_amount)))"
   ]
  },
  {
   "cell_type": "code",
   "execution_count": 25,
   "metadata": {
    "collapsed": false
   },
   "outputs": [],
   "source": [
    "vol = round(log10(transactions.abs_amount))\n",
    "vol[vol<2] = 2\n",
    "vol[vol>6] = 6\n",
    "transactions['l10_amt'] = vol"
   ]
  },
  {
   "cell_type": "code",
   "execution_count": 661,
   "metadata": {
    "collapsed": false
   },
   "outputs": [
    {
     "data": {
      "image/png": "[encoded data removed]",
      "text/plain": [
       "<matplotlib.figure.Figure at 0x21902a06e10>"
      ]
     },
     "metadata": {},
     "output_type": "display_data"
    }
   ],
   "source": [
    "_ = hist(transactions['l10_amt'], bins = 5)"
   ]
  },
  {
   "cell_type": "code",
   "execution_count": 26,
   "metadata": {
    "collapsed": true
   },
   "outputs": [],
   "source": [
    "transactions['mcc_amt']=transactions['mcc_code']*100+transactions['l10_amt']"
   ]
  },
  {
   "cell_type": "code",
   "execution_count": 27,
   "metadata": {
    "collapsed": false
   },
   "outputs": [
    {
     "data": {
      "text/plain": [
       "(15000, 833)"
      ]
     },
     "execution_count": 27,
     "metadata": {},
     "output_type": "execute_result"
    }
   ],
   "source": [
    "mccamt_cnt = transactions.groupby(['customer_id', 'mcc_amt'])[['amount']].count().reset_index()\n",
    "mccamt_cnt = mccamt_cnt.pivot(index='customer_id', columns='mcc_amt', values='amount').fillna(0)\n",
    "mccamt_cnt.shape"
   ]
  },
  {
   "cell_type": "code",
   "execution_count": 28,
   "metadata": {
    "collapsed": false
   },
   "outputs": [
    {
     "data": {
      "text/plain": [
       "(15000, 312)"
      ]
     },
     "execution_count": 28,
     "metadata": {},
     "output_type": "execute_result"
    }
   ],
   "source": [
    "transactions['type_amt']=transactions['tr_type']*100+transactions['l10_amt']\n",
    "typeamt_cnt = transactions.groupby(['customer_id', 'type_amt'])[['amount']].count().reset_index()\n",
    "typeamt_cnt = typeamt_cnt.pivot(index='customer_id', columns='type_amt', values='amount').fillna(0)\n",
    "typeamt_cnt.shape"
   ]
  },
  {
   "cell_type": "code",
   "execution_count": 23,
   "metadata": {
    "collapsed": false
   },
   "outputs": [
    {
     "ename": "NameError",
     "evalue": "name 'customers_gender' is not defined",
     "output_type": "error",
     "traceback": [
      "\u001b[1;31m---------------------------------------------------------------------------\u001b[0m",
      "\u001b[1;31mNameError\u001b[0m                                 Traceback (most recent call last)",
      "\u001b[1;32m<ipython-input-23-d0d1d706b41e>\u001b[0m in \u001b[0;36m<module>\u001b[1;34m()\u001b[0m\n\u001b[0;32m      1\u001b[0m \u001b[0mX\u001b[0m \u001b[1;33m=\u001b[0m \u001b[0mpd\u001b[0m\u001b[1;33m.\u001b[0m\u001b[0mconcat\u001b[0m\u001b[1;33m(\u001b[0m\u001b[1;33m[\u001b[0m\u001b[0mmcc_count\u001b[0m\u001b[1;33m,\u001b[0m \u001b[0mtype_count\u001b[0m\u001b[1;33m,\u001b[0m \u001b[0mmcc_sums\u001b[0m\u001b[1;33m,\u001b[0m \u001b[0mtype_sums\u001b[0m\u001b[1;33m,\u001b[0m \u001b[0mmccamt_cnt\u001b[0m\u001b[1;33m,\u001b[0m \u001b[0mtypeamt_cnt\u001b[0m\u001b[1;33m]\u001b[0m\u001b[1;33m,\u001b[0m \u001b[0maxis\u001b[0m \u001b[1;33m=\u001b[0m \u001b[1;36m1\u001b[0m\u001b[1;33m)\u001b[0m\u001b[1;33m\u001b[0m\u001b[0m\n\u001b[0;32m      2\u001b[0m \u001b[1;33m\u001b[0m\u001b[0m\n\u001b[1;32m----> 3\u001b[1;33m \u001b[0mY_train\u001b[0m \u001b[1;33m=\u001b[0m \u001b[0mcustomers_gender\u001b[0m\u001b[1;33m.\u001b[0m\u001b[0mloc\u001b[0m\u001b[1;33m[\u001b[0m\u001b[0mX\u001b[0m\u001b[1;33m.\u001b[0m\u001b[0mindex\u001b[0m\u001b[1;33m]\u001b[0m\u001b[1;33m.\u001b[0m\u001b[0mgender\u001b[0m\u001b[1;33m\u001b[0m\u001b[0m\n\u001b[0m\u001b[0;32m      4\u001b[0m \u001b[0mY_train\u001b[0m \u001b[1;33m=\u001b[0m \u001b[0mY_train\u001b[0m\u001b[1;33m.\u001b[0m\u001b[0mreset_index\u001b[0m\u001b[1;33m(\u001b[0m\u001b[1;33m)\u001b[0m\u001b[1;33m\u001b[0m\u001b[0m\n\u001b[0;32m      5\u001b[0m \u001b[1;32mdel\u001b[0m \u001b[0mY_train\u001b[0m\u001b[1;33m[\u001b[0m\u001b[1;34m'customer_id'\u001b[0m\u001b[1;33m]\u001b[0m\u001b[1;33m\u001b[0m\u001b[0m\n",
      "\u001b[1;31mNameError\u001b[0m: name 'customers_gender' is not defined"
     ]
    }
   ],
   "source": [
    "X = pd.concat([mcc_count, type_count, mccamt_cnt], axis = 1)\n",
    "\n",
    "Y_train = customers_gender.loc[X.index].gender\n",
    "Y_train = Y_train.reset_index()\n",
    "del Y_train['customer_id']\n",
    "Y_train = Y_train.dropna(0)\n",
    "\n",
    "X_train = X.reset_index()\n",
    "X_train = X_train.loc[Y_train.index].set_index('customer_id')\n",
    "from sklearn.model_selection import train_test_split\n",
    "x_train, x_test, y_train, y_test = train_test_split(X_train, Y_train.values[:, 0], test_size = 0.3, random_state = 42)\n",
    "\n",
    "Y_train = Y_train.values[:, 0]\n",
    "\n",
    "x_train_log = sign(x_train) * log(1+abs(x_train))\n",
    "x_test_log = sign(x_test) * log(1+abs(x_test))\n",
    "\n",
    "X_test = X.drop(customers_gender.index)\n",
    "X_test_log = sign(X_test) * log(1+abs(X_test))\n",
    "\n",
    "X_train_log = sign(X_train) * log(1+abs(X_train))\n",
    "X_test_log = sign(X_test) * log(1+abs(X_test))"
   ]
  },
  {
   "cell_type": "markdown",
   "metadata": {},
   "source": [
    "Ура! На признаках $mcc \\times volume$ AUC выросла за 87.6%!"
   ]
  },
  {
   "cell_type": "code",
   "execution_count": 692,
   "metadata": {
    "collapsed": false
   },
   "outputs": [
    {
     "data": {
      "text/plain": [
       "0.87668875000000002"
      ]
     },
     "execution_count": 692,
     "metadata": {},
     "output_type": "execute_result"
    }
   ],
   "source": [
    "lr = LogisticRegression(penalty= 'l2', C = 0.01, random_state = 42)\n",
    "lr.fit(x_train_log, y_train)\n",
    "roc_auc_score(y_test,  lr.predict_proba(x_test_log)[:,1])"
   ]
  },
  {
   "cell_type": "markdown",
   "metadata": {},
   "source": [
    "Бустинг тоже вышагивает за 87.7% уверенно.\n",
    "\n",
    "глубина 4 - 87.29\n",
    "\n",
    "глубина 5 - 87.72 (100 лист), 87.59 (300 лист), 87.22 (30 лист)\n",
    "\n",
    "глубина 6 - 87.55"
   ]
  },
  {
   "cell_type": "code",
   "execution_count": 693,
   "metadata": {
    "collapsed": false
   },
   "outputs": [
    {
     "data": {
      "text/plain": [
       "0.87722234374999997"
      ]
     },
     "execution_count": 693,
     "metadata": {},
     "output_type": "execute_result"
    }
   ],
   "source": [
    "gbc = GradientBoostingClassifier(random_state = 42, learning_rate=0.1, n_estimators=200, subsample=1.0\n",
    "                                 , min_samples_leaf = 100, max_depth=5)\n",
    "#cross_val_score(gbc, X_train, Y_train.values[:, 0], cv=3, scoring = 'roc_auc', n_jobs =3).mean()\n",
    "gbc.fit(x_train_log, y_train)\n",
    "roc_auc_score(y_test,  gbc.predict_proba(x_test_log)[:,1])"
   ]
  },
  {
   "cell_type": "code",
   "execution_count": 680,
   "metadata": {
    "collapsed": false
   },
   "outputs": [
    {
     "data": {
      "text/plain": [
       "[<matplotlib.lines.Line2D at 0x219061e3eb8>]"
      ]
     },
     "execution_count": 680,
     "metadata": {},
     "output_type": "execute_result"
    },
    {
     "data": {
      "image/png": "[encoded data removed]",
      "text/plain": [
       "<matplotlib.figure.Figure at 0x21905523f98>"
      ]
     },
     "metadata": {},
     "output_type": "display_data"
    }
   ],
   "source": [
    "value_train= [roc_auc_score(y_train, pr) for pr in gbc.staged_decision_function(x_train_log)]\n",
    "value_test = [roc_auc_score(y_test,  pr) for pr in gbc.staged_decision_function(x_test_log)]\n",
    "plot(value_test)\n",
    "plot(value_train)"
   ]
  },
  {
   "cell_type": "markdown",
   "metadata": {},
   "source": [
    "Вместе мы впервые переваливаем за 88%!"
   ]
  },
  {
   "cell_type": "code",
   "execution_count": 694,
   "metadata": {
    "collapsed": false
   },
   "outputs": [
    {
     "data": {
      "text/plain": [
       "0.88355874999999995"
      ]
     },
     "execution_count": 694,
     "metadata": {},
     "output_type": "execute_result"
    }
   ],
   "source": [
    "roc_auc_score(y_test,  gbc.predict_proba(x_test_log)[:,1]+lr.predict_proba(x_test_log)[:,1])"
   ]
  },
  {
   "cell_type": "code",
   "execution_count": 695,
   "metadata": {
    "collapsed": true
   },
   "outputs": [],
   "source": [
    "result = pd.DataFrame(X_test.index, columns=['customer_id'])\n",
    "result['gender'] = lr.predict_proba(X_test_log)[:, 1]*0.5 + gbc.predict_proba(X_test_log)[:, 1]*0.5\n",
    "result.to_csv('a12.csv', index=False)"
   ]
  },
  {
   "cell_type": "markdown",
   "metadata": {},
   "source": [
    "Что ж, закачаем это на сервер, и раскачаем этот мир!"
   ]
  },
  {
   "cell_type": "code",
   "execution_count": 689,
   "metadata": {
    "collapsed": false
   },
   "outputs": [
    {
     "data": {
      "text/plain": [
       "GradientBoostingClassifier(criterion='friedman_mse', init=None,\n",
       "              learning_rate=0.1, loss='deviance', max_depth=5,\n",
       "              max_features=None, max_leaf_nodes=None,\n",
       "              min_impurity_split=1e-07, min_samples_leaf=100,\n",
       "              min_samples_split=2, min_weight_fraction_leaf=0.0,\n",
       "              n_estimators=200, presort='auto', random_state=42,\n",
       "              subsample=1.0, verbose=0, warm_start=False)"
      ]
     },
     "execution_count": 689,
     "metadata": {},
     "output_type": "execute_result"
    }
   ],
   "source": [
    "lr.fit(X_train_log, Y_train)\n",
    "gbc = GradientBoostingClassifier(random_state = 42, learning_rate=0.1, n_estimators=200, subsample=1.0\n",
    "                                 , min_samples_leaf = 100, max_depth=5)\n",
    "gbc.fit(X_train_log, Y_train)"
   ]
  },
  {
   "cell_type": "code",
   "execution_count": 690,
   "metadata": {
    "collapsed": false
   },
   "outputs": [],
   "source": [
    "result = pd.DataFrame(X_test.index, columns=['customer_id'])\n",
    "result['gender'] = lr.predict_proba(X_test_log)[:, 1]*0.5 + gbc.predict_proba(X_test_log)[:, 1]*0.5\n",
    "result.to_csv('a11.csv', index=False)"
   ]
  },
  {
   "cell_type": "markdown",
   "metadata": {},
   "source": [
    "ах, так! ну давайте нейронку вместо логита\n",
    "\n",
    "(150,50,5), relu, 0.01 - 0.877\n",
    "\n",
    "(150,100,5), relu, 0.01 = 87.82\n",
    "\n",
    "(150,100,20), relu, 0.01 = 87.93\n",
    "\n",
    "(150,100,20), relu, 0.03 = 87.88\n",
    "\n",
    "(150,100,20), relu, 0.003 = 87.83"
   ]
  },
  {
   "cell_type": "code",
   "execution_count": 714,
   "metadata": {
    "collapsed": false
   },
   "outputs": [
    {
     "data": {
      "text/plain": [
       "0.87936031250000002"
      ]
     },
     "execution_count": 714,
     "metadata": {},
     "output_type": "execute_result"
    }
   ],
   "source": [
    "nn = MLPClassifier(hidden_layer_sizes=(150,100,20), activation='relu', alpha=0.01, early_stopping=True, random_state = 42)\n",
    "nn.fit(x_train_log, y_train)\n",
    "roc_auc_score(y_test,  nn.predict_proba(x_test_log)[:,1])"
   ]
  },
  {
   "cell_type": "markdown",
   "metadata": {},
   "source": [
    "Почему-то нейронка очень нравится этой херне, и с нейронкой лучше, чем без неё."
   ]
  },
  {
   "cell_type": "code",
   "execution_count": 715,
   "metadata": {
    "collapsed": true
   },
   "outputs": [],
   "source": [
    "result = pd.DataFrame(X_test.index, columns=['customer_id'])\n",
    "result['gender'] = nn.predict_proba(X_test_log)[:, 1]*0.5 + gbc.predict_proba(X_test_log)[:, 1]*0.5\n",
    "result.to_csv('a12.csv', index=False)"
   ]
  },
  {
   "cell_type": "markdown",
   "metadata": {},
   "source": [
    "TF-IDF отрабатывает ХУЁВО"
   ]
  },
  {
   "cell_type": "code",
   "execution_count": 721,
   "metadata": {
    "collapsed": false
   },
   "outputs": [],
   "source": [
    "from sklearn.feature_extraction.text import TfidfTransformer\n",
    "idf = TfidfTransformer().fit(x_train)\n",
    "x_train_idf = idf.transform(x_train)\n",
    "x_test_idf = idf.transform(x_test)"
   ]
  },
  {
   "cell_type": "code",
   "execution_count": 722,
   "metadata": {
    "collapsed": false
   },
   "outputs": [
    {
     "data": {
      "text/plain": [
       "0.72318937500000002"
      ]
     },
     "execution_count": 722,
     "metadata": {},
     "output_type": "execute_result"
    }
   ],
   "source": [
    "lr = LogisticRegression(penalty= 'l2', C = 0.01, random_state = 42)\n",
    "lr.fit(x_train_idf, y_train)\n",
    "roc_auc_score(y_test,  lr.predict_proba(x_test_idf)[:,1])"
   ]
  },
  {
   "cell_type": "markdown",
   "metadata": {
    "collapsed": true
   },
   "source": [
    "### Ещё больше признаков, и ансамбль нейронок."
   ]
  },
  {
   "cell_type": "code",
   "execution_count": 29,
   "metadata": {
    "collapsed": false
   },
   "outputs": [
    {
     "data": {
      "text/plain": [
       "(15000, 1691)"
      ]
     },
     "execution_count": 29,
     "metadata": {},
     "output_type": "execute_result"
    }
   ],
   "source": [
    "X = pd.concat([mcc_count, type_count, mcc_sums, type_sums, mccamt_cnt, typeamt_cnt, time_count], axis = 1)\n",
    "X.shape"
   ]
  },
  {
   "cell_type": "code",
   "execution_count": 36,
   "metadata": {
    "collapsed": false
   },
   "outputs": [
    {
     "data": {
      "text/plain": [
       "(12000, 1691)"
      ]
     },
     "execution_count": 36,
     "metadata": {},
     "output_type": "execute_result"
    }
   ],
   "source": [
    "#X = pd.concat([mcc_count, type_count, mcc_sums, type_sums, mccamt_cnt, typeamt_cnt, time_count], axis = 1)\n",
    "\n",
    "Y_train = customers_gender.loc[X.index].reset_index()\n",
    "del Y_train['customer_id']\n",
    "Y_train = Y_train.dropna(0)\n",
    "\n",
    "X_train = X.reset_index()\n",
    "X_train = X_train.loc[Y_train.index].set_index('customer_id')\n",
    "from sklearn.model_selection import train_test_split\n",
    "x_train, x_test, y_train, y_test = train_test_split(X_train, Y_train.values[:, 0], test_size = 0.3, random_state = 42)\n",
    "\n",
    "Y_train = Y_train.values[:, 0]\n",
    "\n",
    "x_train_log = sign(x_train) * log(1+abs(x_train))\n",
    "x_test_log = sign(x_test) * log(1+abs(x_test))\n",
    "\n",
    "X_test = X.drop(customers_gender.index)\n",
    "X_test_log = sign(X_test) * log(1+abs(X_test))\n",
    "\n",
    "X_train_log = sign(X_train) * log(1+abs(X_train))\n",
    "X_test_log = sign(X_test) * log(1+abs(X_test))\n",
    "X_train_log.shape"
   ]
  },
  {
   "cell_type": "markdown",
   "metadata": {},
   "source": [
    "ЛОгит выдаёт 88.2% точности, но вы ему не верьте!"
   ]
  },
  {
   "cell_type": "code",
   "execution_count": 37,
   "metadata": {
    "collapsed": false
   },
   "outputs": [
    {
     "data": {
      "text/plain": [
       "0.88205687499999996"
      ]
     },
     "execution_count": 37,
     "metadata": {},
     "output_type": "execute_result"
    }
   ],
   "source": [
    "lr = LogisticRegression(penalty= 'l2', C = 0.01, random_state = 42)\n",
    "lr.fit(x_train_log, y_train)\n",
    "roc_auc_score(y_test,  lr.predict_proba(x_test_log)[:,1])"
   ]
  },
  {
   "cell_type": "markdown",
   "metadata": {},
   "source": [
    "Мешок логитов даёт"
   ]
  },
  {
   "cell_type": "code",
   "execution_count": 51,
   "metadata": {
    "collapsed": false
   },
   "outputs": [
    {
     "data": {
      "text/plain": [
       "0.8817387499999999"
      ]
     },
     "execution_count": 51,
     "metadata": {},
     "output_type": "execute_result"
    }
   ],
   "source": [
    "from sklearn.ensemble import BaggingClassifier\n",
    "bag_lr = BaggingClassifier(base_estimator=lr, n_estimators=10, max_samples=1.0, max_features=1.0\n",
    "                           , bootstrap=True, bootstrap_features=False, n_jobs=3, random_state = 42)\n",
    "bag_lr.fit(x_train_log, y_train)\n",
    "roc_auc_score(y_test,  bag_lr.predict_proba(x_test_log)[:,1])"
   ]
  },
  {
   "cell_type": "markdown",
   "metadata": {},
   "source": [
    "Нейронка выдаёт 88.2% точности"
   ]
  },
  {
   "cell_type": "code",
   "execution_count": 45,
   "metadata": {
    "collapsed": false
   },
   "outputs": [
    {
     "data": {
      "text/plain": [
       "0.88219625000000002"
      ]
     },
     "execution_count": 45,
     "metadata": {},
     "output_type": "execute_result"
    }
   ],
   "source": [
    "nn = MLPClassifier(hidden_layer_sizes=(100,10), activation='relu', alpha=0.01, early_stopping=True, random_state = 42)\n",
    "nn.fit(x_train_log, y_train)\n",
    "roc_auc_score(y_test,  nn.predict_proba(x_test_log)[:,1])"
   ]
  },
  {
   "cell_type": "markdown",
   "metadata": {},
   "source": [
    "10 таких нейронок дают 88.0% точности"
   ]
  },
  {
   "cell_type": "code",
   "execution_count": 48,
   "metadata": {
    "collapsed": false
   },
   "outputs": [
    {
     "data": {
      "text/plain": [
       "0.88038062500000014"
      ]
     },
     "execution_count": 48,
     "metadata": {},
     "output_type": "execute_result"
    }
   ],
   "source": [
    "from sklearn.ensemble import BaggingClassifier\n",
    "bag_nn = BaggingClassifier(base_estimator=nn, n_estimators=10, max_samples=1.0, max_features=1.0\n",
    "                           , bootstrap=True, bootstrap_features=False, n_jobs=3, random_state = 42)\n",
    "bag_nn.fit(x_train_log, y_train)\n",
    "roc_auc_score(y_test,  bag_nn.predict_proba(x_test_log)[:,1])"
   ]
  },
  {
   "cell_type": "markdown",
   "metadata": {},
   "source": [
    "Градиентный бустинг даёт 87.3%"
   ]
  },
  {
   "cell_type": "code",
   "execution_count": 47,
   "metadata": {
    "collapsed": false
   },
   "outputs": [
    {
     "data": {
      "text/plain": [
       "0.87308578125000003"
      ]
     },
     "execution_count": 47,
     "metadata": {},
     "output_type": "execute_result"
    }
   ],
   "source": [
    "gbc = GradientBoostingClassifier(random_state = 42, learning_rate=0.1, n_estimators=100, subsample=1.0\n",
    "                                 , min_samples_leaf = 50, max_depth=5)\n",
    "gbc.fit(x_train_log, y_train)\n",
    "roc_auc_score(y_test,  gbc.predict_proba(x_test_log)[:,1])"
   ]
  },
  {
   "cell_type": "markdown",
   "metadata": {},
   "source": [
    "Мешок бустингов даёт "
   ]
  },
  {
   "cell_type": "code",
   "execution_count": 49,
   "metadata": {
    "collapsed": false
   },
   "outputs": [
    {
     "data": {
      "text/plain": [
       "0.87500812500000014"
      ]
     },
     "execution_count": 49,
     "metadata": {},
     "output_type": "execute_result"
    }
   ],
   "source": [
    "from sklearn.ensemble import BaggingClassifier\n",
    "bag_gb = BaggingClassifier(base_estimator=gbc, n_estimators=10, max_samples=1.0, max_features=1.0\n",
    "                           , bootstrap=True, bootstrap_features=False, n_jobs=3, random_state = 42)\n",
    "bag_gb.fit(x_train_log, y_train)\n",
    "roc_auc_score(y_test,  bag_gb.predict_proba(x_test_log)[:,1])"
   ]
  },
  {
   "cell_type": "markdown",
   "metadata": {},
   "source": [
    "Сумма двух мешков даёт"
   ]
  },
  {
   "cell_type": "code",
   "execution_count": 50,
   "metadata": {
    "collapsed": false
   },
   "outputs": [
    {
     "data": {
      "text/plain": [
       "0.88554937500000008"
      ]
     },
     "execution_count": 50,
     "metadata": {},
     "output_type": "execute_result"
    }
   ],
   "source": [
    "roc_auc_score(y_test,  bag_gb.predict_proba(x_test_log)[:,1]+bag_nn.predict_proba(x_test_log)[:,1])"
   ]
  },
  {
   "cell_type": "markdown",
   "metadata": {},
   "source": [
    "Сумма трёх мешков даёт"
   ]
  },
  {
   "cell_type": "code",
   "execution_count": 52,
   "metadata": {
    "collapsed": false
   },
   "outputs": [
    {
     "data": {
      "text/plain": [
       "0.88709187500000009"
      ]
     },
     "execution_count": 52,
     "metadata": {},
     "output_type": "execute_result"
    }
   ],
   "source": [
    "roc_auc_score(y_test,  bag_gb.predict_proba(x_test_log)[:,1]\n",
    "              +bag_nn.predict_proba(x_test_log)[:,1] +bag_lr.predict_proba(x_test_log)[:,1])"
   ]
  },
  {
   "cell_type": "code",
   "execution_count": 56,
   "metadata": {
    "collapsed": false
   },
   "outputs": [],
   "source": [
    "result = pd.DataFrame(X_test.index, columns=['customer_id'])\n",
    "result['gender'] = (bag_nn.predict_proba(X_test_log)[:, 1]*0.33 \n",
    "                    + gbc.predict_proba(X_test_log)[:, 1]*0.34\n",
    "                    +bag_lr.predict_proba(X_test_log)[:,1]*0.33 )\n",
    "result.to_csv('a13.csv', index=False)"
   ]
  },
  {
   "cell_type": "markdown",
   "metadata": {},
   "source": [
    "И снова получаю хуйню"
   ]
  },
  {
   "cell_type": "markdown",
   "metadata": {},
   "source": [
    "## Психанул"
   ]
  },
  {
   "cell_type": "markdown",
   "metadata": {},
   "source": [
    "### Ещё один вариант: много разных нейронок; старый набор признаков."
   ]
  },
  {
   "cell_type": "code",
   "execution_count": 57,
   "metadata": {
    "collapsed": false
   },
   "outputs": [
    {
     "data": {
      "text/plain": [
       "(15000, 546)"
      ]
     },
     "execution_count": 57,
     "metadata": {},
     "output_type": "execute_result"
    }
   ],
   "source": [
    "X = pd.concat([mcc_count, type_count, mcc_sums, type_sums,time_count], axis = 1)\n",
    "X.shape"
   ]
  },
  {
   "cell_type": "code",
   "execution_count": 58,
   "metadata": {
    "collapsed": false
   },
   "outputs": [
    {
     "data": {
      "text/plain": [
       "(12000, 546)"
      ]
     },
     "execution_count": 58,
     "metadata": {},
     "output_type": "execute_result"
    }
   ],
   "source": [
    "#X = pd.concat([mcc_count, type_count, mcc_sums, type_sums, mccamt_cnt, typeamt_cnt, time_count], axis = 1)\n",
    "\n",
    "Y_train = customers_gender.loc[X.index].reset_index()\n",
    "del Y_train['customer_id']\n",
    "Y_train = Y_train.dropna(0)\n",
    "\n",
    "X_train = X.reset_index()\n",
    "X_train = X_train.loc[Y_train.index].set_index('customer_id')\n",
    "from sklearn.model_selection import train_test_split\n",
    "x_train, x_test, y_train, y_test = train_test_split(X_train, Y_train.values[:, 0], test_size = 0.3, random_state = 42)\n",
    "\n",
    "Y_train = Y_train.values[:, 0]\n",
    "\n",
    "x_train_log = sign(x_train) * log(1+abs(x_train))\n",
    "x_test_log = sign(x_test) * log(1+abs(x_test))\n",
    "\n",
    "X_test = X.drop(customers_gender.index)\n",
    "X_test_log = sign(X_test) * log(1+abs(X_test))\n",
    "\n",
    "X_train_log = sign(X_train) * log(1+abs(X_train))\n",
    "X_test_log = sign(X_test) * log(1+abs(X_test))\n",
    "X_train_log.shape"
   ]
  },
  {
   "cell_type": "code",
   "execution_count": 59,
   "metadata": {
    "collapsed": false
   },
   "outputs": [
    {
     "data": {
      "text/plain": [
       "BaggingClassifier(base_estimator=LogisticRegression(C=0.01, class_weight=None, dual=False, fit_intercept=True,\n",
       "          intercept_scaling=1, max_iter=100, multi_class='ovr', n_jobs=1,\n",
       "          penalty='l2', random_state=42, solver='liblinear', tol=0.0001,\n",
       "          verbose=0, warm_start=False),\n",
       "         bootstrap=True, bootstrap_features=False, max_features=1.0,\n",
       "         max_samples=1.0, n_estimators=100, n_jobs=3, oob_score=False,\n",
       "         random_state=42, verbose=0, warm_start=False)"
      ]
     },
     "execution_count": 59,
     "metadata": {},
     "output_type": "execute_result"
    }
   ],
   "source": [
    "lr = LogisticRegression(penalty= 'l2', C = 0.01, random_state = 42)\n",
    "bag_lr = BaggingClassifier(base_estimator=lr, n_estimators=100, max_samples=1.0, max_features=1.0\n",
    "                           , bootstrap=True, bootstrap_features=False, n_jobs=3, random_state = 42)\n",
    "bag_lr.fit(X_train_log, Y_train)"
   ]
  },
  {
   "cell_type": "code",
   "execution_count": 60,
   "metadata": {
    "collapsed": false
   },
   "outputs": [
    {
     "data": {
      "text/plain": [
       "BaggingClassifier(base_estimator=GradientBoostingClassifier(criterion='friedman_mse', init=None,\n",
       "              learning_rate=0.1, loss='deviance', max_depth=5,\n",
       "              max_features=None, max_leaf_nodes=None,\n",
       "              min_impurity_split=1e-07, min_samples_leaf=50,\n",
       "              min_samples_split=2, min_weight_fraction_leaf=0.0,\n",
       "              n_estimators=100, presort='auto', random_state=42,\n",
       "              subsample=1.0, verbose=0, warm_start=False),\n",
       "         bootstrap=True, bootstrap_features=False, max_features=1.0,\n",
       "         max_samples=1.0, n_estimators=30, n_jobs=3, oob_score=False,\n",
       "         random_state=42, verbose=0, warm_start=False)"
      ]
     },
     "execution_count": 60,
     "metadata": {},
     "output_type": "execute_result"
    }
   ],
   "source": [
    "gbc = GradientBoostingClassifier(random_state = 42, learning_rate=0.1, n_estimators=100, subsample=1.0\n",
    "                                 , min_samples_leaf = 50, max_depth=5)\n",
    "bag_gb = BaggingClassifier(base_estimator=gbc, n_estimators=30, max_samples=1.0, max_features=1.0\n",
    "                           , bootstrap=True, bootstrap_features=False, n_jobs=3, random_state = 42)\n",
    "bag_gb.fit(X_train_log, Y_train)"
   ]
  },
  {
   "cell_type": "code",
   "execution_count": 61,
   "metadata": {
    "collapsed": false
   },
   "outputs": [
    {
     "data": {
      "text/plain": [
       "BaggingClassifier(base_estimator=MLPClassifier(activation='relu', alpha=0.01, batch_size='auto', beta_1=0.9,\n",
       "       beta_2=0.999, early_stopping=True, epsilon=1e-08,\n",
       "       hidden_layer_sizes=(150, 50, 5), learning_rate='constant',\n",
       "       learning_rate_init=0.001, max_iter=200, momentum=0.9,\n",
       "       nesterovs_momentum=True, power_t=0.5, random_state=42, shuffle=True,\n",
       "       solver='adam', tol=0.0001, validation_fraction=0.1, verbose=False,\n",
       "       warm_start=False),\n",
       "         bootstrap=True, bootstrap_features=False, max_features=1.0,\n",
       "         max_samples=1.0, n_estimators=30, n_jobs=3, oob_score=False,\n",
       "         random_state=42, verbose=0, warm_start=False)"
      ]
     },
     "execution_count": 61,
     "metadata": {},
     "output_type": "execute_result"
    }
   ],
   "source": [
    "nn = MLPClassifier(hidden_layer_sizes=(150,50,5), activation='relu', alpha=0.01, early_stopping=True, random_state = 42)\n",
    "bag_nn = BaggingClassifier(base_estimator=nn, n_estimators=30, max_samples=1.0, max_features=1.0\n",
    "                           , bootstrap=True, bootstrap_features=False, n_jobs=3, random_state = 42)\n",
    "bag_nn.fit(X_train_log, Y_train)"
   ]
  },
  {
   "cell_type": "markdown",
   "metadata": {},
   "source": [
    "Аккуратно расставляю веса, и делаю финальное предсказание."
   ]
  },
  {
   "cell_type": "code",
   "execution_count": 63,
   "metadata": {
    "collapsed": false
   },
   "outputs": [],
   "source": [
    "result = pd.DataFrame(X_test.index, columns=['customer_id'])\n",
    "result['gender'] = (bag_nn.predict_proba(X_test_log)[:, 1]*0.30 \n",
    "                    + bag_gb.predict_proba(X_test_log)[:, 1]*0.40\n",
    "                    +bag_lr.predict_proba(X_test_log)[:,1]*0.30 )\n",
    "result.to_csv('a14.csv', index=False)"
   ]
  },
  {
   "cell_type": "code",
   "execution_count": null,
   "metadata": {
    "collapsed": true
   },
   "outputs": [],
   "source": []
  }
 ],
 "metadata": {
  "anaconda-cloud": {},
  "kernelspec": {
   "display_name": "Python [Root]",
   "language": "python",
   "name": "Python [Root]"
  },
  "language_info": {
   "codemirror_mode": {
    "name": "ipython",
    "version": 3
   },
   "file_extension": ".py",
   "mimetype": "text/x-python",
   "name": "python",
   "nbconvert_exporter": "python",
   "pygments_lexer": "ipython3",
   "version": "3.5.2"
  }
 },
 "nbformat": 4,
 "nbformat_minor": 1
}
